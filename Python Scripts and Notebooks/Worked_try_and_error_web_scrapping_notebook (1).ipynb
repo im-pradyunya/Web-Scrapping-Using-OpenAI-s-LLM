{
 "cells": [
  {
   "cell_type": "code",
   "execution_count": null,
   "metadata": {
    "colab": {
     "base_uri": "https://localhost:8080/"
    },
    "id": "A0gib4JLvlQG",
    "outputId": "d9ad3541-01dc-47cd-b4ce-27cdbd72c93a"
   },
   "outputs": [
    {
     "name": "stdout",
     "output_type": "stream",
     "text": [
      "Drive already mounted at /content/drive; to attempt to forcibly remount, call drive.mount(\"/content/drive\", force_remount=True).\n"
     ]
    }
   ],
   "source": [
    "from google.colab import drive\n",
    "drive.mount('/content/drive')"
   ]
  },
  {
   "cell_type": "code",
   "execution_count": null,
   "metadata": {
    "id": "CQwKGPsayucW"
   },
   "outputs": [],
   "source": [
    "from google.colab import userdata\n",
    "MY_OPENAI_KEY=userdata.get('MY_OPENAI_KEY')\n",
    "MY_COMET_KEY=userdata.get('MY_COMET_KEY')"
   ]
  },
  {
   "cell_type": "code",
   "execution_count": null,
   "metadata": {
    "colab": {
     "base_uri": "https://localhost:8080/"
    },
    "id": "gPBGFeLKQki7",
    "outputId": "cd58085a-eff9-480b-9274-8f8e9c9685c0"
   },
   "outputs": [
    {
     "name": "stdout",
     "output_type": "stream",
     "text": [
      "Mounted at /content/drive\n"
     ]
    }
   ],
   "source": [
    "from google.colab import drive\n",
    "drive.mount('/content/drive')"
   ]
  },
  {
   "cell_type": "code",
   "execution_count": null,
   "metadata": {
    "id": "hxlmeWIGhQbx"
   },
   "outputs": [],
   "source": []
  },
  {
   "cell_type": "code",
   "execution_count": null,
   "metadata": {
    "colab": {
     "base_uri": "https://localhost:8080/"
    },
    "id": "4iic9AWJ_JOd",
    "outputId": "104affea-af89-48c3-c40f-8f069061e86e"
   },
   "outputs": [
    {
     "name": "stdout",
     "output_type": "stream",
     "text": [
      "Collecting comet_llm\n",
      "  Downloading comet_llm-2.2.4-py3-none-any.whl (72 kB)\n",
      "\u001b[2K     \u001b[90m━━━━━━━━━━━━━━━━━━━━━━━━━━━━━━━━━━━━━━━━\u001b[0m \u001b[32m72.9/72.9 kB\u001b[0m \u001b[31m2.0 MB/s\u001b[0m eta \u001b[36m0:00:00\u001b[0m\n",
      "\u001b[?25hCollecting comet-ml>=3.40.0 (from comet_llm)\n",
      "  Downloading comet_ml-3.42.0-py3-none-any.whl (663 kB)\n",
      "\u001b[2K     \u001b[90m━━━━━━━━━━━━━━━━━━━━━━━━━━━━━━━━━━━━━━━━\u001b[0m \u001b[32m663.1/663.1 kB\u001b[0m \u001b[31m13.0 MB/s\u001b[0m eta \u001b[36m0:00:00\u001b[0m\n",
      "\u001b[?25hCollecting flatten-dict (from comet_llm)\n",
      "  Downloading flatten_dict-0.4.2-py2.py3-none-any.whl (9.7 kB)\n",
      "Requirement already satisfied: requests in /usr/local/lib/python3.10/dist-packages (from comet_llm) (2.31.0)\n",
      "Collecting types-requests (from comet_llm)\n",
      "  Downloading types_requests-2.31.0.20240406-py3-none-any.whl (15 kB)\n",
      "Collecting everett[ini]<3.2.0,>=1.0.1 (from comet-ml>=3.40.0->comet_llm)\n",
      "  Downloading everett-3.1.0-py2.py3-none-any.whl (35 kB)\n",
      "Requirement already satisfied: jsonschema!=3.1.0,>=2.6.0 in /usr/local/lib/python3.10/dist-packages (from comet-ml>=3.40.0->comet_llm) (4.19.2)\n",
      "Requirement already satisfied: psutil>=5.6.3 in /usr/local/lib/python3.10/dist-packages (from comet-ml>=3.40.0->comet_llm) (5.9.5)\n",
      "Collecting python-box<7.0.0 (from comet-ml>=3.40.0->comet_llm)\n",
      "  Downloading python_box-6.1.0-cp310-cp310-manylinux_2_17_x86_64.manylinux2014_x86_64.whl (3.3 MB)\n",
      "\u001b[2K     \u001b[90m━━━━━━━━━━━━━━━━━━━━━━━━━━━━━━━━━━━━━━━━\u001b[0m \u001b[32m3.3/3.3 MB\u001b[0m \u001b[31m52.4 MB/s\u001b[0m eta \u001b[36m0:00:00\u001b[0m\n",
      "\u001b[?25hCollecting requests-toolbelt>=0.8.0 (from comet-ml>=3.40.0->comet_llm)\n",
      "  Downloading requests_toolbelt-1.0.0-py2.py3-none-any.whl (54 kB)\n",
      "\u001b[2K     \u001b[90m━━━━━━━━━━━━━━━━━━━━━━━━━━━━━━━━━━━━━━━━\u001b[0m \u001b[32m54.5/54.5 kB\u001b[0m \u001b[31m7.9 MB/s\u001b[0m eta \u001b[36m0:00:00\u001b[0m\n",
      "\u001b[?25hCollecting semantic-version>=2.8.0 (from comet-ml>=3.40.0->comet_llm)\n",
      "  Downloading semantic_version-2.10.0-py2.py3-none-any.whl (15 kB)\n",
      "Collecting sentry-sdk>=1.1.0 (from comet-ml>=3.40.0->comet_llm)\n",
      "  Downloading sentry_sdk-2.2.0-py2.py3-none-any.whl (281 kB)\n",
      "\u001b[2K     \u001b[90m━━━━━━━━━━━━━━━━━━━━━━━━━━━━━━━━━━━━━━━━\u001b[0m \u001b[32m281.1/281.1 kB\u001b[0m \u001b[31m30.2 MB/s\u001b[0m eta \u001b[36m0:00:00\u001b[0m\n",
      "\u001b[?25hCollecting simplejson (from comet-ml>=3.40.0->comet_llm)\n",
      "  Downloading simplejson-3.19.2-cp310-cp310-manylinux_2_5_x86_64.manylinux1_x86_64.manylinux_2_17_x86_64.manylinux2014_x86_64.whl (137 kB)\n",
      "\u001b[2K     \u001b[90m━━━━━━━━━━━━━━━━━━━━━━━━━━━━━━━━━━━━━━━━\u001b[0m \u001b[32m137.9/137.9 kB\u001b[0m \u001b[31m16.4 MB/s\u001b[0m eta \u001b[36m0:00:00\u001b[0m\n",
      "\u001b[?25hRequirement already satisfied: six in /usr/local/lib/python3.10/dist-packages (from comet-ml>=3.40.0->comet_llm) (1.16.0)\n",
      "Requirement already satisfied: urllib3>=1.21.1 in /usr/local/lib/python3.10/dist-packages (from comet-ml>=3.40.0->comet_llm) (2.0.7)\n",
      "Requirement already satisfied: websocket-client!=1.4.0,>=0.55.0 in /usr/local/lib/python3.10/dist-packages (from comet-ml>=3.40.0->comet_llm) (1.8.0)\n",
      "Requirement already satisfied: wrapt>=1.11.2 in /usr/local/lib/python3.10/dist-packages (from comet-ml>=3.40.0->comet_llm) (1.14.1)\n",
      "Collecting wurlitzer>=1.0.2 (from comet-ml>=3.40.0->comet_llm)\n",
      "  Downloading wurlitzer-3.1.0-py3-none-any.whl (8.4 kB)\n",
      "Collecting dulwich!=0.20.33,>=0.20.6 (from comet-ml>=3.40.0->comet_llm)\n",
      "  Downloading dulwich-0.22.1-cp310-cp310-manylinux_2_17_x86_64.manylinux2014_x86_64.whl (979 kB)\n",
      "\u001b[2K     \u001b[90m━━━━━━━━━━━━━━━━━━━━━━━━━━━━━━━━━━━━━━━━\u001b[0m \u001b[32m979.1/979.1 kB\u001b[0m \u001b[31m52.2 MB/s\u001b[0m eta \u001b[36m0:00:00\u001b[0m\n",
      "\u001b[?25hRequirement already satisfied: rich>=13.3.2 in /usr/local/lib/python3.10/dist-packages (from comet-ml>=3.40.0->comet_llm) (13.7.1)\n",
      "Requirement already satisfied: charset-normalizer<4,>=2 in /usr/local/lib/python3.10/dist-packages (from requests->comet_llm) (3.3.2)\n",
      "Requirement already satisfied: idna<4,>=2.5 in /usr/local/lib/python3.10/dist-packages (from requests->comet_llm) (3.7)\n",
      "Requirement already satisfied: certifi>=2017.4.17 in /usr/local/lib/python3.10/dist-packages (from requests->comet_llm) (2024.2.2)\n",
      "Collecting configobj (from everett[ini]<3.2.0,>=1.0.1->comet-ml>=3.40.0->comet_llm)\n",
      "  Downloading configobj-5.0.8-py2.py3-none-any.whl (36 kB)\n",
      "Requirement already satisfied: attrs>=22.2.0 in /usr/local/lib/python3.10/dist-packages (from jsonschema!=3.1.0,>=2.6.0->comet-ml>=3.40.0->comet_llm) (23.2.0)\n",
      "Requirement already satisfied: jsonschema-specifications>=2023.03.6 in /usr/local/lib/python3.10/dist-packages (from jsonschema!=3.1.0,>=2.6.0->comet-ml>=3.40.0->comet_llm) (2023.12.1)\n",
      "Requirement already satisfied: referencing>=0.28.4 in /usr/local/lib/python3.10/dist-packages (from jsonschema!=3.1.0,>=2.6.0->comet-ml>=3.40.0->comet_llm) (0.35.1)\n",
      "Requirement already satisfied: rpds-py>=0.7.1 in /usr/local/lib/python3.10/dist-packages (from jsonschema!=3.1.0,>=2.6.0->comet-ml>=3.40.0->comet_llm) (0.18.1)\n",
      "Requirement already satisfied: markdown-it-py>=2.2.0 in /usr/local/lib/python3.10/dist-packages (from rich>=13.3.2->comet-ml>=3.40.0->comet_llm) (3.0.0)\n",
      "Requirement already satisfied: pygments<3.0.0,>=2.13.0 in /usr/local/lib/python3.10/dist-packages (from rich>=13.3.2->comet-ml>=3.40.0->comet_llm) (2.16.1)\n",
      "Requirement already satisfied: mdurl~=0.1 in /usr/local/lib/python3.10/dist-packages (from markdown-it-py>=2.2.0->rich>=13.3.2->comet-ml>=3.40.0->comet_llm) (0.1.2)\n",
      "Installing collected packages: everett, wurlitzer, types-requests, simplejson, sentry-sdk, semantic-version, python-box, flatten-dict, dulwich, configobj, requests-toolbelt, comet-ml, comet_llm\n",
      "  Attempting uninstall: python-box\n",
      "    Found existing installation: python-box 7.1.1\n",
      "    Uninstalling python-box-7.1.1:\n",
      "      Successfully uninstalled python-box-7.1.1\n",
      "Successfully installed comet-ml-3.42.0 comet_llm-2.2.4 configobj-5.0.8 dulwich-0.22.1 everett-3.1.0 flatten-dict-0.4.2 python-box-6.1.0 requests-toolbelt-1.0.0 semantic-version-2.10.0 sentry-sdk-2.2.0 simplejson-3.19.2 types-requests-2.31.0.20240406 wurlitzer-3.1.0\n"
     ]
    }
   ],
   "source": [
    "!pip install comet_llm"
   ]
  },
  {
   "cell_type": "code",
   "execution_count": null,
   "metadata": {
    "colab": {
     "base_uri": "https://localhost:8080/"
    },
    "id": "0Odg2Qml_QWT",
    "outputId": "fe9323b3-6f5d-4111-c599-0d6b5a04245c"
   },
   "outputs": [
    {
     "name": "stdout",
     "output_type": "stream",
     "text": [
      "Requirement already satisfied: nest_asyncio in /usr/local/lib/python3.10/dist-packages (1.6.0)\n",
      "Collecting langchain-openai\n",
      "  Downloading langchain_openai-0.1.7-py3-none-any.whl (34 kB)\n",
      "Collecting langchain_community\n",
      "  Downloading langchain_community-0.2.0-py3-none-any.whl (2.1 MB)\n",
      "\u001b[2K     \u001b[90m━━━━━━━━━━━━━━━━━━━━━━━━━━━━━━━━━━━━━━━━\u001b[0m \u001b[32m2.1/2.1 MB\u001b[0m \u001b[31m24.7 MB/s\u001b[0m eta \u001b[36m0:00:00\u001b[0m\n",
      "\u001b[?25hCollecting langchain-core<0.3,>=0.1.46 (from langchain-openai)\n",
      "  Downloading langchain_core-0.2.0-py3-none-any.whl (307 kB)\n",
      "\u001b[2K     \u001b[90m━━━━━━━━━━━━━━━━━━━━━━━━━━━━━━━━━━━━━━━━\u001b[0m \u001b[32m307.9/307.9 kB\u001b[0m \u001b[31m33.9 MB/s\u001b[0m eta \u001b[36m0:00:00\u001b[0m\n",
      "\u001b[?25hCollecting openai<2.0.0,>=1.24.0 (from langchain-openai)\n",
      "  Downloading openai-1.30.1-py3-none-any.whl (320 kB)\n",
      "\u001b[2K     \u001b[90m━━━━━━━━━━━━━━━━━━━━━━━━━━━━━━━━━━━━━━━━\u001b[0m \u001b[32m320.6/320.6 kB\u001b[0m \u001b[31m29.6 MB/s\u001b[0m eta \u001b[36m0:00:00\u001b[0m\n",
      "\u001b[?25hCollecting tiktoken<1,>=0.7 (from langchain-openai)\n",
      "  Downloading tiktoken-0.7.0-cp310-cp310-manylinux_2_17_x86_64.manylinux2014_x86_64.whl (1.1 MB)\n",
      "\u001b[2K     \u001b[90m━━━━━━━━━━━━━━━━━━━━━━━━━━━━━━━━━━━━━━━━\u001b[0m \u001b[32m1.1/1.1 MB\u001b[0m \u001b[31m47.6 MB/s\u001b[0m eta \u001b[36m0:00:00\u001b[0m\n",
      "\u001b[?25hRequirement already satisfied: PyYAML>=5.3 in /usr/local/lib/python3.10/dist-packages (from langchain_community) (6.0.1)\n",
      "Requirement already satisfied: SQLAlchemy<3,>=1.4 in /usr/local/lib/python3.10/dist-packages (from langchain_community) (2.0.30)\n",
      "Requirement already satisfied: aiohttp<4.0.0,>=3.8.3 in /usr/local/lib/python3.10/dist-packages (from langchain_community) (3.9.5)\n",
      "Collecting dataclasses-json<0.7,>=0.5.7 (from langchain_community)\n",
      "  Downloading dataclasses_json-0.6.6-py3-none-any.whl (28 kB)\n",
      "Collecting langchain<0.3.0,>=0.2.0 (from langchain_community)\n",
      "  Downloading langchain-0.2.0-py3-none-any.whl (973 kB)\n",
      "\u001b[2K     \u001b[90m━━━━━━━━━━━━━━━━━━━━━━━━━━━━━━━━━━━━━━━━\u001b[0m \u001b[32m973.7/973.7 kB\u001b[0m \u001b[31m55.0 MB/s\u001b[0m eta \u001b[36m0:00:00\u001b[0m\n",
      "\u001b[?25hCollecting langsmith<0.2.0,>=0.1.0 (from langchain_community)\n",
      "  Downloading langsmith-0.1.59-py3-none-any.whl (121 kB)\n",
      "\u001b[2K     \u001b[90m━━━━━━━━━━━━━━━━━━━━━━━━━━━━━━━━━━━━━━━━\u001b[0m \u001b[32m121.2/121.2 kB\u001b[0m \u001b[31m14.9 MB/s\u001b[0m eta \u001b[36m0:00:00\u001b[0m\n",
      "\u001b[?25hRequirement already satisfied: numpy<2,>=1 in /usr/local/lib/python3.10/dist-packages (from langchain_community) (1.25.2)\n",
      "Requirement already satisfied: requests<3,>=2 in /usr/local/lib/python3.10/dist-packages (from langchain_community) (2.31.0)\n",
      "Requirement already satisfied: tenacity<9.0.0,>=8.1.0 in /usr/local/lib/python3.10/dist-packages (from langchain_community) (8.3.0)\n",
      "Requirement already satisfied: aiosignal>=1.1.2 in /usr/local/lib/python3.10/dist-packages (from aiohttp<4.0.0,>=3.8.3->langchain_community) (1.3.1)\n",
      "Requirement already satisfied: attrs>=17.3.0 in /usr/local/lib/python3.10/dist-packages (from aiohttp<4.0.0,>=3.8.3->langchain_community) (23.2.0)\n",
      "Requirement already satisfied: frozenlist>=1.1.1 in /usr/local/lib/python3.10/dist-packages (from aiohttp<4.0.0,>=3.8.3->langchain_community) (1.4.1)\n",
      "Requirement already satisfied: multidict<7.0,>=4.5 in /usr/local/lib/python3.10/dist-packages (from aiohttp<4.0.0,>=3.8.3->langchain_community) (6.0.5)\n",
      "Requirement already satisfied: yarl<2.0,>=1.0 in /usr/local/lib/python3.10/dist-packages (from aiohttp<4.0.0,>=3.8.3->langchain_community) (1.9.4)\n",
      "Requirement already satisfied: async-timeout<5.0,>=4.0 in /usr/local/lib/python3.10/dist-packages (from aiohttp<4.0.0,>=3.8.3->langchain_community) (4.0.3)\n",
      "Collecting marshmallow<4.0.0,>=3.18.0 (from dataclasses-json<0.7,>=0.5.7->langchain_community)\n",
      "  Downloading marshmallow-3.21.2-py3-none-any.whl (49 kB)\n",
      "\u001b[2K     \u001b[90m━━━━━━━━━━━━━━━━━━━━━━━━━━━━━━━━━━━━━━━━\u001b[0m \u001b[32m49.3/49.3 kB\u001b[0m \u001b[31m6.9 MB/s\u001b[0m eta \u001b[36m0:00:00\u001b[0m\n",
      "\u001b[?25hCollecting typing-inspect<1,>=0.4.0 (from dataclasses-json<0.7,>=0.5.7->langchain_community)\n",
      "  Downloading typing_inspect-0.9.0-py3-none-any.whl (8.8 kB)\n",
      "Collecting langchain-text-splitters<0.3.0,>=0.2.0 (from langchain<0.3.0,>=0.2.0->langchain_community)\n",
      "  Downloading langchain_text_splitters-0.2.0-py3-none-any.whl (23 kB)\n",
      "Requirement already satisfied: pydantic<3,>=1 in /usr/local/lib/python3.10/dist-packages (from langchain<0.3.0,>=0.2.0->langchain_community) (2.7.1)\n",
      "Collecting jsonpatch<2.0,>=1.33 (from langchain-core<0.3,>=0.1.46->langchain-openai)\n",
      "  Downloading jsonpatch-1.33-py2.py3-none-any.whl (12 kB)\n",
      "Collecting packaging<24.0,>=23.2 (from langchain-core<0.3,>=0.1.46->langchain-openai)\n",
      "  Downloading packaging-23.2-py3-none-any.whl (53 kB)\n",
      "\u001b[2K     \u001b[90m━━━━━━━━━━━━━━━━━━━━━━━━━━━━━━━━━━━━━━━━\u001b[0m \u001b[32m53.0/53.0 kB\u001b[0m \u001b[31m6.6 MB/s\u001b[0m eta \u001b[36m0:00:00\u001b[0m\n",
      "\u001b[?25hCollecting orjson<4.0.0,>=3.9.14 (from langsmith<0.2.0,>=0.1.0->langchain_community)\n",
      "  Downloading orjson-3.10.3-cp310-cp310-manylinux_2_17_x86_64.manylinux2014_x86_64.whl (142 kB)\n",
      "\u001b[2K     \u001b[90m━━━━━━━━━━━━━━━━━━━━━━━━━━━━━━━━━━━━━━━━\u001b[0m \u001b[32m142.5/142.5 kB\u001b[0m \u001b[31m15.0 MB/s\u001b[0m eta \u001b[36m0:00:00\u001b[0m\n",
      "\u001b[?25hRequirement already satisfied: anyio<5,>=3.5.0 in /usr/local/lib/python3.10/dist-packages (from openai<2.0.0,>=1.24.0->langchain-openai) (3.7.1)\n",
      "Requirement already satisfied: distro<2,>=1.7.0 in /usr/lib/python3/dist-packages (from openai<2.0.0,>=1.24.0->langchain-openai) (1.7.0)\n",
      "Collecting httpx<1,>=0.23.0 (from openai<2.0.0,>=1.24.0->langchain-openai)\n",
      "  Downloading httpx-0.27.0-py3-none-any.whl (75 kB)\n",
      "\u001b[2K     \u001b[90m━━━━━━━━━━━━━━━━━━━━━━━━━━━━━━━━━━━━━━━━\u001b[0m \u001b[32m75.6/75.6 kB\u001b[0m \u001b[31m9.6 MB/s\u001b[0m eta \u001b[36m0:00:00\u001b[0m\n",
      "\u001b[?25hRequirement already satisfied: sniffio in /usr/local/lib/python3.10/dist-packages (from openai<2.0.0,>=1.24.0->langchain-openai) (1.3.1)\n",
      "Requirement already satisfied: tqdm>4 in /usr/local/lib/python3.10/dist-packages (from openai<2.0.0,>=1.24.0->langchain-openai) (4.66.4)\n",
      "Requirement already satisfied: typing-extensions<5,>=4.7 in /usr/local/lib/python3.10/dist-packages (from openai<2.0.0,>=1.24.0->langchain-openai) (4.11.0)\n",
      "Requirement already satisfied: charset-normalizer<4,>=2 in /usr/local/lib/python3.10/dist-packages (from requests<3,>=2->langchain_community) (3.3.2)\n",
      "Requirement already satisfied: idna<4,>=2.5 in /usr/local/lib/python3.10/dist-packages (from requests<3,>=2->langchain_community) (3.7)\n",
      "Requirement already satisfied: urllib3<3,>=1.21.1 in /usr/local/lib/python3.10/dist-packages (from requests<3,>=2->langchain_community) (2.0.7)\n",
      "Requirement already satisfied: certifi>=2017.4.17 in /usr/local/lib/python3.10/dist-packages (from requests<3,>=2->langchain_community) (2024.2.2)\n",
      "Requirement already satisfied: greenlet!=0.4.17 in /usr/local/lib/python3.10/dist-packages (from SQLAlchemy<3,>=1.4->langchain_community) (3.0.3)\n",
      "Requirement already satisfied: regex>=2022.1.18 in /usr/local/lib/python3.10/dist-packages (from tiktoken<1,>=0.7->langchain-openai) (2023.12.25)\n",
      "Requirement already satisfied: exceptiongroup in /usr/local/lib/python3.10/dist-packages (from anyio<5,>=3.5.0->openai<2.0.0,>=1.24.0->langchain-openai) (1.2.1)\n",
      "Collecting httpcore==1.* (from httpx<1,>=0.23.0->openai<2.0.0,>=1.24.0->langchain-openai)\n",
      "  Downloading httpcore-1.0.5-py3-none-any.whl (77 kB)\n",
      "\u001b[2K     \u001b[90m━━━━━━━━━━━━━━━━━━━━━━━━━━━━━━━━━━━━━━━━\u001b[0m \u001b[32m77.9/77.9 kB\u001b[0m \u001b[31m11.0 MB/s\u001b[0m eta \u001b[36m0:00:00\u001b[0m\n",
      "\u001b[?25hCollecting h11<0.15,>=0.13 (from httpcore==1.*->httpx<1,>=0.23.0->openai<2.0.0,>=1.24.0->langchain-openai)\n",
      "  Downloading h11-0.14.0-py3-none-any.whl (58 kB)\n",
      "\u001b[2K     \u001b[90m━━━━━━━━━━━━━━━━━━━━━━━━━━━━━━━━━━━━━━━━\u001b[0m \u001b[32m58.3/58.3 kB\u001b[0m \u001b[31m7.7 MB/s\u001b[0m eta \u001b[36m0:00:00\u001b[0m\n",
      "\u001b[?25hCollecting jsonpointer>=1.9 (from jsonpatch<2.0,>=1.33->langchain-core<0.3,>=0.1.46->langchain-openai)\n",
      "  Downloading jsonpointer-2.4-py2.py3-none-any.whl (7.8 kB)\n",
      "Requirement already satisfied: annotated-types>=0.4.0 in /usr/local/lib/python3.10/dist-packages (from pydantic<3,>=1->langchain<0.3.0,>=0.2.0->langchain_community) (0.6.0)\n",
      "Requirement already satisfied: pydantic-core==2.18.2 in /usr/local/lib/python3.10/dist-packages (from pydantic<3,>=1->langchain<0.3.0,>=0.2.0->langchain_community) (2.18.2)\n",
      "Collecting mypy-extensions>=0.3.0 (from typing-inspect<1,>=0.4.0->dataclasses-json<0.7,>=0.5.7->langchain_community)\n",
      "  Downloading mypy_extensions-1.0.0-py3-none-any.whl (4.7 kB)\n",
      "Installing collected packages: packaging, orjson, mypy-extensions, jsonpointer, h11, typing-inspect, tiktoken, marshmallow, jsonpatch, httpcore, langsmith, httpx, dataclasses-json, openai, langchain-core, langchain-text-splitters, langchain-openai, langchain, langchain_community\n",
      "  Attempting uninstall: packaging\n",
      "    Found existing installation: packaging 24.0\n",
      "    Uninstalling packaging-24.0:\n",
      "      Successfully uninstalled packaging-24.0\n",
      "Successfully installed dataclasses-json-0.6.6 h11-0.14.0 httpcore-1.0.5 httpx-0.27.0 jsonpatch-1.33 jsonpointer-2.4 langchain-0.2.0 langchain-core-0.2.0 langchain-openai-0.1.7 langchain-text-splitters-0.2.0 langchain_community-0.2.0 langsmith-0.1.59 marshmallow-3.21.2 mypy-extensions-1.0.0 openai-1.30.1 orjson-3.10.3 packaging-23.2 tiktoken-0.7.0 typing-inspect-0.9.0\n",
      "Requirement already satisfied: nest_asyncio in /usr/local/lib/python3.10/dist-packages (1.6.0)\n",
      "Requirement already satisfied: langchain-openai in /usr/local/lib/python3.10/dist-packages (0.1.7)\n",
      "Requirement already satisfied: langchain_community in /usr/local/lib/python3.10/dist-packages (0.2.0)\n",
      "Requirement already satisfied: langchain-core<0.3,>=0.1.46 in /usr/local/lib/python3.10/dist-packages (from langchain-openai) (0.2.0)\n",
      "Requirement already satisfied: openai<2.0.0,>=1.24.0 in /usr/local/lib/python3.10/dist-packages (from langchain-openai) (1.30.1)\n",
      "Requirement already satisfied: tiktoken<1,>=0.7 in /usr/local/lib/python3.10/dist-packages (from langchain-openai) (0.7.0)\n",
      "Requirement already satisfied: PyYAML>=5.3 in /usr/local/lib/python3.10/dist-packages (from langchain_community) (6.0.1)\n",
      "Requirement already satisfied: SQLAlchemy<3,>=1.4 in /usr/local/lib/python3.10/dist-packages (from langchain_community) (2.0.30)\n",
      "Requirement already satisfied: aiohttp<4.0.0,>=3.8.3 in /usr/local/lib/python3.10/dist-packages (from langchain_community) (3.9.5)\n",
      "Requirement already satisfied: dataclasses-json<0.7,>=0.5.7 in /usr/local/lib/python3.10/dist-packages (from langchain_community) (0.6.6)\n",
      "Requirement already satisfied: langchain<0.3.0,>=0.2.0 in /usr/local/lib/python3.10/dist-packages (from langchain_community) (0.2.0)\n",
      "Requirement already satisfied: langsmith<0.2.0,>=0.1.0 in /usr/local/lib/python3.10/dist-packages (from langchain_community) (0.1.59)\n",
      "Requirement already satisfied: numpy<2,>=1 in /usr/local/lib/python3.10/dist-packages (from langchain_community) (1.25.2)\n",
      "Requirement already satisfied: requests<3,>=2 in /usr/local/lib/python3.10/dist-packages (from langchain_community) (2.31.0)\n",
      "Requirement already satisfied: tenacity<9.0.0,>=8.1.0 in /usr/local/lib/python3.10/dist-packages (from langchain_community) (8.3.0)\n",
      "Requirement already satisfied: aiosignal>=1.1.2 in /usr/local/lib/python3.10/dist-packages (from aiohttp<4.0.0,>=3.8.3->langchain_community) (1.3.1)\n",
      "Requirement already satisfied: attrs>=17.3.0 in /usr/local/lib/python3.10/dist-packages (from aiohttp<4.0.0,>=3.8.3->langchain_community) (23.2.0)\n",
      "Requirement already satisfied: frozenlist>=1.1.1 in /usr/local/lib/python3.10/dist-packages (from aiohttp<4.0.0,>=3.8.3->langchain_community) (1.4.1)\n",
      "Requirement already satisfied: multidict<7.0,>=4.5 in /usr/local/lib/python3.10/dist-packages (from aiohttp<4.0.0,>=3.8.3->langchain_community) (6.0.5)\n",
      "Requirement already satisfied: yarl<2.0,>=1.0 in /usr/local/lib/python3.10/dist-packages (from aiohttp<4.0.0,>=3.8.3->langchain_community) (1.9.4)\n",
      "Requirement already satisfied: async-timeout<5.0,>=4.0 in /usr/local/lib/python3.10/dist-packages (from aiohttp<4.0.0,>=3.8.3->langchain_community) (4.0.3)\n",
      "Requirement already satisfied: marshmallow<4.0.0,>=3.18.0 in /usr/local/lib/python3.10/dist-packages (from dataclasses-json<0.7,>=0.5.7->langchain_community) (3.21.2)\n",
      "Requirement already satisfied: typing-inspect<1,>=0.4.0 in /usr/local/lib/python3.10/dist-packages (from dataclasses-json<0.7,>=0.5.7->langchain_community) (0.9.0)\n",
      "Requirement already satisfied: langchain-text-splitters<0.3.0,>=0.2.0 in /usr/local/lib/python3.10/dist-packages (from langchain<0.3.0,>=0.2.0->langchain_community) (0.2.0)\n",
      "Requirement already satisfied: pydantic<3,>=1 in /usr/local/lib/python3.10/dist-packages (from langchain<0.3.0,>=0.2.0->langchain_community) (2.7.1)\n",
      "Requirement already satisfied: jsonpatch<2.0,>=1.33 in /usr/local/lib/python3.10/dist-packages (from langchain-core<0.3,>=0.1.46->langchain-openai) (1.33)\n",
      "Requirement already satisfied: packaging<24.0,>=23.2 in /usr/local/lib/python3.10/dist-packages (from langchain-core<0.3,>=0.1.46->langchain-openai) (23.2)\n",
      "Requirement already satisfied: orjson<4.0.0,>=3.9.14 in /usr/local/lib/python3.10/dist-packages (from langsmith<0.2.0,>=0.1.0->langchain_community) (3.10.3)\n",
      "Requirement already satisfied: anyio<5,>=3.5.0 in /usr/local/lib/python3.10/dist-packages (from openai<2.0.0,>=1.24.0->langchain-openai) (3.7.1)\n",
      "Requirement already satisfied: distro<2,>=1.7.0 in /usr/lib/python3/dist-packages (from openai<2.0.0,>=1.24.0->langchain-openai) (1.7.0)\n",
      "Requirement already satisfied: httpx<1,>=0.23.0 in /usr/local/lib/python3.10/dist-packages (from openai<2.0.0,>=1.24.0->langchain-openai) (0.27.0)\n",
      "Requirement already satisfied: sniffio in /usr/local/lib/python3.10/dist-packages (from openai<2.0.0,>=1.24.0->langchain-openai) (1.3.1)\n",
      "Requirement already satisfied: tqdm>4 in /usr/local/lib/python3.10/dist-packages (from openai<2.0.0,>=1.24.0->langchain-openai) (4.66.4)\n",
      "Requirement already satisfied: typing-extensions<5,>=4.7 in /usr/local/lib/python3.10/dist-packages (from openai<2.0.0,>=1.24.0->langchain-openai) (4.11.0)\n",
      "Requirement already satisfied: charset-normalizer<4,>=2 in /usr/local/lib/python3.10/dist-packages (from requests<3,>=2->langchain_community) (3.3.2)\n",
      "Requirement already satisfied: idna<4,>=2.5 in /usr/local/lib/python3.10/dist-packages (from requests<3,>=2->langchain_community) (3.7)\n",
      "Requirement already satisfied: urllib3<3,>=1.21.1 in /usr/local/lib/python3.10/dist-packages (from requests<3,>=2->langchain_community) (2.0.7)\n",
      "Requirement already satisfied: certifi>=2017.4.17 in /usr/local/lib/python3.10/dist-packages (from requests<3,>=2->langchain_community) (2024.2.2)\n",
      "Requirement already satisfied: greenlet!=0.4.17 in /usr/local/lib/python3.10/dist-packages (from SQLAlchemy<3,>=1.4->langchain_community) (3.0.3)\n",
      "Requirement already satisfied: regex>=2022.1.18 in /usr/local/lib/python3.10/dist-packages (from tiktoken<1,>=0.7->langchain-openai) (2023.12.25)\n",
      "Requirement already satisfied: exceptiongroup in /usr/local/lib/python3.10/dist-packages (from anyio<5,>=3.5.0->openai<2.0.0,>=1.24.0->langchain-openai) (1.2.1)\n",
      "Requirement already satisfied: httpcore==1.* in /usr/local/lib/python3.10/dist-packages (from httpx<1,>=0.23.0->openai<2.0.0,>=1.24.0->langchain-openai) (1.0.5)\n",
      "Requirement already satisfied: h11<0.15,>=0.13 in /usr/local/lib/python3.10/dist-packages (from httpcore==1.*->httpx<1,>=0.23.0->openai<2.0.0,>=1.24.0->langchain-openai) (0.14.0)\n",
      "Requirement already satisfied: jsonpointer>=1.9 in /usr/local/lib/python3.10/dist-packages (from jsonpatch<2.0,>=1.33->langchain-core<0.3,>=0.1.46->langchain-openai) (2.4)\n",
      "Requirement already satisfied: annotated-types>=0.4.0 in /usr/local/lib/python3.10/dist-packages (from pydantic<3,>=1->langchain<0.3.0,>=0.2.0->langchain_community) (0.6.0)\n",
      "Requirement already satisfied: pydantic-core==2.18.2 in /usr/local/lib/python3.10/dist-packages (from pydantic<3,>=1->langchain<0.3.0,>=0.2.0->langchain_community) (2.18.2)\n",
      "Requirement already satisfied: mypy-extensions>=0.3.0 in /usr/local/lib/python3.10/dist-packages (from typing-inspect<1,>=0.4.0->dataclasses-json<0.7,>=0.5.7->langchain_community) (1.0.0)\n"
     ]
    }
   ],
   "source": [
    "!pip install nest_asyncio langchain-openai langchain_community\n",
    "!pip install nest_asyncio langchain-openai langchain_community"
   ]
  },
  {
   "cell_type": "code",
   "execution_count": null,
   "metadata": {
    "colab": {
     "base_uri": "https://localhost:8080/"
    },
    "id": "b54byQI9_JP0",
    "outputId": "081d4235-2202-4eef-8851-af00c0651c25"
   },
   "outputs": [
    {
     "name": "stdout",
     "output_type": "stream",
     "text": [
      "\u001b[31mERROR: You must give at least one requirement to install (see \"pip help install\")\u001b[0m\u001b[31m\n",
      "\u001b[0m"
     ]
    }
   ],
   "source": [
    "!pip install"
   ]
  },
  {
   "cell_type": "code",
   "execution_count": null,
   "metadata": {
    "id": "zn1H8DwW_JTN"
   },
   "outputs": [],
   "source": []
  },
  {
   "cell_type": "code",
   "execution_count": null,
   "metadata": {
    "colab": {
     "base_uri": "https://localhost:8080/"
    },
    "id": "G68z_CBWxTzY",
    "outputId": "7e00ee6a-f9fb-4732-b80c-67841cb9ec79"
   },
   "outputs": [
    {
     "name": "stderr",
     "output_type": "stream",
     "text": [
      "\u001b[1;38;5;39mCOMET INFO:\u001b[0m Valid Comet API Key saved in /content/drive/MyDrive/.comet.config (set COMET_CONFIG to change where it is saved).\n"
     ]
    }
   ],
   "source": [
    "import comet_llm\n",
    "\n",
    "# Initialize a Comet project\n",
    "comet_llm.init(project=\"langchain-web-scraping\",\n",
    "               api_key=MY_COMET_KEY,\n",
    "               )"
   ]
  },
  {
   "cell_type": "code",
   "execution_count": null,
   "metadata": {
    "id": "F5CfHJCTxg3Q"
   },
   "outputs": [],
   "source": []
  },
  {
   "cell_type": "code",
   "execution_count": null,
   "metadata": {
    "colab": {
     "base_uri": "https://localhost:8080/"
    },
    "id": "dTEh24Kx8JIU",
    "outputId": "f0b77ba4-bdcd-4fa5-96e5-459b797a0bd7"
   },
   "outputs": [
    {
     "name": "stdout",
     "output_type": "stream",
     "text": [
      "Collecting playwright\n",
      "  Downloading playwright-1.44.0-py3-none-manylinux1_x86_64.whl (37.8 MB)\n",
      "\u001b[2K     \u001b[90m━━━━━━━━━━━━━━━━━━━━━━━━━━━━━━━━━━━━━━━━\u001b[0m \u001b[32m37.8/37.8 MB\u001b[0m \u001b[31m33.5 MB/s\u001b[0m eta \u001b[36m0:00:00\u001b[0m\n",
      "\u001b[?25hRequirement already satisfied: greenlet==3.0.3 in /usr/local/lib/python3.10/dist-packages (from playwright) (3.0.3)\n",
      "Collecting pyee==11.1.0 (from playwright)\n",
      "  Downloading pyee-11.1.0-py3-none-any.whl (15 kB)\n",
      "Requirement already satisfied: typing-extensions in /usr/local/lib/python3.10/dist-packages (from pyee==11.1.0->playwright) (4.11.0)\n",
      "Installing collected packages: pyee, playwright\n",
      "Successfully installed playwright-1.44.0 pyee-11.1.0\n"
     ]
    }
   ],
   "source": [
    "!pip install playwright"
   ]
  },
  {
   "cell_type": "code",
   "execution_count": null,
   "metadata": {
    "colab": {
     "base_uri": "https://localhost:8080/"
    },
    "id": "N0pdiaQHBZUl",
    "outputId": "05ed9d15-e77c-4d14-9f7d-4c1ca26f1881"
   },
   "outputs": [
    {
     "name": "stdout",
     "output_type": "stream",
     "text": [
      "Downloading Chromium 125.0.6422.26 (playwright build v1117)\u001b[2m from https://playwright.azureedge.net/builds/chromium/1117/chromium-linux.zip\u001b[22m\n",
      "\u001b[1G156.8 MiB [] 0% 0.0s\u001b[0K\u001b[1G156.8 MiB [] 0% 48.0s\u001b[0K\u001b[1G156.8 MiB [] 0% 23.4s\u001b[0K\u001b[1G156.8 MiB [] 0% 16.0s\u001b[0K\u001b[1G156.8 MiB [] 0% 10.4s\u001b[0K\u001b[1G156.8 MiB [] 1% 7.2s\u001b[0K\u001b[1G156.8 MiB [] 1% 6.1s\u001b[0K\u001b[1G156.8 MiB [] 2% 5.6s\u001b[0K\u001b[1G156.8 MiB [] 2% 5.1s\u001b[0K\u001b[1G156.8 MiB [] 2% 5.2s\u001b[0K\u001b[1G156.8 MiB [] 3% 5.2s\u001b[0K\u001b[1G156.8 MiB [] 3% 4.7s\u001b[0K\u001b[1G156.8 MiB [] 4% 4.7s\u001b[0K\u001b[1G156.8 MiB [] 4% 4.8s\u001b[0K\u001b[1G156.8 MiB [] 4% 4.7s\u001b[0K\u001b[1G156.8 MiB [] 5% 4.7s\u001b[0K\u001b[1G156.8 MiB [] 5% 4.6s\u001b[0K\u001b[1G156.8 MiB [] 6% 4.4s\u001b[0K\u001b[1G156.8 MiB [] 6% 4.2s\u001b[0K\u001b[1G156.8 MiB [] 7% 4.2s\u001b[0K\u001b[1G156.8 MiB [] 7% 4.1s\u001b[0K\u001b[1G156.8 MiB [] 8% 4.1s\u001b[0K\u001b[1G156.8 MiB [] 8% 3.9s\u001b[0K\u001b[1G156.8 MiB [] 9% 3.9s\u001b[0K\u001b[1G156.8 MiB [] 10% 3.8s\u001b[0K\u001b[1G156.8 MiB [] 10% 3.7s\u001b[0K\u001b[1G156.8 MiB [] 11% 3.7s\u001b[0K\u001b[1G156.8 MiB [] 11% 3.5s\u001b[0K\u001b[1G156.8 MiB [] 12% 3.5s\u001b[0K\u001b[1G156.8 MiB [] 13% 3.3s\u001b[0K\u001b[1G156.8 MiB [] 14% 3.3s\u001b[0K\u001b[1G156.8 MiB [] 15% 3.2s\u001b[0K\u001b[1G156.8 MiB [] 15% 3.3s\u001b[0K\u001b[1G156.8 MiB [] 15% 3.2s\u001b[0K\u001b[1G156.8 MiB [] 16% 3.2s\u001b[0K\u001b[1G156.8 MiB [] 17% 3.2s\u001b[0K\u001b[1G156.8 MiB [] 18% 3.1s\u001b[0K\u001b[1G156.8 MiB [] 19% 3.0s\u001b[0K\u001b[1G156.8 MiB [] 19% 2.9s\u001b[0K\u001b[1G156.8 MiB [] 20% 2.9s\u001b[0K\u001b[1G156.8 MiB [] 21% 2.9s\u001b[0K\u001b[1G156.8 MiB [] 22% 2.9s\u001b[0K\u001b[1G156.8 MiB [] 23% 2.9s\u001b[0K\u001b[1G156.8 MiB [] 24% 2.9s\u001b[0K\u001b[1G156.8 MiB [] 25% 2.8s\u001b[0K\u001b[1G156.8 MiB [] 26% 2.8s\u001b[0K\u001b[1G156.8 MiB [] 27% 2.8s\u001b[0K\u001b[1G156.8 MiB [] 28% 2.8s\u001b[0K\u001b[1G156.8 MiB [] 28% 2.7s\u001b[0K\u001b[1G156.8 MiB [] 29% 2.7s\u001b[0K\u001b[1G156.8 MiB [] 30% 2.7s\u001b[0K\u001b[1G156.8 MiB [] 31% 2.7s\u001b[0K\u001b[1G156.8 MiB [] 31% 2.6s\u001b[0K\u001b[1G156.8 MiB [] 32% 2.6s\u001b[0K\u001b[1G156.8 MiB [] 33% 2.6s\u001b[0K\u001b[1G156.8 MiB [] 33% 2.5s\u001b[0K\u001b[1G156.8 MiB [] 34% 2.5s\u001b[0K\u001b[1G156.8 MiB [] 35% 2.5s\u001b[0K\u001b[1G156.8 MiB [] 36% 2.4s\u001b[0K\u001b[1G156.8 MiB [] 37% 2.4s\u001b[0K\u001b[1G156.8 MiB [] 37% 2.3s\u001b[0K\u001b[1G156.8 MiB [] 38% 2.3s\u001b[0K\u001b[1G156.8 MiB [] 39% 2.2s\u001b[0K\u001b[1G156.8 MiB [] 40% 2.2s\u001b[0K\u001b[1G156.8 MiB [] 41% 2.1s\u001b[0K\u001b[1G156.8 MiB [] 42% 2.1s\u001b[0K\u001b[1G156.8 MiB [] 43% 2.0s\u001b[0K\u001b[1G156.8 MiB [] 44% 2.0s\u001b[0K\u001b[1G156.8 MiB [] 45% 2.0s\u001b[0K\u001b[1G156.8 MiB [] 45% 1.9s\u001b[0K\u001b[1G156.8 MiB [] 46% 1.9s\u001b[0K\u001b[1G156.8 MiB [] 47% 1.9s\u001b[0K\u001b[1G156.8 MiB [] 48% 1.8s\u001b[0K\u001b[1G156.8 MiB [] 49% 1.8s\u001b[0K\u001b[1G156.8 MiB [] 49% 1.7s\u001b[0K\u001b[1G156.8 MiB [] 50% 1.7s\u001b[0K\u001b[1G156.8 MiB [] 51% 1.7s\u001b[0K\u001b[1G156.8 MiB [] 52% 1.6s\u001b[0K\u001b[1G156.8 MiB [] 53% 1.6s\u001b[0K\u001b[1G156.8 MiB [] 54% 1.5s\u001b[0K\u001b[1G156.8 MiB [] 55% 1.5s\u001b[0K\u001b[1G156.8 MiB [] 56% 1.5s\u001b[0K\u001b[1G156.8 MiB [] 56% 1.4s\u001b[0K\u001b[1G156.8 MiB [] 57% 1.4s\u001b[0K\u001b[1G156.8 MiB [] 58% 1.4s\u001b[0K\u001b[1G156.8 MiB [] 59% 1.3s\u001b[0K\u001b[1G156.8 MiB [] 60% 1.3s\u001b[0K\u001b[1G156.8 MiB [] 61% 1.2s\u001b[0K\u001b[1G156.8 MiB [] 62% 1.2s\u001b[0K\u001b[1G156.8 MiB [] 63% 1.1s\u001b[0K\u001b[1G156.8 MiB [] 64% 1.1s\u001b[0K\u001b[1G156.8 MiB [] 65% 1.1s\u001b[0K\u001b[1G156.8 MiB [] 66% 1.0s\u001b[0K\u001b[1G156.8 MiB [] 67% 1.0s\u001b[0K\u001b[1G156.8 MiB [] 68% 0.9s\u001b[0K\u001b[1G156.8 MiB [] 70% 0.9s\u001b[0K\u001b[1G156.8 MiB [] 71% 0.8s\u001b[0K\u001b[1G156.8 MiB [] 73% 0.8s\u001b[0K\u001b[1G156.8 MiB [] 74% 0.7s\u001b[0K\u001b[1G156.8 MiB [] 75% 0.7s\u001b[0K\u001b[1G156.8 MiB [] 76% 0.7s\u001b[0K\u001b[1G156.8 MiB [] 77% 0.6s\u001b[0K\u001b[1G156.8 MiB [] 78% 0.6s\u001b[0K\u001b[1G156.8 MiB [] 79% 0.6s\u001b[0K\u001b[1G156.8 MiB [] 80% 0.5s\u001b[0K\u001b[1G156.8 MiB [] 81% 0.5s\u001b[0K\u001b[1G156.8 MiB [] 82% 0.5s\u001b[0K\u001b[1G156.8 MiB [] 83% 0.5s\u001b[0K\u001b[1G156.8 MiB [] 84% 0.4s\u001b[0K\u001b[1G156.8 MiB [] 85% 0.4s\u001b[0K\u001b[1G156.8 MiB [] 86% 0.4s\u001b[0K\u001b[1G156.8 MiB [] 87% 0.3s\u001b[0K\u001b[1G156.8 MiB [] 88% 0.3s\u001b[0K\u001b[1G156.8 MiB [] 90% 0.3s\u001b[0K\u001b[1G156.8 MiB [] 91% 0.2s\u001b[0K\u001b[1G156.8 MiB [] 92% 0.2s\u001b[0K\u001b[1G156.8 MiB [] 93% 0.2s\u001b[0K\u001b[1G156.8 MiB [] 94% 0.1s\u001b[0K\u001b[1G156.8 MiB [] 96% 0.1s\u001b[0K\u001b[1G156.8 MiB [] 97% 0.1s\u001b[0K\u001b[1G156.8 MiB [] 98% 0.0s\u001b[0K\u001b[1G156.8 MiB [] 100% 0.0s\u001b[0K\n",
      "Chromium 125.0.6422.26 (playwright build v1117) downloaded to /root/.cache/ms-playwright/chromium-1117\n",
      "Downloading FFMPEG playwright build v1009\u001b[2m from https://playwright.azureedge.net/builds/ffmpeg/1009/ffmpeg-linux.zip\u001b[22m\n",
      "\u001b[1G2.6 MiB [] 0% 0.0s\u001b[0K\u001b[1G2.6 MiB [] 3% 0.9s\u001b[0K\u001b[1G2.6 MiB [] 6% 0.7s\u001b[0K\u001b[1G2.6 MiB [] 12% 0.4s\u001b[0K\u001b[1G2.6 MiB [] 29% 0.2s\u001b[0K\u001b[1G2.6 MiB [] 58% 0.1s\u001b[0K\u001b[1G2.6 MiB [] 85% 0.0s\u001b[0K\u001b[1G2.6 MiB [] 100% 0.0s\u001b[0K\n",
      "FFMPEG playwright build v1009 downloaded to /root/.cache/ms-playwright/ffmpeg-1009\n",
      "Downloading Firefox 125.0.1 (playwright build v1449)\u001b[2m from https://playwright.azureedge.net/builds/firefox/1449/firefox-ubuntu-22.04.zip\u001b[22m\n",
      "\u001b[1G85.7 MiB [] 0% 0.0s\u001b[0K\u001b[1G85.7 MiB [] 0% 35.1s\u001b[0K\u001b[1G85.7 MiB [] 0% 13.7s\u001b[0K\u001b[1G85.7 MiB [] 0% 10.3s\u001b[0K\u001b[1G85.7 MiB [] 1% 6.1s\u001b[0K\u001b[1G85.7 MiB [] 2% 3.9s\u001b[0K\u001b[1G85.7 MiB [] 3% 3.0s\u001b[0K\u001b[1G85.7 MiB [] 4% 2.4s\u001b[0K\u001b[1G85.7 MiB [] 5% 2.3s\u001b[0K\u001b[1G85.7 MiB [] 6% 2.2s\u001b[0K\u001b[1G85.7 MiB [] 7% 2.1s\u001b[0K\u001b[1G85.7 MiB [] 7% 2.2s\u001b[0K\u001b[1G85.7 MiB [] 8% 2.2s\u001b[0K\u001b[1G85.7 MiB [] 9% 2.0s\u001b[0K\u001b[1G85.7 MiB [] 10% 1.9s\u001b[0K\u001b[1G85.7 MiB [] 12% 1.8s\u001b[0K\u001b[1G85.7 MiB [] 13% 1.7s\u001b[0K\u001b[1G85.7 MiB [] 14% 1.6s\u001b[0K\u001b[1G85.7 MiB [] 16% 1.5s\u001b[0K\u001b[1G85.7 MiB [] 17% 1.5s\u001b[0K\u001b[1G85.7 MiB [] 19% 1.3s\u001b[0K\u001b[1G85.7 MiB [] 20% 1.3s\u001b[0K\u001b[1G85.7 MiB [] 21% 1.3s\u001b[0K\u001b[1G85.7 MiB [] 22% 1.3s\u001b[0K\u001b[1G85.7 MiB [] 24% 1.3s\u001b[0K\u001b[1G85.7 MiB [] 25% 1.3s\u001b[0K\u001b[1G85.7 MiB [] 26% 1.3s\u001b[0K\u001b[1G85.7 MiB [] 27% 1.2s\u001b[0K\u001b[1G85.7 MiB [] 28% 1.2s\u001b[0K\u001b[1G85.7 MiB [] 29% 1.2s\u001b[0K\u001b[1G85.7 MiB [] 30% 1.2s\u001b[0K\u001b[1G85.7 MiB [] 31% 1.2s\u001b[0K\u001b[1G85.7 MiB [] 33% 1.1s\u001b[0K\u001b[1G85.7 MiB [] 34% 1.1s\u001b[0K\u001b[1G85.7 MiB [] 35% 1.1s\u001b[0K\u001b[1G85.7 MiB [] 36% 1.1s\u001b[0K\u001b[1G85.7 MiB [] 37% 1.1s\u001b[0K\u001b[1G85.7 MiB [] 38% 1.1s\u001b[0K\u001b[1G85.7 MiB [] 40% 1.0s\u001b[0K\u001b[1G85.7 MiB [] 41% 1.0s\u001b[0K\u001b[1G85.7 MiB [] 43% 1.0s\u001b[0K\u001b[1G85.7 MiB [] 44% 1.0s\u001b[0K\u001b[1G85.7 MiB [] 45% 0.9s\u001b[0K\u001b[1G85.7 MiB [] 47% 0.9s\u001b[0K\u001b[1G85.7 MiB [] 48% 0.9s\u001b[0K\u001b[1G85.7 MiB [] 49% 0.9s\u001b[0K\u001b[1G85.7 MiB [] 50% 0.9s\u001b[0K\u001b[1G85.7 MiB [] 51% 0.8s\u001b[0K\u001b[1G85.7 MiB [] 52% 0.8s\u001b[0K\u001b[1G85.7 MiB [] 54% 0.8s\u001b[0K\u001b[1G85.7 MiB [] 55% 0.8s\u001b[0K\u001b[1G85.7 MiB [] 56% 0.7s\u001b[0K\u001b[1G85.7 MiB [] 57% 0.7s\u001b[0K\u001b[1G85.7 MiB [] 58% 0.7s\u001b[0K\u001b[1G85.7 MiB [] 59% 0.7s\u001b[0K\u001b[1G85.7 MiB [] 60% 0.7s\u001b[0K\u001b[1G85.7 MiB [] 61% 0.7s\u001b[0K\u001b[1G85.7 MiB [] 62% 0.6s\u001b[0K\u001b[1G85.7 MiB [] 63% 0.6s\u001b[0K\u001b[1G85.7 MiB [] 65% 0.6s\u001b[0K\u001b[1G85.7 MiB [] 66% 0.6s\u001b[0K\u001b[1G85.7 MiB [] 67% 0.6s\u001b[0K\u001b[1G85.7 MiB [] 69% 0.5s\u001b[0K\u001b[1G85.7 MiB [] 70% 0.5s\u001b[0K\u001b[1G85.7 MiB [] 71% 0.5s\u001b[0K\u001b[1G85.7 MiB [] 72% 0.5s\u001b[0K\u001b[1G85.7 MiB [] 74% 0.4s\u001b[0K\u001b[1G85.7 MiB [] 75% 0.4s\u001b[0K\u001b[1G85.7 MiB [] 76% 0.4s\u001b[0K\u001b[1G85.7 MiB [] 78% 0.4s\u001b[0K\u001b[1G85.7 MiB [] 79% 0.3s\u001b[0K\u001b[1G85.7 MiB [] 81% 0.3s\u001b[0K\u001b[1G85.7 MiB [] 82% 0.3s\u001b[0K\u001b[1G85.7 MiB [] 83% 0.3s\u001b[0K\u001b[1G85.7 MiB [] 84% 0.3s\u001b[0K\u001b[1G85.7 MiB [] 85% 0.2s\u001b[0K\u001b[1G85.7 MiB [] 86% 0.2s\u001b[0K\u001b[1G85.7 MiB [] 87% 0.2s\u001b[0K\u001b[1G85.7 MiB [] 88% 0.2s\u001b[0K\u001b[1G85.7 MiB [] 90% 0.2s\u001b[0K\u001b[1G85.7 MiB [] 92% 0.1s\u001b[0K\u001b[1G85.7 MiB [] 93% 0.1s\u001b[0K\u001b[1G85.7 MiB [] 95% 0.1s\u001b[0K\u001b[1G85.7 MiB [] 96% 0.1s\u001b[0K\u001b[1G85.7 MiB [] 98% 0.0s\u001b[0K\u001b[1G85.7 MiB [] 99% 0.0s\u001b[0K\u001b[1G85.7 MiB [] 100% 0.0s\u001b[0K\n",
      "Firefox 125.0.1 (playwright build v1449) downloaded to /root/.cache/ms-playwright/firefox-1449\n",
      "Downloading Webkit 17.4 (playwright build v2003)\u001b[2m from https://playwright.azureedge.net/builds/webkit/2003/webkit-ubuntu-22.04.zip\u001b[22m\n",
      "\u001b[1G84.8 MiB [] 0% 0.0s\u001b[0K\u001b[1G84.8 MiB [] 0% 27.3s\u001b[0K\u001b[1G84.8 MiB [] 0% 18.3s\u001b[0K\u001b[1G84.8 MiB [] 0% 11.5s\u001b[0K\u001b[1G84.8 MiB [] 1% 6.4s\u001b[0K\u001b[1G84.8 MiB [] 1% 4.2s\u001b[0K\u001b[1G84.8 MiB [] 2% 3.6s\u001b[0K\u001b[1G84.8 MiB [] 3% 3.2s\u001b[0K\u001b[1G84.8 MiB [] 4% 2.8s\u001b[0K\u001b[1G84.8 MiB [] 5% 2.8s\u001b[0K\u001b[1G84.8 MiB [] 5% 2.9s\u001b[0K\u001b[1G84.8 MiB [] 7% 2.6s\u001b[0K\u001b[1G84.8 MiB [] 7% 2.8s\u001b[0K\u001b[1G84.8 MiB [] 8% 2.9s\u001b[0K\u001b[1G84.8 MiB [] 9% 2.7s\u001b[0K\u001b[1G84.8 MiB [] 10% 2.7s\u001b[0K\u001b[1G84.8 MiB [] 10% 2.6s\u001b[0K\u001b[1G84.8 MiB [] 11% 2.5s\u001b[0K\u001b[1G84.8 MiB [] 12% 2.4s\u001b[0K\u001b[1G84.8 MiB [] 13% 2.3s\u001b[0K\u001b[1G84.8 MiB [] 14% 2.2s\u001b[0K\u001b[1G84.8 MiB [] 15% 2.2s\u001b[0K\u001b[1G84.8 MiB [] 16% 2.1s\u001b[0K\u001b[1G84.8 MiB [] 17% 2.1s\u001b[0K\u001b[1G84.8 MiB [] 18% 2.0s\u001b[0K\u001b[1G84.8 MiB [] 19% 1.9s\u001b[0K\u001b[1G84.8 MiB [] 20% 1.9s\u001b[0K\u001b[1G84.8 MiB [] 21% 1.8s\u001b[0K\u001b[1G84.8 MiB [] 22% 1.8s\u001b[0K\u001b[1G84.8 MiB [] 23% 1.7s\u001b[0K\u001b[1G84.8 MiB [] 24% 1.7s\u001b[0K\u001b[1G84.8 MiB [] 26% 1.7s\u001b[0K\u001b[1G84.8 MiB [] 26% 1.6s\u001b[0K\u001b[1G84.8 MiB [] 27% 1.6s\u001b[0K\u001b[1G84.8 MiB [] 28% 1.6s\u001b[0K\u001b[1G84.8 MiB [] 29% 1.5s\u001b[0K\u001b[1G84.8 MiB [] 31% 1.5s\u001b[0K\u001b[1G84.8 MiB [] 33% 1.4s\u001b[0K\u001b[1G84.8 MiB [] 34% 1.4s\u001b[0K\u001b[1G84.8 MiB [] 36% 1.3s\u001b[0K\u001b[1G84.8 MiB [] 37% 1.2s\u001b[0K\u001b[1G84.8 MiB [] 38% 1.2s\u001b[0K\u001b[1G84.8 MiB [] 39% 1.2s\u001b[0K\u001b[1G84.8 MiB [] 41% 1.1s\u001b[0K\u001b[1G84.8 MiB [] 42% 1.1s\u001b[0K\u001b[1G84.8 MiB [] 43% 1.1s\u001b[0K\u001b[1G84.8 MiB [] 45% 1.0s\u001b[0K\u001b[1G84.8 MiB [] 46% 1.0s\u001b[0K\u001b[1G84.8 MiB [] 47% 1.0s\u001b[0K\u001b[1G84.8 MiB [] 48% 1.0s\u001b[0K\u001b[1G84.8 MiB [] 49% 1.0s\u001b[0K\u001b[1G84.8 MiB [] 50% 0.9s\u001b[0K\u001b[1G84.8 MiB [] 51% 0.9s\u001b[0K\u001b[1G84.8 MiB [] 52% 0.9s\u001b[0K\u001b[1G84.8 MiB [] 53% 0.9s\u001b[0K\u001b[1G84.8 MiB [] 54% 0.9s\u001b[0K\u001b[1G84.8 MiB [] 55% 0.9s\u001b[0K\u001b[1G84.8 MiB [] 56% 0.8s\u001b[0K\u001b[1G84.8 MiB [] 57% 0.8s\u001b[0K\u001b[1G84.8 MiB [] 58% 0.8s\u001b[0K\u001b[1G84.8 MiB [] 59% 0.8s\u001b[0K\u001b[1G84.8 MiB [] 60% 0.8s\u001b[0K\u001b[1G84.8 MiB [] 61% 0.8s\u001b[0K\u001b[1G84.8 MiB [] 62% 0.8s\u001b[0K\u001b[1G84.8 MiB [] 63% 0.8s\u001b[0K\u001b[1G84.8 MiB [] 63% 0.7s\u001b[0K\u001b[1G84.8 MiB [] 64% 0.7s\u001b[0K\u001b[1G84.8 MiB [] 65% 0.7s\u001b[0K\u001b[1G84.8 MiB [] 66% 0.7s\u001b[0K\u001b[1G84.8 MiB [] 67% 0.7s\u001b[0K\u001b[1G84.8 MiB [] 68% 0.7s\u001b[0K\u001b[1G84.8 MiB [] 68% 0.6s\u001b[0K\u001b[1G84.8 MiB [] 69% 0.6s\u001b[0K\u001b[1G84.8 MiB [] 70% 0.6s\u001b[0K\u001b[1G84.8 MiB [] 71% 0.6s\u001b[0K\u001b[1G84.8 MiB [] 72% 0.6s\u001b[0K\u001b[1G84.8 MiB [] 73% 0.5s\u001b[0K\u001b[1G84.8 MiB [] 74% 0.5s\u001b[0K\u001b[1G84.8 MiB [] 75% 0.5s\u001b[0K\u001b[1G84.8 MiB [] 77% 0.5s\u001b[0K\u001b[1G84.8 MiB [] 78% 0.5s\u001b[0K\u001b[1G84.8 MiB [] 79% 0.4s\u001b[0K\u001b[1G84.8 MiB [] 80% 0.4s\u001b[0K\u001b[1G84.8 MiB [] 81% 0.4s\u001b[0K\u001b[1G84.8 MiB [] 82% 0.4s\u001b[0K\u001b[1G84.8 MiB [] 83% 0.3s\u001b[0K\u001b[1G84.8 MiB [] 84% 0.3s\u001b[0K\u001b[1G84.8 MiB [] 85% 0.3s\u001b[0K\u001b[1G84.8 MiB [] 87% 0.3s\u001b[0K\u001b[1G84.8 MiB [] 88% 0.2s\u001b[0K\u001b[1G84.8 MiB [] 89% 0.2s\u001b[0K\u001b[1G84.8 MiB [] 91% 0.2s\u001b[0K\u001b[1G84.8 MiB [] 92% 0.2s\u001b[0K\u001b[1G84.8 MiB [] 93% 0.1s\u001b[0K\u001b[1G84.8 MiB [] 94% 0.1s\u001b[0K\u001b[1G84.8 MiB [] 95% 0.1s\u001b[0K\u001b[1G84.8 MiB [] 96% 0.1s\u001b[0K\u001b[1G84.8 MiB [] 98% 0.0s\u001b[0K\u001b[1G84.8 MiB [] 99% 0.0s\u001b[0K\u001b[1G84.8 MiB [] 100% 0.0s\u001b[0K\n",
      "Webkit 17.4 (playwright build v2003) downloaded to /root/.cache/ms-playwright/webkit-2003\n",
      "Playwright Host validation warning: \n",
      "╔══════════════════════════════════════════════════════╗\n",
      "║ Host system is missing dependencies to run browsers. ║\n",
      "║ Missing libraries:                                   ║\n",
      "║     libwoff2dec.so.1.0.2                             ║\n",
      "║     libgstgl-1.0.so.0                                ║\n",
      "║     libgstcodecparsers-1.0.so.0                      ║\n",
      "║     libharfbuzz-icu.so.0                             ║\n",
      "║     libenchant-2.so.2                                ║\n",
      "║     libsecret-1.so.0                                 ║\n",
      "║     libhyphen.so.0                                   ║\n",
      "║     libmanette-0.2.so.0                              ║\n",
      "╚══════════════════════════════════════════════════════╝\n",
      "    at validateDependenciesLinux (/usr/local/lib/python3.10/dist-packages/playwright/driver/package/lib/server/registry/dependencies.js:216:9)\n",
      "\u001b[90m    at process.processTicksAndRejections (node:internal/process/task_queues:95:5)\u001b[39m\n",
      "    at async Registry._validateHostRequirements (/usr/local/lib/python3.10/dist-packages/playwright/driver/package/lib/server/registry/index.js:603:43)\n",
      "    at async Registry._validateHostRequirementsForExecutableIfNeeded (/usr/local/lib/python3.10/dist-packages/playwright/driver/package/lib/server/registry/index.js:701:7)\n",
      "    at async Registry.validateHostRequirementsForExecutablesIfNeeded (/usr/local/lib/python3.10/dist-packages/playwright/driver/package/lib/server/registry/index.js:690:43)\n",
      "    at async t.<anonymous> (/usr/local/lib/python3.10/dist-packages/playwright/driver/package/lib/cli/program.js:119:7)\n"
     ]
    }
   ],
   "source": [
    "\n",
    "!playwright install"
   ]
  },
  {
   "cell_type": "code",
   "execution_count": null,
   "metadata": {
    "colab": {
     "base_uri": "https://localhost:8080/"
    },
    "id": "jyPl7P7jzLk8",
    "outputId": "1d18fff9-74a4-4c9f-e1be-c1a2f3e483eb"
   },
   "outputs": [
    {
     "name": "stdout",
     "output_type": "stream",
     "text": [
      "Page content has been saved to save_langchain_html.txt\n"
     ]
    }
   ],
   "source": [
    "# Resolve async issues by applying nest_asyncio\n",
    "import nest_asyncio\n",
    "nest_asyncio.apply()\n",
    "\n",
    "# Import required modules from langchain\n",
    "from langchain_openai import ChatOpenAI\n",
    "from langchain_community.document_loaders import AsyncChromiumLoader\n",
    "from langchain_community.document_transformers import BeautifulSoupTransformer\n",
    "from langchain.text_splitter import RecursiveCharacterTextSplitter\n",
    "from langchain.chains import create_extraction_chain\n",
    "\n",
    "# Define the URL\n",
    "url = \"https://www.ci.richmond.ca.us/1404/Major-Projectst\"\n",
    "\n",
    "# Initialize ChatOpenAI instance with OpenAI API key\n",
    "llm = ChatOpenAI(openai_api_key=MY_OPENAI_KEY)\n",
    "\n",
    "# Load HTML content using AsyncChromiumLoader\n",
    "loader = AsyncChromiumLoader([url])\n",
    "docs = loader.load()\n",
    "\n",
    "# Save the HTML content to a text file for reference\n",
    "with open(\"save_langchain_html.txt\", \"w\", encoding=\"utf-8\") as file:\n",
    "    file.write(str(docs[0].page_content))\n",
    "print(\"Page content has been saved to save_langchain_html.txt\")\n",
    "\n",
    "# Transform the loaded HTML using BeautifulSoupTransformer\n",
    "bs_transformer = BeautifulSoupTransformer()\n",
    "url_transfornm = bs_transformer.transform_documents(\n",
    "    docs, tags_to_extract=[\"a\"]\n",
    ")\n",
    "\n",
    "# Split the transformed documents using RecursiveCharacterTextSplitter\n",
    "url_splitter = RecursiveCharacterTextSplitter.from_tiktoken_encoder(chunk_size=1000, chunk_overlap=0)\n",
    "url_splits = url_splitter.split_documents(url_transfornm)"
   ]
  },
  {
   "cell_type": "code",
   "execution_count": null,
   "metadata": {
    "colab": {
     "base_uri": "https://localhost:8080/"
    },
    "id": "0JAHBfcF6KPV",
    "outputId": "33449559-9f2b-4072-a1cf-94cc075a4a26"
   },
   "outputs": [
    {
     "name": "stdout",
     "output_type": "stream",
     "text": [
      "<class 'list'>\n"
     ]
    }
   ],
   "source": [
    "print(type(docs))"
   ]
  },
  {
   "cell_type": "code",
   "execution_count": null,
   "metadata": {
    "colab": {
     "base_uri": "https://localhost:8080/"
    },
    "id": "8CYhKDGGvEuc",
    "outputId": "0de7fce4-f358-464f-a834-d675b399cb23"
   },
   "outputs": [
    {
     "data": {
      "text/plain": [
       "str"
      ]
     },
     "execution_count": 86,
     "metadata": {},
     "output_type": "execute_result"
    }
   ],
   "source": [
    "type(url_transfornm[0].page_content)"
   ]
  },
  {
   "cell_type": "code",
   "execution_count": null,
   "metadata": {
    "colab": {
     "base_uri": "https://localhost:8080/"
    },
    "id": "4ZW8pmiVe9mT",
    "outputId": "36bf48b4-e94f-4f54-eec6-9665937b1d0e"
   },
   "outputs": [
    {
     "data": {
      "text/plain": [
       "[Document(page_content='', metadata={'source': 'https://www.ci.richmond.ca.us/1404/Major-Projectst'})]"
      ]
     },
     "execution_count": 85,
     "metadata": {},
     "output_type": "execute_result"
    }
   ],
   "source": [
    "url_transfornm"
   ]
  },
  {
   "cell_type": "code",
   "execution_count": null,
   "metadata": {
    "id": "18aPv9ZbjGjL"
   },
   "outputs": [],
   "source": [
    "import nest_asyncio\n",
    "nest_asyncio.apply()\n",
    "\n",
    "# Import required modules from langchain\n",
    "from langchain_openai import ChatOpenAI\n",
    "from langchain_community.document_loaders import AsyncChromiumLoader\n",
    "from langchain_community.document_transformers import BeautifulSoupTransformer\n",
    "from langchain.text_splitter import RecursiveCharacterTextSplitter\n",
    "from langchain.chains import create_extraction_chain"
   ]
  },
  {
   "cell_type": "code",
   "execution_count": null,
   "metadata": {
    "colab": {
     "base_uri": "https://localhost:8080/",
     "height": 141
    },
    "id": "BFoIvnmPzijY",
    "outputId": "5043de8b-a79e-425e-9a89-8b1fa67ebdd0"
   },
   "outputs": [
    {
     "ename": "NameError",
     "evalue": "name 'docs_transformed' is not defined",
     "output_type": "error",
     "traceback": [
      "\u001b[0;31m---------------------------------------------------------------------------\u001b[0m",
      "\u001b[0;31mNameError\u001b[0m                                 Traceback (most recent call last)",
      "\u001b[0;32m<ipython-input-10-1ef822ce9ee8>\u001b[0m in \u001b[0;36m<cell line: 1>\u001b[0;34m()\u001b[0m\n\u001b[0;32m----> 1\u001b[0;31m \u001b[0mprint\u001b[0m\u001b[0;34m(\u001b[0m\u001b[0mtype\u001b[0m\u001b[0;34m(\u001b[0m\u001b[0mdocs_transformed\u001b[0m\u001b[0;34m)\u001b[0m\u001b[0;34m)\u001b[0m\u001b[0;34m\u001b[0m\u001b[0;34m\u001b[0m\u001b[0m\n\u001b[0m",
      "\u001b[0;31mNameError\u001b[0m: name 'docs_transformed' is not defined"
     ]
    }
   ],
   "source": [
    "print(type(docs_transformed))"
   ]
  },
  {
   "cell_type": "code",
   "execution_count": null,
   "metadata": {
    "id": "jeywgqs3lD0b"
   },
   "outputs": [],
   "source": [
    "def extract_url(url):\n",
    "  url_loader = AsyncChromiumLoader([url])\n",
    "  url_docs = url_loader.load()\n",
    "  bs_transformer = BeautifulSoupTransformer()\n",
    "  url_transfornm = bs_transformer.transform_documents(\n",
    "  url_docs, tags_to_extract=[\"a\"]\n",
    ")\n",
    "  llm = ChatOpenAI(openai_api_key=MY_OPENAI_KEY)\n",
    "  url_splitter = RecursiveCharacterTextSplitter.from_tiktoken_encoder(chunk_size=1000, chunk_overlap=0)\n",
    "  url_splits = url_splitter.split_documents(url_transfornm)\n",
    "\n",
    "  url_schema = {\n",
    "    \"properties\": {\n",
    "\n",
    "        \"url\": {\"type\": \"string\"},\n",
    "    },\n",
    "    \"required\": [\"url\"],\n",
    "}\n",
    "\n",
    "  start_time = time.time()\n",
    "  extracted_content = create_extraction_chain(schema=url_schema, llm=llm).run(url_splits[0].page_content)\n",
    "  end_time = time.time()\n",
    "\n",
    "\n",
    "  comet_llm.log_prompt(\n",
    "  prompt=str(url_splits[0].page_content),\n",
    "  metadata= {\n",
    "            \"schema\": url_schema\n",
    "        },\n",
    "  output= extracted_content,\n",
    "  duration= end_time - start_time,\n",
    "    )\n",
    "  url_list = [d['url'] for d in extracted_content]\n",
    "\n",
    "\n",
    "  return url_list"
   ]
  },
  {
   "cell_type": "code",
   "execution_count": null,
   "metadata": {
    "id": "8ZTBlaMknzZi"
   },
   "outputs": [],
   "source": [
    "import time"
   ]
  },
  {
   "cell_type": "code",
   "execution_count": null,
   "metadata": {
    "colab": {
     "base_uri": "https://localhost:8080/",
     "height": 280
    },
    "id": "sZp_LABolD3p",
    "outputId": "6c6618cc-f568-41d1-c62f-e929ceb9baf5"
   },
   "outputs": [
    {
     "ename": "NameError",
     "evalue": "name 'time' is not defined",
     "output_type": "error",
     "traceback": [
      "\u001b[0;31m---------------------------------------------------------------------------\u001b[0m",
      "\u001b[0;31mNameError\u001b[0m                                 Traceback (most recent call last)",
      "\u001b[0;32m<ipython-input-12-ca753e81ac1a>\u001b[0m in \u001b[0;36m<cell line: 1>\u001b[0;34m()\u001b[0m\n\u001b[0;32m----> 1\u001b[0;31m \u001b[0mprint\u001b[0m\u001b[0;34m(\u001b[0m\u001b[0mextract_url\u001b[0m\u001b[0;34m(\u001b[0m\u001b[0;34m\"https://www.ci.richmond.ca.us/1404/Major-Projectst\"\u001b[0m\u001b[0;34m)\u001b[0m\u001b[0;34m)\u001b[0m\u001b[0;34m\u001b[0m\u001b[0;34m\u001b[0m\u001b[0m\n\u001b[0m",
      "\u001b[0;32m<ipython-input-11-6249c24fc95d>\u001b[0m in \u001b[0;36mextract_url\u001b[0;34m(url)\u001b[0m\n\u001b[1;32m     18\u001b[0m }\n\u001b[1;32m     19\u001b[0m \u001b[0;34m\u001b[0m\u001b[0m\n\u001b[0;32m---> 20\u001b[0;31m   \u001b[0mstart_time\u001b[0m \u001b[0;34m=\u001b[0m \u001b[0mtime\u001b[0m\u001b[0;34m.\u001b[0m\u001b[0mtime\u001b[0m\u001b[0;34m(\u001b[0m\u001b[0;34m)\u001b[0m\u001b[0;34m\u001b[0m\u001b[0;34m\u001b[0m\u001b[0m\n\u001b[0m\u001b[1;32m     21\u001b[0m   \u001b[0mextracted_content\u001b[0m \u001b[0;34m=\u001b[0m \u001b[0mcreate_extraction_chain\u001b[0m\u001b[0;34m(\u001b[0m\u001b[0mschema\u001b[0m\u001b[0;34m=\u001b[0m\u001b[0murl_schema\u001b[0m\u001b[0;34m,\u001b[0m \u001b[0mllm\u001b[0m\u001b[0;34m=\u001b[0m\u001b[0mllm\u001b[0m\u001b[0;34m)\u001b[0m\u001b[0;34m.\u001b[0m\u001b[0mrun\u001b[0m\u001b[0;34m(\u001b[0m\u001b[0murl_splits\u001b[0m\u001b[0;34m[\u001b[0m\u001b[0;36m0\u001b[0m\u001b[0;34m]\u001b[0m\u001b[0;34m.\u001b[0m\u001b[0mpage_content\u001b[0m\u001b[0;34m)\u001b[0m\u001b[0;34m\u001b[0m\u001b[0;34m\u001b[0m\u001b[0m\n\u001b[1;32m     22\u001b[0m   \u001b[0mend_time\u001b[0m \u001b[0;34m=\u001b[0m \u001b[0mtime\u001b[0m\u001b[0;34m.\u001b[0m\u001b[0mtime\u001b[0m\u001b[0;34m(\u001b[0m\u001b[0;34m)\u001b[0m\u001b[0;34m\u001b[0m\u001b[0;34m\u001b[0m\u001b[0m\n",
      "\u001b[0;31mNameError\u001b[0m: name 'time' is not defined"
     ]
    }
   ],
   "source": [
    "print(extract_url(\"https://www.ci.richmond.ca.us/1404/Major-Projectst\"))"
   ]
  },
  {
   "cell_type": "code",
   "execution_count": null,
   "metadata": {
    "id": "mFdgBFQFsxSS"
   },
   "outputs": [],
   "source": [
    "url_list=extract_url(\"https://www.ci.richmond.ca.us/1404/Major-Projectst\")"
   ]
  },
  {
   "cell_type": "code",
   "execution_count": null,
   "metadata": {
    "id": "keWA1zmdjOVL"
   },
   "outputs": [],
   "source": [
    "url_list.append(\"https://www.ci.richmond.ca.us/1404/Major-Projectst\")"
   ]
  },
  {
   "cell_type": "code",
   "execution_count": null,
   "metadata": {
    "id": "9iQTyJHtx2AQ"
   },
   "outputs": [],
   "source": [
    "html_tags = [\n",
    "    \"h1\", \"h2\", \"h3\", \"h4\", \"h5\", \"h6\",\n",
    "    \"p\",\n",
    "    \"span\",\n",
    "    \"div\",\n",
    "    \"ul\", \"ol\", \"li\",\n",
    "    \"table\", \"tr\", \"th\", \"td\",\n",
    "    \"a\",\n",
    "    \"b\", \"strong\",\n",
    "    \"i\", \"em\",\n",
    "    \"blockquote\", \"q\", \"cite\",\n",
    "    \"code\", \"pre\",\n",
    "    \"form\", \"input\", \"textarea\", \"label\",\n",
    "    \"dl\", \"dt\", \"dd\",\n",
    "    \"article\",\n",
    "    \"section\",\n",
    "    \"nav\",\n",
    "    \"aside\",\n",
    "    \"header\",\n",
    "    \"footer\",\n",
    "    \"main\",\n",
    "    \"figure\", \"figcaption\",\n",
    "    \"details\", \"summary\",\n",
    "    \"mark\",\n",
    "    \"time\"\n",
    "]\n"
   ]
  },
  {
   "cell_type": "code",
   "execution_count": null,
   "metadata": {
    "id": "WvPmeGTCj8_r"
   },
   "outputs": [],
   "source": [
    "def extract_content(urls):\n",
    "  contents=[]\n",
    "  for url in urls:\n",
    "    url_loader = AsyncChromiumLoader([url])\n",
    "    content_docs = url_loader.load()\n",
    "    bs_transformer = BeautifulSoupTransformer()\n",
    "    content_transfornm = bs_transformer.transform_documents(content_docs, tags_to_extract=html_tags)\n",
    "    content=content_transfornm[0].page_content\n",
    "    contents.append(content)\n",
    "  return contents\n"
   ]
  },
  {
   "cell_type": "code",
   "execution_count": null,
   "metadata": {
    "id": "lT4EPN6DtzmU"
   },
   "outputs": [],
   "source": [
    "output_content=extract_content(url_list)"
   ]
  },
  {
   "cell_type": "code",
   "execution_count": null,
   "metadata": {
    "colab": {
     "base_uri": "https://localhost:8080/"
    },
    "id": "GNXBE-B9zpd6",
    "outputId": "0c9956dc-3849-4c65-e957-3fe8bb1a9f1f"
   },
   "outputs": [
    {
     "data": {
      "text/plain": [
       "['Loading  Skip to Main Content (#ccf5602c1c-2e20-4773-89f3-08f921ac655f)     [if lte IE 7]><link rel=\"stylesheet\" type=\"text/css\" href=\"/App_Themes/CP/ie7.css\"><![endif]  Allow Dashboard, Favorites Enabled      Header Container                      (/facebook)     (https://twitter.com/cityofrichmond)     (https://www.ci.richmond.ca.us/rss.aspx)          inner column   inner row  outer column       inner column   inner row  outer column       For the button right and inside     Search       inner column   inner row  outer column   outer row       City Government (/2013/City-Government)      Departments (/2014/Departments)      Business (/2016/Business)      Community (/2015/Community)       Banner            Content container       Home (/) Departments (/2014/Departments) Community Development (/101/Community-Development) Planning Division (/2098/Planning-Division) Via Verdi Slope Stabilization Project     A (#)  A (#)             Via Verdi Slope Stabilization Project         Project Contact: Lina Velasco Planning & Building Services Director Lina_Velasco@ci.richmond.ca.us (510) 620-6841  Project Description  The proposed Via Verdi Slope Stabilization Project (project) has been designed by the City of Richmond (City) to reconstruct a segment of the Via Verdi roadway that was damaged by a landslide in 2017; the road was closed at that time and an emergency roadway continues to provide access for the Sobrante Glen neighborhood. Reconstruction of the roadway requires installation of a culvert within San Pablo Creek, backfilled with engineered fill, to buttress the landslide and provide a stabilized footing for the roadway embankment. An offsite mitigation area is included as part of the project.   Project Related Documents   Via Verdi Slope Stabilization Project (/DocumentCenter/View/57827/Attachments-compiled)  Response to Comments (/DocumentCenter/View/57828/210224-Response-to-CEQA-Public-Comment)  Mitigation Monitoring and Reporting Plan (/DocumentCenter/View/57829/MMRP)   Review and Comment Period: Comments on the MND shall be sent in writing and must be received by 5:00 p.m. on Thursday, November 27, 2019 , at the following address or email: Lina Velasco City of Richmond Planning Division 450 Civic Center Plaza P.O. Box 4046 Richmond, CA 94804  lina_velasco@ci.richmond.ca.us (mailto:lina_velasco@ci.richmond.ca.us)    Report Availability: A copy of the MND is available for review online at www.ci.richmond.ca.us/viaverdiproject.  Copies are also available for review at the following locations: Richmond Public Library - Main Branch 325 Civic Center Plaza, Richmond, CA 94804 and City of Richmond, Planning and Building Department , City Hall, 450 Civic Center Plaza, Richmond, CA, 94804.   Start of Public Review: October 28, 2019 End of Public Review: November 27, 2019   Notice of Intent (/DocumentCenter/View/51434/Via-Verdi-Notice-of-Intent)  MND Draft (/DocumentCenter/View/51441/Compiled-191027-Via-Verdi-IS_MND_Public-Review-Draft)        inner column   inner row  outer column   outer row                   Accessory Dwelling Units (ADUs) (/4336/Accessory-Dwelling-Units-ADUs)      Architectural Heritage Guidelines (http://www.ci.richmond.ca.us/DocumentCenter/View/3525)      Boards & Commissions (/2861/Boards-Commissions)       Design Review Board      Historic Preservation Commission       Historic Preservation Awards        Planning Commission        Cannabis Business Information (/3603/Cannabis-Business-Information)      City Fact Sheet (/DocumentView.aspx?DID=8348)      Fees/Forms/Checklists (/2102/FeesFormsChecklists)      Form Based Code (http://www.ci.richmond.ca.us/2965/RLC-FBC)      General Plan 2030 (/2608/General-Plan-2030)      Hilltop Horizon Specific Plan (https://hilltophorizon.com/)      Historical Point Molate Project Information (http://www.ci.richmond.ca.us/270/Point-Molate)      Mapping Services (/3344/Mapping-Services)      Printable Maps (/290)      Project Information (/2860/Project-Information)       Additional Projects      Environmental Documents      General Plan Updates       About - Información acerca del Plan General      Frequently Asked Questions (FAQs) - Preguntas frecuentes      Participate - Participe      Library        Housing Element Update      Housing Policy      Major Projects      Notable Projects      Other Projects      Projects Information      Richmond Resilience Roadmap      Residential Activity Report        Regulatory Documents (/2867/Regulatory-Documents)       Bicycle Master Plan      Pedestrian Plan      Richmond Bay Specific Plan (RBSP)      Urban Greening Plan      Other Plans, Codes & Guidelines        Staff Directory (/2399/Staff-Directory)      Zoning Ordinance (/3379/Zoning-Ordinance)      Senate Bill 9 (SB 9) (/4188/Senate-Bill-9-SB-9)      Brickyard Cove Residential Project (/4349/Brickyard-Cove-Residential-Project)      Raven SR Bioenergy Project (/4365/Raven-SR-Bioenergy-Project)      Travel Safe Richmond (/4486/Travel-Safe-Richmond)           GBs                    (/151)  Agenda Docs   (/151)         (/965/Weekly-Announcements)  Weekly Report   (/965/Weekly-Announcements)         (/4340/KCRT-Media)  KCRT   (/4340/KCRT-Media)            inner column   inner row  outer column                 (/4518/Youth)  Youth   (/4518/Youth)         (/4540/55670/Visit-Richmond)  Visit Richmond   (/4540/55670/Visit-Richmond)         (https://www.transparentrichmond.org/)  City Data   (https://www.transparentrichmond.org/)            inner column   inner row  outer column   outer row    Calendar/Carousel <div data-cpRole=\"structuralContainer\" id=\"homeContainer1\"> <div class=\"siteWrap\"> <div data-cpRole=\"contentContainer\" id=\"homeContent1a\"></div> </div> </div> Footer                              inner column   inner row  outer column       inner column   inner row  outer column         Contact Us         RICHMOND CITY HALL 450 Civic Center Plaza Richmond, CA 94804 Phone Directory (http://www.ci.richmond.ca.us/Directory.aspx)  Directions (http://maps.google.com/maps?q=450+Civic+Center+Plaza,+Richmond+CA&oe=utf-8&rls=org.mozilla:en-US:official&client=firefox-a&um=1&ie=UTF-8&hq=&hnear=450+Civic+Center+Plaza,+Richmond,+CA+94804&gl=us&daddr=450%20Civic%20Center%20Plaza,%20Richmond,%20CA%2094804&ei=uxt0S8_-KoLUNYPuockK&sa=X&oi=geocode_result&ct=directions-to&resnum=1&ved=0CAoQwwUwAA)            inner column   inner row  outer column       inner column   inner row  outer column       Sign Up For E-News          inner column   inner row              (/facebook)     (https://twitter.com/cityofrichmond)     (/instagram)     (https://www.ci.richmond.ca.us/rss.aspx)          inner column   inner row  outer column       inner column   inner row  outer column         Site Links (/QuickLinks.aspx?CID=2,52,5)         Bay Area Legal Aid (http://www.baylegal.org/)     Contra Costa County Courts (http://www.cc-courts.org/)     California Courts (http://www.courts.ca.gov/)     Contra Costa County Bar Association (http://www.cccba.org/community/)     State Bar of California (http://www.calbar.ca.gov/state/calbar/calbar_home.jsp)     City Council Agenda Documents (http://www.ci.richmond.ca.us/index.aspx?NID=151)           /QuickLinks.aspx      inner column   inner row  outer column   outer row    Powered By                Government Websites by CivicPlus® (https://connect.civicplus.com/referral)       inner column   inner row  outer column   outer row           Loading          Content from the Froala Editor will go here. Loading    Do Not Show Again  Close      Powered by Translate (https://translate.google.com)     Arrow Left     Arrow Right        Slideshow Left Arrow       Slideshow Right Arrow                Original text Rate this translation Your feedback will be used to help improve Google Translate',\n",
       " 'Loading  Skip to Main Content (#ccf5602c1c-2e20-4773-89f3-08f921ac655f)     [if lte IE 7]><link rel=\"stylesheet\" type=\"text/css\" href=\"/App_Themes/CP/ie7.css\"><![endif]  Allow Dashboard, Favorites Enabled      Header Container                      (/facebook)     (https://twitter.com/cityofrichmond)     (https://www.ci.richmond.ca.us/rss.aspx)          inner column   inner row  outer column       inner column   inner row  outer column       For the button right and inside     Search       inner column   inner row  outer column   outer row       City Government (/2013/City-Government)      Departments (/2014/Departments)      Business (/2016/Business)      Community (/2015/Community)       Banner            Content container       Home (/) Departments (/2014/Departments) Community Development (/101/Community-Development) Planning Division (/2098/Planning-Division) Travel Safe Richmond     A (#)  A (#)             Travel Safe Richmond             inner column   inner row      Travel Safe Richmond is the City’s two-pronged approach to improving roadway safety for all users: people walking, biking, rolling, and driving. All components of Travel Safe Richmond are working together to create unified policies and infrastructure recommendations for improving roadway conditions throughout the City of Richmond. Input from City stakeholders and community members is a critical component of this effort. Components of Travel Safe Richmond The two components of the Travel Safe Richmond project include: Local Roadway Safety Plan Traffic safety impacts the health and comfort of all those who live and travel in the City of Richmond. The Local Roadway Safety Plan (LRSP) will identify traffic safety trends, and develop a program for the funding and implementation of improvements. The implementation of this plan is a step towards making the transportation system safe and more equitable for users of all transportation modes. The LRSP’s primary goals include: Reduce fatal and serious injury collisions Ensure equitable traffic safety investments in the neighborhoods that need them most Support safe travel for people walking and biking, especially near schools and other high-demand areas Encourage safe driving, through roadway design and outreach Prepare for the future with climate-resilient transportation safety infrastructure The Local Roadway Safety Plan was approved by the City Council on July 19, 2023. LRSP\\'s Adoption Consideration: July 19, 2023 Adopted Resolution No. 105-22 and Final Local Roadway Safety Plan (/DocumentCenter/View/65001/105-22-CC-reso-Local-Roadway-Safety-Plan---CONFORMED---Adopted-7-19-22) Bicycle and Pedestrian Action Plan The Bicycle and Pedestrian Action Plan (BPAP) will serve as the blueprint for improving walking and bicycling conditions in the City of Richmond for the next five years. This Plan will consolidate recommendations from the Local Roadway Safety Plan (LRSP) and coordinate with other Richmond planning efforts to provide near-term bicycle and pedestrian infrastructure recommendations. The proposed improvements will make it safer, easier, and more practical to walk, bike, roll and access transit throughout the City of Richmond. Goals for the B/P Action Plan include: Develop a recommended bicycle and pedestrian network that builds on Richmond\\'s existing assets and focuses on closing existing gaps Develop a list of near-term (1-3 year) infrastructure projects focusing on bicycle and pedestrian safety and comfort Develop an implementation strategy that identifies potential funding opportunities and applies those to each project Develop a general set of guidelines for the development and implementation of bicycle facilities and off-street paths The Bicycle and Pedestrian Action Plan had a study session on October 25, 2022 and was adopted by City Council on February 7, 2023. BPAP\\'s City Council Adoption Consideration: February 7, 2023 Adopted Resolution No. 9-23 and Final Bicycle and Pedestrian Action Plan (/DocumentCenter/View/65000/9-23-CC-reso-Bicycle-and-Pedestrian-Action-Plan---CONFORMED---Adopted-2-7-2023) Project Timeline The project was developed in two distinct phases as noted in the graphic below. Travel Safe Richmond Community Workshops Throughout the development of Travel Safe Richmond, the City organized a number of events and digital opportunities, including community workshops/open houses, pop up events, and presenting to the business community and at several neighborhood council meetings to gather the public\\'s feedback and ideas. All two components of the Project will coordinate their community engagement into one unified process. 1st Community Workshop: December 8, 2021 Presentation (/DocumentCenter/View/65002/TSR_Workshop1_Presentation_12082021) 2nd Community Workshop: May 18, 2022 ( In person ) Flyer (/DocumentCenter/View/65003/Flyer_MayWorkshop_033022r) 3rd Community Workshop: November 9, 2022 Presentation (/DocumentCenter/View/65004/TSR_Workshop-3_DRAFT110722) Contact Us If you have any comments or questions about the project, you can reach project planer, Lydia Elias at travelsafe@ci.richmond.ca.us (mailto:travelsafe@ci.richmond.ca.us) .     inner column   inner row  outer column   outer row                   Accessory Dwelling Units (ADUs) (/4336/Accessory-Dwelling-Units-ADUs)      Architectural Heritage Guidelines (http://www.ci.richmond.ca.us/DocumentCenter/View/3525)      Boards & Commissions (/2861/Boards-Commissions)       Design Review Board      Historic Preservation Commission       Historic Preservation Awards        Planning Commission        Cannabis Business Information (/3603/Cannabis-Business-Information)      City Fact Sheet (/DocumentView.aspx?DID=8348)      Fees/Forms/Checklists (/2102/FeesFormsChecklists)      Form Based Code (http://www.ci.richmond.ca.us/2965/RLC-FBC)      General Plan 2030 (/2608/General-Plan-2030)      Hilltop Horizon Specific Plan (https://hilltophorizon.com/)      Historical Point Molate Project Information (http://www.ci.richmond.ca.us/270/Point-Molate)      Mapping Services (/3344/Mapping-Services)      Printable Maps (/290)      Project Information (/2860/Project-Information)       Additional Projects      Environmental Documents      General Plan Updates       About - Información acerca del Plan General      Frequently Asked Questions (FAQs) - Preguntas frecuentes      Participate - Participe      Library        Housing Element Update      Housing Policy      Major Projects      Notable Projects      Other Projects      Projects Information      Richmond Resilience Roadmap      Residential Activity Report        Regulatory Documents (/2867/Regulatory-Documents)       Bicycle Master Plan      Pedestrian Plan      Richmond Bay Specific Plan (RBSP)      Urban Greening Plan      Other Plans, Codes & Guidelines        Staff Directory (/2399/Staff-Directory)      Zoning Ordinance (/3379/Zoning-Ordinance)      Senate Bill 9 (SB 9) (/4188/Senate-Bill-9-SB-9)      Brickyard Cove Residential Project (/4349/Brickyard-Cove-Residential-Project)      Raven SR Bioenergy Project (/4365/Raven-SR-Bioenergy-Project)      Travel Safe Richmond (/4486/Travel-Safe-Richmond)           GBs                    (/151)  Agenda Docs   (/151)         (/965/Weekly-Announcements)  Weekly Report   (/965/Weekly-Announcements)         (/4340/KCRT-Media)  KCRT   (/4340/KCRT-Media)            inner column   inner row  outer column                 (/4518/Youth)  Youth   (/4518/Youth)         (/4540/55670/Visit-Richmond)  Visit Richmond   (/4540/55670/Visit-Richmond)         (https://www.transparentrichmond.org/)  City Data   (https://www.transparentrichmond.org/)            inner column   inner row  outer column   outer row    Calendar/Carousel <div data-cpRole=\"structuralContainer\" id=\"homeContainer1\"> <div class=\"siteWrap\"> <div data-cpRole=\"contentContainer\" id=\"homeContent1a\"></div> </div> </div> Footer                              inner column   inner row  outer column       inner column   inner row  outer column         Contact Us         RICHMOND CITY HALL 450 Civic Center Plaza Richmond, CA 94804 Phone Directory (http://www.ci.richmond.ca.us/Directory.aspx)  Directions (http://maps.google.com/maps?q=450+Civic+Center+Plaza,+Richmond+CA&oe=utf-8&rls=org.mozilla:en-US:official&client=firefox-a&um=1&ie=UTF-8&hq=&hnear=450+Civic+Center+Plaza,+Richmond,+CA+94804&gl=us&daddr=450%20Civic%20Center%20Plaza,%20Richmond,%20CA%2094804&ei=uxt0S8_-KoLUNYPuockK&sa=X&oi=geocode_result&ct=directions-to&resnum=1&ved=0CAoQwwUwAA)            inner column   inner row  outer column       inner column   inner row  outer column       Sign Up For E-News          inner column   inner row              (/facebook)     (https://twitter.com/cityofrichmond)     (/instagram)     (https://www.ci.richmond.ca.us/rss.aspx)          inner column   inner row  outer column       inner column   inner row  outer column         Site Links (/QuickLinks.aspx?CID=2,52,5)         Bay Area Legal Aid (http://www.baylegal.org/)     Contra Costa County Courts (http://www.cc-courts.org/)     California Courts (http://www.courts.ca.gov/)     Contra Costa County Bar Association (http://www.cccba.org/community/)     State Bar of California (http://www.calbar.ca.gov/state/calbar/calbar_home.jsp)     City Council Agenda Documents (http://www.ci.richmond.ca.us/index.aspx?NID=151)           /QuickLinks.aspx      inner column   inner row  outer column   outer row    Powered By                Government Websites by CivicPlus® (https://connect.civicplus.com/referral)       inner column   inner row  outer column   outer row           Loading          Content from the Froala Editor will go here. Loading    Do Not Show Again  Close      Select Language Afrikaans Albanian Amharic Arabic Armenian Assamese Aymara Azerbaijani Bambara Basque Belarusian Bengali Bhojpuri Bosnian Bulgarian Catalan Cebuano Chichewa Chinese (Simplified) Chinese (Traditional) Corsican Croatian Czech Danish Dhivehi Dogri Dutch Esperanto Estonian Ewe Filipino Finnish French Frisian Galician Georgian German Greek Guarani Gujarati Haitian Creole Hausa Hawaiian Hebrew Hindi Hmong Hungarian Icelandic Igbo Ilocano Indonesian Irish Italian Japanese Javanese Kannada Kazakh Khmer Kinyarwanda Konkani Korean Krio Kurdish (Kurmanji) Kurdish (Sorani) Kyrgyz Lao Latin Latvian Lingala Lithuanian Luganda Luxembourgish Macedonian Maithili Malagasy Malay Malayalam Maltese Maori Marathi Meiteilon (Manipuri) Mizo Mongolian Myanmar (Burmese) Nepali Norwegian Odia (Oriya) Oromo Pashto Persian Polish Portuguese Punjabi Quechua Romanian Russian Samoan Sanskrit Scots Gaelic Sepedi Serbian Sesotho Shona Sindhi Sinhala Slovak Slovenian Somali Spanish Sundanese Swahili Swedish Tajik Tamil Tatar Telugu Thai Tigrinya Tsonga Turkish Turkmen Twi Ukrainian Urdu Uyghur Uzbek Vietnamese Welsh Xhosa Yiddish Yoruba Zulu Powered by Translate (https://translate.google.com)     Arrow Left     Arrow Right        Slideshow Left Arrow       Slideshow Right Arrow                Original text Rate this translation Your feedback will be used to help improve Google Translate',\n",
       " 'Loading  Skip to Main Content (#ccf5602c1c-2e20-4773-89f3-08f921ac655f)     [if lte IE 7]><link rel=\"stylesheet\" type=\"text/css\" href=\"/App_Themes/CP/ie7.css\"><![endif]  Allow Dashboard, Favorites Enabled      Header Container                      (/facebook)     (https://twitter.com/cityofrichmond)     (https://www.ci.richmond.ca.us/rss.aspx)          inner column   inner row  outer column       inner column   inner row  outer column       For the button right and inside     Search       inner column   inner row  outer column   outer row       City Government (/2013/City-Government)      Departments (/2014/Departments)      Business (/2016/Business)      Community (/2015/Community)       Banner            Content container       Home (/) Departments (/2014/Departments) Community Development (/101/Community-Development) Planning Division (/2098/Planning-Division) Atlas Road Industrial Building Project     A (#)  A (#)             Atlas Road Industrial Building Project                 Project Contact  Jonelyn Whales, Senior Planner (510) 620-6785  For security reasons, you must enable JavaScript to view this E-mail address.         Project Description   The proposed project is located on a 42.14 acre site at 2995 Atlas Road, at the corner of Atlas and Giant Road.\\xa0The\\xa0project involves construction of a\\xa0 700,000 square foot\\xa0logistics building and associated parking, loading, and landscaping.\\xa0The new building would include 40,000 square feet of office space and 687,820 square feet of warehouse space. \\xa0The height of the building would vary from 40 to 45 feet, and its length\\xa0would be 1,506 feet.\\xa0The site\\xa0previously included two manufacturing\\xa0buildings and one office building\\xa0totaling approximately 593,500 square\\xa0feet. The footprint of the new building would be similar\\xa0as that of the previous structures. A\\xa0 total of 427 vehicle parking spaces and 105 bicycles stalls are proposed for employees. Drive alsles on the site are proposed to be 25 and 30 feet wide\\xa0for the employee parking area and the truck access area. Access to and from the site site would be via an existing access driveway off Atlas Road. No new driveways are proposed.        Project and Related Documents     Notice of Comment Period Extension for the Initial Study and Mitigated Negative Declaration (New End of Comment Period: May 26, 2015) (/DocumentCenter/View/31075)  Notice of Availability and Intent to Adopt a Mitigated Negative Declaration (/DocumentCenter/View/30945)  Initial Study and Mitigated Negative Declaration (/DocumentCenter/View/30924) (End of Public Review: May 11, 2015)  Final Mitigated Negative Declaration and Mitigation and Monitoring Reporting Program (/DocumentCenter/View/34641)            inner column   inner row  outer column   outer row                   Accessory Dwelling Units (ADUs) (/4336/Accessory-Dwelling-Units-ADUs)      Architectural Heritage Guidelines (http://www.ci.richmond.ca.us/DocumentCenter/View/3525)      Boards & Commissions (/2861/Boards-Commissions)       Design Review Board      Historic Preservation Commission       Historic Preservation Awards        Planning Commission        Cannabis Business Information (/3603/Cannabis-Business-Information)      City Fact Sheet (/DocumentView.aspx?DID=8348)      Fees/Forms/Checklists (/2102/FeesFormsChecklists)      Form Based Code (http://www.ci.richmond.ca.us/2965/RLC-FBC)      General Plan 2030 (/2608/General-Plan-2030)      Hilltop Horizon Specific Plan (https://hilltophorizon.com/)      Historical Point Molate Project Information (http://www.ci.richmond.ca.us/270/Point-Molate)      Mapping Services (/3344/Mapping-Services)      Printable Maps (/290)      Project Information (/2860/Project-Information)       Additional Projects      Environmental Documents      General Plan Updates       About - Información acerca del Plan General      Frequently Asked Questions (FAQs) - Preguntas frecuentes      Participate - Participe      Library        Housing Element Update      Housing Policy      Major Projects      Notable Projects      Other Projects      Projects Information      Richmond Resilience Roadmap      Residential Activity Report        Regulatory Documents (/2867/Regulatory-Documents)       Bicycle Master Plan      Pedestrian Plan      Richmond Bay Specific Plan (RBSP)      Urban Greening Plan      Other Plans, Codes & Guidelines        Staff Directory (/2399/Staff-Directory)      Zoning Ordinance (/3379/Zoning-Ordinance)      Senate Bill 9 (SB 9) (/4188/Senate-Bill-9-SB-9)      Brickyard Cove Residential Project (/4349/Brickyard-Cove-Residential-Project)      Raven SR Bioenergy Project (/4365/Raven-SR-Bioenergy-Project)      Travel Safe Richmond (/4486/Travel-Safe-Richmond)           GBs                    (/151)  Agenda Docs   (/151)         (/965/Weekly-Announcements)  Weekly Report   (/965/Weekly-Announcements)         (/4340/KCRT-Media)  KCRT   (/4340/KCRT-Media)            inner column   inner row  outer column                 (/4518/Youth)  Youth   (/4518/Youth)         (/4540/55670/Visit-Richmond)  Visit Richmond   (/4540/55670/Visit-Richmond)         (https://www.transparentrichmond.org/)  City Data   (https://www.transparentrichmond.org/)            inner column   inner row  outer column   outer row    Calendar/Carousel <div data-cpRole=\"structuralContainer\" id=\"homeContainer1\"> <div class=\"siteWrap\"> <div data-cpRole=\"contentContainer\" id=\"homeContent1a\"></div> </div> </div> Footer                              inner column   inner row  outer column       inner column   inner row  outer column         Contact Us         RICHMOND CITY HALL 450 Civic Center Plaza Richmond, CA 94804 Phone Directory (http://www.ci.richmond.ca.us/Directory.aspx)  Directions (http://maps.google.com/maps?q=450+Civic+Center+Plaza,+Richmond+CA&oe=utf-8&rls=org.mozilla:en-US:official&client=firefox-a&um=1&ie=UTF-8&hq=&hnear=450+Civic+Center+Plaza,+Richmond,+CA+94804&gl=us&daddr=450%20Civic%20Center%20Plaza,%20Richmond,%20CA%2094804&ei=uxt0S8_-KoLUNYPuockK&sa=X&oi=geocode_result&ct=directions-to&resnum=1&ved=0CAoQwwUwAA)            inner column   inner row  outer column       inner column   inner row  outer column       Sign Up For E-News          inner column   inner row              (/facebook)     (https://twitter.com/cityofrichmond)     (/instagram)     (https://www.ci.richmond.ca.us/rss.aspx)          inner column   inner row  outer column       inner column   inner row  outer column         Site Links (/QuickLinks.aspx?CID=2,52,5)         Bay Area Legal Aid (http://www.baylegal.org/)     Contra Costa County Courts (http://www.cc-courts.org/)     California Courts (http://www.courts.ca.gov/)     Contra Costa County Bar Association (http://www.cccba.org/community/)     State Bar of California (http://www.calbar.ca.gov/state/calbar/calbar_home.jsp)     City Council Agenda Documents (http://www.ci.richmond.ca.us/index.aspx?NID=151)           /QuickLinks.aspx      inner column   inner row  outer column   outer row    Powered By                Government Websites by CivicPlus® (https://connect.civicplus.com/referral)       inner column   inner row  outer column   outer row           Loading          Content from the Froala Editor will go here. Loading    Do Not Show Again  Close      Powered by Translate (https://translate.google.com)     Arrow Left     Arrow Right        Slideshow Left Arrow       Slideshow Right Arrow                Original text Rate this translation Your feedback will be used to help improve Google Translate',\n",
       " 'Loading  Skip to Main Content (#ccf5602c1c-2e20-4773-89f3-08f921ac655f)     [if lte IE 7]><link rel=\"stylesheet\" type=\"text/css\" href=\"/App_Themes/CP/ie7.css\"><![endif]  Allow Dashboard, Favorites Enabled      Header Container                      (/facebook)     (https://twitter.com/cityofrichmond)     (https://www.ci.richmond.ca.us/rss.aspx)          inner column   inner row  outer column       inner column   inner row  outer column       For the button right and inside     Search       inner column   inner row  outer column   outer row       City Government (/2013/City-Government)      Departments (/2014/Departments)      Business (/2016/Business)      Community (/2015/Community)       Banner            Content container       Home (/) Departments (/2014/Departments) Community Development (/101/Community-Development) Planning Division (/2098/Planning-Division) Richmond Greenway Gap Closure     A (#)  A (#)             Richmond Greenway Gap Closure Project         Staff Contact  Lina Velasco, Planning Manager  lina_velasco@ci.richmond.ca.us (mailto:lina_velasco@ci.richmond.ca.us)   Project Description  The City of Richmond proposes to construct the Richmond-Greenway Gap Closure Project, a multi-use trail connection in Richmond, California. The Richmond-Ohlone Greenway Gap Closure Project represents the third phase of the Richmond Greenway Project, which would provide a continuous bicycle and pedestrian pathway in Richmond from Garrard Boulevard and the Richmond Parkway to San Pablo Avenue. The Richmond Greenway would connect the San Francisco Bay Trail at the west with the Ohlone Greenway in the City of El Cerrito at the east. The proposed project includes installation of the new multi-use trail, a new crosswalk and traffic signal on San Pablo Avenue, and a new bridge over realigned Baxter Creek as well as associated improvements and landscaping.   Environmental Review  An Initial Study/Mitigated Negative Declaration was prepared for this project and is available\\xa0below. The basis for proposing a Mitigated Negative Declaration was the finding that although the proposed project could have a significant effect on the environment, implementation of proposed mitigation measures will reduce all impacts to a less-than-significant level. Written comments on the Draft Mitigated Negative Declaration, via hard copy or electronic mail, must be received on or before 5:00 PM on Monday,\\xa0June 27, 2011 at the following address:  Lina Velasco, Senior Planner City of Richmond Planning Division 450 Civic Center Plaza, Second Floor Richmond, CA 94804    (http://www.ci.richmond.ca.us/DocumentCenter/View/27248) Final Initial Study/Mitigated Negative Declaration  (http://www.ci.richmond.ca.us/DocumentCenter/View/27248)  Notice of Availability of a Draft Mitigated Negative Declaration (http://www.ci.richmond.ca.us/DocumentCenter/View/27248)  (/DocumentView.aspx?DID=7201)  CEQA Initial Study/Mitigated Negative Declaration (/DocumentView.aspx?DID=7201)       inner column   inner row  outer column   outer row                   Accessory Dwelling Units (ADUs) (/4336/Accessory-Dwelling-Units-ADUs)      Architectural Heritage Guidelines (http://www.ci.richmond.ca.us/DocumentCenter/View/3525)      Boards & Commissions (/2861/Boards-Commissions)       Design Review Board      Historic Preservation Commission       Historic Preservation Awards        Planning Commission        Cannabis Business Information (/3603/Cannabis-Business-Information)      City Fact Sheet (/DocumentView.aspx?DID=8348)      Fees/Forms/Checklists (/2102/FeesFormsChecklists)      Form Based Code (http://www.ci.richmond.ca.us/2965/RLC-FBC)      General Plan 2030 (/2608/General-Plan-2030)      Hilltop Horizon Specific Plan (https://hilltophorizon.com/)      Historical Point Molate Project Information (http://www.ci.richmond.ca.us/270/Point-Molate)      Mapping Services (/3344/Mapping-Services)      Printable Maps (/290)      Project Information (/2860/Project-Information)       Additional Projects      Environmental Documents      General Plan Updates       About - Información acerca del Plan General      Frequently Asked Questions (FAQs) - Preguntas frecuentes      Participate - Participe      Library        Housing Element Update      Housing Policy      Major Projects      Notable Projects      Other Projects      Projects Information      Richmond Resilience Roadmap      Residential Activity Report        Regulatory Documents (/2867/Regulatory-Documents)       Bicycle Master Plan      Pedestrian Plan      Richmond Bay Specific Plan (RBSP)      Urban Greening Plan      Other Plans, Codes & Guidelines        Staff Directory (/2399/Staff-Directory)      Zoning Ordinance (/3379/Zoning-Ordinance)      Senate Bill 9 (SB 9) (/4188/Senate-Bill-9-SB-9)      Brickyard Cove Residential Project (/4349/Brickyard-Cove-Residential-Project)      Raven SR Bioenergy Project (/4365/Raven-SR-Bioenergy-Project)      Travel Safe Richmond (/4486/Travel-Safe-Richmond)           GBs                    (/151)  Agenda Docs   (/151)         (/965/Weekly-Announcements)  Weekly Report   (/965/Weekly-Announcements)         (/4340/KCRT-Media)  KCRT   (/4340/KCRT-Media)            inner column   inner row  outer column                 (/4518/Youth)  Youth   (/4518/Youth)         (/4540/55670/Visit-Richmond)  Visit Richmond   (/4540/55670/Visit-Richmond)         (https://www.transparentrichmond.org/)  City Data   (https://www.transparentrichmond.org/)            inner column   inner row  outer column   outer row    Calendar/Carousel <div data-cpRole=\"structuralContainer\" id=\"homeContainer1\"> <div class=\"siteWrap\"> <div data-cpRole=\"contentContainer\" id=\"homeContent1a\"></div> </div> </div> Footer                              inner column   inner row  outer column       inner column   inner row  outer column         Contact Us         RICHMOND CITY HALL 450 Civic Center Plaza Richmond, CA 94804 Phone Directory (http://www.ci.richmond.ca.us/Directory.aspx)  Directions (http://maps.google.com/maps?q=450+Civic+Center+Plaza,+Richmond+CA&oe=utf-8&rls=org.mozilla:en-US:official&client=firefox-a&um=1&ie=UTF-8&hq=&hnear=450+Civic+Center+Plaza,+Richmond,+CA+94804&gl=us&daddr=450%20Civic%20Center%20Plaza,%20Richmond,%20CA%2094804&ei=uxt0S8_-KoLUNYPuockK&sa=X&oi=geocode_result&ct=directions-to&resnum=1&ved=0CAoQwwUwAA)            inner column   inner row  outer column       inner column   inner row  outer column       Sign Up For E-News          inner column   inner row              (/facebook)     (https://twitter.com/cityofrichmond)     (/instagram)     (https://www.ci.richmond.ca.us/rss.aspx)          inner column   inner row  outer column       inner column   inner row  outer column         Site Links (/QuickLinks.aspx?CID=2,52,5)         Bay Area Legal Aid (http://www.baylegal.org/)     Contra Costa County Courts (http://www.cc-courts.org/)     California Courts (http://www.courts.ca.gov/)     Contra Costa County Bar Association (http://www.cccba.org/community/)     State Bar of California (http://www.calbar.ca.gov/state/calbar/calbar_home.jsp)     City Council Agenda Documents (http://www.ci.richmond.ca.us/index.aspx?NID=151)           /QuickLinks.aspx      inner column   inner row  outer column   outer row    Powered By                Government Websites by CivicPlus® (https://connect.civicplus.com/referral)       inner column   inner row  outer column   outer row           Loading          Content from the Froala Editor will go here. Loading    Do Not Show Again  Close      Powered by Translate (https://translate.google.com)     Arrow Left     Arrow Right        Slideshow Left Arrow       Slideshow Right Arrow                Original text Rate this translation Your feedback will be used to help improve Google Translate',\n",
       " 'Loading  Skip to Main Content (#ccf5602c1c-2e20-4773-89f3-08f921ac655f)     [if lte IE 7]><link rel=\"stylesheet\" type=\"text/css\" href=\"/App_Themes/CP/ie7.css\"><![endif]  Allow Dashboard, Favorites Enabled      Header Container                      (/facebook)     (https://twitter.com/cityofrichmond)     (https://www.ci.richmond.ca.us/rss.aspx)          inner column   inner row  outer column       inner column   inner row  outer column       For the button right and inside     Search       inner column   inner row  outer column   outer row       City Government (/2013/City-Government)      Departments (/2014/Departments)      Business (/2016/Business)      Community (/2015/Community)       Banner            Content container       Home (/) Departments (/2014/Departments) Community Development (/101/Community-Development) Planning Division (/2098/Planning-Division) Mathieu Court Alley Play Street     A (#)  A (#)             Mathieu Court Alley Play Street             inner column   inner row  outer column       Project Contact:  Lina Velasco Planning Manager lina_velasco@ci.richmond.ca.us (510) 620-6841  #playeverywhererichmond       inner column   inner row  outer column   outer row        Ribbon Cutting for Mathieu Court Alley Play Street  Please come and join us to celebrate the inauguration of this new Play Street in Richmond.   When? Friday, June 9, 2017 from 11:00 AM to 1:00 PM Where? Mathieu Court Alley, near Barrett Avenue  This project was funded in part by a KaBoom! Play Everywhere Challenge grant. To learn more about the Play Everywhere Challenge, please visit http://kaboom.org/playeverywhere (https://kaboom.org/playability/play_everywhere) . This project is a collaboration between the City of Richmond, Richmond Art Center, The Trust for Public Land, Pogo Park and the Iron Triangle Neighborhood Council. To learn more about the Mathieu Court Alley Play Street Project, contact Lina Velasco (lina_velasco@ci.richmond.ca.us) at the Planning Department.  The Play Everywhere Challenge is hosted by KaBOOM! in collaboration with the Robert Wood Johnson Foundation, Target, Playworld, the U.S. Department of Housing and Urban Development, and the National Endowment for the Arts.     inner column   inner row  outer column   outer row            inner column   inner row  outer column   outer row        Community Design Charrette at Mathieu Court Alley for the Play Everywhere Challenge  Please come and share your ideas on how to turn our recently transformed “green alley” into a Play Street, where kids and families can come and play.   When? Wednesday, October 19, 2016 from 5:00 pm to 6:30 pm  Where? Mathieu Court Alley, at the corner of Barrett Avenue  To learn more about the Play Everywhere Challenge, please visit http://kaboom.org/playeverywhere (https://kaboom.org/playability/play_everywhere) . This project is being done in colaboration with the Richmond Art Center, the Trust for Public Land, and the Iron Triangle Neighborhood Council. To learn more about the Mathieu Court Alley Play Street Project, contact Francisca Penafiel ( francisca_penafiel@ci.richmond.ca.us (mailto:francisca_penafiel@ci.richmond.ca.us) ) or Lina Velasco ( lina_velasco@ci.richmond.ca.us (Mailto:lina_velasco@ci.richmond.ca.us) ) at the Planning Department.  The Play Everywhere Challenge is hosted by KaBOOM! in collaboration with the Robert Wood Johnson Foundation, Target, Playworld, the U.S. Department of Housing and Urban Development, and the National Endowment for the Arts.     inner column   inner row          inner column   inner row  outer column   outer row        Project Description  The City of Richmond (COR), Richmond Art Center (RAC), The Trust for Public Land (TPL), & area residents will partner together to paint interactive games & artwork on a recently transformed \"green alley\" to transform it into a play street where families can have a fun, green, and clean place to play in a underserved and park-deficient neighborhood. The project partners will host a design charrette to develop ideas for the play street, & then work with artists, local non-profits, & volunteers to implement the improvements.  Project partners will select 1-2 Lead Artists with public art & community engagement experience from the RAC\\'s roster of experienced teaching artists. Through RAC\\'s Artists in Schools & Arts in the Community Program, the partners will work with two local elementary schools & youth of the Nevin Community Center to develop and implement portions of the project. In addition to the work done by K-6th grade students in after school programs, the project lead artists will hold 3-4 community work days in which community members & families of student artists can help install the fence art work & complete the asphalt painting.  The improvements contemplated include games painted on the ground, a game that will be displayed as fence art, stepping stones for balancing, blackboards for drawing, boulders for seating, community garden boxes with seating areas & interactive educational signs about the green features of the alley, nutrition, and healthy living. Other improvements include a trash & recycling receptacle, a safety barrier that can be closed when families are playing, & gateway fencing for the play street. The themes of the games will focus on sustainability, nutrition, & healthy living. The games & signage proposed will be in English and Spanish to encourage use of this play street by non-English speaking area residents. Prior to the green alley improvements, this alley was a source of blight for this community. This project will make play a priority in the alley versus vehicle travel and will help create community ownership of the alley to ensure its longevity as a community asset.  The creation of an attractive neighborhood green & play space will reduce the need for vehicle trips to have opportunities for play and to be physically active in a park-deficient neighborhood. It will also encourage and support the use and enjoyment of outdoor space, enhancing the community & promoting public health.   Mathieu Court Alley Play Street Selected as One of the 50 Winners Nationwide in the Play Everywhere Challenge  Earlier this summer, the City of Richmond partnered with the Richmond Art Center, Trust for Public Land, Richmond Love Your Block Initiative, and the Iron Triangle Neighborhood Council to submit a concept to paint interactive games & artwork on Mathieu Court Alley, a recently transformed \"green alley\". The idea is to add opportunities for play where families can have a fun, green, and clean place to play within the alley in this park-deficient neighborhood. In August, this project was selected as a finalist to submit a full grant application and on Tuesday, September 20th, the project was selected as one of the 50 winners, out of the 1000 plus applications submitted nationwide. The project implementation is expected to begin in November, beginning with a design charrette with area schools and residents in October.  To learn more about the Play Everywhere Challenge, and view a gallery of winning ideas from cities across the US, please visit http://kaboom.org/playeverywhere (https://kaboom.org/playability/play_everywhere) . To learn more about the Mathieu Court Alley Play Street Project, contact Francisca Penafiel at francisca_penafiel@ci.richmond.ca.us (mailto:francisca_penafile@ci.richmond.ca.us) or Lina Velasco at lina_velasco@ci.richmond.ca.us (mailto:lina_velasco@ci.richmond.ca.us) . #playeverywhererichmond  The Play Everywhere Challenge is hosted by KaBOOM! in collaboration with the Robert Wood Johnson Foundation, Target, Playworld, the U.S. Department of Housing and Urban Development, and the National Endowment for the Arts.       inner column   inner row  outer column   outer row           Mathieu Court Alley Greening Project   Project Description:  Mathieu Court is a paved alley, 25 feet in width and approximately 640 feet in length. Working with the community to green this 16,000 square foot paved surface will promote a healthy community by reclaiming this space as a usable neighborhood amenity, and help deter undesirable activities that occur there now. Residents and community partners will not only be involved in the designing of the space, but also in the construction activities through part-time employment and volunteer opportunities.     The project will replace 16,000 square feet of impervious paving with landscaped areas, and with pervious pavers and/or turf cell where vehicle access is necessary. Incorporating bioswales and/or rain gardens, and native planting, the project will mimic natural systems that clean and filter stormwater, recharge groundwater, and create habitat for native birds and beneficial insects. It will create a new community green space with tree canopy (possibly fruit or nut trees), community garden opportunities, and landscaped informal seating areas. Community gardens and edible landscape will create a source of fresh produce in a “food desert” neighborhood. Limiting vehicle access will allow for more shared use of the entire space, with opportunities for children to play safely, as well as providing a safe route of travel.    The greening of Mathieu Court will decrease air and water pollution by filtering stormwater, mitigating runoff, and providing tree canopy. The additional tree canopy and landscape area will also reduce heat island effect, mitigating effects of climate change. The existing asphalt paving can be recycled and incorporated into underlying base material for areas of pervious paving, thus limiting consumption of natural resources. Creation of an attractive neighborhood green will reduce the need for vehicle trips to get to an open space in this park-deficient neighborhood. It will also encourage and support the use and enjoyment of outdoor space, enhancing the community and promoting public health.     Project Area:          inner column   inner row  outer column      Project Concept:       inner column   inner row  outer column   outer row                   Accessory Dwelling Units (ADUs) (/4336/Accessory-Dwelling-Units-ADUs)      Architectural Heritage Guidelines (http://www.ci.richmond.ca.us/DocumentCenter/View/3525)      Boards & Commissions (/2861/Boards-Commissions)       Design Review Board      Historic Preservation Commission       Historic Preservation Awards        Planning Commission        Cannabis Business Information (/3603/Cannabis-Business-Information)      City Fact Sheet (/DocumentView.aspx?DID=8348)      Fees/Forms/Checklists (/2102/FeesFormsChecklists)      Form Based Code (http://www.ci.richmond.ca.us/2965/RLC-FBC)      General Plan 2030 (/2608/General-Plan-2030)      Hilltop Horizon Specific Plan (https://hilltophorizon.com/)      Historical Point Molate Project Information (http://www.ci.richmond.ca.us/270/Point-Molate)      Mapping Services (/3344/Mapping-Services)      Printable Maps (/290)      Project Information (/2860/Project-Information)       Additional Projects      Environmental Documents      General Plan Updates       About - Información acerca del Plan General      Frequently Asked Questions (FAQs) - Preguntas frecuentes      Participate - Participe      Library        Housing Element Update      Housing Policy      Major Projects      Notable Projects      Other Projects      Projects Information      Richmond Resilience Roadmap      Residential Activity Report        Regulatory Documents (/2867/Regulatory-Documents)       Bicycle Master Plan      Pedestrian Plan      Richmond Bay Specific Plan (RBSP)      Urban Greening Plan      Other Plans, Codes & Guidelines        Staff Directory (/2399/Staff-Directory)      Zoning Ordinance (/3379/Zoning-Ordinance)      Senate Bill 9 (SB 9) (/4188/Senate-Bill-9-SB-9)      Brickyard Cove Residential Project (/4349/Brickyard-Cove-Residential-Project)      Raven SR Bioenergy Project (/4365/Raven-SR-Bioenergy-Project)      Travel Safe Richmond (/4486/Travel-Safe-Richmond)           GBs                    (/151)  Agenda Docs   (/151)         (/965/Weekly-Announcements)  Weekly Report   (/965/Weekly-Announcements)         (/4340/KCRT-Media)  KCRT   (/4340/KCRT-Media)            inner column   inner row  outer column                 (/4518/Youth)  Youth   (/4518/Youth)         (/4540/55670/Visit-Richmond)  Visit Richmond   (/4540/55670/Visit-Richmond)         (https://www.transparentrichmond.org/)  City Data   (https://www.transparentrichmond.org/)            inner column   inner row  outer column   outer row    Calendar/Carousel <div data-cpRole=\"structuralContainer\" id=\"homeContainer1\"> <div class=\"siteWrap\"> <div data-cpRole=\"contentContainer\" id=\"homeContent1a\"></div> </div> </div> Footer                              inner column   inner row  outer column       inner column   inner row  outer column         Contact Us         RICHMOND CITY HALL 450 Civic Center Plaza Richmond, CA 94804 Phone Directory (http://www.ci.richmond.ca.us/Directory.aspx)  Directions (http://maps.google.com/maps?q=450+Civic+Center+Plaza,+Richmond+CA&oe=utf-8&rls=org.mozilla:en-US:official&client=firefox-a&um=1&ie=UTF-8&hq=&hnear=450+Civic+Center+Plaza,+Richmond,+CA+94804&gl=us&daddr=450%20Civic%20Center%20Plaza,%20Richmond,%20CA%2094804&ei=uxt0S8_-KoLUNYPuockK&sa=X&oi=geocode_result&ct=directions-to&resnum=1&ved=0CAoQwwUwAA)            inner column   inner row  outer column       inner column   inner row  outer column       Sign Up For E-News          inner column   inner row              (/facebook)     (https://twitter.com/cityofrichmond)     (/instagram)     (https://www.ci.richmond.ca.us/rss.aspx)          inner column   inner row  outer column       inner column   inner row  outer column         Site Links (/QuickLinks.aspx?CID=2,52,5)         Bay Area Legal Aid (http://www.baylegal.org/)     Contra Costa County Courts (http://www.cc-courts.org/)     California Courts (http://www.courts.ca.gov/)     Contra Costa County Bar Association (http://www.cccba.org/community/)     State Bar of California (http://www.calbar.ca.gov/state/calbar/calbar_home.jsp)     City Council Agenda Documents (http://www.ci.richmond.ca.us/index.aspx?NID=151)           /QuickLinks.aspx      inner column   inner row  outer column   outer row    Powered By                Government Websites by CivicPlus® (https://connect.civicplus.com/referral)       inner column   inner row  outer column   outer row           Loading          Content from the Froala Editor will go here. Loading    Do Not Show Again  Close      Select Language Afrikaans Albanian Amharic Arabic Armenian Assamese Aymara Azerbaijani Bambara Basque Belarusian Bengali Bhojpuri Bosnian Bulgarian Catalan Cebuano Chichewa Chinese (Simplified) Chinese (Traditional) Corsican Croatian Czech Danish Dhivehi Dogri Dutch Esperanto Estonian Ewe Filipino Finnish French Frisian Galician Georgian German Greek Guarani Gujarati Haitian Creole Hausa Hawaiian Hebrew Hindi Hmong Hungarian Icelandic Igbo Ilocano Indonesian Irish Italian Japanese Javanese Kannada Kazakh Khmer Kinyarwanda Konkani Korean Krio Kurdish (Kurmanji) Kurdish (Sorani) Kyrgyz Lao Latin Latvian Lingala Lithuanian Luganda Luxembourgish Macedonian Maithili Malagasy Malay Malayalam Maltese Maori Marathi Meiteilon (Manipuri) Mizo Mongolian Myanmar (Burmese) Nepali Norwegian Odia (Oriya) Oromo Pashto Persian Polish Portuguese Punjabi Quechua Romanian Russian Samoan Sanskrit Scots Gaelic Sepedi Serbian Sesotho Shona Sindhi Sinhala Slovak Slovenian Somali Spanish Sundanese Swahili Swedish Tajik Tamil Tatar Telugu Thai Tigrinya Tsonga Turkish Turkmen Twi Ukrainian Urdu Uyghur Uzbek Vietnamese Welsh Xhosa Yiddish Yoruba Zulu Powered by Translate (https://translate.google.com)     Arrow Left     Arrow Right        Slideshow Left Arrow       Slideshow Right Arrow                Original text Rate this translation Your feedback will be used to help improve Google Translate',\n",
       " 'Loading  Skip to Main Content (#ccf5602c1c-2e20-4773-89f3-08f921ac655f)     [if lte IE 7]><link rel=\"stylesheet\" type=\"text/css\" href=\"/App_Themes/CP/ie7.css\"><![endif]  Allow Dashboard, Favorites Enabled      Header Container                      (/facebook)     (https://twitter.com/cityofrichmond)     (https://www.ci.richmond.ca.us/rss.aspx)          inner column   inner row  outer column       inner column   inner row  outer column       For the button right and inside     Search       inner column   inner row  outer column   outer row       City Government (/2013/City-Government)      Departments (/2014/Departments)      Business (/2016/Business)      Community (/2015/Community)       Banner            Content container       Home (/) Departments (/2014/Departments) Community Development (/101/Community-Development) Planning Division (/2098/Planning-Division) The Point Richmond Residential Project     A (#)  A (#)             The Point Richmond Residential Project             inner column   inner row  outer column        Project Contact  Hector Lopez, Senior Planner  (510) 620-6702     inner column   inner row  outer column   outer row        Project Description  The proposed project would develop a total of 27 for-rent residential units on the site, including 12 one-bedroom and 15 two-bedroom flats/townhome units within three separate buildings. Approximately 1,065 square feet of ground floor commercial space would be included in one of the buildings. Building heights would range between two and three stories and would not exceed 34 feet. The proposed project would include a total of 19,256 square feet of useable open space (or 48 percent of the site). The proposed project would include a new access driveway through the existing Mechanics Bank parking lot. The new driveway would provide access to a new approximately 8,871-square-foot surface parking lot that would include on-site parking for 30 vehicles within the project site.     Project and Related Documents       Notice of Availability and Intent to Adopt Mitigated Negative Declaration (/DocumentCenter/View/35728)  Initial Study and Mitigated Negative Declaration (/DocumentCenter/View/35727) (End of Public Review: October 7, 2015)                inner column   inner row  outer column   outer row                   Accessory Dwelling Units (ADUs) (/4336/Accessory-Dwelling-Units-ADUs)      Architectural Heritage Guidelines (http://www.ci.richmond.ca.us/DocumentCenter/View/3525)      Boards & Commissions (/2861/Boards-Commissions)       Design Review Board      Historic Preservation Commission       Historic Preservation Awards        Planning Commission        Cannabis Business Information (/3603/Cannabis-Business-Information)      City Fact Sheet (/DocumentView.aspx?DID=8348)      Fees/Forms/Checklists (/2102/FeesFormsChecklists)      Form Based Code (http://www.ci.richmond.ca.us/2965/RLC-FBC)      General Plan 2030 (/2608/General-Plan-2030)      Hilltop Horizon Specific Plan (https://hilltophorizon.com/)      Historical Point Molate Project Information (http://www.ci.richmond.ca.us/270/Point-Molate)      Mapping Services (/3344/Mapping-Services)      Printable Maps (/290)      Project Information (/2860/Project-Information)       Additional Projects      Environmental Documents      General Plan Updates       About - Información acerca del Plan General      Frequently Asked Questions (FAQs) - Preguntas frecuentes      Participate - Participe      Library        Housing Element Update      Housing Policy      Major Projects      Notable Projects      Other Projects      Projects Information      Richmond Resilience Roadmap      Residential Activity Report        Regulatory Documents (/2867/Regulatory-Documents)       Bicycle Master Plan      Pedestrian Plan      Richmond Bay Specific Plan (RBSP)      Urban Greening Plan      Other Plans, Codes & Guidelines        Staff Directory (/2399/Staff-Directory)      Zoning Ordinance (/3379/Zoning-Ordinance)      Senate Bill 9 (SB 9) (/4188/Senate-Bill-9-SB-9)      Brickyard Cove Residential Project (/4349/Brickyard-Cove-Residential-Project)      Raven SR Bioenergy Project (/4365/Raven-SR-Bioenergy-Project)      Travel Safe Richmond (/4486/Travel-Safe-Richmond)           GBs                    (/151)  Agenda Docs   (/151)         (/965/Weekly-Announcements)  Weekly Report   (/965/Weekly-Announcements)         (/4340/KCRT-Media)  KCRT   (/4340/KCRT-Media)            inner column   inner row  outer column                 (/4518/Youth)  Youth   (/4518/Youth)         (/4540/55670/Visit-Richmond)  Visit Richmond   (/4540/55670/Visit-Richmond)         (https://www.transparentrichmond.org/)  City Data   (https://www.transparentrichmond.org/)            inner column   inner row  outer column   outer row    Calendar/Carousel <div data-cpRole=\"structuralContainer\" id=\"homeContainer1\"> <div class=\"siteWrap\"> <div data-cpRole=\"contentContainer\" id=\"homeContent1a\"></div> </div> </div> Footer                              inner column   inner row  outer column       inner column   inner row  outer column         Contact Us         RICHMOND CITY HALL 450 Civic Center Plaza Richmond, CA 94804 Phone Directory (http://www.ci.richmond.ca.us/Directory.aspx)  Directions (http://maps.google.com/maps?q=450+Civic+Center+Plaza,+Richmond+CA&oe=utf-8&rls=org.mozilla:en-US:official&client=firefox-a&um=1&ie=UTF-8&hq=&hnear=450+Civic+Center+Plaza,+Richmond,+CA+94804&gl=us&daddr=450%20Civic%20Center%20Plaza,%20Richmond,%20CA%2094804&ei=uxt0S8_-KoLUNYPuockK&sa=X&oi=geocode_result&ct=directions-to&resnum=1&ved=0CAoQwwUwAA)            inner column   inner row  outer column       inner column   inner row  outer column       Sign Up For E-News          inner column   inner row              (/facebook)     (https://twitter.com/cityofrichmond)     (/instagram)     (https://www.ci.richmond.ca.us/rss.aspx)          inner column   inner row  outer column       inner column   inner row  outer column         Site Links (/QuickLinks.aspx?CID=2,52,5)         Bay Area Legal Aid (http://www.baylegal.org/)     Contra Costa County Courts (http://www.cc-courts.org/)     California Courts (http://www.courts.ca.gov/)     Contra Costa County Bar Association (http://www.cccba.org/community/)     State Bar of California (http://www.calbar.ca.gov/state/calbar/calbar_home.jsp)     City Council Agenda Documents (http://www.ci.richmond.ca.us/index.aspx?NID=151)           /QuickLinks.aspx      inner column   inner row  outer column   outer row    Powered By                Government Websites by CivicPlus® (https://connect.civicplus.com/referral)       inner column   inner row  outer column   outer row           Loading          Content from the Froala Editor will go here. Loading    Do Not Show Again  Close      Powered by Translate (https://translate.google.com)     Arrow Left     Arrow Right        Slideshow Left Arrow       Slideshow Right Arrow                Original text Rate this translation Your feedback will be used to help improve Google Translate',\n",
       " 'Loading  Skip to Main Content (#ccf5602c1c-2e20-4773-89f3-08f921ac655f)     [if lte IE 7]><link rel=\"stylesheet\" type=\"text/css\" href=\"/App_Themes/CP/ie7.css\"><![endif]  Allow Dashboard, Favorites Enabled      Header Container                      (/facebook)     (https://twitter.com/cityofrichmond)     (https://www.ci.richmond.ca.us/rss.aspx)          inner column   inner row  outer column       inner column   inner row  outer column       For the button right and inside     Search       inner column   inner row  outer column   outer row       City Government (/2013/City-Government)      Departments (/2014/Departments)      Business (/2016/Business)      Community (/2015/Community)       Banner            Content container       Home (/) Departments (/2014/Departments) Community Development (/101/Community-Development) Planning Division (/2098/Planning-Division) Wet Weather Storage     A (#)  A (#)             Richmond Wet Weather Storage Project         Project Contact Chad Davisson, Wastewater/Stormwater Manager, General Manager RMSD (510) 620-5486  chad_davisson@ci.richmond.ca.us (mailto:chad_davisson@ci.richmond.ca.us)   Project Description In compliance with the 2006 settlement agreement between the City of Richmond, Veolia, and San Francisco Baykeeper, the City of Richmond proposes to construct improvements to its sewer collection system to reduce wet weather overflows from two engineered overflow structures, known as Boat Ramp and Harbour & Wright. The proposed improvements include construction of a new diversion box, pump station, pipeline, and an above ground, circular, pre-stressed concrete tank with storage volume of approximately 5 million gallons. The tank will be approximately 150 feet in diameter and approximately 53 feet tall. Water Pollution Control Plant effluent will be used to supply water to the wash down system used to clean the tank. The tank will be covered to contain odors. The project site is located at 601 Canal Boulevard in the City of Richmond.   Project and Related Documents   Draft Mitigated Negative Declaration (/DocumentCenter/View/27719) (Draft MND)  Final Draft Mitigated Negative Declaration (/DocumentCenter/View/28131) (includes responses to comments on the Draft MND)  Notice of Determination (/DocumentCenter/View/28625)      inner column   inner row  outer column   outer row                   Accessory Dwelling Units (ADUs) (/4336/Accessory-Dwelling-Units-ADUs)      Architectural Heritage Guidelines (http://www.ci.richmond.ca.us/DocumentCenter/View/3525)      Boards & Commissions (/2861/Boards-Commissions)       Design Review Board      Historic Preservation Commission       Historic Preservation Awards        Planning Commission        Cannabis Business Information (/3603/Cannabis-Business-Information)      City Fact Sheet (/DocumentView.aspx?DID=8348)      Fees/Forms/Checklists (/2102/FeesFormsChecklists)      Form Based Code (http://www.ci.richmond.ca.us/2965/RLC-FBC)      General Plan 2030 (/2608/General-Plan-2030)      Hilltop Horizon Specific Plan (https://hilltophorizon.com/)      Historical Point Molate Project Information (http://www.ci.richmond.ca.us/270/Point-Molate)      Mapping Services (/3344/Mapping-Services)      Printable Maps (/290)      Project Information (/2860/Project-Information)       Additional Projects      Environmental Documents      General Plan Updates       About - Información acerca del Plan General      Frequently Asked Questions (FAQs) - Preguntas frecuentes      Participate - Participe      Library        Housing Element Update      Housing Policy      Major Projects      Notable Projects      Other Projects      Projects Information      Richmond Resilience Roadmap      Residential Activity Report        Regulatory Documents (/2867/Regulatory-Documents)       Bicycle Master Plan      Pedestrian Plan      Richmond Bay Specific Plan (RBSP)      Urban Greening Plan      Other Plans, Codes & Guidelines        Staff Directory (/2399/Staff-Directory)      Zoning Ordinance (/3379/Zoning-Ordinance)      Senate Bill 9 (SB 9) (/4188/Senate-Bill-9-SB-9)      Brickyard Cove Residential Project (/4349/Brickyard-Cove-Residential-Project)      Raven SR Bioenergy Project (/4365/Raven-SR-Bioenergy-Project)      Travel Safe Richmond (/4486/Travel-Safe-Richmond)           GBs                    (/151)  Agenda Docs   (/151)         (/965/Weekly-Announcements)  Weekly Report   (/965/Weekly-Announcements)         (/4340/KCRT-Media)  KCRT   (/4340/KCRT-Media)            inner column   inner row  outer column                 (/4518/Youth)  Youth   (/4518/Youth)         (/4540/55670/Visit-Richmond)  Visit Richmond   (/4540/55670/Visit-Richmond)         (https://www.transparentrichmond.org/)  City Data   (https://www.transparentrichmond.org/)            inner column   inner row  outer column   outer row    Calendar/Carousel <div data-cpRole=\"structuralContainer\" id=\"homeContainer1\"> <div class=\"siteWrap\"> <div data-cpRole=\"contentContainer\" id=\"homeContent1a\"></div> </div> </div> Footer                              inner column   inner row  outer column       inner column   inner row  outer column         Contact Us         RICHMOND CITY HALL 450 Civic Center Plaza Richmond, CA 94804 Phone Directory (http://www.ci.richmond.ca.us/Directory.aspx)  Directions (http://maps.google.com/maps?q=450+Civic+Center+Plaza,+Richmond+CA&oe=utf-8&rls=org.mozilla:en-US:official&client=firefox-a&um=1&ie=UTF-8&hq=&hnear=450+Civic+Center+Plaza,+Richmond,+CA+94804&gl=us&daddr=450%20Civic%20Center%20Plaza,%20Richmond,%20CA%2094804&ei=uxt0S8_-KoLUNYPuockK&sa=X&oi=geocode_result&ct=directions-to&resnum=1&ved=0CAoQwwUwAA)            inner column   inner row  outer column       inner column   inner row  outer column       Sign Up For E-News          inner column   inner row              (/facebook)     (https://twitter.com/cityofrichmond)     (/instagram)     (https://www.ci.richmond.ca.us/rss.aspx)          inner column   inner row  outer column       inner column   inner row  outer column         Site Links (/QuickLinks.aspx?CID=2,52,5)         Bay Area Legal Aid (http://www.baylegal.org/)     Contra Costa County Courts (http://www.cc-courts.org/)     California Courts (http://www.courts.ca.gov/)     Contra Costa County Bar Association (http://www.cccba.org/community/)     State Bar of California (http://www.calbar.ca.gov/state/calbar/calbar_home.jsp)     City Council Agenda Documents (http://www.ci.richmond.ca.us/index.aspx?NID=151)           /QuickLinks.aspx      inner column   inner row  outer column   outer row    Powered By                Government Websites by CivicPlus® (https://connect.civicplus.com/referral)       inner column   inner row  outer column   outer row           Loading          Content from the Froala Editor will go here. Loading    Do Not Show Again  Close      Powered by Translate (https://translate.google.com)     Arrow Left     Arrow Right        Slideshow Left Arrow       Slideshow Right Arrow                Original text Rate this translation Your feedback will be used to help improve Google Translate',\n",
       " 'Loading  Skip to Main Content (#ccf5602c1c-2e20-4773-89f3-08f921ac655f)     [if lte IE 7]><link rel=\"stylesheet\" type=\"text/css\" href=\"/App_Themes/CP/ie7.css\"><![endif]  Allow Dashboard, Favorites Enabled      Header Container                      (/facebook)     (https://twitter.com/cityofrichmond)     (https://www.ci.richmond.ca.us/rss.aspx)          inner column   inner row  outer column       inner column   inner row  outer column       For the button right and inside     Search       inner column   inner row  outer column   outer row       City Government (/2013/City-Government)      Departments (/2014/Departments)      Business (/2016/Business)      Community (/2015/Community)       Banner            Content container       Home (/) Departments (/2014/Departments) Community Development (/101/Community-Development) Planning Division (/2098/Planning-Division) Shea Homes     A (#)  A (#)             Shea Homes         Project Contact:  Lina Velasco, Planning Manager (510) 620-6841   Project Description:  Shea Homes is seeking a General Plan Amendment Text Revision for a height exception, Rezone to PA - Planned Area District, Vesting Tentative Map and Design Review Permit to develop 60 units of market-rate condominiums and stacked flats on the Bottoms Property south of Seacliff Estates in the Point Richmond Neighborhood near Sandpiper Spit. The project will be developed within approximately 6.23 acres of the 25.27 acre site, resulting in a density of 9.72 units per net acre. A total of nine (9) buildings will be developed as part of the project and they will be oriented to take advantage of the site\\'s location adjacent to the San Francisco Bay.   Project Concept:     Project Plans: Project Plans - March, 2014 (/DocumentCenter/View/28685) (PDF - 27 MB)   Shea Homes Project Website: Shea Homes has created a website with additional information such as the architectural context, height simulations, visual simulations, floor plans and FAQs about the project.  http://www.bottomsproperty.com/ (http://www.bottomsproperty.com/)   Environmental Review: The City of Richmond is the lead agency and has prepared a Recirculated Draft & Final Environmental Impact Report (FEIR) for the project.   California Environmental (http://www.ci.richmond.ca.us/DocumentCenter/View/27773) Equality Act (CEQA) Process Flowchart (http://www.ci.richmond.ca.us/DocumentCenter/View/27773)  Notice of Completion and Availability (NOC/NOA) (/DocumentCenter/View/29305)  Volume I: Recirculated Draft\\xa0Environmental\\xa0Impact Report (/DocumentCenter/View/29341) (PDF - 20MB)  Volume II: Recirculated Draft\\xa0Environmental\\xa0Impact Report Appendices (/DocumentCenter/View/29340) (PDF - 62MB)  Final Environmental Impact Report with Responses to Comments (FEIR) (PDF - 8MB) (/DocumentCenter/View/30011)  Mitigation Monitoring & Reporting Program (MMRP) (/DocumentCenter/View/30019)  Environmental Review: The City of Richmond is the lead agency and has prepared a Draft Environmental Impact Report (EIR) for the project that has been superceded by the RDEIR posted above.   Notice of Preparation and complete project description (http://www.ci.richmond.ca.us/DocumentCenter/View/27750) (NOP)  Notice of Availability (NOA) (/DocumentCenter/View/28628)  Volume I: Draft\\xa0Environmental\\xa0Impact Report (/DocumentCenter/View/28668) (PDF - 6MB)  Volume II: Draft\\xa0Environmental\\xa0Impact Report Appendices (/DocumentCenter/View/28630) (PDF - 30MB)   Previous Public Meetings: The City of Richmond held several public meetings for review of the project.  City Council Meeting for request of final approval of the PA Rezoning - (Result - PA Rezoning Second Reading Approved)  January 5, 2015  440 Civic Center Plaza, Community Services Building  Council Chambers  Richmond, CA 94804  Staff Report (http://sireweb.ci.richmond.ca.us/sirepub/meet.aspx)   City Council Meeting for request of final certification, adoption and approval - (Result - EIR Certified and Project Approved)  December 16, 2014  440 Civic Center Plaza, Community Services Building  Council Chambers  Richmond, CA 94804  Staff Report (http://sireweb.ci.richmond.ca.us/sirepub/meet.aspx)    City Council Meeting for request of final certification, adoption and approval - (Result - Item continued to December 16, 2014)  December 2, 2014  440 Civic Center Plaza, Community Services Building  Council Chambers  Richmond, CA 94804  Staff Report (http://sireweb.ci.richmond.ca.us/sirepub/meet.aspx)    Planning Commission meeting - (Result - 3 to 2 recommendation for Approval of the EIR and project\\xa0entitlements\\xa0to the City Council. *Note, refer to Gov\\'t Code Section 65354 for clarification of General Plan\\xa0Amendment\\xa0voting procedures)  November 13, 2014 at 7:30 pm  440 Civic Center Plaza, Community Services Building  Council Chambers  Richmond, CA 94804  Staff Report (/DocumentCenter/View/30140)   Planning Commission meeting \\xa0- (Result - Public comments on the Draft EIR and study session for the project) Thursday, May 8, 2014 at 6:30 pm 440 Civic Center Plaza, Community Services Building Council Chambers Richmond, CA 94804  Design Review Board Meeting - (Result - Unanimous\\xa0recommendation\\xa0for Approval to the Planing  Commission)  Wednesday, April 30, 2014 at 6:00 pm  440 Civic Center Plaza, Community Services Building  Council Chambers  Richmond, CA 94804   Design Review Board Meeting - (Result - Item continued to April 30, 2014)  Wednesday, April 9, 2014 at 6:00 pm  440 Civic Center Plaza, Community Services Building  Multipurpose Room (Basement Level)  Richmond, CA 94804  Staff Report (/DocumentCenter/View/30141)  Design Review Board Study Session - (Result - Comments received) Wednesday, November 13, 2013 at 6:00 pm 440 Civic Center Plaza, Community Services Building Multipurpose Room (Basement Level) Richmond, CA 94804  EIR Public Scoping Meeting Tuesday, October 29, 2013 5:30 pm - 7:00 pm 1160 Brickyard Cove Road, Suite 202 Richmond, CA 94801                        inner column   inner row  outer column   outer row                   Accessory Dwelling Units (ADUs) (/4336/Accessory-Dwelling-Units-ADUs)      Architectural Heritage Guidelines (http://www.ci.richmond.ca.us/DocumentCenter/View/3525)      Boards & Commissions (/2861/Boards-Commissions)       Design Review Board      Historic Preservation Commission       Historic Preservation Awards        Planning Commission        Cannabis Business Information (/3603/Cannabis-Business-Information)      City Fact Sheet (/DocumentView.aspx?DID=8348)      Fees/Forms/Checklists (/2102/FeesFormsChecklists)      Form Based Code (http://www.ci.richmond.ca.us/2965/RLC-FBC)      General Plan 2030 (/2608/General-Plan-2030)      Hilltop Horizon Specific Plan (https://hilltophorizon.com/)      Historical Point Molate Project Information (http://www.ci.richmond.ca.us/270/Point-Molate)      Mapping Services (/3344/Mapping-Services)      Printable Maps (/290)      Project Information (/2860/Project-Information)       Additional Projects      Environmental Documents      General Plan Updates       About - Información acerca del Plan General      Frequently Asked Questions (FAQs) - Preguntas frecuentes      Participate - Participe      Library        Housing Element Update      Housing Policy      Major Projects      Notable Projects      Other Projects      Projects Information      Richmond Resilience Roadmap      Residential Activity Report        Regulatory Documents (/2867/Regulatory-Documents)       Bicycle Master Plan      Pedestrian Plan      Richmond Bay Specific Plan (RBSP)      Urban Greening Plan      Other Plans, Codes & Guidelines        Staff Directory (/2399/Staff-Directory)      Zoning Ordinance (/3379/Zoning-Ordinance)      Senate Bill 9 (SB 9) (/4188/Senate-Bill-9-SB-9)      Brickyard Cove Residential Project (/4349/Brickyard-Cove-Residential-Project)      Raven SR Bioenergy Project (/4365/Raven-SR-Bioenergy-Project)      Travel Safe Richmond (/4486/Travel-Safe-Richmond)           GBs                    (/151)  Agenda Docs   (/151)         (/965/Weekly-Announcements)  Weekly Report   (/965/Weekly-Announcements)         (/4340/KCRT-Media)  KCRT   (/4340/KCRT-Media)            inner column   inner row  outer column                 (/4518/Youth)  Youth   (/4518/Youth)         (/4540/55670/Visit-Richmond)  Visit Richmond   (/4540/55670/Visit-Richmond)         (https://www.transparentrichmond.org/)  City Data   (https://www.transparentrichmond.org/)            inner column   inner row  outer column   outer row    Calendar/Carousel <div data-cpRole=\"structuralContainer\" id=\"homeContainer1\"> <div class=\"siteWrap\"> <div data-cpRole=\"contentContainer\" id=\"homeContent1a\"></div> </div> </div> Footer                              inner column   inner row  outer column       inner column   inner row  outer column         Contact Us         RICHMOND CITY HALL 450 Civic Center Plaza Richmond, CA 94804 Phone Directory (http://www.ci.richmond.ca.us/Directory.aspx)  Directions (http://maps.google.com/maps?q=450+Civic+Center+Plaza,+Richmond+CA&oe=utf-8&rls=org.mozilla:en-US:official&client=firefox-a&um=1&ie=UTF-8&hq=&hnear=450+Civic+Center+Plaza,+Richmond,+CA+94804&gl=us&daddr=450%20Civic%20Center%20Plaza,%20Richmond,%20CA%2094804&ei=uxt0S8_-KoLUNYPuockK&sa=X&oi=geocode_result&ct=directions-to&resnum=1&ved=0CAoQwwUwAA)            inner column   inner row  outer column       inner column   inner row  outer column       Sign Up For E-News          inner column   inner row              (/facebook)     (https://twitter.com/cityofrichmond)     (/instagram)     (https://www.ci.richmond.ca.us/rss.aspx)          inner column   inner row  outer column       inner column   inner row  outer column         Site Links (/QuickLinks.aspx?CID=2,52,5)         Bay Area Legal Aid (http://www.baylegal.org/)     Contra Costa County Courts (http://www.cc-courts.org/)     California Courts (http://www.courts.ca.gov/)     Contra Costa County Bar Association (http://www.cccba.org/community/)     State Bar of California (http://www.calbar.ca.gov/state/calbar/calbar_home.jsp)     City Council Agenda Documents (http://www.ci.richmond.ca.us/index.aspx?NID=151)           /QuickLinks.aspx      inner column   inner row  outer column   outer row    Powered By                Government Websites by CivicPlus® (https://connect.civicplus.com/referral)       inner column   inner row  outer column   outer row           Loading          Content from the Froala Editor will go here. Loading    Do Not Show Again  Close      Powered by Translate (https://translate.google.com)     Arrow Left     Arrow Right        Slideshow Left Arrow       Slideshow Right Arrow                Original text Rate this translation Your feedback will be used to help improve Google Translate',\n",
       " 'Loading  Skip to Main Content (#ccf5602c1c-2e20-4773-89f3-08f921ac655f)     [if lte IE 7]><link rel=\"stylesheet\" type=\"text/css\" href=\"/App_Themes/CP/ie7.css\"><![endif]  Allow Dashboard, Favorites Enabled      Header Container                      (/facebook)     (https://twitter.com/cityofrichmond)     (https://www.ci.richmond.ca.us/rss.aspx)          inner column   inner row  outer column       inner column   inner row  outer column       For the button right and inside     Search       inner column   inner row  outer column   outer row       City Government (/2013/City-Government)      Departments (/2014/Departments)      Business (/2016/Business)      Community (/2015/Community)       Banner            Content container       Home (/) Departments (/2014/Departments) Community Development (/101/Community-Development) Planning Division (/2098/Planning-Division) Nevin Homes     A (#)  A (#)             Nevin Homes Residential Project                 Project Contact Jonelyn Whales, Senior Planner (510) 620-6785  For security reasons, you must enable JavaScript to view this E-mail address.         Project Description    The project site consists of two adjacent parcels separated by 22nd Street (\"Site A\" and \"Site B\") on the south side of Nevin Avenue between 21st and 23rd streets in Central Richmond. AMG & Associates, LLC proposes to demolish the existing parking lot at Site A and vacant office building at Site B, and construct a six-story, 67-foot-high, 289-unit apartment complex, consisting of two buildings, each with on grade parking, an interior courtyard on the second floor, and a community room with exercise room. Both buildings would be 67 feet and six stories in height. The project would develop 112 studios, 84 one-bedroom, 53 two-bedroom, 30 three-bedroom, and 10 four-bedroom units. The building at Site A would have 84,510 square feet of residential area, and the building at Site B would have 88,010 square feet, for a project total of 172,520 square feet of residential space. The project (both buildings) would have a total floor area of approximately 350,000 square feet, including residential space, common spaces, and parking.         Project and Related Documents     Notice of Availability and Intent to Adopt a Final Mitigated Negative Declaration (/DocumentCenter/View/30690)  Final Initial Study and Mitigated Negative Declaration (/DocumentCenter/View/30689)  Notice of Availability and Intent to Adopt a Mitigated Negative Declaration (http://www.ci.richmond.ca.us/DocumentCenter/View/29634)  Initial Study and Mitigated Negative Declaration (http://www.ci.richmond.ca.us/DocumentCenter/View/29635)  Notice of Comment Period Extension for the Initial Study and Mitigated Negative Declaration (/DocumentCenter/View/29786) (New End of Comment Period: November 10, 2014)            inner column   inner row  outer column   outer row                   Accessory Dwelling Units (ADUs) (/4336/Accessory-Dwelling-Units-ADUs)      Architectural Heritage Guidelines (http://www.ci.richmond.ca.us/DocumentCenter/View/3525)      Boards & Commissions (/2861/Boards-Commissions)       Design Review Board      Historic Preservation Commission       Historic Preservation Awards        Planning Commission        Cannabis Business Information (/3603/Cannabis-Business-Information)      City Fact Sheet (/DocumentView.aspx?DID=8348)      Fees/Forms/Checklists (/2102/FeesFormsChecklists)      Form Based Code (http://www.ci.richmond.ca.us/2965/RLC-FBC)      General Plan 2030 (/2608/General-Plan-2030)      Hilltop Horizon Specific Plan (https://hilltophorizon.com/)      Historical Point Molate Project Information (http://www.ci.richmond.ca.us/270/Point-Molate)      Mapping Services (/3344/Mapping-Services)      Printable Maps (/290)      Project Information (/2860/Project-Information)       Additional Projects      Environmental Documents      General Plan Updates       About - Información acerca del Plan General      Frequently Asked Questions (FAQs) - Preguntas frecuentes      Participate - Participe      Library        Housing Element Update      Housing Policy      Major Projects      Notable Projects      Other Projects      Projects Information      Richmond Resilience Roadmap      Residential Activity Report        Regulatory Documents (/2867/Regulatory-Documents)       Bicycle Master Plan      Pedestrian Plan      Richmond Bay Specific Plan (RBSP)      Urban Greening Plan      Other Plans, Codes & Guidelines        Staff Directory (/2399/Staff-Directory)      Zoning Ordinance (/3379/Zoning-Ordinance)      Senate Bill 9 (SB 9) (/4188/Senate-Bill-9-SB-9)      Brickyard Cove Residential Project (/4349/Brickyard-Cove-Residential-Project)      Raven SR Bioenergy Project (/4365/Raven-SR-Bioenergy-Project)      Travel Safe Richmond (/4486/Travel-Safe-Richmond)           GBs                    (/151)  Agenda Docs   (/151)         (/965/Weekly-Announcements)  Weekly Report   (/965/Weekly-Announcements)         (/4340/KCRT-Media)  KCRT   (/4340/KCRT-Media)            inner column   inner row  outer column                 (/4518/Youth)  Youth   (/4518/Youth)         (/4540/55670/Visit-Richmond)  Visit Richmond   (/4540/55670/Visit-Richmond)         (https://www.transparentrichmond.org/)  City Data   (https://www.transparentrichmond.org/)            inner column   inner row  outer column   outer row    Calendar/Carousel <div data-cpRole=\"structuralContainer\" id=\"homeContainer1\"> <div class=\"siteWrap\"> <div data-cpRole=\"contentContainer\" id=\"homeContent1a\"></div> </div> </div> Footer                              inner column   inner row  outer column       inner column   inner row  outer column         Contact Us         RICHMOND CITY HALL 450 Civic Center Plaza Richmond, CA 94804 Phone Directory (http://www.ci.richmond.ca.us/Directory.aspx)  Directions (http://maps.google.com/maps?q=450+Civic+Center+Plaza,+Richmond+CA&oe=utf-8&rls=org.mozilla:en-US:official&client=firefox-a&um=1&ie=UTF-8&hq=&hnear=450+Civic+Center+Plaza,+Richmond,+CA+94804&gl=us&daddr=450%20Civic%20Center%20Plaza,%20Richmond,%20CA%2094804&ei=uxt0S8_-KoLUNYPuockK&sa=X&oi=geocode_result&ct=directions-to&resnum=1&ved=0CAoQwwUwAA)            inner column   inner row  outer column       inner column   inner row  outer column       Sign Up For E-News          inner column   inner row              (/facebook)     (https://twitter.com/cityofrichmond)     (/instagram)     (https://www.ci.richmond.ca.us/rss.aspx)          inner column   inner row  outer column       inner column   inner row  outer column         Site Links (/QuickLinks.aspx?CID=2,52,5)         Bay Area Legal Aid (http://www.baylegal.org/)     Contra Costa County Courts (http://www.cc-courts.org/)     California Courts (http://www.courts.ca.gov/)     Contra Costa County Bar Association (http://www.cccba.org/community/)     State Bar of California (http://www.calbar.ca.gov/state/calbar/calbar_home.jsp)     City Council Agenda Documents (http://www.ci.richmond.ca.us/index.aspx?NID=151)           /QuickLinks.aspx      inner column   inner row  outer column   outer row    Powered By                Government Websites by CivicPlus® (https://connect.civicplus.com/referral)       inner column   inner row  outer column   outer row           Loading          Content from the Froala Editor will go here. Loading    Do Not Show Again  Close      Powered by Translate (https://translate.google.com)     Arrow Left     Arrow Right        Slideshow Left Arrow       Slideshow Right Arrow                Original text Rate this translation Your feedback will be used to help improve Google Translate',\n",
       " 'Loading  Skip to Main Content (#ccf5602c1c-2e20-4773-89f3-08f921ac655f)     [if lte IE 7]><link rel=\"stylesheet\" type=\"text/css\" href=\"/App_Themes/CP/ie7.css\"><![endif]  Allow Dashboard, Favorites Enabled      Header Container                      (/facebook)     (https://twitter.com/cityofrichmond)     (https://www.ci.richmond.ca.us/rss.aspx)          inner column   inner row  outer column       inner column   inner row  outer column       For the button right and inside     Search       inner column   inner row  outer column   outer row       City Government (/2013/City-Government)      Departments (/2014/Departments)      Business (/2016/Business)      Community (/2015/Community)       Banner            Content container       Home (/) Departments (/2014/Departments) Community Development (/101/Community-Development) Planning Division (/2098/Planning-Division) Bay Area Rescue Mission, Bridge of Hope Project     A (#)  A (#)             Bay Area Rescue Mission, Bridge of Hope Project             inner column   inner row  outer column   outer row        Project Contact   Roberta  Feliciano , Planner II  roberta _ (mailto:roberta_feliciano@ci.richmond.ca.us) feliciano @ci.richmond.ca.us (mailto:roberta_feliciano@ci.richmond.ca.us)  (510) 620-6662   Project Description   Bay Area Rescue Mission (BARM) proposes to develop a new two-story 9,553 square-foot (SF) residential building that would serve as a shelter to house homeless women and children. The project would be developed on a 9,000 SF rectangular-shaped site encompassing two parcels in the City of Richmond. The proposed new building would provide 26 bedrooms with a total of 114 beds for women and children. The project requires approval of a Design Review Permit and Conditional Use Permit. The project site is not listed as a hazardous waste site pursuant to Government Code Section 65962.5.   Project Location   The proposed shelter would be located at 257 3rd Street, Richmond, CA 94801.   Project and Related Documents   Draft Initial Study Mitigated Negative Declaration Available  A Draft Initial Study Mitigated Negative Declaration (IS MND ) has been completed, which assesses the potential environmental impacts associated with the Project. The IS MND is available for review for review and comment.   Review and Comment Period:  Comments on the MND must be send in writing and received by 5:00 p.m. on Thursday, July 18, 2019, at the following mailing or email address:   Roberta  Feliciano  City of Richmond Planning Division  450 Civic Center Plaza  P.O. Box 4046  Richmond, CA 94804  roberta _ (mailto:roberta_feliciano@ci.richmond.ca.us) feliciano @ci.richmond.ca.us (mailto:roberta_feliciano@ci.richmond.ca.us)   Report Availability:  A copy of the MND is available at this site.\\xa0Copies are also available for review at the following locations: Richmond Public Library - Main Branch 325 Civic Center Plaza, Richmond, CA 94804 and City of Richmond, Planning and Building Services Department, City Hall, 450 Civic Center Plaza, Richmond, CA, 94804.  The City of Richmond intends to adopt a Mitigated Negative Declaration (MND) for the following described project in accordance with the California Environmental Quality Act (CEQA) of 1970, as amended, and the City of Richmond’s Guidelines and Procedures for Implementation of CEQA.   Notice of Intent (/DocumentCenter/View/50060/BARM-Notice-of-Intent)  Bay Area Rescue Mission Bridge of Hope Project Draft Initial Study MND (/DocumentCenter/View/50059/BARM-Bridge-of-Hope-Project-MND-DRAFT)             inner column   inner row  outer column   outer row                   Accessory Dwelling Units (ADUs) (/4336/Accessory-Dwelling-Units-ADUs)      Architectural Heritage Guidelines (http://www.ci.richmond.ca.us/DocumentCenter/View/3525)      Boards & Commissions (/2861/Boards-Commissions)       Design Review Board      Historic Preservation Commission       Historic Preservation Awards        Planning Commission        Cannabis Business Information (/3603/Cannabis-Business-Information)      City Fact Sheet (/DocumentView.aspx?DID=8348)      Fees/Forms/Checklists (/2102/FeesFormsChecklists)      Form Based Code (http://www.ci.richmond.ca.us/2965/RLC-FBC)      General Plan 2030 (/2608/General-Plan-2030)      Hilltop Horizon Specific Plan (https://hilltophorizon.com/)      Historical Point Molate Project Information (http://www.ci.richmond.ca.us/270/Point-Molate)      Mapping Services (/3344/Mapping-Services)      Printable Maps (/290)      Project Information (/2860/Project-Information)       Additional Projects      Environmental Documents      General Plan Updates       About - Información acerca del Plan General      Frequently Asked Questions (FAQs) - Preguntas frecuentes      Participate - Participe      Library        Housing Element Update      Housing Policy      Major Projects      Notable Projects      Other Projects      Projects Information      Richmond Resilience Roadmap      Residential Activity Report        Regulatory Documents (/2867/Regulatory-Documents)       Bicycle Master Plan      Pedestrian Plan      Richmond Bay Specific Plan (RBSP)      Urban Greening Plan      Other Plans, Codes & Guidelines        Staff Directory (/2399/Staff-Directory)      Zoning Ordinance (/3379/Zoning-Ordinance)      Senate Bill 9 (SB 9) (/4188/Senate-Bill-9-SB-9)      Brickyard Cove Residential Project (/4349/Brickyard-Cove-Residential-Project)      Raven SR Bioenergy Project (/4365/Raven-SR-Bioenergy-Project)      Travel Safe Richmond (/4486/Travel-Safe-Richmond)           GBs                    (/151)  Agenda Docs   (/151)         (/965/Weekly-Announcements)  Weekly Report   (/965/Weekly-Announcements)         (/4340/KCRT-Media)  KCRT   (/4340/KCRT-Media)            inner column   inner row  outer column                 (/4518/Youth)  Youth   (/4518/Youth)         (/4540/55670/Visit-Richmond)  Visit Richmond   (/4540/55670/Visit-Richmond)         (https://www.transparentrichmond.org/)  City Data   (https://www.transparentrichmond.org/)            inner column   inner row  outer column   outer row    Calendar/Carousel <div data-cpRole=\"structuralContainer\" id=\"homeContainer1\"> <div class=\"siteWrap\"> <div data-cpRole=\"contentContainer\" id=\"homeContent1a\"></div> </div> </div> Footer                              inner column   inner row  outer column       inner column   inner row  outer column         Contact Us         RICHMOND CITY HALL 450 Civic Center Plaza Richmond, CA 94804 Phone Directory (http://www.ci.richmond.ca.us/Directory.aspx)  Directions (http://maps.google.com/maps?q=450+Civic+Center+Plaza,+Richmond+CA&oe=utf-8&rls=org.mozilla:en-US:official&client=firefox-a&um=1&ie=UTF-8&hq=&hnear=450+Civic+Center+Plaza,+Richmond,+CA+94804&gl=us&daddr=450%20Civic%20Center%20Plaza,%20Richmond,%20CA%2094804&ei=uxt0S8_-KoLUNYPuockK&sa=X&oi=geocode_result&ct=directions-to&resnum=1&ved=0CAoQwwUwAA)            inner column   inner row  outer column       inner column   inner row  outer column       Sign Up For E-News          inner column   inner row              (/facebook)     (https://twitter.com/cityofrichmond)     (/instagram)     (https://www.ci.richmond.ca.us/rss.aspx)          inner column   inner row  outer column       inner column   inner row  outer column         Site Links (/QuickLinks.aspx?CID=2,52,5)         Bay Area Legal Aid (http://www.baylegal.org/)     Contra Costa County Courts (http://www.cc-courts.org/)     California Courts (http://www.courts.ca.gov/)     Contra Costa County Bar Association (http://www.cccba.org/community/)     State Bar of California (http://www.calbar.ca.gov/state/calbar/calbar_home.jsp)     City Council Agenda Documents (http://www.ci.richmond.ca.us/index.aspx?NID=151)           /QuickLinks.aspx      inner column   inner row  outer column   outer row    Powered By                Government Websites by CivicPlus® (https://connect.civicplus.com/referral)       inner column   inner row  outer column   outer row           Loading          Content from the Froala Editor will go here. Loading    Do Not Show Again  Close      Powered by Translate (https://translate.google.com)     Arrow Left     Arrow Right        Slideshow Left Arrow       Slideshow Right Arrow                Original text Rate this translation Your feedback will be used to help improve Google Translate',\n",
       " 'Loading  Skip to Main Content (#ccf5602c1c-2e20-4773-89f3-08f921ac655f)     [if lte IE 7]><link rel=\"stylesheet\" type=\"text/css\" href=\"/App_Themes/CP/ie7.css\"><![endif]  Allow Dashboard, Favorites Enabled      Header Container                      (/facebook)     (https://twitter.com/cityofrichmond)     (https://www.ci.richmond.ca.us/rss.aspx)          inner column   inner row  outer column       inner column   inner row  outer column       For the button right and inside     Search       inner column   inner row  outer column   outer row       City Government (/2013/City-Government)      Departments (/2014/Departments)      Business (/2016/Business)      Community (/2015/Community)       Banner            Content container       Home (/) Departments (/2014/Departments) Community Development (/101/Community-Development) Planning Division (/2098/Planning-Division) Project Information (/2860/Project-Information) Major Projects (/1404/Major-Projects) Goodrick Avenue Bay Trail Gap Closure Project     A (#)  A (#)             Goodrick Avenue Bay Trail Gap Closure Project         Project Contact    Lina Velasco, Planning Manager  Lina_Velasco@ci.richmond.ca.us  (510) 620-6841    Project Description The City of Richmond proposes to construct a 0.3-mile Class I bicycle and pedestrian trail along the eastern side of Goodrick Avenue, north of the Richmond Parkway (proposed trail or project). The proposed trail would connect the existing Class I San Francisco Bay Trail (Bay Trail) segment along the Richmond Parkway to a new 1.5-mile segment of the Bay Trail north of the project site. The proposed project would be a segment of a continuous Bay Trail alignment that extends from Buchanan Street in Albany to Atlas Road and San Pablo Avenue in Richmond.      inner column   inner row  outer column           inner column   inner row  outer column   outer row       The project alignment and all proposed improvements would be located within the existing Goodrick Avenue public right-of-way. The proposed trail would consist of a 10-foot-wide paved trail with two 2-foot-wide gravel shoulders. Existing accessible curb ramps at the northwest corner of the intersection of Goodrick Avenue and Richmond Parkway would be replaced to comply with current accessibility and Bay Trail design guidelines. Wayfinding signage would be installed at the Goodrick Avenue and Richmond Parkway intersection. In addition, the crosswalks across Goodrick Avenue would be striped to provide a safer crossing for cyclists and pedestrians in the area. The project site is not listed as a hazardous waste site pursuant to Government Code Section 65962.5.   Project Location   The Project site is located at Goodrick Avenue north of Richmond Parkway, City of Richmond, County of Contra Costa    City Council Public Hearing - November 20, 2018, 6:30 PM, 440 Civic Center Plaza, Council Chambers  Public hearing to consider adoption of a mitigated negative declaration (MND) and adoption of a Mitigation Monitoring and Reporting Program (MMRP) for the North Shore (Goodrick Avenue) Bay Trail Gap Closure Project located along the eastern side of Goodrick Avenue, north of the Richmond Parkway. The project consists of the construction of a 0.3 mile Class I multi-use paved trail.   Notice of Public Hearing (/DocumentCenter/View/47876/Notice-of-Public-Hearing---PLN16-717NorthShoreGoodBayTrailProject)  Responses to Comments and MMRP (/DocumentCenter/View/47875/North-Shore---Goodrick-RTC-and-MMRP)   Review and Comment Period    Comments on the Draft IS/MND must be received by 5:00 p.m. on \\xa0Friday, February 10, 2017, in writing to Lina Velasco, City of Richmond, Planning Division, 450 Civic Center Plaza, Richmond, CA 94804, or email at lina_velasco@ci.richmond.ca.us    Notice of Intent (/DocumentCenter/View/41227)  Draft CEQA Initial Study/Mitigated Negative Declaration (/DocumentCenter/View/41226)       inner column   inner row  outer column   outer row                      GBs                    (/151)  Agenda Docs   (/151)         (/965/Weekly-Announcements)  Weekly Report   (/965/Weekly-Announcements)         (/4340/KCRT-Media)  KCRT   (/4340/KCRT-Media)            inner column   inner row  outer column                 (/4518/Youth)  Youth   (/4518/Youth)         (/4540/55670/Visit-Richmond)  Visit Richmond   (/4540/55670/Visit-Richmond)         (https://www.transparentrichmond.org/)  City Data   (https://www.transparentrichmond.org/)            inner column   inner row  outer column   outer row    Calendar/Carousel <div data-cpRole=\"structuralContainer\" id=\"homeContainer1\"> <div class=\"siteWrap\"> <div data-cpRole=\"contentContainer\" id=\"homeContent1a\"></div> </div> </div> Footer                              inner column   inner row  outer column       inner column   inner row  outer column         Contact Us         RICHMOND CITY HALL 450 Civic Center Plaza Richmond, CA 94804 Phone Directory (http://www.ci.richmond.ca.us/Directory.aspx)  Directions (http://maps.google.com/maps?q=450+Civic+Center+Plaza,+Richmond+CA&oe=utf-8&rls=org.mozilla:en-US:official&client=firefox-a&um=1&ie=UTF-8&hq=&hnear=450+Civic+Center+Plaza,+Richmond,+CA+94804&gl=us&daddr=450%20Civic%20Center%20Plaza,%20Richmond,%20CA%2094804&ei=uxt0S8_-KoLUNYPuockK&sa=X&oi=geocode_result&ct=directions-to&resnum=1&ved=0CAoQwwUwAA)            inner column   inner row  outer column       inner column   inner row  outer column       Sign Up For E-News          inner column   inner row              (/facebook)     (https://twitter.com/cityofrichmond)     (/instagram)     (https://www.ci.richmond.ca.us/rss.aspx)          inner column   inner row  outer column       inner column   inner row  outer column         Site Links (/QuickLinks.aspx?CID=2,52,5)         Bay Area Legal Aid (http://www.baylegal.org/)     Contra Costa County Courts (http://www.cc-courts.org/)     California Courts (http://www.courts.ca.gov/)     Contra Costa County Bar Association (http://www.cccba.org/community/)     State Bar of California (http://www.calbar.ca.gov/state/calbar/calbar_home.jsp)     City Council Agenda Documents (http://www.ci.richmond.ca.us/index.aspx?NID=151)           /QuickLinks.aspx      inner column   inner row  outer column   outer row    Powered By                Government Websites by CivicPlus® (https://connect.civicplus.com/referral)       inner column   inner row  outer column   outer row           Loading          Content from the Froala Editor will go here. Loading    Do Not Show Again  Close      Select Language Afrikaans Albanian Amharic Arabic Armenian Assamese Aymara Azerbaijani Bambara Basque Belarusian Bengali Bhojpuri Bosnian Bulgarian Catalan Cebuano Chichewa Chinese (Simplified) Chinese (Traditional) Corsican Croatian Czech Danish Dhivehi Dogri Dutch Esperanto Estonian Ewe Filipino Finnish French Frisian Galician Georgian German Greek Guarani Gujarati Haitian Creole Hausa Hawaiian Hebrew Hindi Hmong Hungarian Icelandic Igbo Ilocano Indonesian Irish Italian Japanese Javanese Kannada Kazakh Khmer Kinyarwanda Konkani Korean Krio Kurdish (Kurmanji) Kurdish (Sorani) Kyrgyz Lao Latin Latvian Lingala Lithuanian Luganda Luxembourgish Macedonian Maithili Malagasy Malay Malayalam Maltese Maori Marathi Meiteilon (Manipuri) Mizo Mongolian Myanmar (Burmese) Nepali Norwegian Odia (Oriya) Oromo Pashto Persian Polish Portuguese Punjabi Quechua Romanian Russian Samoan Sanskrit Scots Gaelic Sepedi Serbian Sesotho Shona Sindhi Sinhala Slovak Slovenian Somali Spanish Sundanese Swahili Swedish Tajik Tamil Tatar Telugu Thai Tigrinya Tsonga Turkish Turkmen Twi Ukrainian Urdu Uyghur Uzbek Vietnamese Welsh Xhosa Yiddish Yoruba Zulu Powered by Translate (https://translate.google.com)     Arrow Left     Arrow Right        Slideshow Left Arrow       Slideshow Right Arrow                Original text Rate this translation Your feedback will be used to help improve Google Translate',\n",
       " 'Loading  Skip to Main Content (#ccf5602c1c-2e20-4773-89f3-08f921ac655f)     [if lte IE 7]><link rel=\"stylesheet\" type=\"text/css\" href=\"/App_Themes/CP/ie7.css\"><![endif]  Allow Dashboard, Favorites Enabled      Header Container                      (/facebook)     (https://twitter.com/cityofrichmond)     (https://www.ci.richmond.ca.us/rss.aspx)          inner column   inner row  outer column       inner column   inner row  outer column       For the button right and inside     Search       inner column   inner row  outer column   outer row       City Government (/2013/City-Government)      Departments (/2014/Departments)      Business (/2016/Business)      Community (/2015/Community)       Banner            Content container       Home (/) Departments (/2014/Departments) Community Development (/101/Community-Development) Planning Division (/2098/Planning-Division) Bay Walk     A (#)  A (#)             Bay Walk Mixed-Use Project                 Project Contact Jonelyn Whales, Senior Planner (510) 620-6785  For security reasons, you must enable JavaScript to view this E-mail address.          Project Description   The project site consists of approximately 10 acres and is located on the southeast corner of Marina Way South and Wright Avenue in Richmond\\'s Marina Bay Neighborhood. The site is currently occupied by a vacant two-story industrial warehouse and associated parking areas. A railroad spur is located on the southeast portion of the site.  The applicant, Development Solutions Seascape, LLC, proposes to demolish the existing industrial building, railroad spur, and parking lots at the site, and construct a three-story, mixed-use development with 76 two-bedroom, three-story town homes; 80 three-bedroom, three-story town homes; 25 two-bedroom, three story live-work town homes; and 74 three-bedroom, three-story live-work town homes; a two-story building containing a 2,980-square-foot business incubator suite and a 2,630-square-foot fitness center; an internal network of driveways; and 590 parking spaces, consisting of 510 garage stalls and 80 guest stalls. The project would have a total of 255 town homes (156 town homes and 99 live-work town homes).         Project and Related Documents     Notice of Availability and Intent to Adopt a Mitigated Negative Declaration (/DocumentCenter/View/29773)  Initial Study and Mitigated Negative Declaration (/DocumentCenter/View/29774) (End of Public Review: November 24, 2014)  Final IS/Mitigated Negative Declaration (/DocumentCenter/View/34703)          inner column   inner row  outer column   outer row                   Accessory Dwelling Units (ADUs) (/4336/Accessory-Dwelling-Units-ADUs)      Architectural Heritage Guidelines (http://www.ci.richmond.ca.us/DocumentCenter/View/3525)      Boards & Commissions (/2861/Boards-Commissions)       Design Review Board      Historic Preservation Commission       Historic Preservation Awards        Planning Commission        Cannabis Business Information (/3603/Cannabis-Business-Information)      City Fact Sheet (/DocumentView.aspx?DID=8348)      Fees/Forms/Checklists (/2102/FeesFormsChecklists)      Form Based Code (http://www.ci.richmond.ca.us/2965/RLC-FBC)      General Plan 2030 (/2608/General-Plan-2030)      Hilltop Horizon Specific Plan (https://hilltophorizon.com/)      Historical Point Molate Project Information (http://www.ci.richmond.ca.us/270/Point-Molate)      Mapping Services (/3344/Mapping-Services)      Printable Maps (/290)      Project Information (/2860/Project-Information)       Additional Projects      Environmental Documents      General Plan Updates       About - Información acerca del Plan General      Frequently Asked Questions (FAQs) - Preguntas frecuentes      Participate - Participe      Library        Housing Element Update      Housing Policy      Major Projects      Notable Projects      Other Projects      Projects Information      Richmond Resilience Roadmap      Residential Activity Report        Regulatory Documents (/2867/Regulatory-Documents)       Bicycle Master Plan      Pedestrian Plan      Richmond Bay Specific Plan (RBSP)      Urban Greening Plan      Other Plans, Codes & Guidelines        Staff Directory (/2399/Staff-Directory)      Zoning Ordinance (/3379/Zoning-Ordinance)      Senate Bill 9 (SB 9) (/4188/Senate-Bill-9-SB-9)      Brickyard Cove Residential Project (/4349/Brickyard-Cove-Residential-Project)      Raven SR Bioenergy Project (/4365/Raven-SR-Bioenergy-Project)      Travel Safe Richmond (/4486/Travel-Safe-Richmond)           GBs                    (/151)  Agenda Docs   (/151)         (/965/Weekly-Announcements)  Weekly Report   (/965/Weekly-Announcements)         (/4340/KCRT-Media)  KCRT   (/4340/KCRT-Media)            inner column   inner row  outer column                 (/4518/Youth)  Youth   (/4518/Youth)         (/4540/55670/Visit-Richmond)  Visit Richmond   (/4540/55670/Visit-Richmond)         (https://www.transparentrichmond.org/)  City Data   (https://www.transparentrichmond.org/)            inner column   inner row  outer column   outer row    Calendar/Carousel <div data-cpRole=\"structuralContainer\" id=\"homeContainer1\"> <div class=\"siteWrap\"> <div data-cpRole=\"contentContainer\" id=\"homeContent1a\"></div> </div> </div> Footer                              inner column   inner row  outer column       inner column   inner row  outer column         Contact Us         RICHMOND CITY HALL 450 Civic Center Plaza Richmond, CA 94804 Phone Directory (http://www.ci.richmond.ca.us/Directory.aspx)  Directions (http://maps.google.com/maps?q=450+Civic+Center+Plaza,+Richmond+CA&oe=utf-8&rls=org.mozilla:en-US:official&client=firefox-a&um=1&ie=UTF-8&hq=&hnear=450+Civic+Center+Plaza,+Richmond,+CA+94804&gl=us&daddr=450%20Civic%20Center%20Plaza,%20Richmond,%20CA%2094804&ei=uxt0S8_-KoLUNYPuockK&sa=X&oi=geocode_result&ct=directions-to&resnum=1&ved=0CAoQwwUwAA)            inner column   inner row  outer column       inner column   inner row  outer column       Sign Up For E-News          inner column   inner row              (/facebook)     (https://twitter.com/cityofrichmond)     (/instagram)     (https://www.ci.richmond.ca.us/rss.aspx)          inner column   inner row  outer column       inner column   inner row  outer column         Site Links (/QuickLinks.aspx?CID=2,52,5)         Bay Area Legal Aid (http://www.baylegal.org/)     Contra Costa County Courts (http://www.cc-courts.org/)     California Courts (http://www.courts.ca.gov/)     Contra Costa County Bar Association (http://www.cccba.org/community/)     State Bar of California (http://www.calbar.ca.gov/state/calbar/calbar_home.jsp)     City Council Agenda Documents (http://www.ci.richmond.ca.us/index.aspx?NID=151)           /QuickLinks.aspx      inner column   inner row  outer column   outer row    Powered By                Government Websites by CivicPlus® (https://connect.civicplus.com/referral)       inner column   inner row  outer column   outer row           Loading          Content from the Froala Editor will go here. Loading    Do Not Show Again  Close      Powered by Translate (https://translate.google.com)     Arrow Left     Arrow Right        Slideshow Left Arrow       Slideshow Right Arrow                Original text Rate this translation Your feedback will be used to help improve Google Translate',\n",
       " 'Loading  Skip to Main Content (#ccf5602c1c-2e20-4773-89f3-08f921ac655f)     [if lte IE 7]><link rel=\"stylesheet\" type=\"text/css\" href=\"/App_Themes/CP/ie7.css\"><![endif]  Allow Dashboard, Favorites Enabled      Header Container                      (/facebook)     (https://twitter.com/cityofrichmond)     (https://www.ci.richmond.ca.us/rss.aspx)          inner column   inner row  outer column       inner column   inner row  outer column       For the button right and inside     Search       inner column   inner row  outer column   outer row       City Government (/2013/City-Government)      Departments (/2014/Departments)      Business (/2016/Business)      Community (/2015/Community)       Banner            Content container       Home (/) Departments (/2014/Departments) Community Development (/101/Community-Development) Planning Division (/2098/Planning-Division) Chevron Richmond Refinery Modernization Project     A (#)  A (#)             Chevron Richmond Refinery Modernization Project             inner column   inner row  outer column   outer row        Project Description The Chevron Refinery Modernization Project (Modernization Project) would complete construction and begin operation of two of the Chevron Hydrogen and Energy Renewal Project major components: a replacement Hydrogen Plant, and a collection of new sulfur removal equipment improvements that remove naturally occurring sulfur contained in the feedstocks processed at the Facility. The Modernization Project also includes related infrastructure improvements to Facility piping, utility lines, and electrical systems. The Modernization Project includes several integral equipment components that would reduce air emissions from Facility operations (the Emission Reduction Project Components) and further Project Design Features proposed to avoid or minimize environmental impacts. The Project also includes a new Reliability Program, including new safety programs and several physical modifications including the replacement of 17 piping circuits in the Crude Unit. Reducing Project emissions would help meet Chevron\\'s commitment of assuring that the Project would cause no net increase in emissions of criteria pollutants, greenhouse gases, and public health risks from air pollutants, when compared to the Facility emissions and operations that occurred during the baseline period of 2008 through 2010. Following issuance of all necessary approvals, Chevron proposes to complete Project construction within approximately 24 months. The City Council approved the Modernization Project on July 29, 2014. Annual Compliance Reports Annual Compliance Report 2023 (/DocumentCenter/View/68888/Compiled-RY-2023-Annual-Compliance-Report) Annual Compliance Report 2022 (/DocumentCenter/View/64319/Chevron-Modernization-Project-Annual-CUP-Compliance-Report_12-01-2022) Annual Compliance Report 2021 (/DocumentCenter/View/59283/Annual-Compliance-Report-2021) Annual Compliance Report 2020 (/DocumentCenter/View/58350/Attachment-1_Annual-Compliance-Report-2020) Annual Compliance Report 2019 (/DocumentCenter/View/52332/Annual-Compliance-Report-2019_Compiled) Annual Compliance Report 2018 (/DocumentCenter/View/52333/Annual-Compliance-Report-2018) Documents Associated with the Chevron Refinery Modernization Project Consolidated Version Volume I (/DocumentCenter/View/45983) Consolidated Version Volume II (/DocumentCenter/View/45980) Resolution 66-14 (/DocumentCenter/View/45982) Resolution 67-14 (/DocumentCenter/View/45981)     inner column   inner row  outer column   outer row                          Project Contact   Lina Velasco, Planning Manager  Lina_Velasco@ci.richmond.ca.us  (510) 620-6841     inner column   inner row  outer column   outer row            Accessory Dwelling Units (ADUs) (/4336/Accessory-Dwelling-Units-ADUs)      Architectural Heritage Guidelines (http://www.ci.richmond.ca.us/DocumentCenter/View/3525)      Boards & Commissions (/2861/Boards-Commissions)       Design Review Board      Historic Preservation Commission       Historic Preservation Awards        Planning Commission        Cannabis Business Information (/3603/Cannabis-Business-Information)      City Fact Sheet (/DocumentView.aspx?DID=8348)      Fees/Forms/Checklists (/2102/FeesFormsChecklists)      Form Based Code (http://www.ci.richmond.ca.us/2965/RLC-FBC)      General Plan 2030 (/2608/General-Plan-2030)      Hilltop Horizon Specific Plan (https://hilltophorizon.com/)      Historical Point Molate Project Information (http://www.ci.richmond.ca.us/270/Point-Molate)      Mapping Services (/3344/Mapping-Services)      Printable Maps (/290)      Project Information (/2860/Project-Information)       Additional Projects      Environmental Documents      General Plan Updates       About - Información acerca del Plan General      Frequently Asked Questions (FAQs) - Preguntas frecuentes      Participate - Participe      Library        Housing Element Update      Housing Policy      Major Projects      Notable Projects      Other Projects      Projects Information      Richmond Resilience Roadmap      Residential Activity Report        Regulatory Documents (/2867/Regulatory-Documents)       Bicycle Master Plan      Pedestrian Plan      Richmond Bay Specific Plan (RBSP)      Urban Greening Plan      Other Plans, Codes & Guidelines        Staff Directory (/2399/Staff-Directory)      Zoning Ordinance (/3379/Zoning-Ordinance)      Senate Bill 9 (SB 9) (/4188/Senate-Bill-9-SB-9)      Brickyard Cove Residential Project (/4349/Brickyard-Cove-Residential-Project)      Raven SR Bioenergy Project (/4365/Raven-SR-Bioenergy-Project)      Travel Safe Richmond (/4486/Travel-Safe-Richmond)           GBs                    (/151)  Agenda Docs   (/151)         (/965/Weekly-Announcements)  Weekly Report   (/965/Weekly-Announcements)         (/4340/KCRT-Media)  KCRT   (/4340/KCRT-Media)            inner column   inner row  outer column                 (/4518/Youth)  Youth   (/4518/Youth)         (/4540/55670/Visit-Richmond)  Visit Richmond   (/4540/55670/Visit-Richmond)         (https://www.transparentrichmond.org/)  City Data   (https://www.transparentrichmond.org/)            inner column   inner row  outer column   outer row    Calendar/Carousel <div data-cpRole=\"structuralContainer\" id=\"homeContainer1\"> <div class=\"siteWrap\"> <div data-cpRole=\"contentContainer\" id=\"homeContent1a\"></div> </div> </div> Footer                              inner column   inner row  outer column       inner column   inner row  outer column         Contact Us         RICHMOND CITY HALL 450 Civic Center Plaza Richmond, CA 94804 Phone Directory (http://www.ci.richmond.ca.us/Directory.aspx)  Directions (http://maps.google.com/maps?q=450+Civic+Center+Plaza,+Richmond+CA&oe=utf-8&rls=org.mozilla:en-US:official&client=firefox-a&um=1&ie=UTF-8&hq=&hnear=450+Civic+Center+Plaza,+Richmond,+CA+94804&gl=us&daddr=450%20Civic%20Center%20Plaza,%20Richmond,%20CA%2094804&ei=uxt0S8_-KoLUNYPuockK&sa=X&oi=geocode_result&ct=directions-to&resnum=1&ved=0CAoQwwUwAA)            inner column   inner row  outer column       inner column   inner row  outer column       Sign Up For E-News          inner column   inner row              (/facebook)     (https://twitter.com/cityofrichmond)     (/instagram)     (https://www.ci.richmond.ca.us/rss.aspx)          inner column   inner row  outer column       inner column   inner row  outer column         Site Links (/QuickLinks.aspx?CID=2,52,5)         Bay Area Legal Aid (http://www.baylegal.org/)     Contra Costa County Courts (http://www.cc-courts.org/)     California Courts (http://www.courts.ca.gov/)     Contra Costa County Bar Association (http://www.cccba.org/community/)     State Bar of California (http://www.calbar.ca.gov/state/calbar/calbar_home.jsp)     City Council Agenda Documents (http://www.ci.richmond.ca.us/index.aspx?NID=151)           /QuickLinks.aspx      inner column   inner row  outer column   outer row    Powered By                Government Websites by CivicPlus® (https://connect.civicplus.com/referral)       inner column   inner row  outer column   outer row           Loading          Content from the Froala Editor will go here. Loading    Do Not Show Again  Close      Powered by Translate (https://translate.google.com)     Arrow Left     Arrow Right        Slideshow Left Arrow       Slideshow Right Arrow                Original text Rate this translation Your feedback will be used to help improve Google Translate',\n",
       " 'Loading  Skip to Main Content (#ccf5602c1c-2e20-4773-89f3-08f921ac655f)     [if lte IE 7]><link rel=\"stylesheet\" type=\"text/css\" href=\"/App_Themes/CP/ie7.css\"><![endif]  Allow Dashboard, Favorites Enabled      Header Container                      (/facebook)     (https://twitter.com/cityofrichmond)     (https://www.ci.richmond.ca.us/rss.aspx)          inner column   inner row  outer column       inner column   inner row  outer column       For the button right and inside     Search       inner column   inner row  outer column   outer row       City Government (/2013/City-Government)      Departments (/2014/Departments)      Business (/2016/Business)      Community (/2015/Community)       Banner            Content container       Home (/) Departments (/2014/Departments) Community Development (/101/Community-Development) Planning Division (/2098/Planning-Division) Making Waves Academy Expansion Project     A (#)  A (#)             Making Waves Academy Expansion Project         Project Contact:   Hector Lopez, Senior Planner  Hector_Lopez@ci.richmond.ca.us  (510) 620-6702   Project Description   The proposed Making Waves Academy Expansion project would include the expansion of an existing middle and high school campus on Lakeside Drive from 6.45 acres to 20.25 acres. The school would increase student enrollment in grades 5 through 12 from approximately 800 to a maximum enrollment of 2,050, and increase the number of staff from 70 to 300. In addition to renovations to the existing three classroom buildings, the project would demolish approximately 165,387 square feet of existing one- and two-story commercial buildings on six parcels and construct three new classroom buildings and two new gymnasiums. Overall proposed development includes 208,986 gross square feet of new buildings, outdoor physical recreation areas (i.e., playing and sports fields, play structures and ball courts, recess yards), new landscaping and trees throughout the site, and associated parking and infrastructure improvements. The project also involves consolidation of the eight existing parcels that make up the site into three parcels and the abandonment of Technology Court. The new school campus would be configured with two distinct campuses to house middle and high school programs.    Notice of Intent to Adopt a Mitigated Negative Declaration (/DocumentCenter/View/42023)  Making Waves Academy Expansion Project Initial Study (/DocumentCenter/View/42024)      inner column   inner row  outer column   outer row                   Accessory Dwelling Units (ADUs) (/4336/Accessory-Dwelling-Units-ADUs)      Architectural Heritage Guidelines (http://www.ci.richmond.ca.us/DocumentCenter/View/3525)      Boards & Commissions (/2861/Boards-Commissions)       Design Review Board      Historic Preservation Commission       Historic Preservation Awards        Planning Commission        Cannabis Business Information (/3603/Cannabis-Business-Information)      City Fact Sheet (/DocumentView.aspx?DID=8348)      Fees/Forms/Checklists (/2102/FeesFormsChecklists)      Form Based Code (http://www.ci.richmond.ca.us/2965/RLC-FBC)      General Plan 2030 (/2608/General-Plan-2030)      Hilltop Horizon Specific Plan (https://hilltophorizon.com/)      Historical Point Molate Project Information (http://www.ci.richmond.ca.us/270/Point-Molate)      Mapping Services (/3344/Mapping-Services)      Printable Maps (/290)      Project Information (/2860/Project-Information)       Additional Projects      Environmental Documents      General Plan Updates       About - Información acerca del Plan General      Frequently Asked Questions (FAQs) - Preguntas frecuentes      Participate - Participe      Library        Housing Element Update      Housing Policy      Major Projects      Notable Projects      Other Projects      Projects Information      Richmond Resilience Roadmap      Residential Activity Report        Regulatory Documents (/2867/Regulatory-Documents)       Bicycle Master Plan      Pedestrian Plan      Richmond Bay Specific Plan (RBSP)      Urban Greening Plan      Other Plans, Codes & Guidelines        Staff Directory (/2399/Staff-Directory)      Zoning Ordinance (/3379/Zoning-Ordinance)      Senate Bill 9 (SB 9) (/4188/Senate-Bill-9-SB-9)      Brickyard Cove Residential Project (/4349/Brickyard-Cove-Residential-Project)      Raven SR Bioenergy Project (/4365/Raven-SR-Bioenergy-Project)      Travel Safe Richmond (/4486/Travel-Safe-Richmond)           GBs                    (/151)  Agenda Docs   (/151)         (/965/Weekly-Announcements)  Weekly Report   (/965/Weekly-Announcements)         (/4340/KCRT-Media)  KCRT   (/4340/KCRT-Media)            inner column   inner row  outer column                 (/4518/Youth)  Youth   (/4518/Youth)         (/4540/55670/Visit-Richmond)  Visit Richmond   (/4540/55670/Visit-Richmond)         (https://www.transparentrichmond.org/)  City Data   (https://www.transparentrichmond.org/)            inner column   inner row  outer column   outer row    Calendar/Carousel <div data-cpRole=\"structuralContainer\" id=\"homeContainer1\"> <div class=\"siteWrap\"> <div data-cpRole=\"contentContainer\" id=\"homeContent1a\"></div> </div> </div> Footer                              inner column   inner row  outer column       inner column   inner row  outer column         Contact Us         RICHMOND CITY HALL 450 Civic Center Plaza Richmond, CA 94804 Phone Directory (http://www.ci.richmond.ca.us/Directory.aspx)  Directions (http://maps.google.com/maps?q=450+Civic+Center+Plaza,+Richmond+CA&oe=utf-8&rls=org.mozilla:en-US:official&client=firefox-a&um=1&ie=UTF-8&hq=&hnear=450+Civic+Center+Plaza,+Richmond,+CA+94804&gl=us&daddr=450%20Civic%20Center%20Plaza,%20Richmond,%20CA%2094804&ei=uxt0S8_-KoLUNYPuockK&sa=X&oi=geocode_result&ct=directions-to&resnum=1&ved=0CAoQwwUwAA)            inner column   inner row  outer column       inner column   inner row  outer column       Sign Up For E-News          inner column   inner row              (/facebook)     (https://twitter.com/cityofrichmond)     (/instagram)     (https://www.ci.richmond.ca.us/rss.aspx)          inner column   inner row  outer column       inner column   inner row  outer column         Site Links (/QuickLinks.aspx?CID=2,52,5)         Bay Area Legal Aid (http://www.baylegal.org/)     Contra Costa County Courts (http://www.cc-courts.org/)     California Courts (http://www.courts.ca.gov/)     Contra Costa County Bar Association (http://www.cccba.org/community/)     State Bar of California (http://www.calbar.ca.gov/state/calbar/calbar_home.jsp)     City Council Agenda Documents (http://www.ci.richmond.ca.us/index.aspx?NID=151)           /QuickLinks.aspx      inner column   inner row  outer column   outer row    Powered By                Government Websites by CivicPlus® (https://connect.civicplus.com/referral)       inner column   inner row  outer column   outer row           Loading          Content from the Froala Editor will go here. Loading    Do Not Show Again  Close      Powered by Translate (https://translate.google.com)     Arrow Left     Arrow Right        Slideshow Left Arrow       Slideshow Right Arrow                Original text Rate this translation Your feedback will be used to help improve Google Translate',\n",
       " 'Loading  Skip to Main Content (#ccf5602c1c-2e20-4773-89f3-08f921ac655f)     [if lte IE 7]><link rel=\"stylesheet\" type=\"text/css\" href=\"/App_Themes/CP/ie7.css\"><![endif]  Allow Dashboard, Favorites Enabled      Header Container                      (/facebook)     (https://twitter.com/cityofrichmond)     (https://www.ci.richmond.ca.us/rss.aspx)          inner column   inner row  outer column       inner column   inner row  outer column       For the button right and inside     Search       inner column   inner row  outer column   outer row       City Government (/2013/City-Government)      Departments (/2014/Departments)      Business (/2016/Business)      Community (/2015/Community)       Banner            Content container       Home (/) Departments (/2014/Departments) Community Development (/101/Community-Development) Planning Division (/2098/Planning-Division) Richmond Country Club Residential Project     A (#)  A (#)             Richmond Country Club Residential Project             inner column   inner row  outer column   outer row        Project Description The project site is 25.5-acres, located in the northern portion of the City of Richmond on the western boundary of the existing Richmond Country Club. The project site is bound by and immediately adjacent to the Atchison Topeka and Santa Fe Railroad (AT&SF) to the west, the Richmond Country Club to the east and north, and Giant Road and single-family homes to the south. The project applicant is proposing a General Plan Amendment, Zone Change to the RL-2, Single Family Low Density Residential District and OS, Open Space District, and a Vesting Tentative Tract Map (TTM) to allow the development of 94 single-family homes. The development of the proposed project would require re-configuration of a portion of the golf course and the removal of existing mature eucalyptus trees within the project site boundaries and adjacent to the golf course. The proposed single-family homes would be a mixture of 1- and 2-stories with a maximum building height of 25 feet.   Project Plans   Project Plans (/DocumentCenter/View/55005/Richmond-Country-Club-Plans)   Project and Related Documents   Notice of Availability (/DocumentCenter/View/54798/Richmond-Country-Club-Notice-of-Availability)  Initial Study and Mitigated Negative Declaration (/DocumentCenter/View/54797/21210012-Richmond-Country-Club-Residential-Project-ISMND)  Response to Comments (/DocumentCenter/View/56320/Final-ISMND-Response-to-Comments)  Appendix (/DocumentCenter/View/54803/Appendix-A---Air-Quality-and-GHG-Supporting-Information-COMBINED) A - Air Quality and GHG  Appendix B - Biological Resources (/DocumentCenter/View/54804/Appendix-B---Biological-Resources-Supporting-Information-COMBINED)  Appendix C - Cultural and Tribal Resources (/DocumentCenter/View/54805/Appendix-C---Cultural-and-Tribal-Cultural-Resources-Supporting-Information-COMBINED)  Appendix D - Energy (/DocumentCenter/View/54806/Appendix-D---Energy-Supporting-Information-COMBINED)  Appendix E - Geology and Soils (/DocumentCenter/View/54807/Appendix-E---Geology-and-Soils-Supporting-Information-COMBINED)  Appendix F - Hazards and Hazardous Materials (/DocumentCenter/View/54799/Appendix-F---Hazards-and-Hazardous-Materials-Supporting-Information-COMBINED)  Appendix G - Hydrology and Water Quality (/DocumentCenter/View/54800/Appendix-G---Hydrology-and-Water-Quality-Supporting-Information-COMBINED)  Appendix H - Noise (/DocumentCenter/View/54801/Appendix-H---Noise-Supporting-Information-COMBINED)  Appendix I - Transportation (/DocumentCenter/View/54802/Appendix-I---Transportation-Supporting-Information-COMBINED)     Project Contact Roberta Feliciano, Senior Planner  roberta_feliciano@ci.richmond.ca.us (mailto:roberta_feliciano@ci.richmond.ca.us) (510) 620-6662     inner column   inner row  outer column   outer row                   Accessory Dwelling Units (ADUs) (/4336/Accessory-Dwelling-Units-ADUs)      Architectural Heritage Guidelines (http://www.ci.richmond.ca.us/DocumentCenter/View/3525)      Boards & Commissions (/2861/Boards-Commissions)       Design Review Board      Historic Preservation Commission       Historic Preservation Awards        Planning Commission        Cannabis Business Information (/3603/Cannabis-Business-Information)      City Fact Sheet (/DocumentView.aspx?DID=8348)      Fees/Forms/Checklists (/2102/FeesFormsChecklists)      Form Based Code (http://www.ci.richmond.ca.us/2965/RLC-FBC)      General Plan 2030 (/2608/General-Plan-2030)      Hilltop Horizon Specific Plan (https://hilltophorizon.com/)      Historical Point Molate Project Information (http://www.ci.richmond.ca.us/270/Point-Molate)      Mapping Services (/3344/Mapping-Services)      Printable Maps (/290)      Project Information (/2860/Project-Information)       Additional Projects      Environmental Documents      General Plan Updates       About - Información acerca del Plan General      Frequently Asked Questions (FAQs) - Preguntas frecuentes      Participate - Participe      Library        Housing Element Update      Housing Policy      Major Projects      Notable Projects      Other Projects      Projects Information      Richmond Resilience Roadmap      Residential Activity Report        Regulatory Documents (/2867/Regulatory-Documents)       Bicycle Master Plan      Pedestrian Plan      Richmond Bay Specific Plan (RBSP)      Urban Greening Plan      Other Plans, Codes & Guidelines        Staff Directory (/2399/Staff-Directory)      Zoning Ordinance (/3379/Zoning-Ordinance)      Senate Bill 9 (SB 9) (/4188/Senate-Bill-9-SB-9)      Brickyard Cove Residential Project (/4349/Brickyard-Cove-Residential-Project)      Raven SR Bioenergy Project (/4365/Raven-SR-Bioenergy-Project)      Travel Safe Richmond (/4486/Travel-Safe-Richmond)           GBs                    (/151)  Agenda Docs   (/151)         (/965/Weekly-Announcements)  Weekly Report   (/965/Weekly-Announcements)         (/4340/KCRT-Media)  KCRT   (/4340/KCRT-Media)            inner column   inner row  outer column                 (/4518/Youth)  Youth   (/4518/Youth)         (/4540/55670/Visit-Richmond)  Visit Richmond   (/4540/55670/Visit-Richmond)         (https://www.transparentrichmond.org/)  City Data   (https://www.transparentrichmond.org/)            inner column   inner row  outer column   outer row    Calendar/Carousel <div data-cpRole=\"structuralContainer\" id=\"homeContainer1\"> <div class=\"siteWrap\"> <div data-cpRole=\"contentContainer\" id=\"homeContent1a\"></div> </div> </div> Footer                              inner column   inner row  outer column       inner column   inner row  outer column         Contact Us         RICHMOND CITY HALL 450 Civic Center Plaza Richmond, CA 94804 Phone Directory (http://www.ci.richmond.ca.us/Directory.aspx)  Directions (http://maps.google.com/maps?q=450+Civic+Center+Plaza,+Richmond+CA&oe=utf-8&rls=org.mozilla:en-US:official&client=firefox-a&um=1&ie=UTF-8&hq=&hnear=450+Civic+Center+Plaza,+Richmond,+CA+94804&gl=us&daddr=450%20Civic%20Center%20Plaza,%20Richmond,%20CA%2094804&ei=uxt0S8_-KoLUNYPuockK&sa=X&oi=geocode_result&ct=directions-to&resnum=1&ved=0CAoQwwUwAA)            inner column   inner row  outer column       inner column   inner row  outer column       Sign Up For E-News          inner column   inner row              (/facebook)     (https://twitter.com/cityofrichmond)     (/instagram)     (https://www.ci.richmond.ca.us/rss.aspx)          inner column   inner row  outer column       inner column   inner row  outer column         Site Links (/QuickLinks.aspx?CID=2,52,5)         Bay Area Legal Aid (http://www.baylegal.org/)     Contra Costa County Courts (http://www.cc-courts.org/)     California Courts (http://www.courts.ca.gov/)     Contra Costa County Bar Association (http://www.cccba.org/community/)     State Bar of California (http://www.calbar.ca.gov/state/calbar/calbar_home.jsp)     City Council Agenda Documents (http://www.ci.richmond.ca.us/index.aspx?NID=151)           /QuickLinks.aspx      inner column   inner row  outer column   outer row    Powered By                Government Websites by CivicPlus® (https://connect.civicplus.com/referral)       inner column   inner row  outer column   outer row           Loading          Content from the Froala Editor will go here. Loading    Do Not Show Again  Close      Powered by Translate (https://translate.google.com)     Arrow Left     Arrow Right        Slideshow Left Arrow       Slideshow Right Arrow                Original text Rate this translation Your feedback will be used to help improve Google Translate',\n",
       " 'Loading  Skip to Main Content (#ccf5602c1c-2e20-4773-89f3-08f921ac655f)     [if lte IE 7]><link rel=\"stylesheet\" type=\"text/css\" href=\"/App_Themes/CP/ie7.css\"><![endif]  Allow Dashboard, Favorites Enabled      Header Container                      (/facebook)     (https://twitter.com/cityofrichmond)     (https://www.ci.richmond.ca.us/rss.aspx)          inner column   inner row  outer column       inner column   inner row  outer column       For the button right and inside     Search       inner column   inner row  outer column   outer row       City Government (/2013/City-Government)      Departments (/2014/Departments)      Business (/2016/Business)      Community (/2015/Community)       Banner            Content container       Home (/) Departments (/2014/Departments) Community Development (/101/Community-Development) Planning Division (/2098/Planning-Division) Duke Realty Light Industrial Warehouse     A (#)  A (#)             Duke Realty Light Industrial Warehouse             inner column   inner row  outer column   outer row        Project Contact Hector Lopez, Senior Planner hector_lopez@ci.richmond.ca.us (mailto:hector_lopez@ci.richmond.ca.us) (510) 620-6702 Project Description The proposed project is a light industrial warehouse that would include associated office uses. All existing structures on the site would be demolished, although two of the three existing driveways would be preserved. The proposed use totals 144,808 square feet with first-floor office space of 4,750 square feet and an Office Mezzanine of 4,245 square feet, for a total building area of 153,803square feet. The warehouse would have 24 loading docks, located at the eastern end of the building. The floor area ratio (FAR) would be 0.44, and the building height would be 43 feet. Project Location The project site is located at 731 West Cutting Boulevard in the City of Richmond. The 7.94-acre project site consists of a developed industrial site with access from two driveways along West Cutting Boulevard and one driveway along Canal Boulevard. The site is bounded to the north by Interstate 580 (I-580), with Canal Boulevard on the west and West Cutting Boulevard on the south. The eastern portion of the site is bounded by industrial development. Project and Related Documents Duke Realty Light Industrial Warehouse ISMND (/DocumentCenter/View/59573/Duke-Realty-Warehouse-Project_731-W-Cutting_ISMND) Duke Realty Light Industrial Warehouse Appendices (/DocumentCenter/View/59572/Appendices---Duke-Realty-Light-Industrial-Warehouse_COMBINED) Duke Realty Light Industrial Warehouse Final ISMND (/DocumentCenter/View/60257/21210022-Richmond-731-West-Cutting-Boulevard-Warehouse-Project-Final-ISMND) Duke Realty Light Industrial MMRP (/DocumentCenter/View/60258/21210022-Richmond-731-West-Cutting-Boulevard-Warehouse-Project-MMRP1)     inner column   inner row  outer column   outer row                   Accessory Dwelling Units (ADUs) (/4336/Accessory-Dwelling-Units-ADUs)      Architectural Heritage Guidelines (http://www.ci.richmond.ca.us/DocumentCenter/View/3525)      Boards & Commissions (/2861/Boards-Commissions)       Design Review Board      Historic Preservation Commission       Historic Preservation Awards        Planning Commission        Cannabis Business Information (/3603/Cannabis-Business-Information)      City Fact Sheet (/DocumentView.aspx?DID=8348)      Fees/Forms/Checklists (/2102/FeesFormsChecklists)      Form Based Code (http://www.ci.richmond.ca.us/2965/RLC-FBC)      General Plan 2030 (/2608/General-Plan-2030)      Hilltop Horizon Specific Plan (https://hilltophorizon.com/)      Historical Point Molate Project Information (http://www.ci.richmond.ca.us/270/Point-Molate)      Mapping Services (/3344/Mapping-Services)      Printable Maps (/290)      Project Information (/2860/Project-Information)       Additional Projects      Environmental Documents      General Plan Updates       About - Información acerca del Plan General      Frequently Asked Questions (FAQs) - Preguntas frecuentes      Participate - Participe      Library        Housing Element Update      Housing Policy      Major Projects      Notable Projects      Other Projects      Projects Information      Richmond Resilience Roadmap      Residential Activity Report        Regulatory Documents (/2867/Regulatory-Documents)       Bicycle Master Plan      Pedestrian Plan      Richmond Bay Specific Plan (RBSP)      Urban Greening Plan      Other Plans, Codes & Guidelines        Staff Directory (/2399/Staff-Directory)      Zoning Ordinance (/3379/Zoning-Ordinance)      Senate Bill 9 (SB 9) (/4188/Senate-Bill-9-SB-9)      Brickyard Cove Residential Project (/4349/Brickyard-Cove-Residential-Project)      Raven SR Bioenergy Project (/4365/Raven-SR-Bioenergy-Project)      Travel Safe Richmond (/4486/Travel-Safe-Richmond)           GBs                    (/151)  Agenda Docs   (/151)         (/965/Weekly-Announcements)  Weekly Report   (/965/Weekly-Announcements)         (/4340/KCRT-Media)  KCRT   (/4340/KCRT-Media)            inner column   inner row  outer column                 (/4518/Youth)  Youth   (/4518/Youth)         (/4540/55670/Visit-Richmond)  Visit Richmond   (/4540/55670/Visit-Richmond)         (https://www.transparentrichmond.org/)  City Data   (https://www.transparentrichmond.org/)            inner column   inner row  outer column   outer row    Calendar/Carousel <div data-cpRole=\"structuralContainer\" id=\"homeContainer1\"> <div class=\"siteWrap\"> <div data-cpRole=\"contentContainer\" id=\"homeContent1a\"></div> </div> </div> Footer                              inner column   inner row  outer column       inner column   inner row  outer column         Contact Us         RICHMOND CITY HALL 450 Civic Center Plaza Richmond, CA 94804 Phone Directory (http://www.ci.richmond.ca.us/Directory.aspx)  Directions (http://maps.google.com/maps?q=450+Civic+Center+Plaza,+Richmond+CA&oe=utf-8&rls=org.mozilla:en-US:official&client=firefox-a&um=1&ie=UTF-8&hq=&hnear=450+Civic+Center+Plaza,+Richmond,+CA+94804&gl=us&daddr=450%20Civic%20Center%20Plaza,%20Richmond,%20CA%2094804&ei=uxt0S8_-KoLUNYPuockK&sa=X&oi=geocode_result&ct=directions-to&resnum=1&ved=0CAoQwwUwAA)            inner column   inner row  outer column       inner column   inner row  outer column       Sign Up For E-News          inner column   inner row              (/facebook)     (https://twitter.com/cityofrichmond)     (/instagram)     (https://www.ci.richmond.ca.us/rss.aspx)          inner column   inner row  outer column       inner column   inner row  outer column         Site Links (/QuickLinks.aspx?CID=2,52,5)         Bay Area Legal Aid (http://www.baylegal.org/)     Contra Costa County Courts (http://www.cc-courts.org/)     California Courts (http://www.courts.ca.gov/)     Contra Costa County Bar Association (http://www.cccba.org/community/)     State Bar of California (http://www.calbar.ca.gov/state/calbar/calbar_home.jsp)     City Council Agenda Documents (http://www.ci.richmond.ca.us/index.aspx?NID=151)           /QuickLinks.aspx      inner column   inner row  outer column   outer row    Powered By                Government Websites by CivicPlus® (https://connect.civicplus.com/referral)       inner column   inner row  outer column   outer row           Loading          Content from the Froala Editor will go here. Loading    Do Not Show Again  Close      Powered by Translate (https://translate.google.com)     Arrow Left     Arrow Right        Slideshow Left Arrow       Slideshow Right Arrow                Original text Rate this translation Your feedback will be used to help improve Google Translate',\n",
       " 'Loading  Skip to Main Content (#ccf5602c1c-2e20-4773-89f3-08f921ac655f)     [if lte IE 7]><link rel=\"stylesheet\" type=\"text/css\" href=\"/App_Themes/CP/ie7.css\"><![endif]  Allow Dashboard, Favorites Enabled      Header Container                      (/facebook)     (https://twitter.com/cityofrichmond)     (https://www.ci.richmond.ca.us/rss.aspx)          inner column   inner row  outer column       inner column   inner row  outer column       For the button right and inside     Search       inner column   inner row  outer column   outer row       City Government (/2013/City-Government)      Departments (/2014/Departments)      Business (/2016/Business)      Community (/2015/Community)       Banner            Content container       Home (/) Departments (/2014/Departments) Community Development (/101/Community-Development) Planning Division (/2098/Planning-Division) Campus Bay Mixed Use Project     A (#)  A (#)             Campus Bay Mixed Use Project             inner column   inner row  outer column             Project Contact   Lina Velasco Community\\xa0 Development Director  Lina_Velasco@ci.richmond.ca.us  (510) 620-6841     inner column   inner row  outer column   outer row        Project Description The Campus Bay Mixed Use Project (Campus Bay Project) proposes a mixed-use community consisting of residential, commercial, and open space uses in the Sub-Area 4 portion of the Richmond Bay Specific Plan.  The Campus Bay Project proposes a mixed-use community comprising a portion (Sub-Area 4) of, and consistent with, the Richmond Bay Specific Plan, that includes the following components:   Remediation of the Project site as approved by and in accordance with all requirements of the California Department of Toxic Substances Control (DTSC);  Development of not less than 2,000 and not more than 4,000 multifamily residential units, including both rental and for-sale unit, including affordable dwellings consistent with City programs;  Development of approximately 50,000 square feet of retail/business/service uses (including a neighborhood grocery store); and  Development of approximately 30.7 acres of parks and open space, consisting of new parks, existing habitat areas, and construction of a trailhead with parking and restroom facilities for the San Francisco Bay Trail.  The initial Project entitlements included a Vesting Tentative Map, Use Permit, and Development Agreement.  Executed Development Agreement (/DocumentCenter/View/56907/EXECUTED_Campus-Bay-Development-Agr-79054563v18-1-21-2021) .   City Council Meeting - Via Teleconference - Tuesday, July 20, 2021, 10:00 a.m. The City Council of the City of Richmond will conduct a hearing to consider the potential termination of the Campus Bay Mixed-Use Project Agreement.   Notice of Public Hearing (/DocumentCenter/View/58372/Notice-of-Public-Hearing---Re-Termination-of-Development-Agreement-003)   City Council Meeting - Via Teleconference - Tuesday, December 1, 2020, 6:30 p.m.  Pubic hearing to consider adoption of the Addendum to the Richmond Bay Specific Plan (SCH#2014092082) Environmental Impact Report, including adopting a Mitigation Monitoring and Reporting Program; approval of a Development Agreement; approval of a Vesting Tentative Map for Condominium Purposes; and approval of a Use Permit for Residential Uses in the SD:R&D and T5MS-O transect zones of the Richmond Bay Specific Plan, and for development and park use within the –S, Shoreline Overlay district for the proposed Campus Bay Mixed-Use Project.   Notice of Public Hearing (/DocumentCenter/View/56346/Notice-of-Public-Hearing---PLN20-310CampusBayMixedUseProject--Published-112120)  City Council Sire Link - Agenda Public Hearing Item No. I-1 (http://sireweb.ci.richmond.ca.us/sirepub/mtgviewer.aspx?meetid=857&doctype=AGENDA)   Planning Commission Public Hearing - November 19, 2020 6:30 PM, 440 Civic Center Plaza, Council Chambers, Telephone and web conference only Public Hearing to consider a recommendation to the City Council on the Campus Bay Mixed Use Project (Campus Bay Project).   Notice of Public Hearing (/DocumentCenter/View/56180/PNG_NOTICE_PH_PC_111920)  Staff Report (/DocumentCenter/View/56209/PC_3_PLN20-310_Campus-Bay-Mixed-Use-Project_11-19-2020)  Campus Bay Addendum (/DocumentCenter/View/56193/Campus-Bay-Addednum_COLOR)  Campus Bay Appendices (/DocumentCenter/View/56192/APPENDICES_Combined) (Combined)  Campus Bay Fiscal Analysis (/DocumentCenter/View/56306/LEG-Memo-I-Fiscal-Review_11182020)  Pubic Comments (/DocumentCenter/View/56315/Campus-Bay-PC-Public-Comments_combined)   Subscribe for Updates   Please sign up on \" Notify Me (/list.aspx?ListID=391) \" if you are interested in receiving email updates for this project.        inner column   inner row  outer column   outer row                   Accessory Dwelling Units (ADUs) (/4336/Accessory-Dwelling-Units-ADUs)      Architectural Heritage Guidelines (http://www.ci.richmond.ca.us/DocumentCenter/View/3525)      Boards & Commissions (/2861/Boards-Commissions)       Design Review Board      Historic Preservation Commission       Historic Preservation Awards        Planning Commission        Cannabis Business Information (/3603/Cannabis-Business-Information)      City Fact Sheet (/DocumentView.aspx?DID=8348)      Fees/Forms/Checklists (/2102/FeesFormsChecklists)      Form Based Code (http://www.ci.richmond.ca.us/2965/RLC-FBC)      General Plan 2030 (/2608/General-Plan-2030)      Hilltop Horizon Specific Plan (https://hilltophorizon.com/)      Historical Point Molate Project Information (http://www.ci.richmond.ca.us/270/Point-Molate)      Mapping Services (/3344/Mapping-Services)      Printable Maps (/290)      Project Information (/2860/Project-Information)       Additional Projects      Environmental Documents      General Plan Updates       About - Información acerca del Plan General      Frequently Asked Questions (FAQs) - Preguntas frecuentes      Participate - Participe      Library        Housing Element Update      Housing Policy      Major Projects      Notable Projects      Other Projects      Projects Information      Richmond Resilience Roadmap      Residential Activity Report        Regulatory Documents (/2867/Regulatory-Documents)       Bicycle Master Plan      Pedestrian Plan      Richmond Bay Specific Plan (RBSP)      Urban Greening Plan      Other Plans, Codes & Guidelines        Staff Directory (/2399/Staff-Directory)      Zoning Ordinance (/3379/Zoning-Ordinance)      Senate Bill 9 (SB 9) (/4188/Senate-Bill-9-SB-9)      Brickyard Cove Residential Project (/4349/Brickyard-Cove-Residential-Project)      Raven SR Bioenergy Project (/4365/Raven-SR-Bioenergy-Project)      Travel Safe Richmond (/4486/Travel-Safe-Richmond)           GBs                    (/151)  Agenda Docs   (/151)         (/965/Weekly-Announcements)  Weekly Report   (/965/Weekly-Announcements)         (/4340/KCRT-Media)  KCRT   (/4340/KCRT-Media)            inner column   inner row  outer column                 (/4518/Youth)  Youth   (/4518/Youth)         (/4540/55670/Visit-Richmond)  Visit Richmond   (/4540/55670/Visit-Richmond)         (https://www.transparentrichmond.org/)  City Data   (https://www.transparentrichmond.org/)            inner column   inner row  outer column   outer row    Calendar/Carousel <div data-cpRole=\"structuralContainer\" id=\"homeContainer1\"> <div class=\"siteWrap\"> <div data-cpRole=\"contentContainer\" id=\"homeContent1a\"></div> </div> </div> Footer                              inner column   inner row  outer column       inner column   inner row  outer column         Contact Us         RICHMOND CITY HALL 450 Civic Center Plaza Richmond, CA 94804 Phone Directory (http://www.ci.richmond.ca.us/Directory.aspx)  Directions (http://maps.google.com/maps?q=450+Civic+Center+Plaza,+Richmond+CA&oe=utf-8&rls=org.mozilla:en-US:official&client=firefox-a&um=1&ie=UTF-8&hq=&hnear=450+Civic+Center+Plaza,+Richmond,+CA+94804&gl=us&daddr=450%20Civic%20Center%20Plaza,%20Richmond,%20CA%2094804&ei=uxt0S8_-KoLUNYPuockK&sa=X&oi=geocode_result&ct=directions-to&resnum=1&ved=0CAoQwwUwAA)            inner column   inner row  outer column       inner column   inner row  outer column       Sign Up For E-News          inner column   inner row              (/facebook)     (https://twitter.com/cityofrichmond)     (/instagram)     (https://www.ci.richmond.ca.us/rss.aspx)          inner column   inner row  outer column       inner column   inner row  outer column         Site Links (/QuickLinks.aspx?CID=2,52,5)         Bay Area Legal Aid (http://www.baylegal.org/)     Contra Costa County Courts (http://www.cc-courts.org/)     California Courts (http://www.courts.ca.gov/)     Contra Costa County Bar Association (http://www.cccba.org/community/)     State Bar of California (http://www.calbar.ca.gov/state/calbar/calbar_home.jsp)     City Council Agenda Documents (http://www.ci.richmond.ca.us/index.aspx?NID=151)           /QuickLinks.aspx      inner column   inner row  outer column   outer row    Powered By                Government Websites by CivicPlus® (https://connect.civicplus.com/referral)       inner column   inner row  outer column   outer row           Loading          Content from the Froala Editor will go here. Loading    Do Not Show Again  Close      Powered by Translate (https://translate.google.com)     Arrow Left     Arrow Right        Slideshow Left Arrow       Slideshow Right Arrow                Original text Rate this translation Your feedback will be used to help improve Google Translate',\n",
       " 'Loading  Skip to Main Content (#ccf5602c1c-2e20-4773-89f3-08f921ac655f)     [if lte IE 7]><link rel=\"stylesheet\" type=\"text/css\" href=\"/App_Themes/CP/ie7.css\"><![endif]  Allow Dashboard, Favorites Enabled      Header Container                      (/facebook)     (https://twitter.com/cityofrichmond)     (https://www.ci.richmond.ca.us/rss.aspx)          inner column   inner row  outer column       inner column   inner row  outer column       For the button right and inside     Search       inner column   inner row  outer column   outer row       City Government (/2013/City-Government)      Departments (/2014/Departments)      Business (/2016/Business)      Community (/2015/Community)       Banner            Content container       Home (/) Departments (/2014/Departments) Community Development (/101/Community-Development) Planning Division (/2098/Planning-Division) Cherry Blossom Row Project     A (#)  A (#)             Cherry Blossom Row Project             inner column   inner row  outer column   outer row        Project Description City Ventures, the applicant, is proposing to develop a 4.74-acre site located in the Southwest Annex neighborhood in the southern end of the City of Richmond with a landscaped residential community of 100 townhome-style condominiums. At least 10 percent of the proposed new housing units would be affordable to moderate-income households. The project site is comprised of three parcels: two contiguous parcels located west of Napa Street and a separate parcel located east of Napa Street. There is existing residential development on the west side of Napa Street. This development would remain and is not part of the proposed project. The three-story townhome-style condominiums with traditional architecture would be developed in 15 buildings ranging from triplexes to eight-plexes, separated by landscaped paseos and common open space. Five floor plans would be offered. The development will also contain amenities, including a community garden, landscaping, pathways, and small open space areas throughout the site to serve the Project residents. The project would require approval of a Vesting Tentative Map, Design Review, Conditional Use Permit and Concession and waiver under State Density Bonus Law. Project Plans Project Plans (/DocumentCenter/View/58238/Cherry-Blossom-Row-Digital-Submittal) Planning Commission Meeting - Via Teleconference - November 18, 2021, 6:30 PM Public hearing to consider the approval of a Vesting Tentative Map, Design Review, Conditional Use Permit for a community garden, and Concession and Waiver under State Density Bonus Law to construct a 100-unit townhome residential subdivision and related improvements on three vacant parcels totaling 4.7 acres. Staff Report (/DocumentCenter/View/59372/PC_1_PLN20-331_Cherry-Blossom-Row-Townhomes_11-18-2021) Design Review Board Meeting - Via Teleconference - July 28, 2021, 6:00 PM Public Hearing to consider a recommendation to the Planning Commission for a Design Review permit for Cherry Blossom Row Project. Staff Report (/DocumentCenter/View/58517/3_PLN20-331-2301-COLUMBIA-AVE_DRB_20200728---JUL28) Design Review Board Meeting - Via Teleconference - July 14, 2021, 6:00 PM Public Hearing to consider a recommendation to the Planning Commission for a Design Review permit. Staff Report (/DocumentCenter/View/58386/Item-2-PLN20-331-Report-Combined) For questions or comments please contact: Roberta Feliciano Senior Planner City of Richmond, Planning 450 Civic Center Plaza Richmond, CA 94804 (510) 620-6662 roberta_feliciano@ci.richmond.ca.us     inner column   inner row  outer column   outer row                   Accessory Dwelling Units (ADUs) (/4336/Accessory-Dwelling-Units-ADUs)      Architectural Heritage Guidelines (http://www.ci.richmond.ca.us/DocumentCenter/View/3525)      Boards & Commissions (/2861/Boards-Commissions)       Design Review Board      Historic Preservation Commission       Historic Preservation Awards        Planning Commission        Cannabis Business Information (/3603/Cannabis-Business-Information)      City Fact Sheet (/DocumentView.aspx?DID=8348)      Fees/Forms/Checklists (/2102/FeesFormsChecklists)      Form Based Code (http://www.ci.richmond.ca.us/2965/RLC-FBC)      General Plan 2030 (/2608/General-Plan-2030)      Hilltop Horizon Specific Plan (https://hilltophorizon.com/)      Historical Point Molate Project Information (http://www.ci.richmond.ca.us/270/Point-Molate)      Mapping Services (/3344/Mapping-Services)      Printable Maps (/290)      Project Information (/2860/Project-Information)       Additional Projects      Environmental Documents      General Plan Updates       About - Información acerca del Plan General      Frequently Asked Questions (FAQs) - Preguntas frecuentes      Participate - Participe      Library        Housing Element Update      Housing Policy      Major Projects      Notable Projects      Other Projects      Projects Information      Richmond Resilience Roadmap      Residential Activity Report        Regulatory Documents (/2867/Regulatory-Documents)       Bicycle Master Plan      Pedestrian Plan      Richmond Bay Specific Plan (RBSP)      Urban Greening Plan      Other Plans, Codes & Guidelines        Staff Directory (/2399/Staff-Directory)      Zoning Ordinance (/3379/Zoning-Ordinance)      Senate Bill 9 (SB 9) (/4188/Senate-Bill-9-SB-9)      Brickyard Cove Residential Project (/4349/Brickyard-Cove-Residential-Project)      Raven SR Bioenergy Project (/4365/Raven-SR-Bioenergy-Project)      Travel Safe Richmond (/4486/Travel-Safe-Richmond)           GBs                    (/151)  Agenda Docs   (/151)         (/965/Weekly-Announcements)  Weekly Report   (/965/Weekly-Announcements)         (/4340/KCRT-Media)  KCRT   (/4340/KCRT-Media)            inner column   inner row  outer column                 (/4518/Youth)  Youth   (/4518/Youth)         (/4540/55670/Visit-Richmond)  Visit Richmond   (/4540/55670/Visit-Richmond)         (https://www.transparentrichmond.org/)  City Data   (https://www.transparentrichmond.org/)            inner column   inner row  outer column   outer row    Calendar/Carousel <div data-cpRole=\"structuralContainer\" id=\"homeContainer1\"> <div class=\"siteWrap\"> <div data-cpRole=\"contentContainer\" id=\"homeContent1a\"></div> </div> </div> Footer                              inner column   inner row  outer column       inner column   inner row  outer column         Contact Us         RICHMOND CITY HALL 450 Civic Center Plaza Richmond, CA 94804 Phone Directory (http://www.ci.richmond.ca.us/Directory.aspx)  Directions (http://maps.google.com/maps?q=450+Civic+Center+Plaza,+Richmond+CA&oe=utf-8&rls=org.mozilla:en-US:official&client=firefox-a&um=1&ie=UTF-8&hq=&hnear=450+Civic+Center+Plaza,+Richmond,+CA+94804&gl=us&daddr=450%20Civic%20Center%20Plaza,%20Richmond,%20CA%2094804&ei=uxt0S8_-KoLUNYPuockK&sa=X&oi=geocode_result&ct=directions-to&resnum=1&ved=0CAoQwwUwAA)            inner column   inner row  outer column       inner column   inner row  outer column       Sign Up For E-News          inner column   inner row              (/facebook)     (https://twitter.com/cityofrichmond)     (/instagram)     (https://www.ci.richmond.ca.us/rss.aspx)          inner column   inner row  outer column       inner column   inner row  outer column         Site Links (/QuickLinks.aspx?CID=2,52,5)         Bay Area Legal Aid (http://www.baylegal.org/)     Contra Costa County Courts (http://www.cc-courts.org/)     California Courts (http://www.courts.ca.gov/)     Contra Costa County Bar Association (http://www.cccba.org/community/)     State Bar of California (http://www.calbar.ca.gov/state/calbar/calbar_home.jsp)     City Council Agenda Documents (http://www.ci.richmond.ca.us/index.aspx?NID=151)           /QuickLinks.aspx      inner column   inner row  outer column   outer row    Powered By                Government Websites by CivicPlus® (https://connect.civicplus.com/referral)       inner column   inner row  outer column   outer row           Loading          Content from the Froala Editor will go here. Loading    Do Not Show Again  Close      Select Language Afrikaans Albanian Amharic Arabic Armenian Assamese Aymara Azerbaijani Bambara Basque Belarusian Bengali Bhojpuri Bosnian Bulgarian Catalan Cebuano Chichewa Chinese (Simplified) Chinese (Traditional) Corsican Croatian Czech Danish Dhivehi Dogri Dutch Esperanto Estonian Ewe Filipino Finnish French Frisian Galician Georgian German Greek Guarani Gujarati Haitian Creole Hausa Hawaiian Hebrew Hindi Hmong Hungarian Icelandic Igbo Ilocano Indonesian Irish Italian Japanese Javanese Kannada Kazakh Khmer Kinyarwanda Konkani Korean Krio Kurdish (Kurmanji) Kurdish (Sorani) Kyrgyz Lao Latin Latvian Lingala Lithuanian Luganda Luxembourgish Macedonian Maithili Malagasy Malay Malayalam Maltese Maori Marathi Meiteilon (Manipuri) Mizo Mongolian Myanmar (Burmese) Nepali Norwegian Odia (Oriya) Oromo Pashto Persian Polish Portuguese Punjabi Quechua Romanian Russian Samoan Sanskrit Scots Gaelic Sepedi Serbian Sesotho Shona Sindhi Sinhala Slovak Slovenian Somali Spanish Sundanese Swahili Swedish Tajik Tamil Tatar Telugu Thai Tigrinya Tsonga Turkish Turkmen Twi Ukrainian Urdu Uyghur Uzbek Vietnamese Welsh Xhosa Yiddish Yoruba Zulu Powered by Translate (https://translate.google.com)     Arrow Left     Arrow Right        Slideshow Left Arrow       Slideshow Right Arrow                Original text Rate this translation Your feedback will be used to help improve Google Translate',\n",
       " 'Loading  Skip to Main Content (#ccf5602c1c-2e20-4773-89f3-08f921ac655f)     [if lte IE 7]><link rel=\"stylesheet\" type=\"text/css\" href=\"/App_Themes/CP/ie7.css\"><![endif]  Allow Dashboard, Favorites Enabled      Header Container                      (/facebook)     (https://twitter.com/cityofrichmond)     (https://www.ci.richmond.ca.us/rss.aspx)          inner column   inner row  outer column       inner column   inner row  outer column       For the button right and inside     Search       inner column   inner row  outer column   outer row       City Government (/2013/City-Government)      Departments (/2014/Departments)      Business (/2016/Business)      Community (/2015/Community)       Banner            Content container       Home (/) Departments (/2014/Departments) Community Development (/101/Community-Development) Planning Division (/2098/Planning-Division) Nevin Plaza Project     A (#)  A (#)             Nevin Plaza Project         Project Location 2400 Nevin Avenue, Richmond, CA 94804   Project Description The subject property is currently occupied by the 7-story Nevin Plaza building that provides multifamily residential uses and offices for the Richmond Housing Authority. The proposed project would reconfigure the existing building and construct a new building to provide two distinct housing types to serve seniors and persons with disabilities including:  1. Comprehensive renovation of the existing 7-story structure to provide 138 residences on floors 2 to 7 with all systems including mechanical, electrical and plumbing upgraded as needed; and 2. Construction of a 5-story structure providing 70-units in 4 stories above a concrete podium with one-level of on-site parking.  Project Related Documents    Notice of Findings of No Significant Impact and Notice of Intent to Request Release of Funds (http://www.ci.richmond.ca.us/DocumentCenter/View/55471/P-904-Nevin-FONSI_9-14-2020)  Environmental Assessment Determinations and Compliance Findings for HUD-assisted Projects (/DocumentCenter/View/55470/20-283358-Nevin-Plaza-Part-58-EA-200914)  Environmental Assessment Exhibits (/DocumentCenter/View/55469/ERR-Exhibits)   Project Contact Lina Velasco, Community Development Director lina_velasco@ci.richmond.ca.us (510) 620-6706        inner column   inner row  outer column   outer row                   Accessory Dwelling Units (ADUs) (/4336/Accessory-Dwelling-Units-ADUs)      Architectural Heritage Guidelines (http://www.ci.richmond.ca.us/DocumentCenter/View/3525)      Boards & Commissions (/2861/Boards-Commissions)       Design Review Board      Historic Preservation Commission       Historic Preservation Awards        Planning Commission        Cannabis Business Information (/3603/Cannabis-Business-Information)      City Fact Sheet (/DocumentView.aspx?DID=8348)      Fees/Forms/Checklists (/2102/FeesFormsChecklists)      Form Based Code (http://www.ci.richmond.ca.us/2965/RLC-FBC)      General Plan 2030 (/2608/General-Plan-2030)      Hilltop Horizon Specific Plan (https://hilltophorizon.com/)      Historical Point Molate Project Information (http://www.ci.richmond.ca.us/270/Point-Molate)      Mapping Services (/3344/Mapping-Services)      Printable Maps (/290)      Project Information (/2860/Project-Information)       Additional Projects      Environmental Documents      General Plan Updates       About - Información acerca del Plan General      Frequently Asked Questions (FAQs) - Preguntas frecuentes      Participate - Participe      Library        Housing Element Update      Housing Policy      Major Projects      Notable Projects      Other Projects      Projects Information      Richmond Resilience Roadmap      Residential Activity Report        Regulatory Documents (/2867/Regulatory-Documents)       Bicycle Master Plan      Pedestrian Plan      Richmond Bay Specific Plan (RBSP)      Urban Greening Plan      Other Plans, Codes & Guidelines        Staff Directory (/2399/Staff-Directory)      Zoning Ordinance (/3379/Zoning-Ordinance)      Senate Bill 9 (SB 9) (/4188/Senate-Bill-9-SB-9)      Brickyard Cove Residential Project (/4349/Brickyard-Cove-Residential-Project)      Raven SR Bioenergy Project (/4365/Raven-SR-Bioenergy-Project)      Travel Safe Richmond (/4486/Travel-Safe-Richmond)           GBs                    (/151)  Agenda Docs   (/151)         (/965/Weekly-Announcements)  Weekly Report   (/965/Weekly-Announcements)         (/4340/KCRT-Media)  KCRT   (/4340/KCRT-Media)            inner column   inner row  outer column                 (/4518/Youth)  Youth   (/4518/Youth)         (/4540/55670/Visit-Richmond)  Visit Richmond   (/4540/55670/Visit-Richmond)         (https://www.transparentrichmond.org/)  City Data   (https://www.transparentrichmond.org/)            inner column   inner row  outer column   outer row    Calendar/Carousel <div data-cpRole=\"structuralContainer\" id=\"homeContainer1\"> <div class=\"siteWrap\"> <div data-cpRole=\"contentContainer\" id=\"homeContent1a\"></div> </div> </div> Footer                              inner column   inner row  outer column       inner column   inner row  outer column         Contact Us         RICHMOND CITY HALL 450 Civic Center Plaza Richmond, CA 94804 Phone Directory (http://www.ci.richmond.ca.us/Directory.aspx)  Directions (http://maps.google.com/maps?q=450+Civic+Center+Plaza,+Richmond+CA&oe=utf-8&rls=org.mozilla:en-US:official&client=firefox-a&um=1&ie=UTF-8&hq=&hnear=450+Civic+Center+Plaza,+Richmond,+CA+94804&gl=us&daddr=450%20Civic%20Center%20Plaza,%20Richmond,%20CA%2094804&ei=uxt0S8_-KoLUNYPuockK&sa=X&oi=geocode_result&ct=directions-to&resnum=1&ved=0CAoQwwUwAA)            inner column   inner row  outer column       inner column   inner row  outer column       Sign Up For E-News          inner column   inner row              (/facebook)     (https://twitter.com/cityofrichmond)     (/instagram)     (https://www.ci.richmond.ca.us/rss.aspx)          inner column   inner row  outer column       inner column   inner row  outer column         Site Links (/QuickLinks.aspx?CID=2,52,5)         Bay Area Legal Aid (http://www.baylegal.org/)     Contra Costa County Courts (http://www.cc-courts.org/)     California Courts (http://www.courts.ca.gov/)     Contra Costa County Bar Association (http://www.cccba.org/community/)     State Bar of California (http://www.calbar.ca.gov/state/calbar/calbar_home.jsp)     City Council Agenda Documents (http://www.ci.richmond.ca.us/index.aspx?NID=151)           /QuickLinks.aspx      inner column   inner row  outer column   outer row    Powered By                Government Websites by CivicPlus® (https://connect.civicplus.com/referral)       inner column   inner row  outer column   outer row           Loading          Content from the Froala Editor will go here. Loading    Do Not Show Again  Close      Select Language Afrikaans Albanian Amharic Arabic Armenian Assamese Aymara Azerbaijani Bambara Basque Belarusian Bengali Bhojpuri Bosnian Bulgarian Catalan Cebuano Chichewa Chinese (Simplified) Chinese (Traditional) Corsican Croatian Czech Danish Dhivehi Dogri Dutch Esperanto Estonian Ewe Filipino Finnish French Frisian Galician Georgian German Greek Guarani Gujarati Haitian Creole Hausa Hawaiian Hebrew Hindi Hmong Hungarian Icelandic Igbo Ilocano Indonesian Irish Italian Japanese Javanese Kannada Kazakh Khmer Kinyarwanda Konkani Korean Krio Kurdish (Kurmanji) Kurdish (Sorani) Kyrgyz Lao Latin Latvian Lingala Lithuanian Luganda Luxembourgish Macedonian Maithili Malagasy Malay Malayalam Maltese Maori Marathi Meiteilon (Manipuri) Mizo Mongolian Myanmar (Burmese) Nepali Norwegian Odia (Oriya) Oromo Pashto Persian Polish Portuguese Punjabi Quechua Romanian Russian Samoan Sanskrit Scots Gaelic Sepedi Serbian Sesotho Shona Sindhi Sinhala Slovak Slovenian Somali Spanish Sundanese Swahili Swedish Tajik Tamil Tatar Telugu Thai Tigrinya Tsonga Turkish Turkmen Twi Ukrainian Urdu Uyghur Uzbek Vietnamese Welsh Xhosa Yiddish Yoruba Zulu Powered by Translate (https://translate.google.com)     Arrow Left     Arrow Right        Slideshow Left Arrow       Slideshow Right Arrow                Original text Rate this translation Your feedback will be used to help improve Google Translate',\n",
       " 'Loading  Skip to Main Content (#ccf5602c1c-2e20-4773-89f3-08f921ac655f)     [if lte IE 7]><link rel=\"stylesheet\" type=\"text/css\" href=\"/App_Themes/CP/ie7.css\"><![endif]  Allow Dashboard, Favorites Enabled      Header Container                      (/facebook)     (https://twitter.com/cityofrichmond)     (https://www.ci.richmond.ca.us/rss.aspx)          inner column   inner row  outer column       inner column   inner row  outer column       For the button right and inside     Search       inner column   inner row  outer column   outer row       City Government (/2013/City-Government)      Departments (/2014/Departments)      Business (/2016/Business)      Community (/2015/Community)       Banner            Content container       Home (/) Departments (/2014/Departments) Community Development (/101/Community-Development) Planning Division (/2098/Planning-Division) PowerPlant Park Project     A (#)  A (#)             PowerPlant Park Project             inner column   inner row  outer column          Project Contact Lina Velasco, Planning Manager Lina_Velasco@ci.richmond.ca.us  (510) 620-6841     inner column   inner row  outer column   outer row        Project Description PowerPlant Inc. proposes to develop a cannabis production facility that would include 45 greenhouses, a nursery, and a processing center. Support facilities would include an office/meeting center, a restaurant, a covered eating area, and guardhouse. The proposed project would improve an existing segment of the San Francisco Bay Trail along the project frontage. The project requires approval of a Use Permit. The project site is not listed as a hazardous waste site pursuant to Government Code Section 65962.5.   Planning Commission Public Hearing - April 18, 2019, 6:30 PM, 440 Civic Center Plaza, Council Chambers, 1st Floor Public Hearing to consider adoption of an Initial Study/Mitigated Negative Declaration (IS/MND), Mitigation Monitoring and Reporting Program (MMRP), and a conditional use permit for a proposed cannabis production facility.    Public Hearing (/DocumentCenter/View/49381/PowerPlant-Notice-of-Intent-4-18-2019)  PowerPlant Park Project Responses to Comments (/DocumentCenter/View/49377/PowerPlan-Final-Initial-Study-MND-3-29-2019)  PowerPlant Park Project Mitigation Monitoring & Reporting Program (/DocumentCenter/View/49378/PowerPlant-Park-Project-MMRP-3-29-2019)  PowerPlant Park Project Draft Initial Study/MND (/DocumentCenter/View/48101/Richmond---PowerPlant-Ag-Dev-Program-ISMND)   Review and Comment Period: Comments on the MND, sent in writing, must be received by 5 :00 p.m. on Friday, January 18, 2019 , at the following address or email:   Lina Velasco City of Richmond Planning Division 450 Civic Center Plaza P.O. Box 4046 Richmond, CA 94804 Lina_Velasco@ci.richmond.ca.us   Report Availability: A copy of the MND is available at this site.\\xa0Copies are also available for review at the following locations: Richmond Public Library - Main Branch 325 Civic Center Plaza, Richmond, CA 94804 and City of Richmond, Planning and Building Services Department, City Hall, 450 Civic Center Plaza, Richmond, CA, 94804.  The City of Richmond intends to adopt a Mitigated Negative Declaration (MND) for the following described project in accordance with the California Environmental Quality Act (CEQA) of 1970, as amended, and the City of Richmond’s Guidelines and Procedures for Implementation of CEQA.    Notice of\\xa0Intent (/DocumentCenter/View/48094/PowerPlant-Notice-of-Intent)   PowerPlant Park Project Draft Initial Study/MND (/DocumentCenter/View/48101/Richmond---PowerPlant-Ag-Dev-Program-ISMND)  Appendix A - Air Quality and GHG Supporting Information (/DocumentCenter/View/48102/App-A---AQ-GHG-Supporting-Info-ASMBLD)  Appendix B: Biological\\xa0Resources Supporting Information (/DocumentCenter/View/48098/App-B---Bio-Resources-ASMBLD)  Appendix\\xa0C: Cultural Resources Supporting Information (/DocumentCenter/View/48106/App-C---Cultural-Resources-Supporting-Info-ASMBLD)  Appendix D: Noise Supporting Information (/DocumentCenter/View/48099/App-D---Noise-Supporting-Info-ASMBLD)  Appendix E: Traffic Impact Study (/DocumentCenter/View/48100/App-E---TIS-ASMBLD)      inner column   inner row  outer column   outer row                   Accessory Dwelling Units (ADUs) (/4336/Accessory-Dwelling-Units-ADUs)      Architectural Heritage Guidelines (http://www.ci.richmond.ca.us/DocumentCenter/View/3525)      Boards & Commissions (/2861/Boards-Commissions)       Design Review Board      Historic Preservation Commission       Historic Preservation Awards        Planning Commission        Cannabis Business Information (/3603/Cannabis-Business-Information)      City Fact Sheet (/DocumentView.aspx?DID=8348)      Fees/Forms/Checklists (/2102/FeesFormsChecklists)      Form Based Code (http://www.ci.richmond.ca.us/2965/RLC-FBC)      General Plan 2030 (/2608/General-Plan-2030)      Hilltop Horizon Specific Plan (https://hilltophorizon.com/)      Historical Point Molate Project Information (http://www.ci.richmond.ca.us/270/Point-Molate)      Mapping Services (/3344/Mapping-Services)      Printable Maps (/290)      Project Information (/2860/Project-Information)       Additional Projects      Environmental Documents      General Plan Updates       About - Información acerca del Plan General      Frequently Asked Questions (FAQs) - Preguntas frecuentes      Participate - Participe      Library        Housing Element Update      Housing Policy      Major Projects      Notable Projects      Other Projects      Projects Information      Richmond Resilience Roadmap      Residential Activity Report        Regulatory Documents (/2867/Regulatory-Documents)       Bicycle Master Plan      Pedestrian Plan      Richmond Bay Specific Plan (RBSP)      Urban Greening Plan      Other Plans, Codes & Guidelines        Staff Directory (/2399/Staff-Directory)      Zoning Ordinance (/3379/Zoning-Ordinance)      Senate Bill 9 (SB 9) (/4188/Senate-Bill-9-SB-9)      Brickyard Cove Residential Project (/4349/Brickyard-Cove-Residential-Project)      Raven SR Bioenergy Project (/4365/Raven-SR-Bioenergy-Project)      Travel Safe Richmond (/4486/Travel-Safe-Richmond)           GBs                    (/151)  Agenda Docs   (/151)         (/965/Weekly-Announcements)  Weekly Report   (/965/Weekly-Announcements)         (/4340/KCRT-Media)  KCRT   (/4340/KCRT-Media)            inner column   inner row  outer column                 (/4518/Youth)  Youth   (/4518/Youth)         (/4540/55670/Visit-Richmond)  Visit Richmond   (/4540/55670/Visit-Richmond)         (https://www.transparentrichmond.org/)  City Data   (https://www.transparentrichmond.org/)            inner column   inner row  outer column   outer row    Calendar/Carousel <div data-cpRole=\"structuralContainer\" id=\"homeContainer1\"> <div class=\"siteWrap\"> <div data-cpRole=\"contentContainer\" id=\"homeContent1a\"></div> </div> </div> Footer                              inner column   inner row  outer column       inner column   inner row  outer column         Contact Us         RICHMOND CITY HALL 450 Civic Center Plaza Richmond, CA 94804 Phone Directory (http://www.ci.richmond.ca.us/Directory.aspx)  Directions (http://maps.google.com/maps?q=450+Civic+Center+Plaza,+Richmond+CA&oe=utf-8&rls=org.mozilla:en-US:official&client=firefox-a&um=1&ie=UTF-8&hq=&hnear=450+Civic+Center+Plaza,+Richmond,+CA+94804&gl=us&daddr=450%20Civic%20Center%20Plaza,%20Richmond,%20CA%2094804&ei=uxt0S8_-KoLUNYPuockK&sa=X&oi=geocode_result&ct=directions-to&resnum=1&ved=0CAoQwwUwAA)            inner column   inner row  outer column       inner column   inner row  outer column       Sign Up For E-News          inner column   inner row              (/facebook)     (https://twitter.com/cityofrichmond)     (/instagram)     (https://www.ci.richmond.ca.us/rss.aspx)          inner column   inner row  outer column       inner column   inner row  outer column         Site Links (/QuickLinks.aspx?CID=2,52,5)         Bay Area Legal Aid (http://www.baylegal.org/)     Contra Costa County Courts (http://www.cc-courts.org/)     California Courts (http://www.courts.ca.gov/)     Contra Costa County Bar Association (http://www.cccba.org/community/)     State Bar of California (http://www.calbar.ca.gov/state/calbar/calbar_home.jsp)     City Council Agenda Documents (http://www.ci.richmond.ca.us/index.aspx?NID=151)           /QuickLinks.aspx      inner column   inner row  outer column   outer row    Powered By                Government Websites by CivicPlus® (https://connect.civicplus.com/referral)       inner column   inner row  outer column   outer row           Loading          Content from the Froala Editor will go here. Loading    Do Not Show Again  Close      Powered by Translate (https://translate.google.com)     Arrow Left     Arrow Right        Slideshow Left Arrow       Slideshow Right Arrow                Original text Rate this translation Your feedback will be used to help improve Google Translate',\n",
       " 'Loading  Skip to Main Content (#ccf5602c1c-2e20-4773-89f3-08f921ac655f)     [if lte IE 7]><link rel=\"stylesheet\" type=\"text/css\" href=\"/App_Themes/CP/ie7.css\"><![endif]  Allow Dashboard, Favorites Enabled      Header Container                      (/facebook)     (https://twitter.com/cityofrichmond)     (https://www.ci.richmond.ca.us/rss.aspx)          inner column   inner row  outer column       inner column   inner row  outer column       For the button right and inside     Search       inner column   inner row  outer column   outer row       City Government (/2013/City-Government)      Departments (/2014/Departments)      Business (/2016/Business)      Community (/2015/Community)       Banner            Content container       Home (/) Departments (/2014/Departments) Community Development (/101/Community-Development) Planning Division (/2098/Planning-Division) Quarry Residential Project     A (#)  A (#)             Quarry Residential Project             inner column   inner row  outer column         Project Contact Lina Velasco, Planning Manager Lina_Velasco@ci.richmond.ca.us (510) 620-6841    inner column   inner row  outer column   outer row        Project Description The proposed Project includes the development of a residential neighborhood that would\\xa0consist of up to 200 condominiums (1-bedroom, 2-bedrooms and 3- bedrooms) in three-story\\xa0buildings (some with four-story elements), approximately 300 parking spaces, and associated\\xa0common areas and amenities. The Project would develop approximately 5.5 acres of the site\\xa0and preserve the remaining 12.9 acres (approximately 70 percent of the site) of the 18.4 acres site as open space.  The buildings will have a height of 40-50 feet above the finished floor elevation of ground level\\xa0units. Landscaping, pathways, and small open space areas would be installed throughout the site.\\xa0Other planned neighborhood amenities include a recreation center, fitness center, and swimming\\xa0pool. The Project also includes internal roads and infrastructure improvements. The Project may\\xa0also include improvements to the existing right-of-way, including the addition of landscaping and\\xa0lighting, and improvements to the San Francisco Bay Trail.  The Project includes a proposed General Plan amendment to change the land use designation of\\xa0the site from Parks and Recreation to Medium Density Residential. The Project also includes a\\xa0proposed change in the site’s zoning designation from Parks and Recreation (PR) to Planned\\xa0Area District (PA), including exceeding the maximum building height limit of 35 feet for the\\xa0Medium Density Residential General Plan designation.   Project Location The Project site is located at 1135 Canal Boulevard, south and east of the intersection of Canal\\xa0Boulevard and Seacliff Drive in the neighborhood of Point Richmond, in the City of Richmond,\\xa0Contra Costa County (see Figure 1 in this NOP). The Project site is bounded by Miller-Knox\\xa0Regional Shoreline park (which is managed by the East Bay Regional Park District [EBRPD]) to\\xa0the north, Seacliff Drive and the residential community of Seacliff to the east, vacant property\\xa0and Seacliff Drive to the south, and Miller-Knox Regional Shoreline park and the community of\\xa0Seacliff to the west.   Design Review Board Public Hearing - March 23, 2022, 6:00 PM  (This meeting will utilize telephone and web conference only) Public Hearing to consider a recommendation to the Planning Commission on The Quarry Residential Project Redesign.   Notice of Public Hearing (/DocumentCenter/View/60216/PNG_NOTICE_PH_DRB)  Staff Report (/DocumentCenter/View/60548/4_PLN21-327-1135-CANAL-BLVD_DRB20220309---MAR09)  Quarry Residential Project Site Plan (/DocumentCenter/View/60217/Quarry-Residential-Project-January-2022)   Planning Commission Public Hearing - February 1, 2018, 6:30 PM, 440 Civic Center Plaza, Council Chambers, 1st Floor Public Hearing to consider a recommendation to the City Council on The Quarry Residential Project.   Notice of Public Hearing (/DocumentCenter/View/45525)  Quarry Residential Project (/DocumentCenter/View/45576) (Response to Comments/Final Environmental Impact Report)   Design Review Board Public Hearing - December 13, 2017, 6:00 PM, 440 Civic Center Plaza, Council Chambers, 1st Floor Public Hearing to consider a Design Review permit and planned area plan which is part of the planned area rezoning for the proposed Quarry Residential Project.   Notice of Public Hearing (/DocumentCenter/View/45274)  Staff Report (/DocumentCenter/View/45293)  Site Plan Alternative (/DocumentCenter/View/45324)   Draft Environmental Impact Report Available A Draft Environmental Impact Report (DEIR) has been completed, which assesses the potential environmental impacts associated with the Project. The DEIR is available for review for review and comment.   Notice of Availability (https://ca-richmond3.civicplus.com/DocumentCenter/View/44255)  Draft Environmental Impact Report (DEIR) (https://ca-richmond3.civicplus.com/DocumentCenter/View/44257)  DEIR Appendices (https://ca-richmond3.civicplus.com/DocumentCenter/View/44256)  Copies will also be available for review at the following locations:   Richmond Public Libraries: Main Branch 325 Civic Center Plaza, Richmond, CA 94804, and West Side Branch 135 Washington Avenue, Richmond, CA 94801 (Point Richmond); and City of Richmond Planning and Building Services Department , City Hall, 450 Civic Center Plaza, Richmond, CA, 94804. The Planning public counter is open Monday through Thursday from 8:30 a.m. to 4:00 p.m. and Friday from 8:30 a.m. to 12:30 p.m.  Pursuant to CEQA Guidelines Section 15105(a), a minimum forty-five-day (45) public review period is required and shall commence on the date of this notice (October 6, 2017). All written comments on this document must be submitted to the City of Richmond Planning Department within this 45-day review period, or by November 20, 2017, by 5:00 p.m. All written comments must be submitted to the City of Richmond Planning Division, 450 Civic Center Plaza, 2nd Floor, Richmond, CA 94804.  A public meeting to hear comments on the Draft EIR will be held at 6:30 p.m. on November 16, 2017 at the Planning Commission meeting held in the Council Chambers at 440 Civic Center Plaza in Richmond, 94804.  Please mail or email your written comments on the Draft EIR, no later than 5:00 p.m. on November 20, 2017, to:   Lina Velasco, Project Manager II City of Richmond Planning Division 450 Civic Center Plaza-2nd Floor Richmond, CA 94804 Lina_Velasco@ci.richmond.ca.us Please include in your written response the name and phone number of a contact person in your agency.  (/DocumentCenter/View/43999)  Subscribe for Updates Please sign up on \"Notify Me\" (http://www.ci.richmond.ca.us/list.aspx?ListID=369 ) if you are interested in receiving email updates for this project.       inner column   inner row  outer column   outer row                   Accessory Dwelling Units (ADUs) (/4336/Accessory-Dwelling-Units-ADUs)      Architectural Heritage Guidelines (http://www.ci.richmond.ca.us/DocumentCenter/View/3525)      Boards & Commissions (/2861/Boards-Commissions)       Design Review Board      Historic Preservation Commission       Historic Preservation Awards        Planning Commission        Cannabis Business Information (/3603/Cannabis-Business-Information)      City Fact Sheet (/DocumentView.aspx?DID=8348)      Fees/Forms/Checklists (/2102/FeesFormsChecklists)      Form Based Code (http://www.ci.richmond.ca.us/2965/RLC-FBC)      General Plan 2030 (/2608/General-Plan-2030)      Hilltop Horizon Specific Plan (https://hilltophorizon.com/)      Historical Point Molate Project Information (http://www.ci.richmond.ca.us/270/Point-Molate)      Mapping Services (/3344/Mapping-Services)      Printable Maps (/290)      Project Information (/2860/Project-Information)       Additional Projects      Environmental Documents      General Plan Updates       About - Información acerca del Plan General      Frequently Asked Questions (FAQs) - Preguntas frecuentes      Participate - Participe      Library        Housing Element Update      Housing Policy      Major Projects      Notable Projects      Other Projects      Projects Information      Richmond Resilience Roadmap      Residential Activity Report        Regulatory Documents (/2867/Regulatory-Documents)       Bicycle Master Plan      Pedestrian Plan      Richmond Bay Specific Plan (RBSP)      Urban Greening Plan      Other Plans, Codes & Guidelines        Staff Directory (/2399/Staff-Directory)      Zoning Ordinance (/3379/Zoning-Ordinance)      Senate Bill 9 (SB 9) (/4188/Senate-Bill-9-SB-9)      Brickyard Cove Residential Project (/4349/Brickyard-Cove-Residential-Project)      Raven SR Bioenergy Project (/4365/Raven-SR-Bioenergy-Project)      Travel Safe Richmond (/4486/Travel-Safe-Richmond)           GBs                    (/151)  Agenda Docs   (/151)         (/965/Weekly-Announcements)  Weekly Report   (/965/Weekly-Announcements)         (/4340/KCRT-Media)  KCRT   (/4340/KCRT-Media)            inner column   inner row  outer column                 (/4518/Youth)  Youth   (/4518/Youth)         (/4540/55670/Visit-Richmond)  Visit Richmond   (/4540/55670/Visit-Richmond)         (https://www.transparentrichmond.org/)  City Data   (https://www.transparentrichmond.org/)            inner column   inner row  outer column   outer row    Calendar/Carousel <div data-cpRole=\"structuralContainer\" id=\"homeContainer1\"> <div class=\"siteWrap\"> <div data-cpRole=\"contentContainer\" id=\"homeContent1a\"></div> </div> </div> Footer                              inner column   inner row  outer column       inner column   inner row  outer column         Contact Us         RICHMOND CITY HALL 450 Civic Center Plaza Richmond, CA 94804 Phone Directory (http://www.ci.richmond.ca.us/Directory.aspx)  Directions (http://maps.google.com/maps?q=450+Civic+Center+Plaza,+Richmond+CA&oe=utf-8&rls=org.mozilla:en-US:official&client=firefox-a&um=1&ie=UTF-8&hq=&hnear=450+Civic+Center+Plaza,+Richmond,+CA+94804&gl=us&daddr=450%20Civic%20Center%20Plaza,%20Richmond,%20CA%2094804&ei=uxt0S8_-KoLUNYPuockK&sa=X&oi=geocode_result&ct=directions-to&resnum=1&ved=0CAoQwwUwAA)            inner column   inner row  outer column       inner column   inner row  outer column       Sign Up For E-News          inner column   inner row              (/facebook)     (https://twitter.com/cityofrichmond)     (/instagram)     (https://www.ci.richmond.ca.us/rss.aspx)          inner column   inner row  outer column       inner column   inner row  outer column         Site Links (/QuickLinks.aspx?CID=2,52,5)         Bay Area Legal Aid (http://www.baylegal.org/)     Contra Costa County Courts (http://www.cc-courts.org/)     California Courts (http://www.courts.ca.gov/)     Contra Costa County Bar Association (http://www.cccba.org/community/)     State Bar of California (http://www.calbar.ca.gov/state/calbar/calbar_home.jsp)     City Council Agenda Documents (http://www.ci.richmond.ca.us/index.aspx?NID=151)           /QuickLinks.aspx      inner column   inner row  outer column   outer row    Powered By                Government Websites by CivicPlus® (https://connect.civicplus.com/referral)       inner column   inner row  outer column   outer row           Loading          Content from the Froala Editor will go here. Loading    Do Not Show Again  Close      Powered by Translate (https://translate.google.com)     Arrow Left     Arrow Right        Slideshow Left Arrow       Slideshow Right Arrow                Original text Rate this translation Your feedback will be used to help improve Google Translate',\n",
       " 'Loading  Skip to Main Content (#ccf5602c1c-2e20-4773-89f3-08f921ac655f)     [if lte IE 7]><link rel=\"stylesheet\" type=\"text/css\" href=\"/App_Themes/CP/ie7.css\"><![endif]  Allow Dashboard, Favorites Enabled      Header Container                      (/facebook)     (https://twitter.com/cityofrichmond)     (https://www.ci.richmond.ca.us/rss.aspx)          inner column   inner row  outer column       inner column   inner row  outer column       For the button right and inside     Search       inner column   inner row  outer column   outer row       City Government (/2013/City-Government)      Departments (/2014/Departments)      Business (/2016/Business)      Community (/2015/Community)       Banner            Content container       Home (/) Departments (/2014/Departments) Community Development (/101/Community-Development) Planning Division (/2098/Planning-Division) Point Molate Mixed Use Project     A (#)  A (#)             Point Molate Mixed Use Project         Project Contact  Lina Velasco Director of Community Development  Lina_Velasco@ci.richmond.ca.us (mailto:Lina_Velasco@ci.richmond.ca.us)  Project Location   The Point Molate Site is located on the San Pablo Peninsula within the City, in Contra Costa County.\\xa0 The Project Site is bounded by the San Francisco Bay to the west, open space parcels to the north and south, and the Chevron Richmond refinery to the east, with Potrero Ridge’s 480-foot hillsides separating these two sites.\\xa0 Approximately 142 acres of the approximately 413-acre Project Site are submerged in the San Francisco Bay, leaving approximately 271 acres above water.\\xa0 The Project Site is approximately 1.5 miles north of Interstate 580 (I-580) and the Richmond-San Rafael Bridge, and has direct freeway access through Stenmark Drive, a City-owned roadway.   Project Description   The Point Molate Mixed Use Project (Project) proposes a mixed-use community that would include the following components:\\xa0 open space, adaptive re-use of the historic cottages, adaptive re-use of the historic Winehaven buildings, and residential development.   The Modified Project proposes a mixed-use community that would include the following components:   Approximately 1,260 newly constructed residential units.  Approximately 374,572 square feet of rehabilitated existing structures and 250,000 square feet of new construction for mixed-use development that could include restaurant, retail, commercial, and/or residential uses.  Approximately 10,000 square feet for an onsite joint fire and police substation and/or other community service uses.  At least 70 percent of the total above-water Project Site area (approximately 193.06 acres) would remain as open space, including recreational areas, parks, trails (including an approximately 1.5-mile portion of the San Francisco Bay Trail along the shoreline), vista overlooks, and other similar spaces that are open to the public.  A terminal on the existing pier that may be accessible to water transit options, such as ferries, water shuttles, and/or water taxis.  New roads to serve the development within the Project Site; additionally, widening Stenmark Drive from the Project Site to I-580 Ramps.  Utilities and infrastructure improvements that would be required to serve the new development.   Executed Agreements   Development Agreement (/DocumentCenter/View/57797/Point-Molate-Development-Agreement)  Disposition and Development Agreement (/DocumentCenter/View/57796/Point-Molate-Disposition-and-Development-Agreement)    Point Molate Fiscal Impact Analysis   Point Molate Fiscal and Economic Impact Analysis (/DocumentCenter/View/54455/192173-Report-06-17-2020)  Peer Review of Winehaven Prepared Fiscal Impact Analysis (/DocumentCenter/View/54456/BAE-Pt-Molate-FIA-Peer-Review---FINAL-062920)   City Council Meeting - Via Teleconference - Tuesday , September 8, 2020, 5:30 p.m. The City Council of the City of Richmond will conduct a hearing to consider certification of the Final Subsequent Environmental Impact Report.   Notice of Public Hearing (/DocumentCenter/View/55188/Notice-of-Public-Hearing---PLN20-057PointMolateMixedUseProject--Published-08-29-20)  Staff Report (/DocumentCenter/View/55309/Agenda-Report-Point-Molate_CC_September_8_2020)  Attachment 1 - (/DocumentCenter/View/55302/Attachment-1-Draft_City_Council_Resolution) Resolution certifying the Final SEIR and adopting a Mitigation Monitoring and Reporting Program (MMRP), CEQA Findings of Facts and Statement of Overriding Considerations; Approving a General Plan map and text amendments; approving Design Guidelines with a Historic Conservation Plan and Planned Area District Plan; approving a Conditional Use Permit for a Shoreline Park in –S Overlay Zone; approving a Vesting Tentative Tract Map; approving a Major Design Review for Design Guidelines ; and approving a Disposition and Development Agreement with Winehaven Legacy LLC   Exhibit\\xa0A - Final Subsequent Environmental Impart Report, consisting of the Draft Subsequent Environmental Impact Report (/DocumentCenter/View/55226/Final_SEIR_February-2020_CC_090820) , Response to Comments (/DocumentCenter/View/55227/Responses-to-Comments_CC_090820) , and Errata to Final SEIR and MMRP (/DocumentCenter/View/55250/Final-SEIR_PC_Errata_090120)  Exhibit B (/DocumentCenter/View/55255/Attachment-1-Exhibit-B---CEQA-Findings-and-Statement-of-Overriding-Considerations) - CEQA Findings and Statement of Overriding Considerations  Exhibit C (/DocumentCenter/View/55256/Attachment-1-Exhibit-C---MMRP) - Mitigation Monitoring and Reporting Program  Exhibit D (/DocumentCenter/View/55257/Attachment-1-Exhibit-D---General-Plan-Amendments) - General Plan Amendment  Exhibit E (/DocumentCenter/View/55251/Attachment-1-Exhibit-E---Design-Guidelines-with-Master-PA-Plan-and-Historic-Conservation-Plan) - Design Guidelines with Master PA Plan, Historic Conservation Plan, and Other Sections  Exhibit F (/DocumentCenter/View/55258/Attachment-1-Exhibit-F---Vesting-Tentative-Tract-Map) - Vesting Tentative Tract Map  Exhibit G (/DocumentCenter/View/55311/Attachment-1---Exhibit-G---Disposition-and-Development-Agreement) - Disposition and Development Agreement  Exhibit H (/DocumentCenter/View/55301/Attachment-1-Exhibit-H---Draft-Conditions-of-Approval-CC) - Conditions of Approval  Exhibit I (/DocumentCenter/View/55300/Attachment-1-Exhibit-I---Technical-Memorandum-Regarding-Late-Comments) - Technical Memorandum regarding Late Comments on SEIR    Attachment 2 - Ordinance Rezoning (/DocumentCenter/View/55264/Attachment-2-Draft_Ordinance-Rezoning) the project site to PA, Planned Area District with-H, Historic District Overlay for the Winehaven Historic District   Exhibit A (/DocumentCenter/View/55253/Attachment-2-Exhibit-A---Zoning-Amendment) - Zoning Amendment  Exhibit B (/DocumentCenter/View/55262/Attachment-2-Exhibit-B---Point-Molate-Design-Guidelines) - Point Molate Design Guidelines    Attachment 3 - Ordinance approving a Development Agreement (/DocumentCenter/View/55265/Attachment-3-Draft_Ordinance_for_Development_Agreement)   Exhibit A (/DocumentCenter/View/55254/Attachment-3-Exhibit-A---Development-Agreement) - Development Agreement      Continued Item - Planning Commission Special Meeting - Via Teleconference - Thursday, August 20, 2020, 6:30 p.m.   Planning Commission Agenda (/DocumentCenter/View/55098/PC-Meeting-Agenda_8-20-2020)    Planning Commission Special Meeting - Via Teleconference - Monday, August 17, 2020, 6:30 p.m. Public Hearing to consider a recommendation to the City Council on the: Certification of the Final Subsequent Environmental Impact Report including adopting a Mitigation Monitoring and Reporting Program, CEQA Findings of Fact and a Statement of Overriding Considerations; General Plan text and map amendments; Rezoning the project site to Planned Area (PA) district with an –H, Historic district overlay over the Winehaven Historic District and a –S, Shoreline Overlay for the shoreline band area; a Development Agreement, a Large Lot Vesting Tentative Map; Conditional Use Permit and a major Design Review of the PA Plan and the Point Molate Design Guidelines for the proposed Point Molate Mixed-Use Development Project, which proposes a mix of residential and non-residential uses, including office space and retail, along with open space including recreational areas, parks, trails (including a 1.5 mile portion of the San Francisco Bay Trail), vista overlooks, and other similar spaces open to the public at 2100 Stenmark Drive (APN: 561-100-008). Existing Zoning: RM-1, Medium Density Multi-Family Residential; RH, Single Family Hillside Residential; PR, Parks and Recreation; CG, Commercial General; IL, Industrial Light; and OS, Open Space District. The project also includes infrastructure and roadway improvements needed to support the proposed development.   Notice of Public Hearing (/DocumentCenter/View/54738/PNG_NOTICE_PC_PH_081720)  Staff Report (/DocumentCenter/View/54891/PC_AGENDA_REPORT_081720)  Attachment 1 - Final Subsequent Environmental Impact Report (SEIR)  Response to Comments (RTC) (http://www.ci.richmond.ca.us/DocumentCenter/View/54596/_Point-Molate-Mixed-Use-Development-Project-RTC-Doc_July-2020)  RTC - Attachments 1-10 (http://www.ci.richmond.ca.us/DocumentCenter/View/54600/Respose-to-Comments---Appendices-Part-I)  RTC - Attachments 11-21 (http://www.ci.richmond.ca.us/DocumentCenter/View/54601/Respose-to-Comments---Appendices-Part-2)  Draft SEIR (http://www.ci.richmond.ca.us/DocumentCenter/View/52295/_Point-Molate-Mixed-Use-Development-Project-Draft-SEIR_February-2020)  Draft SEIR Appendices A-K (http://www.ci.richmond.ca.us/DocumentCenter/View/52309/Appendices--A---K-Compiled)  Draft SEIR Appendices L-U (http://www.ci.richmond.ca.us/DocumentCenter/View/52308/Appendices--L---U-Compiled)     Attachment 2 - Draft Resolution (/DocumentCenter/View/54892/Attachment-2---PC_Resolution_081720_DRAFT)   Exhibit A: CEQA Findings and Statement of Overriding Considerations (/DocumentCenter/View/54893/Exhibit-A---CEQA_Findings)   Exhibit B: Mitigation Monitoring and Reporting Program (/DocumentCenter/View/54894/Exhibit-B---Mitigation-Monitoring-and-Reporting-Program)   Exhibit C: General Plan Amendment (/DocumentCenter/View/54895/Exhibit-C---General-Plan-Amendments)   Exhibit D: Zoning Amendments (/DocumentCenter/View/54896/Exhibit-D---Zoning-Amendment)   Exhibit E: Design Guidelines with Master PA Plan, Historic Conservation Plan, and other sections (/DocumentCenter/View/54897/Exhibit-E---Design-Guidelines-with-PA-Plan-and-Historic-Conservation-Plan)   Exhibit F: Vesting Tentative Map (/DocumentCenter/View/54901/Exhibit-F---VTM_full-set_city-submittal_2020_08-12)   Exhibit G: Development Agreement (/DocumentCenter/View/54898/Exhibit-G---Point_Molate_Development_Agreement_08_13_20)   Exhibit H: Conditions of Approval (/DocumentCenter/View/54899/Exhibit-H---Draft-Conditions-of-Approval_081720_REDLINE)   Attachment 3 - Public Comments\\xa0Part 1 (/DocumentCenter/View/54900/Public-Comments)  Attachment 3 - Public Comments Part 2 (/DocumentCenter/View/55018/Public-Comments---Part-2)  Attachment 3 - Public Comments Part 3 (/DocumentCenter/View/55112/Public-Comments---Part-3)     Planning Commission Meeting - Via Teleconference - Thursday, August 6, 2020, 6:30 p.m.    The staff will present the Final Subsequent Environmental Impact Report (SEIR), consisting of the Draft SEIR and Responses to Comments, for the Point Molate Mixed Use Development Project to the Planning Commission. While this meeting was earlier noticed as a public hearing to consider the Planning Commission’s recommendation on the Project; since the publication of the notice, the City has decided to provide the Planning Commission and the public an additional opportunity to learn about the analysis contained in the Final SEIR before the public hearing to consider a recommendation regarding certification of the SEIR and recommendation on the Project entitlements by the Planning Commission, which hearing will be held on August 17, 2020. This presentation is not a public hearing on the Project, Project Entitlements, or certification of the Final SEIR. No action will be taken by the Planning Commission at this meeting.   Notice of Public Hearing (/DocumentCenter/View/54581/PNG_NOTICE_PC_PH_080620)  Staff Report (/DocumentCenter/View/54648/PC_2_PLN20-057_Point-Molate-Mixed-Used-Development-Project_8-6-2020)  August 6, 2020 - Comments (/DocumentCenter/View/54757/Public-Comments---8-6-2020)   Final Subsequent Environmental Impact Report (SEIR)   Response to Comments (RTC) (http://www.ci.richmond.ca.us/DocumentCenter/View/54596/_Point-Molate-Mixed-Use-Development-Project-RTC-Doc_July-2020)  RTC - Attachments 1-10 (http://www.ci.richmond.ca.us/DocumentCenter/View/54600/Respose-to-Comments---Appendices-Part-I)  RTC - Attachments 11-21 (http://www.ci.richmond.ca.us/DocumentCenter/View/54601/Respose-to-Comments---Appendices-Part-2)  Draft SEIR (http://www.ci.richmond.ca.us/DocumentCenter/View/52295/_Point-Molate-Mixed-Use-Development-Project-Draft-SEIR_February-2020)  Draft SEIR Appendices A-K (http://www.ci.richmond.ca.us/DocumentCenter/View/52309/Appendices--A---K-Compiled)  Draft SEIR Appendices L-U (http://www.ci.richmond.ca.us/DocumentCenter/View/52308/Appendices--L---U-Compiled)    Design Review Board Meeting - Via Teleconference - Wednesday, July 22, 2020, 6:00 p.m. The Design Review Board will conduct a public hearing to consider a recommendation of a major design review of the planned area plan for the proposed planned area rezoning for the Point Molate Mixed-Use Development Project.   Notice of Public Hearing (/DocumentCenter/View/54412/DRB_PH_072220-Notice)  Staff Report and Attachments (/DocumentCenter/View/54535/5_PLN20-057-2100-STENMARK-AVE_DRB20200722---JUL22)  Responses to DRB Comments (/DocumentCenter/View/54560/PMResponsestoComments_20200721)  Supplemental Information Revised Illustrative Plan (/DocumentCenter/View/54559/19-018_PointMolate_DG_Supplemental_Information_20200721)  July 22, 2020 - Comments (/DocumentCenter/View/54568/COMMENTS_ITEM-NO-5_POINT-MOLATE)    Historic Preservation Commission Meeting - Via Teleconference - Tuesday, July 14, 2020, 5:30 p.m. The Historic Preservation Commission will conduct a public hearing to provide a recommendation to the City Council for the historic conservation plan for the portions of the Point Molate Mixed-Use Development Project.   Notice of Public Hearing (/DocumentCenter/View/54419/PNG_NOTICE_HPC_PH_071420)  Staff Report and Attachments (/DocumentCenter/View/54426/1_PLN20-057-2100-STENMARK-DRIVE_HPC20200714---JUL14)  Comments (/DocumentCenter/View/54507/HPC-COMMENTS-7-14-315PM)    Design Review Board Meeting - Via Teleconference - Wednesday, July 8, 2020, 6:00 p.m. The Design Review Board will conduct a public hearing to consider a recommendation of a major design review of the planned area plan for the the proposed planned area rezoning for the Point Molate Mixed-Use Development Project.   Notice of Public Hearing (/DocumentCenter/View/53997/PNG_NOTICE_DRB_PH_070820)  Staff Report and Attachments (/DocumentCenter/View/54177/1_PLN20-057-2100-STENMARK-DR_DRB07082020)  Comments (/DocumentCenter/View/54506/DRB-COMMENTS-7-08-2020)    Historic Preservation Commission Meeting - Via Teleconference - Thursday, June 25, 2020, 5:30 p.m. PUBLIC HEARING to consider input on the draft General Plan map and text amendments, and provide a recommendation on Rezoning the Winehaven Historic District from a -L, Landmark, Overlay, to an -H, Historic, Overlay and Historic Conservation Plan for the portions of the Point Molate Mixed-Use Development Project proposed within the Winehaven Historic District.   Notice of Public Hearing (/DocumentCenter/View/53687/PNG_NOTICE_HPC_PH_062520)  Staff Report (/DocumentCenter/View/53948/1_PLN20-057-2100-STENMARK-DR_HPC20200625---JUN25)  Attachment 1 - General Plan Amendments (/DocumentCenter/View/53926/Attachment-1--General-Plan-Amendments-)  Attachment 2 - Proposed Zoning Map (/DocumentCenter/View/53927/Attachment-2---Proposed-Zoning-Map)  Attachment 3 - Historic Conservation Plan (/DocumentCenter/View/53946/Attachment-3---Historic-Conservation-Plan-Section-40-of-Design-Guidelines) (Section 4.0 of Design Guidelines)   Chapter 4 - Design Guidelines Updated Diagrams (/DocumentCenter/View/53992/CHAPTER-4_Design-Guidelines_Updated-Diagrams)  Attachment 4 - Draft Winehaven Nomination (/DocumentCenter/View/53902/Attachment-4----Draft-Winehaven-NominationV61720)  Attachment 5 - Response to HPC Comments (/DocumentCenter/View/53900/Attachment-5---Response-to-HPC-Comments_revised_20200604)  Attachment 6 - Memo to HPC (/DocumentCenter/View/53901/Attachment-6---Memo-to-HPC)    Design Review Board Study Session Via Teleconference - Wednesday, June 10, 2020, 6:00 p.m. Study Session to receive and provide input on the proposed Point Molate Mixed-Use Development Project.   Study Session Notice (/DocumentCenter/View/53571/PNG_NOTICE_DRB_SS_061020)  Staff Report (/DocumentCenter/View/53639/PLN20-057-Study-Session-Report-061020)  Attachment 1 - General Plan Amendments (/DocumentCenter/View/53630/Attachment--1--General-Plan-Amendments)  Attachment 2 - Zoning Map (/DocumentCenter/View/53627/Attachment-2---Zoning-Map)  Attachment 3 - PM Planned Area (/DocumentCenter/View/53635/Attachment-3---PM-Planned-Area)  Attachment 4 - Vesting Tentative Map (/DocumentCenter/View/53628/Attachment-4---Vesting-Tentative-Map)  Attachment 5 - Draft Design Guidelines (/DocumentCenter/View/53629/Attachment-5---Draft-Design-Guidelines-dated-May-4-2020) , dated May 4, 2020  Attachment 6 - Response to DRB Comments (/DocumentCenter/View/53636/Attachment-6---Response-to-DRB-Comments-20200605)  Attachment 7 - Response to HPC Comments (/DocumentCenter/View/53637/Attachment-7---Response-to-HPC-Comments_revised_20200604)  Comments DRB Meeting (/DocumentCenter/View/53697/1-Combined-6-10-2020) , June 10, 2020    Design Review Board Study Session Via Teleconference - Wednesday, May 27, 2020, 6:00 p.m. - MEETING CANCELED Study Session to receive and provide input on the proposed Point Molate Mixed-Use Development Project.   Study Session Notice (/DocumentCenter/View/53076/PNG_NOTICE_DRB_SS_052720)    Design Review Board Study Session Via Teleconference - Wednesday, April 22, 2020, 6:00 p.m.  Study Session to receive and provide input on the proposed Point Molate Mixed-Use Development Project.   Study Session Notice (/DocumentCenter/View/52691/PLN20-057_NOTICE_DRB_SS_042220)  Staff Report (/DocumentCenter/View/54202/2_PLN20-057-2100-STENMARK-DR-_DRB2020022---APR-22)   Historic Preservation Commission Study Session Via Teleconference - Tuesday, April 14, 2020, 5:30 p.m. Study Session to receive and provide input on the proposed Point Molate Mixed-Use Development Project.   Study Session Notice (/DocumentCenter/View/52649/NOTICE_HPC_SS_04142020)  Staff Report (/DocumentCenter/View/52707/1_PLN20-057-2100-STENMARK-DR_HPC20200414---APR14)    SEIR Documents   Updated Notice of Availability (/DocumentCenter/View/52734/Updated_DSEIR_NOA_No2)  Updated Notice of Availability (/DocumentCenter/View/52478/Updated_DSEIR_NOA_and_cancelling_hearing_on_Point_Molate_200317) (Old see updated)  Notice of Availability (/DocumentCenter/View/52307/Point-Molate-Subsequent-DSEIR_NOA_200220) (Old see updated)  Draft Subsequent Environmental Impact Report (SEIR) (/DocumentCenter/View/52295/_Point-Molate-Mixed-Use-Development-Project-Draft-SEIR_February-2020)  Point Molate Video (http://richmond.granicus.com/MediaPlayer.php?publish_id=d92014a9-7055-11ea-99b9-0050569183fa)  Appendices A - K Compiled (/DocumentCenter/View/52309/Appendices--A---K-Compiled)  Appendices L - U Compiled (/DocumentCenter/View/52308/Appendices--L---U-Compiled)   SEIR Appendices (Separated)   Appendix A - Notice of Preparation (/DocumentCenter/View/52296/Appendix-A---Notice-of-Preparation)  Appendix B - Scoping Comments (/DocumentCenter/View/52297/Appendix-B---Scoping-Comments)  Appendix C - Preliminary Drainage Study (/DocumentCenter/View/52298/Appendix-C---Preliminary-Drainage-Study)  Appendix D - Transportation Impact Analysis (/DocumentCenter/View/52299/Appendix-D---Transportation-Impact-Analysis)  Appendix E - Preliminary Water and Wastewater Master Plan (/DocumentCenter/View/52300/Appendix-E---Preliminary-Water-and-Wastewater-Master-Plan)  Appendix F - Water Supply Assessment (/DocumentCenter/View/52301/Appendix-F---Water-Supply-Assessment)  Appendix G - Phase 1 Environmental Site Assessment (/DocumentCenter/View/52302/Appendix-G---Phase-1-Environmental-Site-Assessment)  Appendix H - Dry Utilities Technical Memorandum and Will Serve (/DocumentCenter/View/52303/Appendix-H---Dry-Utilities-Technical-Memorandum-and-Will-Serve)  Appendix I - Preliminary Grading Analysis (/DocumentCenter/View/52304/Appendix-I---Preliminary-Grading-Analysis)  Appendix J - Rehabilitation Analysis (1) (/DocumentCenter/View/52305/Appendix-J---Rehabilitation-Analysis-1)  Appendix K - Explanation of Mitigation and Improvement Measures (/DocumentCenter/View/52284/Appendix-K---Explanation-of-Mitigation-and-Improvement-Measures)  Appendix L - General Plan Consistency Table (/DocumentCenter/View/52285/Appendix-L---General-Plan-Consistency-Table)  Appendix M - Air Quality Tables (/DocumentCenter/View/52286/Appendix-M---Air-Quality-Tables)  Appendix N - Climate Action Plan Consistency Table (/DocumentCenter/View/52287/Appendix-N---Climate-Action-Plan-Consistency-Table)  Appendix O - Bay Plan Consistency Table (/DocumentCenter/View/52288/Appendix-O---Bay-Plan-Consistency-Table)  Appendix P - Biology Technical Studies (/DocumentCenter/View/52289/Appendix-P---Biology-Technical-Studies)  Appendix Q -Historical Resource Documents (/DocumentCenter/View/52290/Appendix-Q---Historical-Resource-Documents)  Appendix R - Geotechnical Feasibility Memorandum (/DocumentCenter/View/52291/Appendix-R---Geotechnical-Feasibility-Memorandum)  Appendix S -\\xa0 City of Richmond Fire Hazard Reduction Vegetation Management Standards (/DocumentCenter/View/52292/Appendix-S---City-of-Richmond-Fire-Hazard-Reduction-Vegetation-Management-Standards)  Appendix T - Environmental Noise and Vibration Assessment (/DocumentCenter/View/52293/Appendix-T---Environmental-Noise-and-Vibration-Assessment)  Appendix U - Richmond Municipal Sewer District Wastewater Infrastructure Analysis (/DocumentCenter/View/52294/Appendix-U---Richmond-Municipal-Sewer-District-Wastewater-Infrastructure-Analysis)   Preparation of Subsequent Environmental Impact Report (SEIR) The City is the Lead Agency and will be preparing a Subsequent Environmental Impact Report (SEIR) for the project.\\xa0 The City invites comments on the scope and content of the SEIR in response to the Notice of Preparation (/DocumentCenter/View/50454/Point-Molate-Subsequent-DEIR_NOP_190712_to-SCH)  (NOP).\\xa0 The NOP will be circulated for a 30-day review period.\\xa0 Comments on the scope of the SEIR should focus on the potentially significant environmental effects that the Modified Project may have on the physical environment that should be addressed in the SEIR, ways in which those effects might be minimized and potential alternatives to the Modified Project that should be addressed in the SEIR. Comments on the NOP must be received in writing at the above City of Richmond mailing address to the attention of Lina Velasco, Director of Planning and Building Services, or via e-mail to lina_velasco@ci.richmond.ca.us (mailto:lina_velasco@ci.richmond.ca.us) , by 4:00 p.m.  on August 12, 2019 .\\xa0 In addition, comments may be provided at the Public Scoping Meeting noticed below.    Public Scoping Meeting   Monday, July 29, 2019, 6:00 p.m.   Council Chambers   440 Civic Center Plaza   Richmond, CA 94804   Point Molate Scoping Meeting Presentation (/DocumentCenter/View/50638/Scoping-Presentation_Final)  Public Scoping Meeting\\xa0Transcript (/DocumentCenter/View/50900/Public-Scoping-Meeting) , July 29, 2019   2011 Point Molate Final Environmental Impact Report (EIR)   Volume I (/DocumentCenter/View/50669/Volume-1-Compiled)  Volume I - Appendices (/DocumentCenter/View/50924/_Combined-Point-Molate-EISEIR-Appendices)  Volume II (/DocumentCenter/View/50667/Volume-2-Compiled)  Volume III (/DocumentCenter/View/50668/Volume-3-Compiled)   Point Molate Exclusive Right to Negotiate (ERN) Agreements   Executed Agreement (/DocumentCenter/View/52822/ERN-Agreement-re-Point-Molate-mixed-use-development_522019)  First Amendment (/DocumentCenter/View/52823/Fully-Executed-First-Amendment_12182019)  Second Amendment (/DocumentCenter/View/52824/Fully-Executed-Second-Amendment_2282020)  Third Amendment (/DocumentCenter/View/53696/5312020-Third-Amendment-to-ERN)  Letter from Tribe/Upstream Regarding extension of the Deadline Applicable to Discretionary City Approvals (/DocumentCenter/View/53085/42120-Letter-to-City-re-Extension)      Subscribe for Updates Please sign up on \" Notify Me (https://www.ci.richmond.ca.us/list.aspx?ListID=380) \" if you are interested in receiving email updates for this project. Follow these instructions to subscribe:  1. Enter your email address and then select \"Sign In\" 2. Follow the on-screen instructions       inner column   inner row  outer column   outer row                   Accessory Dwelling Units (ADUs) (/4336/Accessory-Dwelling-Units-ADUs)      Architectural Heritage Guidelines (http://www.ci.richmond.ca.us/DocumentCenter/View/3525)      Boards & Commissions (/2861/Boards-Commissions)       Design Review Board      Historic Preservation Commission       Historic Preservation Awards        Planning Commission        Cannabis Business Information (/3603/Cannabis-Business-Information)      City Fact Sheet (/DocumentView.aspx?DID=8348)      Fees/Forms/Checklists (/2102/FeesFormsChecklists)      Form Based Code (http://www.ci.richmond.ca.us/2965/RLC-FBC)      General Plan 2030 (/2608/General-Plan-2030)      Hilltop Horizon Specific Plan (https://hilltophorizon.com/)      Historical Point Molate Project Information (http://www.ci.richmond.ca.us/270/Point-Molate)      Mapping Services (/3344/Mapping-Services)      Printable Maps (/290)      Project Information (/2860/Project-Information)       Additional Projects      Environmental Documents      General Plan Updates       About - Información acerca del Plan General      Frequently Asked Questions (FAQs) - Preguntas frecuentes      Participate - Participe      Library        Housing Element Update      Housing Policy      Major Projects      Notable Projects      Other Projects      Projects Information      Richmond Resilience Roadmap      Residential Activity Report        Regulatory Documents (/2867/Regulatory-Documents)       Bicycle Master Plan      Pedestrian Plan      Richmond Bay Specific Plan (RBSP)      Urban Greening Plan      Other Plans, Codes & Guidelines        Staff Directory (/2399/Staff-Directory)      Zoning Ordinance (/3379/Zoning-Ordinance)      Senate Bill 9 (SB 9) (/4188/Senate-Bill-9-SB-9)      Brickyard Cove Residential Project (/4349/Brickyard-Cove-Residential-Project)      Raven SR Bioenergy Project (/4365/Raven-SR-Bioenergy-Project)      Travel Safe Richmond (/4486/Travel-Safe-Richmond)           GBs                    (/151)  Agenda Docs   (/151)         (/965/Weekly-Announcements)  Weekly Report   (/965/Weekly-Announcements)         (/4340/KCRT-Media)  KCRT   (/4340/KCRT-Media)            inner column   inner row  outer column                 (/4518/Youth)  Youth   (/4518/Youth)         (/4540/55670/Visit-Richmond)  Visit Richmond   (/4540/55670/Visit-Richmond)         (https://www.transparentrichmond.org/)  City Data   (https://www.transparentrichmond.org/)            inner column   inner row  outer column   outer row    Calendar/Carousel <div data-cpRole=\"structuralContainer\" id=\"homeContainer1\"> <div class=\"siteWrap\"> <div data-cpRole=\"contentContainer\" id=\"homeContent1a\"></div> </div> </div> Footer                              inner column   inner row  outer column       inner column   inner row  outer column         Contact Us         RICHMOND CITY HALL 450 Civic Center Plaza Richmond, CA 94804 Phone Directory (http://www.ci.richmond.ca.us/Directory.aspx)  Directions (http://maps.google.com/maps?q=450+Civic+Center+Plaza,+Richmond+CA&oe=utf-8&rls=org.mozilla:en-US:official&client=firefox-a&um=1&ie=UTF-8&hq=&hnear=450+Civic+Center+Plaza,+Richmond,+CA+94804&gl=us&daddr=450%20Civic%20Center%20Plaza,%20Richmond,%20CA%2094804&ei=uxt0S8_-KoLUNYPuockK&sa=X&oi=geocode_result&ct=directions-to&resnum=1&ved=0CAoQwwUwAA)            inner column   inner row  outer column       inner column   inner row  outer column       Sign Up For E-News          inner column   inner row              (/facebook)     (https://twitter.com/cityofrichmond)     (/instagram)     (https://www.ci.richmond.ca.us/rss.aspx)          inner column   inner row  outer column       inner column   inner row  outer column         Site Links (/QuickLinks.aspx?CID=2,52,5)         Bay Area Legal Aid (http://www.baylegal.org/)     Contra Costa County Courts (http://www.cc-courts.org/)     California Courts (http://www.courts.ca.gov/)     Contra Costa County Bar Association (http://www.cccba.org/community/)     State Bar of California (http://www.calbar.ca.gov/state/calbar/calbar_home.jsp)     City Council Agenda Documents (http://www.ci.richmond.ca.us/index.aspx?NID=151)           /QuickLinks.aspx      inner column   inner row  outer column   outer row    Powered By                Government Websites by CivicPlus® (https://connect.civicplus.com/referral)       inner column   inner row  outer column   outer row           Loading          Content from the Froala Editor will go here. Loading    Do Not Show Again  Close      Select Language Afrikaans Albanian Amharic Arabic Armenian Assamese Aymara Azerbaijani Bambara Basque Belarusian Bengali Bhojpuri Bosnian Bulgarian Catalan Cebuano Chichewa Chinese (Simplified) Chinese (Traditional) Corsican Croatian Czech Danish Dhivehi Dogri Dutch Esperanto Estonian Ewe Filipino Finnish French Frisian Galician Georgian German Greek Guarani Gujarati Haitian Creole Hausa Hawaiian Hebrew Hindi Hmong Hungarian Icelandic Igbo Ilocano Indonesian Irish Italian Japanese Javanese Kannada Kazakh Khmer Kinyarwanda Konkani Korean Krio Kurdish (Kurmanji) Kurdish (Sorani) Kyrgyz Lao Latin Latvian Lingala Lithuanian Luganda Luxembourgish Macedonian Maithili Malagasy Malay Malayalam Maltese Maori Marathi Meiteilon (Manipuri) Mizo Mongolian Myanmar (Burmese) Nepali Norwegian Odia (Oriya) Oromo Pashto Persian Polish Portuguese Punjabi Quechua Romanian Russian Samoan Sanskrit Scots Gaelic Sepedi Serbian Sesotho Shona Sindhi Sinhala Slovak Slovenian Somali Spanish Sundanese Swahili Swedish Tajik Tamil Tatar Telugu Thai Tigrinya Tsonga Turkish Turkmen Twi Ukrainian Urdu Uyghur Uzbek Vietnamese Welsh Xhosa Yiddish Yoruba Zulu Powered by Translate (https://translate.google.com)     Arrow Left     Arrow Right        Slideshow Left Arrow       Slideshow Right Arrow                Original text Rate this translation Your feedback will be used to help improve Google Translate',\n",
       " 'Loading  Skip to Main Content (#ccf5602c1c-2e20-4773-89f3-08f921ac655f)     [if lte IE 7]><link rel=\"stylesheet\" type=\"text/css\" href=\"/App_Themes/CP/ie7.css\"><![endif]  Allow Dashboard, Favorites Enabled      Header Container                      (/facebook)     (https://twitter.com/cityofrichmond)     (https://www.ci.richmond.ca.us/rss.aspx)          inner column   inner row  outer column       inner column   inner row  outer column       For the button right and inside     Search       inner column   inner row  outer column   outer row       City Government (/2013/City-Government)      Departments (/2014/Departments)      Business (/2016/Business)      Community (/2015/Community)       Banner            Content container       Home (/) Departments (/2014/Departments) Community Development (/101/Community-Development) Planning Division (/2098/Planning-Division) Miraflores Residential Development     A (#)  A (#)             Miraflores Residential Development             inner column   inner row  outer column   outer row        Project Contact: Hector Lopez, Senior Planner hector_lopez@ci.richmond.ca.us (mailto:hector_lopez@ci.richmond.ca.us) (510) 620-6702 Project Description The proposed project consists of 22 detached multi-story buildings containing a total of 190 residential\\xa0units, including 30 moderate-income units, on a 8.17-acre parcel. The proposed project includes\\xa0modification of the Planned Area Plan to increase the total number of units from 150 to 190 and building\\xa0increase building heights from 35 to 50 feet. This change is subject to approval by the City Council. The\\xa0application also includes a request for approval of a Vesting Tentative Map for condominium and a Design\\xa0Review permit. The For Sale Project also includes relocation of the following historic resources: A) The Sakai house; B) A\\xa0Water tank; C) A Water tower and building; D) Greenhouse 20; E) The Oishi house; and F) A greenhouse\\xa0or representative sample greenhouse adjacent to the Oishi house. Some of these historic buildings will be\\xa0located on the project site and other, will be located within the Greenbelt Park. The Successor Agency will be responsible for the rehabilitation of the structures. The buildings will be constructed on 22 lots; the vast majority of the buildings are 9-plex consisting of 99\\xa0residential units. As proposed, Parcel A will be dedicated to the City for the placement of the Historic\\xa0Sakai House. Parcels B to E will be used as water quality control and open space areas. Extension of\\xa0right-of ways including Ohio Avenue, Florida Avenue, and South 47 Street will be dedicated to the City\\xa0for public streets. A total of eight private roads are proposed off these public streets (Streets A to H). The applicant will construct all public right-of-way improvements, including, but not limited to, new or\\xa0upgraded utilities, streets, sidewalks, as well as the relocation of specific historic structures both on and\\xa0off the project site. The applicant will also construct a tot playlot that would include several of the\\xa0rehabilitated historic structures and a play structure (tot lot). Project Location The project area is bounded by South 45th Street to the west, Wall Avenue to the south, Interstate 80 to the east, and the BART tracks to the north. Planning Commission Public Hearing - April 19, 2018, 6:30 PM, 440 Civic Center Plaza, Basement Level Staff Report (/DocumentCenter/View/47608/Staff-Report-Miraflores-Residential-Development) Attachment 1: Resolution No. 18-17 (/DocumentCenter/View/47609/Attachment-1----Resolution-Miraflores-Residential-Development) Exhibit A: Planned Area Plan (/DocumentCenter/View/47604/Exhibit-A---Plan-Area-Plan) Exhibit B: Zoning District Map (/DocumentCenter/View/47605/Exhibit-B---Zoning-District-Map) Exhibit C: General Plan Map (/DocumentCenter/View/47606/Exhibit-C---General-Plan-Map) Exhibit D: Project Plans and Vesting Tentative Map (/DocumentCenter/View/47607/Exhibit-D---Project-Plans-and-Vesting-Tentative-Map) Attachment 2: Mitigation Monitoring and Reporting Program (/DocumentCenter/View/47610/Attachment-2---Mitigation-Monitoring-and-Reporting-Program) Attachment 3: Support Letter from Neighborhood Council (/DocumentCenter/View/47603/Attachment-3---Support-Letter-from-Neighborhood-Council) First Amendment [PDF] (/DocumentCenter/View/67683/First_Amendment) DDA [PDF] (/DocumentCenter/View/67682/DDA_20160719)     inner column   inner row  outer column   outer row                   Accessory Dwelling Units (ADUs) (/4336/Accessory-Dwelling-Units-ADUs)      Architectural Heritage Guidelines (http://www.ci.richmond.ca.us/DocumentCenter/View/3525)      Boards & Commissions (/2861/Boards-Commissions)       Design Review Board      Historic Preservation Commission       Historic Preservation Awards        Planning Commission        Cannabis Business Information (/3603/Cannabis-Business-Information)      City Fact Sheet (/DocumentView.aspx?DID=8348)      Fees/Forms/Checklists (/2102/FeesFormsChecklists)      Form Based Code (http://www.ci.richmond.ca.us/2965/RLC-FBC)      General Plan 2030 (/2608/General-Plan-2030)      Hilltop Horizon Specific Plan (https://hilltophorizon.com/)      Historical Point Molate Project Information (http://www.ci.richmond.ca.us/270/Point-Molate)      Mapping Services (/3344/Mapping-Services)      Printable Maps (/290)      Project Information (/2860/Project-Information)       Additional Projects      Environmental Documents      General Plan Updates       About - Información acerca del Plan General      Frequently Asked Questions (FAQs) - Preguntas frecuentes      Participate - Participe      Library        Housing Element Update      Housing Policy      Major Projects      Notable Projects      Other Projects      Projects Information      Richmond Resilience Roadmap      Residential Activity Report        Regulatory Documents (/2867/Regulatory-Documents)       Bicycle Master Plan      Pedestrian Plan      Richmond Bay Specific Plan (RBSP)      Urban Greening Plan      Other Plans, Codes & Guidelines        Staff Directory (/2399/Staff-Directory)      Zoning Ordinance (/3379/Zoning-Ordinance)      Senate Bill 9 (SB 9) (/4188/Senate-Bill-9-SB-9)      Brickyard Cove Residential Project (/4349/Brickyard-Cove-Residential-Project)      Raven SR Bioenergy Project (/4365/Raven-SR-Bioenergy-Project)      Travel Safe Richmond (/4486/Travel-Safe-Richmond)           GBs                    (/151)  Agenda Docs   (/151)         (/965/Weekly-Announcements)  Weekly Report   (/965/Weekly-Announcements)         (/4340/KCRT-Media)  KCRT   (/4340/KCRT-Media)            inner column   inner row  outer column                 (/4518/Youth)  Youth   (/4518/Youth)         (/4540/55670/Visit-Richmond)  Visit Richmond   (/4540/55670/Visit-Richmond)         (https://www.transparentrichmond.org/)  City Data   (https://www.transparentrichmond.org/)            inner column   inner row  outer column   outer row    Calendar/Carousel <div data-cpRole=\"structuralContainer\" id=\"homeContainer1\"> <div class=\"siteWrap\"> <div data-cpRole=\"contentContainer\" id=\"homeContent1a\"></div> </div> </div> Footer                              inner column   inner row  outer column       inner column   inner row  outer column         Contact Us         RICHMOND CITY HALL 450 Civic Center Plaza Richmond, CA 94804 Phone Directory (http://www.ci.richmond.ca.us/Directory.aspx)  Directions (http://maps.google.com/maps?q=450+Civic+Center+Plaza,+Richmond+CA&oe=utf-8&rls=org.mozilla:en-US:official&client=firefox-a&um=1&ie=UTF-8&hq=&hnear=450+Civic+Center+Plaza,+Richmond,+CA+94804&gl=us&daddr=450%20Civic%20Center%20Plaza,%20Richmond,%20CA%2094804&ei=uxt0S8_-KoLUNYPuockK&sa=X&oi=geocode_result&ct=directions-to&resnum=1&ved=0CAoQwwUwAA)            inner column   inner row  outer column       inner column   inner row  outer column       Sign Up For E-News          inner column   inner row              (/facebook)     (https://twitter.com/cityofrichmond)     (/instagram)     (https://www.ci.richmond.ca.us/rss.aspx)          inner column   inner row  outer column       inner column   inner row  outer column         Site Links (/QuickLinks.aspx?CID=2,52,5)         Bay Area Legal Aid (http://www.baylegal.org/)     Contra Costa County Courts (http://www.cc-courts.org/)     California Courts (http://www.courts.ca.gov/)     Contra Costa County Bar Association (http://www.cccba.org/community/)     State Bar of California (http://www.calbar.ca.gov/state/calbar/calbar_home.jsp)     City Council Agenda Documents (http://www.ci.richmond.ca.us/index.aspx?NID=151)           /QuickLinks.aspx      inner column   inner row  outer column   outer row    Powered By                Government Websites by CivicPlus® (https://connect.civicplus.com/referral)       inner column   inner row  outer column   outer row           Loading          Content from the Froala Editor will go here. Loading    Do Not Show Again  Close      Powered by Translate (https://translate.google.com)     Arrow Left     Arrow Right        Slideshow Left Arrow       Slideshow Right Arrow                Original text Rate this translation Your feedback will be used to help improve Google Translate',\n",
       " 'Loading  Skip to Main Content (#ccf5602c1c-2e20-4773-89f3-08f921ac655f)     [if lte IE 7]><link rel=\"stylesheet\" type=\"text/css\" href=\"/App_Themes/CP/ie7.css\"><![endif]  Allow Dashboard, Favorites Enabled      Header Container                      (/facebook)     (https://twitter.com/cityofrichmond)     (https://www.ci.richmond.ca.us/rss.aspx)          inner column   inner row  outer column       inner column   inner row  outer column       For the button right and inside     Search       inner column   inner row  outer column   outer row       City Government (/2013/City-Government)      Departments (/2014/Departments)      Business (/2016/Business)      Community (/2015/Community)       Banner            Content container       Home (/) Departments (/2014/Departments) Community Development (/101/Community-Development) Planning Division (/2098/Planning-Division) Terminal One Project     A (#)  A (#)             Latitude Residential Subdivision (formerly Terminal One Residential Project)         Project Contact: Roberta Feliciano, Senior Planner Roberta_Feliciano@ci.richmond.ca.us (mailto:Roberta_Feliciano@ci.richmond.ca.us) 510-620-6662 Project Description The Project proposes to modify the previously approved Planned Area plan by reducing the overall units from 316 to 184, and modifying the unit types. The Project is the development of approximately 13.8 acres of property located on the San Francisco Bay in the City of Richmond (the “Project Site”), proposed by Terminal One Development LLC (the “applicant”). Proposed development of the site includes residential and public open space uses, as well as road, trail, and other improvements on and off the Project site. Project Location The Project site is located at 1500 Dornan Drive, southeast of the intersection of Dornan Drive and Brickyard Cove Road in the neighborhood of Point Richmond, in the City of Richmond, Contra Costa County. The site’s general boundaries are the Richmond Yacht Club on the east, the San Francisco Bay on the south, Brickyard Cove Road to the north, and Dornan Drive to the west. Miller-Knox Shoreline Park is west and north of the Project site. Terminal One Development Financial and Fiscal Analysis (/DocumentCenter/View/64382/Terminal-One-Development-Financial-And-Fiscal-Analysis-Memo) City Council Meeting - December 6, 2022 PUBLIC HEARING to consider the adoption of a Resolution for the Latitude Residential Subdivision (formerly the Terminal One Residential Project) either: 1) Certifying the Addendum to the 2016 EIR and adopting the Mitigation Monitoring and Reporting Program (MMRP), and approving a Major Amendment to a Planned Area (PA) Plan with associated Major Design Review (DR), a Vesting Tentative Map (VTM), and a Conditional Use Permit (CUP) for park and residential uses within the Shoreline Overlay District, subject to conditions of approval; or 2) Certifying the Addendum to the 2016 EIR and adopting the MMRP and denying without prejudice the PA Plan Amendment with associated DR, and VTM based on the Planning Commission’s recommended findings; or 3) REMAND the project back to the Planning Commission to review the financial feasibility of the previous project and consider if conditions or refinements can be made to the Revised Project to make the project more superior. Staff Report and draft Resolution (/DocumentCenter/View/64212/CC-Staff-Report) Exhibit A: \\xa0EIR Addendum and MMRP (/DocumentCenter/View/64215/Ex-A-Terminal-One-Project-EIR-Addendum-and-MMRP) Exhibit B: Project Plans (/DocumentCenter/View/64214/Ex-B-Project-Plans) Exhibit C: Planned Area Plan (/DocumentCenter/View/64219/Ex-C) Exhibit D: Design Guidelines Module (/DocumentCenter/View/64213/Ex-D-Development-Guideline-Module) Exhibit E: Vesting Tentative Map (/DocumentCenter/View/64218/Ex-E-Vesting-Tentative-Map-OPT) Exhibit F: Conditions of Approval (/DocumentCenter/View/64217/Ex-F-Conditions-of-Approval) Exhibit G: Applicant Response to DRB Recommended Conditions (/DocumentCenter/View/64216/Ex-G-Applicant-Responses-to-DRB-Recommended-Conditions-of-Approval) Planning Commission Meeting - November 21, 2022 PUBLIC HEARING to consider a recommendation to the City Council of an addendum to an Environmental Impact Report (EIR), major amendment to an approved Planned Area Plan to modify the unit types and reduce the overall units from 316 to 184, Vesting Tentative Map to subdivide the site, and Conditional Use Permit for park and residential uses within the S, Shoreline Overlay District. Notice of Adjournment and Continuance Agenda (/DocumentCenter/View/63571/PLN22-171-PC-NOTICE-11-21-22) Staff Report with Attachment and Exhibits (/DocumentCenter/View/63488/PLN22-171_TERMINAL-1-PC-REPORT-compiled) Public Notice (/DocumentCenter/View/63433/PLN22-171-PC-NOTICE-11-17-22) Planning Commission Meeting - November 10, 2022 (Cancelled) PUBLIC HEARING to consider a recommendation to the City Council of an addendum to an Environmental Impact Report (EIR), major amendment to an approved Planned Area Plan to modify the unit types and reduce the overall units from 316 to 184, Vesting Tentative Map to subdivide the site, and Conditional Use Permit for park and residential uses within the S, Shoreline Overlay District. Public Notice (/DocumentCenter/View/63373/PLN22-171-PC-NOTICE) Design Review Board Meeting - October 26, 2022 PUBLIC HEARING to consider a recommendation to the Planning Commission of proposed amendments to a previously approved Planned Area Plan to modify the unit types and reduce the overall units from 316 to 184 and Design Review for the house plans and subdivision improvements. Staff Report (/DocumentCenter/View/63297/3_PLN22-171-1500-DORNAN-DR_DRB20221026---OCT-26) Public Notice (/DocumentCenter/View/63210/PLN22-171-DRB-Notice) Design Review Board Meeting - October 12, 2022 (Cancelled) PUBLIC HEARING to consider a recommendation to the Planning Commission of proposed amendments to a previously approved Planned Area Plan to modify the unit types and reduce the overall units from 316 to 184 and Design Review for the house plans and subdivision improvements. Staff Report (/DocumentCenter/View/63205/Staff-Report) Public Notice (/DocumentCenter/View/63200/PLN22-171-DRB-NOTICE) Design Review Board Meeting - September 14, 2022 PUBLIC HEARING to consider a recommendation to the Planning Commission of a proposed amendment to a previously approved Planned Area Plan to modify the unit types and reduce the overall units from 316 to 184 and Design Review for the house plans and subdivision improvements. Staff Report (/DocumentCenter/View/62761/DRB-Staff-Report---SEP142022) Public Notice (/DocumentCenter/View/62660/PLN22-171-DRB-NOTICE-1) City Council Meeting - April 5, 2022 RECEIVE a presentation regarding a potential revised project for the Terminal One site from Terminal One Development LLC – City Manager’s Office/ Community Development Department. This item was continued from the March 22, 2022, meeting. Staff Report (https://bit.ly/3wXlQvl) PowerPoint (/DocumentCenter/View/60995/Reduced-Latitude-City-Council-Presentation-040222_mod1-PDF) Design Review Board Public Hearing - February 14, 2018, 6:00 PM, 440 Civic Center Plaza, Multi-Purpose Room (Basement Level) Public hearing to Consider a Design Review Permit for the proposed Terminal One Project. Staff Report (/DocumentCenter/View/45781) Design Review Board Public Hearing - January 24, 2018 It is anticipated that the Terminal I item will be considered at the February 14, 2018 DRB Meeting. Design Review Board Public Hearing - December 13, 2017, 6:00 PM, 440 Civic Center Plaza, Council Chambers, 1st Floor Public Hearing to consider a Design Review permit for the proposed Terminal One Project. Notice of Public Hearing (/DocumentCenter/View/45273) Staff Report (/DocumentCenter/View/45294) Design Review Board Public Hearing - November 8, 2017, 6:00 PM, 440 Civic Center Plaza, Multi-Purpose Room (Basement Level) Public Hearing to consider a Design Review permit for the proposed Terminal One Project. Notice of Public Hearing (/DocumentCenter/View/44711) Staff Report (/DocumentCenter/View/44937) Exhibit A - Design Review Board (/DocumentCenter/View/44383) City Council Public Hearing - July 5, 2016, 6:30 PM, 440 Civic Center Plaza, Council Chambers Public Hearing to consider certification of the Final Environmental Impact Report (EIR), Rezoning, and Vesting Tentative Map for the Terminal One Project. Notice of Public Hearing (/DocumentCenter/View/38929) Staff Report and Attachments (http://sireweb.ci.richmond.ca.us/sirepub/mtgviewer.aspx?meetid=644&doctype=AGENDA) (Sire - see Public Hearings, Item I-2) Planning Commission Public Hearing - June 16, 2016, 6:30 PM, 440 Civic Center Plaza, Council Chambers Public Hearing to consider a recommendation to the City Council on the certification of the Final Environmental Impact Report (EIR), Rezoning, and Vesting Tentative Map for the Terminal One Project. Notice of Public Hearing (/DocumentCenter/View/38791) Staff Report (/DocumentCenter/View/38864) Response to Comments (/DocumentCenter/View/38808) Plannned Area Plan for the Terminal One Project (/DocumentCenter/View/38862) Master Plan and Design Framework (/DocumentCenter/View/38865) Planning Commission Public Hearing - April 7, 2016, 6:30 PM, 440 Civic Center Plaza, Council Chambers Public Hearing to receive comments on the Draft Environmental Impact Report (EIR) for the Terminal I Project. Notice of Public Hearing (/DocumentCenter/View/37962) Staff Report (/DocumentCenter/View/38126) Draft Environmental Impact Report (/DocumentCenter/View/37802) Draft EIR Appendices (/DocumentCenter/View/37801) Draft Environmental Impact Report Available The Draft Environmental Impact Report (DEIR) for the Terminal One Project is available for public review and comment. Notice of availability (/DocumentCenter/View/37776) Draft Environmental Impact Report (/DocumentCenter/View/37802) Draft EIR Appendices (/DocumentCenter/View/37801) Design Review Board Public Hearing Materials - January 27, 2016, 6:00 PM, 440 Civic Center Plaza, Basement Level Staff Report\\xa0and Attachments (/DocumentCenter/View/36954) Master Plan and Design Framework (/DocumentCenter/View/36820) Design Review Board Study Session Materials - January 13, 2016, 6:00 PM, 440 Civic Center Plaza, Basement Level Staff Report (/DocumentCenter/View/36900) Project Plans (/DocumentCenter/View/36820) Summary of Changes (/DocumentCenter/View/36845) Design Review Board Study Session Materials - October 28, 2015, 6:00 PM, 440 Civic Center Plaza, Basement Level Staff Report and Exhibits (/DocumentCenter/View/36273) Design Review Board Study Session Materials - October 14, 2015, 6 PM, 440 Civic Center Plaza, Basement Level Staff Report (/DocumentCenter/View/36082) Exhibit A (/DocumentCenter/View/36083) - Location Map Exhibit B - Project Plans (see below) DRB Package - Part 1 (/DocumentCenter/View/36067) DRB Package - Part 2 (/DocumentCenter/View/36065) DRB Package - Part 3 (/DocumentCenter/View/36066) Exhibit C (/DocumentCenter/View/36084) - Responses to Comments Design Review Board Study Session Materials - September 16, 2015, 6 PM, 440 Civic Center Plaza, Basement Level Please note these files are large and may take a few minutes to download depending on your internet speed. Staff Report (/DocumentCenter/View/35668) DRB Package_Part 1A Site (/DocumentCenter/View/35655) DRB Package_Part 1B Site (/DocumentCenter/View/35656) DRB Package_Part 1C Site (/DocumentCenter/View/35657) DRB Package_Part 1D Site (/DocumentCenter/View/35658) DRB Package_Part 2 Landscape (/DocumentCenter/View/35659) DRB Package_Part 3 Architecture and Appendix (/DocumentCenter/View/35660) Additional Renderings Rendering 1 (/DocumentCenter/View/35669) Rendering 2 (/DocumentCenter/View/35669) Rendering 3 (/DocumentCenter/View/35671) Rendering 4 (/DocumentCenter/View/35672) Subscribe for Updates Please sign up on \"Notify Me\" (/list.aspx?ListID=304) if you are interested in receiving email updates for this project. Follow these instructions to subscribe:  1. Enter your email address and then select \"Sign In\"  2. Follow the on-screen instructions     inner column   inner row  outer column   outer row                   Accessory Dwelling Units (ADUs) (/4336/Accessory-Dwelling-Units-ADUs)      Architectural Heritage Guidelines (http://www.ci.richmond.ca.us/DocumentCenter/View/3525)      Boards & Commissions (/2861/Boards-Commissions)       Design Review Board      Historic Preservation Commission       Historic Preservation Awards        Planning Commission        Cannabis Business Information (/3603/Cannabis-Business-Information)      City Fact Sheet (/DocumentView.aspx?DID=8348)      Fees/Forms/Checklists (/2102/FeesFormsChecklists)      Form Based Code (http://www.ci.richmond.ca.us/2965/RLC-FBC)      General Plan 2030 (/2608/General-Plan-2030)      Hilltop Horizon Specific Plan (https://hilltophorizon.com/)      Historical Point Molate Project Information (http://www.ci.richmond.ca.us/270/Point-Molate)      Mapping Services (/3344/Mapping-Services)      Printable Maps (/290)      Project Information (/2860/Project-Information)       Additional Projects      Environmental Documents      General Plan Updates       About - Información acerca del Plan General      Frequently Asked Questions (FAQs) - Preguntas frecuentes      Participate - Participe      Library        Housing Element Update      Housing Policy      Major Projects      Notable Projects      Other Projects      Projects Information      Richmond Resilience Roadmap      Residential Activity Report        Regulatory Documents (/2867/Regulatory-Documents)       Bicycle Master Plan      Pedestrian Plan      Richmond Bay Specific Plan (RBSP)      Urban Greening Plan      Other Plans, Codes & Guidelines        Staff Directory (/2399/Staff-Directory)      Zoning Ordinance (/3379/Zoning-Ordinance)      Senate Bill 9 (SB 9) (/4188/Senate-Bill-9-SB-9)      Brickyard Cove Residential Project (/4349/Brickyard-Cove-Residential-Project)      Raven SR Bioenergy Project (/4365/Raven-SR-Bioenergy-Project)      Travel Safe Richmond (/4486/Travel-Safe-Richmond)           GBs                    (/151)  Agenda Docs   (/151)         (/965/Weekly-Announcements)  Weekly Report   (/965/Weekly-Announcements)         (/4340/KCRT-Media)  KCRT   (/4340/KCRT-Media)            inner column   inner row  outer column                 (/4518/Youth)  Youth   (/4518/Youth)         (/4540/55670/Visit-Richmond)  Visit Richmond   (/4540/55670/Visit-Richmond)         (https://www.transparentrichmond.org/)  City Data   (https://www.transparentrichmond.org/)            inner column   inner row  outer column   outer row    Calendar/Carousel <div data-cpRole=\"structuralContainer\" id=\"homeContainer1\"> <div class=\"siteWrap\"> <div data-cpRole=\"contentContainer\" id=\"homeContent1a\"></div> </div> </div> Footer                              inner column   inner row  outer column       inner column   inner row  outer column         Contact Us         RICHMOND CITY HALL 450 Civic Center Plaza Richmond, CA 94804 Phone Directory (http://www.ci.richmond.ca.us/Directory.aspx)  Directions (http://maps.google.com/maps?q=450+Civic+Center+Plaza,+Richmond+CA&oe=utf-8&rls=org.mozilla:en-US:official&client=firefox-a&um=1&ie=UTF-8&hq=&hnear=450+Civic+Center+Plaza,+Richmond,+CA+94804&gl=us&daddr=450%20Civic%20Center%20Plaza,%20Richmond,%20CA%2094804&ei=uxt0S8_-KoLUNYPuockK&sa=X&oi=geocode_result&ct=directions-to&resnum=1&ved=0CAoQwwUwAA)            inner column   inner row  outer column       inner column   inner row  outer column       Sign Up For E-News          inner column   inner row              (/facebook)     (https://twitter.com/cityofrichmond)     (/instagram)     (https://www.ci.richmond.ca.us/rss.aspx)          inner column   inner row  outer column       inner column   inner row  outer column         Site Links (/QuickLinks.aspx?CID=2,52,5)         Bay Area Legal Aid (http://www.baylegal.org/)     Contra Costa County Courts (http://www.cc-courts.org/)     California Courts (http://www.courts.ca.gov/)     Contra Costa County Bar Association (http://www.cccba.org/community/)     State Bar of California (http://www.calbar.ca.gov/state/calbar/calbar_home.jsp)     City Council Agenda Documents (http://www.ci.richmond.ca.us/index.aspx?NID=151)           /QuickLinks.aspx      inner column   inner row  outer column   outer row    Powered By                Government Websites by CivicPlus® (https://connect.civicplus.com/referral)       inner column   inner row  outer column   outer row           Loading          Content from the Froala Editor will go here. Loading    Do Not Show Again  Close      Powered by Translate (https://translate.google.com)     Arrow Left     Arrow Right        Slideshow Left Arrow       Slideshow Right Arrow                Original text Rate this translation Your feedback will be used to help improve Google Translate',\n",
       " 'Loading  Skip to Main Content (#ccf5602c1c-2e20-4773-89f3-08f921ac655f)     [if lte IE 7]><link rel=\"stylesheet\" type=\"text/css\" href=\"/App_Themes/CP/ie7.css\"><![endif]  Allow Dashboard, Favorites Enabled      Header Container                      (/facebook)     (https://twitter.com/cityofrichmond)     (https://www.ci.richmond.ca.us/rss.aspx)          inner column   inner row  outer column       inner column   inner row  outer column       For the button right and inside     Search       inner column   inner row  outer column   outer row       City Government (/2013/City-Government)      Departments (/2014/Departments)      Business (/2016/Business)      Community (/2015/Community)       Banner            Content container       Home (/) Departments (/2014/Departments) Community Development (/101/Community-Development) Planning Division (/2098/Planning-Division) Project Information (/2860/Project-Information) Major Projects     A (#)  A (#)             Major Projects         Click links below for more information on major projects by the Planning Division: Capital Projects Via Verdi Slope Stabilization Project (http://www.ci.richmond.ca.us/viaverdiproject) Travel Safe Richmond (https://www.ci.richmond.ca.us/4486/Travel-Safe-Richmond) Constructed Atlas Road Industrial Building (http://www.ci.richmond.ca.us/3001/Atlas-Road-Industrial-Building-Project) Greenway Gap Closure (http://www.ci.richmond.ca.us/index.aspx?NID=2443) Mathieu Court \\xa0Alley Project (http://www.ci.richmond.ca.us/2595/Mathieu-Court-Alley-Greening-Project) The Point Richmond Residential Project (http://www.ci.richmond.ca.us/3157/The-Point-Richmond-Residential-Project) Wet Weather Storage (http://www.ci.richmond.ca.us/2775/Wet-Weather-Storage) Waterline Subdivision (http://www.ci.richmond.ca.us/index.aspx?NID=2779) Nevin Homes Residential Project (http://www.ci.richmond.ca.us/index.aspx?NID=2928) Bay Area Rescue Mission, Bridge of Hope Project (http://www.ci.richmond.ca.us/3729/Bay-Area-Rescue-Mission-Bridge-of-Hope-P) Goodrick Avenue Bay Trail Gap Closure Project (http://www.ci.richmond.ca.us/3381/Goodrick-Avenue-Bay-Trail-Gap-Closure-Pr) Places & Rows at NOMA Project (http://www.ci.richmond.ca.us/2927/Bay-Walk) Under Construction Chevron Richmond Refinery Modernization Project (https://ca-richmond3.civicplus.com/3552/Chevron-Richmond-Refinery-Modernization-) Making Waves Academy Expansion Project (http://www.ci.richmond.ca.us/3449/Making-Waves-Academy-Expansion-Project) Richmond Country Club Residential Project (http://www.ci.richmond.ca.us/3977/Richmond-Country-Club-Residential-Projec) Duke Realty Light Industrial Warehouse Project (https://www.ci.richmond.ca.us/4175/47400/Duke-Realty-Light-Industrial-Warehouse?activeLiveTab=widgets) Entitlements Approved Campus Bay Mixed-Use Project (http://www.ci.richmond.ca.us/4028/43644/Campus-Bay-Mixed-Use-Project?activeLiveTab=widgets) Cherry Blossom Row Project (http://www.ci.richmond.ca.us/4113/Cherry-Blossom-Row-Project) Nevin Plaza Project (http://www.ci.richmond.ca.us/3999/Nevin-Plaza-Project) PowerPlant Park Project (https://www.ci.richmond.ca.us/3670/PowerPlant-Park-Project) Quarry Residential Project (https://ca-richmond3.civicplus.com/3481/Quarry-Residential-Project) Point Molate Mixed Use Project (http://www.ci.richmond.ca.us/3757/Point-Molate-Mixed-Use-Project) Miraflores Residential Development (https://www.ci.richmond.ca.us/3660/37185/Miraflores-Residential-Development?activeLiveTab=widgets) Under Review Terminal One Project (http://www.ci.richmond.ca.us/index.aspx?NID=2939) 100 38th Street Project (https://www.ci.richmond.ca.us/4337/50282/100-38th-Street-Project?activeLiveTab=widgets) Central Avenue Housing (/2835/Central-Avenue-Housing) (Modified) Brickyard Cove Residential Project (https://www.ci.richmond.ca.us/4349/Brickyard-Cove-Residential-Project) Homewood Suites Hotels (https://www.ci.richmond.ca.us/4646/57210/Homewood-Suites-Hotel?activeLiveTab=widgets) Point Molate Beach Shoreline Restoration Project (https://www.ci.richmond.ca.us/4013/Point-Molate-Beach-Shoreline-Restoration) Portside Commerce Center (https://www.ci.richmond.ca.us/4415/Portside-Commerce-Center) Raven SR Bioenergy Project (https://www.ci.richmond.ca.us/4365/Raven-SR-Bioenergy-Project) Long-Range Planning Projects 23rd Street Streetscape Improvement Plan (https://ca-richmond3.civicplus.com/3550/23rd-Street-Streetscape-Improvement-Plan) Hilltop Specific Plan (https://hilltophorizon.com/) I-80/Central Avenue Interchange Modification (http://www.ccta.net/_resources/detail/36/2) - CCTA Livable Corridors Form-Based Code (FBC) (/2965/RLC-FBC)     inner column   inner row  outer column   outer row                   Additional Projects (/4171/Additional-Projects)      Environmental Documents (/DocumentCenter/Index/1357)      General Plan Updates (/4257/General-Plan-Updates)       About - Información acerca del Plan General      Frequently Asked Questions (FAQs) - Preguntas frecuentes      Participate - Participe      Library        Housing Element Update (/4231/Housing-Element-Update)      Housing Policy (/3364/Richmond-Rent-Program)      Major Projects (/1404/Major-Projects)      Notable Projects (/4172/Notable-Projects)      Other Projects (/2859/Other-Projects)      Projects Information (https://www.ci.richmond.ca.us/3924/Project-Information)      Richmond Resilience Roadmap (https://www.ci.richmond.ca.us/3907/Richmond-Resilience-Roadmap)      Residential Activity Report (/4236/Residential-Activity-Report)           GBs                    (/151)  Agenda Docs   (/151)         (/965/Weekly-Announcements)  Weekly Report   (/965/Weekly-Announcements)         (/4340/KCRT-Media)  KCRT   (/4340/KCRT-Media)            inner column   inner row  outer column                 (/4518/Youth)  Youth   (/4518/Youth)         (/4540/55670/Visit-Richmond)  Visit Richmond   (/4540/55670/Visit-Richmond)         (https://www.transparentrichmond.org/)  City Data   (https://www.transparentrichmond.org/)            inner column   inner row  outer column   outer row    Calendar/Carousel <div data-cpRole=\"structuralContainer\" id=\"homeContainer1\"> <div class=\"siteWrap\"> <div data-cpRole=\"contentContainer\" id=\"homeContent1a\"></div> </div> </div> Footer                              inner column   inner row  outer column       inner column   inner row  outer column         Contact Us         RICHMOND CITY HALL 450 Civic Center Plaza Richmond, CA 94804 Phone Directory (http://www.ci.richmond.ca.us/Directory.aspx)  Directions (http://maps.google.com/maps?q=450+Civic+Center+Plaza,+Richmond+CA&oe=utf-8&rls=org.mozilla:en-US:official&client=firefox-a&um=1&ie=UTF-8&hq=&hnear=450+Civic+Center+Plaza,+Richmond,+CA+94804&gl=us&daddr=450%20Civic%20Center%20Plaza,%20Richmond,%20CA%2094804&ei=uxt0S8_-KoLUNYPuockK&sa=X&oi=geocode_result&ct=directions-to&resnum=1&ved=0CAoQwwUwAA)            inner column   inner row  outer column       inner column   inner row  outer column       Sign Up For E-News          inner column   inner row              (/facebook)     (https://twitter.com/cityofrichmond)     (/instagram)     (https://www.ci.richmond.ca.us/rss.aspx)          inner column   inner row  outer column       inner column   inner row  outer column         Site Links (/QuickLinks.aspx?CID=2,52,5)         Bay Area Legal Aid (http://www.baylegal.org/)     Contra Costa County Courts (http://www.cc-courts.org/)     California Courts (http://www.courts.ca.gov/)     Contra Costa County Bar Association (http://www.cccba.org/community/)     State Bar of California (http://www.calbar.ca.gov/state/calbar/calbar_home.jsp)     City Council Agenda Documents (http://www.ci.richmond.ca.us/index.aspx?NID=151)           /QuickLinks.aspx      inner column   inner row  outer column   outer row    Powered By                Government Websites by CivicPlus® (https://connect.civicplus.com/referral)       inner column   inner row  outer column   outer row           Loading          Content from the Froala Editor will go here. Loading    Do Not Show Again  Close      Select Language Afrikaans Albanian Amharic Arabic Armenian Assamese Aymara Azerbaijani Bambara Basque Belarusian Bengali Bhojpuri Bosnian Bulgarian Catalan Cebuano Chichewa Chinese (Simplified) Chinese (Traditional) Corsican Croatian Czech Danish Dhivehi Dogri Dutch Esperanto Estonian Ewe Filipino Finnish French Frisian Galician Georgian German Greek Guarani Gujarati Haitian Creole Hausa Hawaiian Hebrew Hindi Hmong Hungarian Icelandic Igbo Ilocano Indonesian Irish Italian Japanese Javanese Kannada Kazakh Khmer Kinyarwanda Konkani Korean Krio Kurdish (Kurmanji) Kurdish (Sorani) Kyrgyz Lao Latin Latvian Lingala Lithuanian Luganda Luxembourgish Macedonian Maithili Malagasy Malay Malayalam Maltese Maori Marathi Meiteilon (Manipuri) Mizo Mongolian Myanmar (Burmese) Nepali Norwegian Odia (Oriya) Oromo Pashto Persian Polish Portuguese Punjabi Quechua Romanian Russian Samoan Sanskrit Scots Gaelic Sepedi Serbian Sesotho Shona Sindhi Sinhala Slovak Slovenian Somali Spanish Sundanese Swahili Swedish Tajik Tamil Tatar Telugu Thai Tigrinya Tsonga Turkish Turkmen Twi Ukrainian Urdu Uyghur Uzbek Vietnamese Welsh Xhosa Yiddish Yoruba Zulu Powered by Translate (https://translate.google.com)     Arrow Left     Arrow Right        Slideshow Left Arrow       Slideshow Right Arrow                Original text Rate this translation Your feedback will be used to help improve Google Translate']"
      ]
     },
     "execution_count": 23,
     "metadata": {},
     "output_type": "execute_result"
    }
   ],
   "source": [
    "output_content"
   ]
  },
  {
   "cell_type": "code",
   "execution_count": null,
   "metadata": {
    "id": "SzUHM7Udj7A_"
   },
   "outputs": [],
   "source": []
  },
  {
   "cell_type": "code",
   "execution_count": null,
   "metadata": {
    "id": "2o1ePak88UeE"
   },
   "outputs": [],
   "source": []
  },
  {
   "cell_type": "code",
   "execution_count": null,
   "metadata": {
    "id": "cwzo3a3-2c4B"
   },
   "outputs": [],
   "source": []
  },
  {
   "cell_type": "code",
   "execution_count": null,
   "metadata": {
    "id": "brdcUNWl1_Zc"
   },
   "outputs": [],
   "source": []
  },
  {
   "cell_type": "code",
   "execution_count": null,
   "metadata": {
    "id": "xPOyVeL90PrM"
   },
   "outputs": [],
   "source": []
  },
  {
   "cell_type": "code",
   "execution_count": null,
   "metadata": {
    "id": "quafzxPMz8u9"
   },
   "outputs": [],
   "source": [
    "class Document:\n",
    "    def __init__(self, page_content,metadata):\n",
    "        self.page_content = page_content\n",
    "        self.metadata = metadata\n",
    "\n",
    "    def __repr__(self):\n",
    "        return f'Document(page_content=\"{self.page_content},metadata={self.metadata} \")'\n"
   ]
  },
  {
   "cell_type": "code",
   "execution_count": null,
   "metadata": {
    "colab": {
     "base_uri": "https://localhost:8080/"
    },
    "id": "72dCVRmP0I3k",
    "outputId": "23994017-d890-4d9c-ff58-f86a874f81f2"
   },
   "outputs": [
    {
     "name": "stdout",
     "output_type": "stream",
     "text": [
      "[Document(page_content=\"Loading  Skip to Main Content (#ccf5602c1c-2e20-4773-89f3-08f921ac655f)     [if lte IE 7]><link rel=\"stylesheet\" type=\"text/css\" href=\"/App_Themes/CP/ie7.css\"><![endif]  Allow Dashboard, Favorites Enabled      Header Container                      (/facebook)     (https://twitter.com/cityofrichmond)     (https://www.ci.richmond.ca.us/rss.aspx)          inner column   inner row  outer column       inner column   inner row  outer column       For the button right and inside     Search       inner column   inner row  outer column   outer row       City Government (/2013/City-Government)      Departments (/2014/Departments)      Business (/2016/Business)      Community (/2015/Community)       Banner            Content container       Home (/) Departments (/2014/Departments) Community Development (/101/Community-Development) Planning Division (/2098/Planning-Division) Via Verdi Slope Stabilization Project     A (#)  A (#)             Via Verdi Slope Stabilization Project         Project Contact: Lina Velasco Planning & Building Services Director Lina_Velasco@ci.richmond.ca.us (510) 620-6841  Project Description  The proposed Via Verdi Slope Stabilization Project (project) has been designed by the City of Richmond (City) to reconstruct a segment of the Via Verdi roadway that was damaged by a landslide in 2017; the road was closed at that time and an emergency roadway continues to provide access for the Sobrante Glen neighborhood. Reconstruction of the roadway requires installation of a culvert within San Pablo Creek, backfilled with engineered fill, to buttress the landslide and provide a stabilized footing for the roadway embankment. An offsite mitigation area is included as part of the project.   Project Related Documents   Via Verdi Slope Stabilization Project (/DocumentCenter/View/57827/Attachments-compiled)  Response to Comments (/DocumentCenter/View/57828/210224-Response-to-CEQA-Public-Comment)  Mitigation Monitoring and Reporting Plan (/DocumentCenter/View/57829/MMRP)   Review and Comment Period: Comments on the MND shall be sent in writing and must be received by 5:00 p.m. on Thursday, November 27, 2019 , at the following address or email: Lina Velasco City of Richmond Planning Division 450 Civic Center Plaza P.O. Box 4046 Richmond, CA 94804  lina_velasco@ci.richmond.ca.us (mailto:lina_velasco@ci.richmond.ca.us)    Report Availability: A copy of the MND is available for review online at www.ci.richmond.ca.us/viaverdiproject.  Copies are also available for review at the following locations: Richmond Public Library - Main Branch 325 Civic Center Plaza, Richmond, CA 94804 and City of Richmond, Planning and Building Department , City Hall, 450 Civic Center Plaza, Richmond, CA, 94804.   Start of Public Review: October 28, 2019 End of Public Review: November 27, 2019   Notice of Intent (/DocumentCenter/View/51434/Via-Verdi-Notice-of-Intent)  MND Draft (/DocumentCenter/View/51441/Compiled-191027-Via-Verdi-IS_MND_Public-Review-Draft)        inner column   inner row  outer column   outer row                   Accessory Dwelling Units (ADUs) (/4336/Accessory-Dwelling-Units-ADUs)      Architectural Heritage Guidelines (http://www.ci.richmond.ca.us/DocumentCenter/View/3525)      Boards & Commissions (/2861/Boards-Commissions)       Design Review Board      Historic Preservation Commission       Historic Preservation Awards        Planning Commission        Cannabis Business Information (/3603/Cannabis-Business-Information)      City Fact Sheet (/DocumentView.aspx?DID=8348)      Fees/Forms/Checklists (/2102/FeesFormsChecklists)      Form Based Code (http://www.ci.richmond.ca.us/2965/RLC-FBC)      General Plan 2030 (/2608/General-Plan-2030)      Hilltop Horizon Specific Plan (https://hilltophorizon.com/)      Historical Point Molate Project Information (http://www.ci.richmond.ca.us/270/Point-Molate)      Mapping Services (/3344/Mapping-Services)      Printable Maps (/290)      Project Information (/2860/Project-Information)       Additional Projects      Environmental Documents      General Plan Updates       About - Información acerca del Plan General      Frequently Asked Questions (FAQs) - Preguntas frecuentes      Participate - Participe      Library        Housing Element Update      Housing Policy      Major Projects      Notable Projects      Other Projects      Projects Information      Richmond Resilience Roadmap      Residential Activity Report        Regulatory Documents (/2867/Regulatory-Documents)       Bicycle Master Plan      Pedestrian Plan      Richmond Bay Specific Plan (RBSP)      Urban Greening Plan      Other Plans, Codes & Guidelines        Staff Directory (/2399/Staff-Directory)      Zoning Ordinance (/3379/Zoning-Ordinance)      Senate Bill 9 (SB 9) (/4188/Senate-Bill-9-SB-9)      Brickyard Cove Residential Project (/4349/Brickyard-Cove-Residential-Project)      Raven SR Bioenergy Project (/4365/Raven-SR-Bioenergy-Project)      Travel Safe Richmond (/4486/Travel-Safe-Richmond)           GBs                    (/151)  Agenda Docs   (/151)         (/965/Weekly-Announcements)  Weekly Report   (/965/Weekly-Announcements)         (/4340/KCRT-Media)  KCRT   (/4340/KCRT-Media)            inner column   inner row  outer column                 (/4518/Youth)  Youth   (/4518/Youth)         (/4540/55670/Visit-Richmond)  Visit Richmond   (/4540/55670/Visit-Richmond)         (https://www.transparentrichmond.org/)  City Data   (https://www.transparentrichmond.org/)            inner column   inner row  outer column   outer row    Calendar/Carousel <div data-cpRole=\"structuralContainer\" id=\"homeContainer1\"> <div class=\"siteWrap\"> <div data-cpRole=\"contentContainer\" id=\"homeContent1a\"></div> </div> </div> Footer                              inner column   inner row  outer column       inner column   inner row  outer column         Contact Us         RICHMOND CITY HALL 450 Civic Center Plaza Richmond, CA 94804 Phone Directory (http://www.ci.richmond.ca.us/Directory.aspx)  Directions (http://maps.google.com/maps?q=450+Civic+Center+Plaza,+Richmond+CA&oe=utf-8&rls=org.mozilla:en-US:official&client=firefox-a&um=1&ie=UTF-8&hq=&hnear=450+Civic+Center+Plaza,+Richmond,+CA+94804&gl=us&daddr=450%20Civic%20Center%20Plaza,%20Richmond,%20CA%2094804&ei=uxt0S8_-KoLUNYPuockK&sa=X&oi=geocode_result&ct=directions-to&resnum=1&ved=0CAoQwwUwAA)            inner column   inner row  outer column       inner column   inner row  outer column       Sign Up For E-News          inner column   inner row              (/facebook)     (https://twitter.com/cityofrichmond)     (/instagram)     (https://www.ci.richmond.ca.us/rss.aspx)          inner column   inner row  outer column       inner column   inner row  outer column         Site Links (/QuickLinks.aspx?CID=2,52,5)         Bay Area Legal Aid (http://www.baylegal.org/)     Contra Costa County Courts (http://www.cc-courts.org/)     California Courts (http://www.courts.ca.gov/)     Contra Costa County Bar Association (http://www.cccba.org/community/)     State Bar of California (http://www.calbar.ca.gov/state/calbar/calbar_home.jsp)     City Council Agenda Documents (http://www.ci.richmond.ca.us/index.aspx?NID=151)           /QuickLinks.aspx      inner column   inner row  outer column   outer row    Powered By                Government Websites by CivicPlus® (https://connect.civicplus.com/referral)       inner column   inner row  outer column   outer row           Loading          Content from the Froala Editor will go here. Loading    Do Not Show Again  Close      Powered by Translate (https://translate.google.com)     Arrow Left     Arrow Right        Slideshow Left Arrow       Slideshow Right Arrow                Original text Rate this translation Your feedback will be used to help improve Google Translate Loading  Skip to Main Content (#ccf5602c1c-2e20-4773-89f3-08f921ac655f)     [if lte IE 7]><link rel=\"stylesheet\" type=\"text/css\" href=\"/App_Themes/CP/ie7.css\"><![endif]  Allow Dashboard, Favorites Enabled      Header Container                      (/facebook)     (https://twitter.com/cityofrichmond)     (https://www.ci.richmond.ca.us/rss.aspx)          inner column   inner row  outer column       inner column   inner row  outer column       For the button right and inside     Search       inner column   inner row  outer column   outer row       City Government (/2013/City-Government)      Departments (/2014/Departments)      Business (/2016/Business)      Community (/2015/Community)       Banner            Content container       Home (/) Departments (/2014/Departments) Community Development (/101/Community-Development) Planning Division (/2098/Planning-Division) Travel Safe Richmond     A (#)  A (#)             Travel Safe Richmond             inner column   inner row      Travel Safe Richmond is the City’s two-pronged approach to improving roadway safety for all users: people walking, biking, rolling, and driving. All components of Travel Safe Richmond are working together to create unified policies and infrastructure recommendations for improving roadway conditions throughout the City of Richmond. Input from City stakeholders and community members is a critical component of this effort. Components of Travel Safe Richmond The two components of the Travel Safe Richmond project include: Local Roadway Safety Plan Traffic safety impacts the health and comfort of all those who live and travel in the City of Richmond. The Local Roadway Safety Plan (LRSP) will identify traffic safety trends, and develop a program for the funding and implementation of improvements. The implementation of this plan is a step towards making the transportation system safe and more equitable for users of all transportation modes. The LRSP’s primary goals include: Reduce fatal and serious injury collisions Ensure equitable traffic safety investments in the neighborhoods that need them most Support safe travel for people walking and biking, especially near schools and other high-demand areas Encourage safe driving, through roadway design and outreach Prepare for the future with climate-resilient transportation safety infrastructure The Local Roadway Safety Plan was approved by the City Council on July 19, 2023. LRSP's Adoption Consideration: July 19, 2023 Adopted Resolution No. 105-22 and Final Local Roadway Safety Plan (/DocumentCenter/View/65001/105-22-CC-reso-Local-Roadway-Safety-Plan---CONFORMED---Adopted-7-19-22) Bicycle and Pedestrian Action Plan The Bicycle and Pedestrian Action Plan (BPAP) will serve as the blueprint for improving walking and bicycling conditions in the City of Richmond for the next five years. This Plan will consolidate recommendations from the Local Roadway Safety Plan (LRSP) and coordinate with other Richmond planning efforts to provide near-term bicycle and pedestrian infrastructure recommendations. The proposed improvements will make it safer, easier, and more practical to walk, bike, roll and access transit throughout the City of Richmond. Goals for the B/P Action Plan include: Develop a recommended bicycle and pedestrian network that builds on Richmond's existing assets and focuses on closing existing gaps Develop a list of near-term (1-3 year) infrastructure projects focusing on bicycle and pedestrian safety and comfort Develop an implementation strategy that identifies potential funding opportunities and applies those to each project Develop a general set of guidelines for the development and implementation of bicycle facilities and off-street paths The Bicycle and Pedestrian Action Plan had a study session on October 25, 2022 and was adopted by City Council on February 7, 2023. BPAP's City Council Adoption Consideration: February 7, 2023 Adopted Resolution No. 9-23 and Final Bicycle and Pedestrian Action Plan (/DocumentCenter/View/65000/9-23-CC-reso-Bicycle-and-Pedestrian-Action-Plan---CONFORMED---Adopted-2-7-2023) Project Timeline The project was developed in two distinct phases as noted in the graphic below. Travel Safe Richmond Community Workshops Throughout the development of Travel Safe Richmond, the City organized a number of events and digital opportunities, including community workshops/open houses, pop up events, and presenting to the business community and at several neighborhood council meetings to gather the public's feedback and ideas. All two components of the Project will coordinate their community engagement into one unified process. 1st Community Workshop: December 8, 2021 Presentation (/DocumentCenter/View/65002/TSR_Workshop1_Presentation_12082021) 2nd Community Workshop: May 18, 2022 ( In person ) Flyer (/DocumentCenter/View/65003/Flyer_MayWorkshop_033022r) 3rd Community Workshop: November 9, 2022 Presentation (/DocumentCenter/View/65004/TSR_Workshop-3_DRAFT110722) Contact Us If you have any comments or questions about the project, you can reach project planer, Lydia Elias at travelsafe@ci.richmond.ca.us (mailto:travelsafe@ci.richmond.ca.us) .     inner column   inner row  outer column   outer row                   Accessory Dwelling Units (ADUs) (/4336/Accessory-Dwelling-Units-ADUs)      Architectural Heritage Guidelines (http://www.ci.richmond.ca.us/DocumentCenter/View/3525)      Boards & Commissions (/2861/Boards-Commissions)       Design Review Board      Historic Preservation Commission       Historic Preservation Awards        Planning Commission        Cannabis Business Information (/3603/Cannabis-Business-Information)      City Fact Sheet (/DocumentView.aspx?DID=8348)      Fees/Forms/Checklists (/2102/FeesFormsChecklists)      Form Based Code (http://www.ci.richmond.ca.us/2965/RLC-FBC)      General Plan 2030 (/2608/General-Plan-2030)      Hilltop Horizon Specific Plan (https://hilltophorizon.com/)      Historical Point Molate Project Information (http://www.ci.richmond.ca.us/270/Point-Molate)      Mapping Services (/3344/Mapping-Services)      Printable Maps (/290)      Project Information (/2860/Project-Information)       Additional Projects      Environmental Documents      General Plan Updates       About - Información acerca del Plan General      Frequently Asked Questions (FAQs) - Preguntas frecuentes      Participate - Participe      Library        Housing Element Update      Housing Policy      Major Projects      Notable Projects      Other Projects      Projects Information      Richmond Resilience Roadmap      Residential Activity Report        Regulatory Documents (/2867/Regulatory-Documents)       Bicycle Master Plan      Pedestrian Plan      Richmond Bay Specific Plan (RBSP)      Urban Greening Plan      Other Plans, Codes & Guidelines        Staff Directory (/2399/Staff-Directory)      Zoning Ordinance (/3379/Zoning-Ordinance)      Senate Bill 9 (SB 9) (/4188/Senate-Bill-9-SB-9)      Brickyard Cove Residential Project (/4349/Brickyard-Cove-Residential-Project)      Raven SR Bioenergy Project (/4365/Raven-SR-Bioenergy-Project)      Travel Safe Richmond (/4486/Travel-Safe-Richmond)           GBs                    (/151)  Agenda Docs   (/151)         (/965/Weekly-Announcements)  Weekly Report   (/965/Weekly-Announcements)         (/4340/KCRT-Media)  KCRT   (/4340/KCRT-Media)            inner column   inner row  outer column                 (/4518/Youth)  Youth   (/4518/Youth)         (/4540/55670/Visit-Richmond)  Visit Richmond   (/4540/55670/Visit-Richmond)         (https://www.transparentrichmond.org/)  City Data   (https://www.transparentrichmond.org/)            inner column   inner row  outer column   outer row    Calendar/Carousel <div data-cpRole=\"structuralContainer\" id=\"homeContainer1\"> <div class=\"siteWrap\"> <div data-cpRole=\"contentContainer\" id=\"homeContent1a\"></div> </div> </div> Footer                              inner column   inner row  outer column       inner column   inner row  outer column         Contact Us         RICHMOND CITY HALL 450 Civic Center Plaza Richmond, CA 94804 Phone Directory (http://www.ci.richmond.ca.us/Directory.aspx)  Directions (http://maps.google.com/maps?q=450+Civic+Center+Plaza,+Richmond+CA&oe=utf-8&rls=org.mozilla:en-US:official&client=firefox-a&um=1&ie=UTF-8&hq=&hnear=450+Civic+Center+Plaza,+Richmond,+CA+94804&gl=us&daddr=450%20Civic%20Center%20Plaza,%20Richmond,%20CA%2094804&ei=uxt0S8_-KoLUNYPuockK&sa=X&oi=geocode_result&ct=directions-to&resnum=1&ved=0CAoQwwUwAA)            inner column   inner row  outer column       inner column   inner row  outer column       Sign Up For E-News          inner column   inner row              (/facebook)     (https://twitter.com/cityofrichmond)     (/instagram)     (https://www.ci.richmond.ca.us/rss.aspx)          inner column   inner row  outer column       inner column   inner row  outer column         Site Links (/QuickLinks.aspx?CID=2,52,5)         Bay Area Legal Aid (http://www.baylegal.org/)     Contra Costa County Courts (http://www.cc-courts.org/)     California Courts (http://www.courts.ca.gov/)     Contra Costa County Bar Association (http://www.cccba.org/community/)     State Bar of California (http://www.calbar.ca.gov/state/calbar/calbar_home.jsp)     City Council Agenda Documents (http://www.ci.richmond.ca.us/index.aspx?NID=151)           /QuickLinks.aspx      inner column   inner row  outer column   outer row    Powered By                Government Websites by CivicPlus® (https://connect.civicplus.com/referral)       inner column   inner row  outer column   outer row           Loading          Content from the Froala Editor will go here. Loading    Do Not Show Again  Close      Select Language Afrikaans Albanian Amharic Arabic Armenian Assamese Aymara Azerbaijani Bambara Basque Belarusian Bengali Bhojpuri Bosnian Bulgarian Catalan Cebuano Chichewa Chinese (Simplified) Chinese (Traditional) Corsican Croatian Czech Danish Dhivehi Dogri Dutch Esperanto Estonian Ewe Filipino Finnish French Frisian Galician Georgian German Greek Guarani Gujarati Haitian Creole Hausa Hawaiian Hebrew Hindi Hmong Hungarian Icelandic Igbo Ilocano Indonesian Irish Italian Japanese Javanese Kannada Kazakh Khmer Kinyarwanda Konkani Korean Krio Kurdish (Kurmanji) Kurdish (Sorani) Kyrgyz Lao Latin Latvian Lingala Lithuanian Luganda Luxembourgish Macedonian Maithili Malagasy Malay Malayalam Maltese Maori Marathi Meiteilon (Manipuri) Mizo Mongolian Myanmar (Burmese) Nepali Norwegian Odia (Oriya) Oromo Pashto Persian Polish Portuguese Punjabi Quechua Romanian Russian Samoan Sanskrit Scots Gaelic Sepedi Serbian Sesotho Shona Sindhi Sinhala Slovak Slovenian Somali Spanish Sundanese Swahili Swedish Tajik Tamil Tatar Telugu Thai Tigrinya Tsonga Turkish Turkmen Twi Ukrainian Urdu Uyghur Uzbek Vietnamese Welsh Xhosa Yiddish Yoruba Zulu Powered by Translate (https://translate.google.com)     Arrow Left     Arrow Right        Slideshow Left Arrow       Slideshow Right Arrow                Original text Rate this translation Your feedback will be used to help improve Google Translate Loading  Skip to Main Content (#ccf5602c1c-2e20-4773-89f3-08f921ac655f)     [if lte IE 7]><link rel=\"stylesheet\" type=\"text/css\" href=\"/App_Themes/CP/ie7.css\"><![endif]  Allow Dashboard, Favorites Enabled      Header Container                      (/facebook)     (https://twitter.com/cityofrichmond)     (https://www.ci.richmond.ca.us/rss.aspx)          inner column   inner row  outer column       inner column   inner row  outer column       For the button right and inside     Search       inner column   inner row  outer column   outer row       City Government (/2013/City-Government)      Departments (/2014/Departments)      Business (/2016/Business)      Community (/2015/Community)       Banner            Content container       Home (/) Departments (/2014/Departments) Community Development (/101/Community-Development) Planning Division (/2098/Planning-Division) Atlas Road Industrial Building Project     A (#)  A (#)             Atlas Road Industrial Building Project                 Project Contact  Jonelyn Whales, Senior Planner (510) 620-6785  For security reasons, you must enable JavaScript to view this E-mail address.         Project Description   The proposed project is located on a 42.14 acre site at 2995 Atlas Road, at the corner of Atlas and Giant Road. The project involves construction of a  700,000 square foot logistics building and associated parking, loading, and landscaping. The new building would include 40,000 square feet of office space and 687,820 square feet of warehouse space.  The height of the building would vary from 40 to 45 feet, and its length would be 1,506 feet. The site previously included two manufacturing buildings and one office building totaling approximately 593,500 square feet. The footprint of the new building would be similar as that of the previous structures. A  total of 427 vehicle parking spaces and 105 bicycles stalls are proposed for employees. Drive alsles on the site are proposed to be 25 and 30 feet wide for the employee parking area and the truck access area. Access to and from the site site would be via an existing access driveway off Atlas Road. No new driveways are proposed.        Project and Related Documents     Notice of Comment Period Extension for the Initial Study and Mitigated Negative Declaration (New End of Comment Period: May 26, 2015) (/DocumentCenter/View/31075)  Notice of Availability and Intent to Adopt a Mitigated Negative Declaration (/DocumentCenter/View/30945)  Initial Study and Mitigated Negative Declaration (/DocumentCenter/View/30924) (End of Public Review: May 11, 2015)  Final Mitigated Negative Declaration and Mitigation and Monitoring Reporting Program (/DocumentCenter/View/34641)            inner column   inner row  outer column   outer row                   Accessory Dwelling Units (ADUs) (/4336/Accessory-Dwelling-Units-ADUs)      Architectural Heritage Guidelines (http://www.ci.richmond.ca.us/DocumentCenter/View/3525)      Boards & Commissions (/2861/Boards-Commissions)       Design Review Board      Historic Preservation Commission       Historic Preservation Awards        Planning Commission        Cannabis Business Information (/3603/Cannabis-Business-Information)      City Fact Sheet (/DocumentView.aspx?DID=8348)      Fees/Forms/Checklists (/2102/FeesFormsChecklists)      Form Based Code (http://www.ci.richmond.ca.us/2965/RLC-FBC)      General Plan 2030 (/2608/General-Plan-2030)      Hilltop Horizon Specific Plan (https://hilltophorizon.com/)      Historical Point Molate Project Information (http://www.ci.richmond.ca.us/270/Point-Molate)      Mapping Services (/3344/Mapping-Services)      Printable Maps (/290)      Project Information (/2860/Project-Information)       Additional Projects      Environmental Documents      General Plan Updates       About - Información acerca del Plan General      Frequently Asked Questions (FAQs) - Preguntas frecuentes      Participate - Participe      Library        Housing Element Update      Housing Policy      Major Projects      Notable Projects      Other Projects      Projects Information      Richmond Resilience Roadmap      Residential Activity Report        Regulatory Documents (/2867/Regulatory-Documents)       Bicycle Master Plan      Pedestrian Plan      Richmond Bay Specific Plan (RBSP)      Urban Greening Plan      Other Plans, Codes & Guidelines        Staff Directory (/2399/Staff-Directory)      Zoning Ordinance (/3379/Zoning-Ordinance)      Senate Bill 9 (SB 9) (/4188/Senate-Bill-9-SB-9)      Brickyard Cove Residential Project (/4349/Brickyard-Cove-Residential-Project)      Raven SR Bioenergy Project (/4365/Raven-SR-Bioenergy-Project)      Travel Safe Richmond (/4486/Travel-Safe-Richmond)           GBs                    (/151)  Agenda Docs   (/151)         (/965/Weekly-Announcements)  Weekly Report   (/965/Weekly-Announcements)         (/4340/KCRT-Media)  KCRT   (/4340/KCRT-Media)            inner column   inner row  outer column                 (/4518/Youth)  Youth   (/4518/Youth)         (/4540/55670/Visit-Richmond)  Visit Richmond   (/4540/55670/Visit-Richmond)         (https://www.transparentrichmond.org/)  City Data   (https://www.transparentrichmond.org/)            inner column   inner row  outer column   outer row    Calendar/Carousel <div data-cpRole=\"structuralContainer\" id=\"homeContainer1\"> <div class=\"siteWrap\"> <div data-cpRole=\"contentContainer\" id=\"homeContent1a\"></div> </div> </div> Footer                              inner column   inner row  outer column       inner column   inner row  outer column         Contact Us         RICHMOND CITY HALL 450 Civic Center Plaza Richmond, CA 94804 Phone Directory (http://www.ci.richmond.ca.us/Directory.aspx)  Directions (http://maps.google.com/maps?q=450+Civic+Center+Plaza,+Richmond+CA&oe=utf-8&rls=org.mozilla:en-US:official&client=firefox-a&um=1&ie=UTF-8&hq=&hnear=450+Civic+Center+Plaza,+Richmond,+CA+94804&gl=us&daddr=450%20Civic%20Center%20Plaza,%20Richmond,%20CA%2094804&ei=uxt0S8_-KoLUNYPuockK&sa=X&oi=geocode_result&ct=directions-to&resnum=1&ved=0CAoQwwUwAA)            inner column   inner row  outer column       inner column   inner row  outer column       Sign Up For E-News          inner column   inner row              (/facebook)     (https://twitter.com/cityofrichmond)     (/instagram)     (https://www.ci.richmond.ca.us/rss.aspx)          inner column   inner row  outer column       inner column   inner row  outer column         Site Links (/QuickLinks.aspx?CID=2,52,5)         Bay Area Legal Aid (http://www.baylegal.org/)     Contra Costa County Courts (http://www.cc-courts.org/)     California Courts (http://www.courts.ca.gov/)     Contra Costa County Bar Association (http://www.cccba.org/community/)     State Bar of California (http://www.calbar.ca.gov/state/calbar/calbar_home.jsp)     City Council Agenda Documents (http://www.ci.richmond.ca.us/index.aspx?NID=151)           /QuickLinks.aspx      inner column   inner row  outer column   outer row    Powered By                Government Websites by CivicPlus® (https://connect.civicplus.com/referral)       inner column   inner row  outer column   outer row           Loading          Content from the Froala Editor will go here. Loading    Do Not Show Again  Close      Powered by Translate (https://translate.google.com)     Arrow Left     Arrow Right        Slideshow Left Arrow       Slideshow Right Arrow                Original text Rate this translation Your feedback will be used to help improve Google Translate Loading  Skip to Main Content (#ccf5602c1c-2e20-4773-89f3-08f921ac655f)     [if lte IE 7]><link rel=\"stylesheet\" type=\"text/css\" href=\"/App_Themes/CP/ie7.css\"><![endif]  Allow Dashboard, Favorites Enabled      Header Container                      (/facebook)     (https://twitter.com/cityofrichmond)     (https://www.ci.richmond.ca.us/rss.aspx)          inner column   inner row  outer column       inner column   inner row  outer column       For the button right and inside     Search       inner column   inner row  outer column   outer row       City Government (/2013/City-Government)      Departments (/2014/Departments)      Business (/2016/Business)      Community (/2015/Community)       Banner            Content container       Home (/) Departments (/2014/Departments) Community Development (/101/Community-Development) Planning Division (/2098/Planning-Division) Richmond Greenway Gap Closure     A (#)  A (#)             Richmond Greenway Gap Closure Project         Staff Contact  Lina Velasco, Planning Manager  lina_velasco@ci.richmond.ca.us (mailto:lina_velasco@ci.richmond.ca.us)   Project Description  The City of Richmond proposes to construct the Richmond-Greenway Gap Closure Project, a multi-use trail connection in Richmond, California. The Richmond-Ohlone Greenway Gap Closure Project represents the third phase of the Richmond Greenway Project, which would provide a continuous bicycle and pedestrian pathway in Richmond from Garrard Boulevard and the Richmond Parkway to San Pablo Avenue. The Richmond Greenway would connect the San Francisco Bay Trail at the west with the Ohlone Greenway in the City of El Cerrito at the east. The proposed project includes installation of the new multi-use trail, a new crosswalk and traffic signal on San Pablo Avenue, and a new bridge over realigned Baxter Creek as well as associated improvements and landscaping.   Environmental Review  An Initial Study/Mitigated Negative Declaration was prepared for this project and is available below. The basis for proposing a Mitigated Negative Declaration was the finding that although the proposed project could have a significant effect on the environment, implementation of proposed mitigation measures will reduce all impacts to a less-than-significant level. Written comments on the Draft Mitigated Negative Declaration, via hard copy or electronic mail, must be received on or before 5:00 PM on Monday, June 27, 2011 at the following address:  Lina Velasco, Senior Planner City of Richmond Planning Division 450 Civic Center Plaza, Second Floor Richmond, CA 94804    (http://www.ci.richmond.ca.us/DocumentCenter/View/27248) Final Initial Study/Mitigated Negative Declaration  (http://www.ci.richmond.ca.us/DocumentCenter/View/27248)  Notice of Availability of a Draft Mitigated Negative Declaration (http://www.ci.richmond.ca.us/DocumentCenter/View/27248)  (/DocumentView.aspx?DID=7201)  CEQA Initial Study/Mitigated Negative Declaration (/DocumentView.aspx?DID=7201)       inner column   inner row  outer column   outer row                   Accessory Dwelling Units (ADUs) (/4336/Accessory-Dwelling-Units-ADUs)      Architectural Heritage Guidelines (http://www.ci.richmond.ca.us/DocumentCenter/View/3525)      Boards & Commissions (/2861/Boards-Commissions)       Design Review Board      Historic Preservation Commission       Historic Preservation Awards        Planning Commission        Cannabis Business Information (/3603/Cannabis-Business-Information)      City Fact Sheet (/DocumentView.aspx?DID=8348)      Fees/Forms/Checklists (/2102/FeesFormsChecklists)      Form Based Code (http://www.ci.richmond.ca.us/2965/RLC-FBC)      General Plan 2030 (/2608/General-Plan-2030)      Hilltop Horizon Specific Plan (https://hilltophorizon.com/)      Historical Point Molate Project Information (http://www.ci.richmond.ca.us/270/Point-Molate)      Mapping Services (/3344/Mapping-Services)      Printable Maps (/290)      Project Information (/2860/Project-Information)       Additional Projects      Environmental Documents      General Plan Updates       About - Información acerca del Plan General      Frequently Asked Questions (FAQs) - Preguntas frecuentes      Participate - Participe      Library        Housing Element Update      Housing Policy      Major Projects      Notable Projects      Other Projects      Projects Information      Richmond Resilience Roadmap      Residential Activity Report        Regulatory Documents (/2867/Regulatory-Documents)       Bicycle Master Plan      Pedestrian Plan      Richmond Bay Specific Plan (RBSP)      Urban Greening Plan      Other Plans, Codes & Guidelines        Staff Directory (/2399/Staff-Directory)      Zoning Ordinance (/3379/Zoning-Ordinance)      Senate Bill 9 (SB 9) (/4188/Senate-Bill-9-SB-9)      Brickyard Cove Residential Project (/4349/Brickyard-Cove-Residential-Project)      Raven SR Bioenergy Project (/4365/Raven-SR-Bioenergy-Project)      Travel Safe Richmond (/4486/Travel-Safe-Richmond)           GBs                    (/151)  Agenda Docs   (/151)         (/965/Weekly-Announcements)  Weekly Report   (/965/Weekly-Announcements)         (/4340/KCRT-Media)  KCRT   (/4340/KCRT-Media)            inner column   inner row  outer column                 (/4518/Youth)  Youth   (/4518/Youth)         (/4540/55670/Visit-Richmond)  Visit Richmond   (/4540/55670/Visit-Richmond)         (https://www.transparentrichmond.org/)  City Data   (https://www.transparentrichmond.org/)            inner column   inner row  outer column   outer row    Calendar/Carousel <div data-cpRole=\"structuralContainer\" id=\"homeContainer1\"> <div class=\"siteWrap\"> <div data-cpRole=\"contentContainer\" id=\"homeContent1a\"></div> </div> </div> Footer                              inner column   inner row  outer column       inner column   inner row  outer column         Contact Us         RICHMOND CITY HALL 450 Civic Center Plaza Richmond, CA 94804 Phone Directory (http://www.ci.richmond.ca.us/Directory.aspx)  Directions (http://maps.google.com/maps?q=450+Civic+Center+Plaza,+Richmond+CA&oe=utf-8&rls=org.mozilla:en-US:official&client=firefox-a&um=1&ie=UTF-8&hq=&hnear=450+Civic+Center+Plaza,+Richmond,+CA+94804&gl=us&daddr=450%20Civic%20Center%20Plaza,%20Richmond,%20CA%2094804&ei=uxt0S8_-KoLUNYPuockK&sa=X&oi=geocode_result&ct=directions-to&resnum=1&ved=0CAoQwwUwAA)            inner column   inner row  outer column       inner column   inner row  outer column       Sign Up For E-News          inner column   inner row              (/facebook)     (https://twitter.com/cityofrichmond)     (/instagram)     (https://www.ci.richmond.ca.us/rss.aspx)          inner column   inner row  outer column       inner column   inner row  outer column         Site Links (/QuickLinks.aspx?CID=2,52,5)         Bay Area Legal Aid (http://www.baylegal.org/)     Contra Costa County Courts (http://www.cc-courts.org/)     California Courts (http://www.courts.ca.gov/)     Contra Costa County Bar Association (http://www.cccba.org/community/)     State Bar of California (http://www.calbar.ca.gov/state/calbar/calbar_home.jsp)     City Council Agenda Documents (http://www.ci.richmond.ca.us/index.aspx?NID=151)           /QuickLinks.aspx      inner column   inner row  outer column   outer row    Powered By                Government Websites by CivicPlus® (https://connect.civicplus.com/referral)       inner column   inner row  outer column   outer row           Loading          Content from the Froala Editor will go here. Loading    Do Not Show Again  Close      Powered by Translate (https://translate.google.com)     Arrow Left     Arrow Right        Slideshow Left Arrow       Slideshow Right Arrow                Original text Rate this translation Your feedback will be used to help improve Google Translate Loading  Skip to Main Content (#ccf5602c1c-2e20-4773-89f3-08f921ac655f)     [if lte IE 7]><link rel=\"stylesheet\" type=\"text/css\" href=\"/App_Themes/CP/ie7.css\"><![endif]  Allow Dashboard, Favorites Enabled      Header Container                      (/facebook)     (https://twitter.com/cityofrichmond)     (https://www.ci.richmond.ca.us/rss.aspx)          inner column   inner row  outer column       inner column   inner row  outer column       For the button right and inside     Search       inner column   inner row  outer column   outer row       City Government (/2013/City-Government)      Departments (/2014/Departments)      Business (/2016/Business)      Community (/2015/Community)       Banner            Content container       Home (/) Departments (/2014/Departments) Community Development (/101/Community-Development) Planning Division (/2098/Planning-Division) Mathieu Court Alley Play Street     A (#)  A (#)             Mathieu Court Alley Play Street             inner column   inner row  outer column       Project Contact:  Lina Velasco Planning Manager lina_velasco@ci.richmond.ca.us (510) 620-6841  #playeverywhererichmond       inner column   inner row  outer column   outer row        Ribbon Cutting for Mathieu Court Alley Play Street  Please come and join us to celebrate the inauguration of this new Play Street in Richmond.   When? Friday, June 9, 2017 from 11:00 AM to 1:00 PM Where? Mathieu Court Alley, near Barrett Avenue  This project was funded in part by a KaBoom! Play Everywhere Challenge grant. To learn more about the Play Everywhere Challenge, please visit http://kaboom.org/playeverywhere (https://kaboom.org/playability/play_everywhere) . This project is a collaboration between the City of Richmond, Richmond Art Center, The Trust for Public Land, Pogo Park and the Iron Triangle Neighborhood Council. To learn more about the Mathieu Court Alley Play Street Project, contact Lina Velasco (lina_velasco@ci.richmond.ca.us) at the Planning Department.  The Play Everywhere Challenge is hosted by KaBOOM! in collaboration with the Robert Wood Johnson Foundation, Target, Playworld, the U.S. Department of Housing and Urban Development, and the National Endowment for the Arts.     inner column   inner row  outer column   outer row            inner column   inner row  outer column   outer row        Community Design Charrette at Mathieu Court Alley for the Play Everywhere Challenge  Please come and share your ideas on how to turn our recently transformed “green alley” into a Play Street, where kids and families can come and play.   When? Wednesday, October 19, 2016 from 5:00 pm to 6:30 pm  Where? Mathieu Court Alley, at the corner of Barrett Avenue  To learn more about the Play Everywhere Challenge, please visit http://kaboom.org/playeverywhere (https://kaboom.org/playability/play_everywhere) . This project is being done in colaboration with the Richmond Art Center, the Trust for Public Land, and the Iron Triangle Neighborhood Council. To learn more about the Mathieu Court Alley Play Street Project, contact Francisca Penafiel ( francisca_penafiel@ci.richmond.ca.us (mailto:francisca_penafiel@ci.richmond.ca.us) ) or Lina Velasco ( lina_velasco@ci.richmond.ca.us (Mailto:lina_velasco@ci.richmond.ca.us) ) at the Planning Department.  The Play Everywhere Challenge is hosted by KaBOOM! in collaboration with the Robert Wood Johnson Foundation, Target, Playworld, the U.S. Department of Housing and Urban Development, and the National Endowment for the Arts.     inner column   inner row          inner column   inner row  outer column   outer row        Project Description  The City of Richmond (COR), Richmond Art Center (RAC), The Trust for Public Land (TPL), & area residents will partner together to paint interactive games & artwork on a recently transformed \"green alley\" to transform it into a play street where families can have a fun, green, and clean place to play in a underserved and park-deficient neighborhood. The project partners will host a design charrette to develop ideas for the play street, & then work with artists, local non-profits, & volunteers to implement the improvements.  Project partners will select 1-2 Lead Artists with public art & community engagement experience from the RAC's roster of experienced teaching artists. Through RAC's Artists in Schools & Arts in the Community Program, the partners will work with two local elementary schools & youth of the Nevin Community Center to develop and implement portions of the project. In addition to the work done by K-6th grade students in after school programs, the project lead artists will hold 3-4 community work days in which community members & families of student artists can help install the fence art work & complete the asphalt painting.  The improvements contemplated include games painted on the ground, a game that will be displayed as fence art, stepping stones for balancing, blackboards for drawing, boulders for seating, community garden boxes with seating areas & interactive educational signs about the green features of the alley, nutrition, and healthy living. Other improvements include a trash & recycling receptacle, a safety barrier that can be closed when families are playing, & gateway fencing for the play street. The themes of the games will focus on sustainability, nutrition, & healthy living. The games & signage proposed will be in English and Spanish to encourage use of this play street by non-English speaking area residents. Prior to the green alley improvements, this alley was a source of blight for this community. This project will make play a priority in the alley versus vehicle travel and will help create community ownership of the alley to ensure its longevity as a community asset.  The creation of an attractive neighborhood green & play space will reduce the need for vehicle trips to have opportunities for play and to be physically active in a park-deficient neighborhood. It will also encourage and support the use and enjoyment of outdoor space, enhancing the community & promoting public health.   Mathieu Court Alley Play Street Selected as One of the 50 Winners Nationwide in the Play Everywhere Challenge  Earlier this summer, the City of Richmond partnered with the Richmond Art Center, Trust for Public Land, Richmond Love Your Block Initiative, and the Iron Triangle Neighborhood Council to submit a concept to paint interactive games & artwork on Mathieu Court Alley, a recently transformed \"green alley\". The idea is to add opportunities for play where families can have a fun, green, and clean place to play within the alley in this park-deficient neighborhood. In August, this project was selected as a finalist to submit a full grant application and on Tuesday, September 20th, the project was selected as one of the 50 winners, out of the 1000 plus applications submitted nationwide. The project implementation is expected to begin in November, beginning with a design charrette with area schools and residents in October.  To learn more about the Play Everywhere Challenge, and view a gallery of winning ideas from cities across the US, please visit http://kaboom.org/playeverywhere (https://kaboom.org/playability/play_everywhere) . To learn more about the Mathieu Court Alley Play Street Project, contact Francisca Penafiel at francisca_penafiel@ci.richmond.ca.us (mailto:francisca_penafile@ci.richmond.ca.us) or Lina Velasco at lina_velasco@ci.richmond.ca.us (mailto:lina_velasco@ci.richmond.ca.us) . #playeverywhererichmond  The Play Everywhere Challenge is hosted by KaBOOM! in collaboration with the Robert Wood Johnson Foundation, Target, Playworld, the U.S. Department of Housing and Urban Development, and the National Endowment for the Arts.       inner column   inner row  outer column   outer row           Mathieu Court Alley Greening Project   Project Description:  Mathieu Court is a paved alley, 25 feet in width and approximately 640 feet in length. Working with the community to green this 16,000 square foot paved surface will promote a healthy community by reclaiming this space as a usable neighborhood amenity, and help deter undesirable activities that occur there now. Residents and community partners will not only be involved in the designing of the space, but also in the construction activities through part-time employment and volunteer opportunities.     The project will replace 16,000 square feet of impervious paving with landscaped areas, and with pervious pavers and/or turf cell where vehicle access is necessary. Incorporating bioswales and/or rain gardens, and native planting, the project will mimic natural systems that clean and filter stormwater, recharge groundwater, and create habitat for native birds and beneficial insects. It will create a new community green space with tree canopy (possibly fruit or nut trees), community garden opportunities, and landscaped informal seating areas. Community gardens and edible landscape will create a source of fresh produce in a “food desert” neighborhood. Limiting vehicle access will allow for more shared use of the entire space, with opportunities for children to play safely, as well as providing a safe route of travel.    The greening of Mathieu Court will decrease air and water pollution by filtering stormwater, mitigating runoff, and providing tree canopy. The additional tree canopy and landscape area will also reduce heat island effect, mitigating effects of climate change. The existing asphalt paving can be recycled and incorporated into underlying base material for areas of pervious paving, thus limiting consumption of natural resources. Creation of an attractive neighborhood green will reduce the need for vehicle trips to get to an open space in this park-deficient neighborhood. It will also encourage and support the use and enjoyment of outdoor space, enhancing the community and promoting public health.     Project Area:          inner column   inner row  outer column      Project Concept:       inner column   inner row  outer column   outer row                   Accessory Dwelling Units (ADUs) (/4336/Accessory-Dwelling-Units-ADUs)      Architectural Heritage Guidelines (http://www.ci.richmond.ca.us/DocumentCenter/View/3525)      Boards & Commissions (/2861/Boards-Commissions)       Design Review Board      Historic Preservation Commission       Historic Preservation Awards        Planning Commission        Cannabis Business Information (/3603/Cannabis-Business-Information)      City Fact Sheet (/DocumentView.aspx?DID=8348)      Fees/Forms/Checklists (/2102/FeesFormsChecklists)      Form Based Code (http://www.ci.richmond.ca.us/2965/RLC-FBC)      General Plan 2030 (/2608/General-Plan-2030)      Hilltop Horizon Specific Plan (https://hilltophorizon.com/)      Historical Point Molate Project Information (http://www.ci.richmond.ca.us/270/Point-Molate)      Mapping Services (/3344/Mapping-Services)      Printable Maps (/290)      Project Information (/2860/Project-Information)       Additional Projects      Environmental Documents      General Plan Updates       About - Información acerca del Plan General      Frequently Asked Questions (FAQs) - Preguntas frecuentes      Participate - Participe      Library        Housing Element Update      Housing Policy      Major Projects      Notable Projects      Other Projects      Projects Information      Richmond Resilience Roadmap      Residential Activity Report        Regulatory Documents (/2867/Regulatory-Documents)       Bicycle Master Plan      Pedestrian Plan      Richmond Bay Specific Plan (RBSP)      Urban Greening Plan      Other Plans, Codes & Guidelines        Staff Directory (/2399/Staff-Directory)      Zoning Ordinance (/3379/Zoning-Ordinance)      Senate Bill 9 (SB 9) (/4188/Senate-Bill-9-SB-9)      Brickyard Cove Residential Project (/4349/Brickyard-Cove-Residential-Project)      Raven SR Bioenergy Project (/4365/Raven-SR-Bioenergy-Project)      Travel Safe Richmond (/4486/Travel-Safe-Richmond)           GBs                    (/151)  Agenda Docs   (/151)         (/965/Weekly-Announcements)  Weekly Report   (/965/Weekly-Announcements)         (/4340/KCRT-Media)  KCRT   (/4340/KCRT-Media)            inner column   inner row  outer column                 (/4518/Youth)  Youth   (/4518/Youth)         (/4540/55670/Visit-Richmond)  Visit Richmond   (/4540/55670/Visit-Richmond)         (https://www.transparentrichmond.org/)  City Data   (https://www.transparentrichmond.org/)            inner column   inner row  outer column   outer row    Calendar/Carousel <div data-cpRole=\"structuralContainer\" id=\"homeContainer1\"> <div class=\"siteWrap\"> <div data-cpRole=\"contentContainer\" id=\"homeContent1a\"></div> </div> </div> Footer                              inner column   inner row  outer column       inner column   inner row  outer column         Contact Us         RICHMOND CITY HALL 450 Civic Center Plaza Richmond, CA 94804 Phone Directory (http://www.ci.richmond.ca.us/Directory.aspx)  Directions (http://maps.google.com/maps?q=450+Civic+Center+Plaza,+Richmond+CA&oe=utf-8&rls=org.mozilla:en-US:official&client=firefox-a&um=1&ie=UTF-8&hq=&hnear=450+Civic+Center+Plaza,+Richmond,+CA+94804&gl=us&daddr=450%20Civic%20Center%20Plaza,%20Richmond,%20CA%2094804&ei=uxt0S8_-KoLUNYPuockK&sa=X&oi=geocode_result&ct=directions-to&resnum=1&ved=0CAoQwwUwAA)            inner column   inner row  outer column       inner column   inner row  outer column       Sign Up For E-News          inner column   inner row              (/facebook)     (https://twitter.com/cityofrichmond)     (/instagram)     (https://www.ci.richmond.ca.us/rss.aspx)          inner column   inner row  outer column       inner column   inner row  outer column         Site Links (/QuickLinks.aspx?CID=2,52,5)         Bay Area Legal Aid (http://www.baylegal.org/)     Contra Costa County Courts (http://www.cc-courts.org/)     California Courts (http://www.courts.ca.gov/)     Contra Costa County Bar Association (http://www.cccba.org/community/)     State Bar of California (http://www.calbar.ca.gov/state/calbar/calbar_home.jsp)     City Council Agenda Documents (http://www.ci.richmond.ca.us/index.aspx?NID=151)           /QuickLinks.aspx      inner column   inner row  outer column   outer row    Powered By                Government Websites by CivicPlus® (https://connect.civicplus.com/referral)       inner column   inner row  outer column   outer row           Loading          Content from the Froala Editor will go here. Loading    Do Not Show Again  Close      Select Language Afrikaans Albanian Amharic Arabic Armenian Assamese Aymara Azerbaijani Bambara Basque Belarusian Bengali Bhojpuri Bosnian Bulgarian Catalan Cebuano Chichewa Chinese (Simplified) Chinese (Traditional) Corsican Croatian Czech Danish Dhivehi Dogri Dutch Esperanto Estonian Ewe Filipino Finnish French Frisian Galician Georgian German Greek Guarani Gujarati Haitian Creole Hausa Hawaiian Hebrew Hindi Hmong Hungarian Icelandic Igbo Ilocano Indonesian Irish Italian Japanese Javanese Kannada Kazakh Khmer Kinyarwanda Konkani Korean Krio Kurdish (Kurmanji) Kurdish (Sorani) Kyrgyz Lao Latin Latvian Lingala Lithuanian Luganda Luxembourgish Macedonian Maithili Malagasy Malay Malayalam Maltese Maori Marathi Meiteilon (Manipuri) Mizo Mongolian Myanmar (Burmese) Nepali Norwegian Odia (Oriya) Oromo Pashto Persian Polish Portuguese Punjabi Quechua Romanian Russian Samoan Sanskrit Scots Gaelic Sepedi Serbian Sesotho Shona Sindhi Sinhala Slovak Slovenian Somali Spanish Sundanese Swahili Swedish Tajik Tamil Tatar Telugu Thai Tigrinya Tsonga Turkish Turkmen Twi Ukrainian Urdu Uyghur Uzbek Vietnamese Welsh Xhosa Yiddish Yoruba Zulu Powered by Translate (https://translate.google.com)     Arrow Left     Arrow Right        Slideshow Left Arrow       Slideshow Right Arrow                Original text Rate this translation Your feedback will be used to help improve Google Translate Loading  Skip to Main Content (#ccf5602c1c-2e20-4773-89f3-08f921ac655f)     [if lte IE 7]><link rel=\"stylesheet\" type=\"text/css\" href=\"/App_Themes/CP/ie7.css\"><![endif]  Allow Dashboard, Favorites Enabled      Header Container                      (/facebook)     (https://twitter.com/cityofrichmond)     (https://www.ci.richmond.ca.us/rss.aspx)          inner column   inner row  outer column       inner column   inner row  outer column       For the button right and inside     Search       inner column   inner row  outer column   outer row       City Government (/2013/City-Government)      Departments (/2014/Departments)      Business (/2016/Business)      Community (/2015/Community)       Banner            Content container       Home (/) Departments (/2014/Departments) Community Development (/101/Community-Development) Planning Division (/2098/Planning-Division) The Point Richmond Residential Project     A (#)  A (#)             The Point Richmond Residential Project             inner column   inner row  outer column        Project Contact  Hector Lopez, Senior Planner  (510) 620-6702     inner column   inner row  outer column   outer row        Project Description  The proposed project would develop a total of 27 for-rent residential units on the site, including 12 one-bedroom and 15 two-bedroom flats/townhome units within three separate buildings. Approximately 1,065 square feet of ground floor commercial space would be included in one of the buildings. Building heights would range between two and three stories and would not exceed 34 feet. The proposed project would include a total of 19,256 square feet of useable open space (or 48 percent of the site). The proposed project would include a new access driveway through the existing Mechanics Bank parking lot. The new driveway would provide access to a new approximately 8,871-square-foot surface parking lot that would include on-site parking for 30 vehicles within the project site.     Project and Related Documents       Notice of Availability and Intent to Adopt Mitigated Negative Declaration (/DocumentCenter/View/35728)  Initial Study and Mitigated Negative Declaration (/DocumentCenter/View/35727) (End of Public Review: October 7, 2015)                inner column   inner row  outer column   outer row                   Accessory Dwelling Units (ADUs) (/4336/Accessory-Dwelling-Units-ADUs)      Architectural Heritage Guidelines (http://www.ci.richmond.ca.us/DocumentCenter/View/3525)      Boards & Commissions (/2861/Boards-Commissions)       Design Review Board      Historic Preservation Commission       Historic Preservation Awards        Planning Commission        Cannabis Business Information (/3603/Cannabis-Business-Information)      City Fact Sheet (/DocumentView.aspx?DID=8348)      Fees/Forms/Checklists (/2102/FeesFormsChecklists)      Form Based Code (http://www.ci.richmond.ca.us/2965/RLC-FBC)      General Plan 2030 (/2608/General-Plan-2030)      Hilltop Horizon Specific Plan (https://hilltophorizon.com/)      Historical Point Molate Project Information (http://www.ci.richmond.ca.us/270/Point-Molate)      Mapping Services (/3344/Mapping-Services)      Printable Maps (/290)      Project Information (/2860/Project-Information)       Additional Projects      Environmental Documents      General Plan Updates       About - Información acerca del Plan General      Frequently Asked Questions (FAQs) - Preguntas frecuentes      Participate - Participe      Library        Housing Element Update      Housing Policy      Major Projects      Notable Projects      Other Projects      Projects Information      Richmond Resilience Roadmap      Residential Activity Report        Regulatory Documents (/2867/Regulatory-Documents)       Bicycle Master Plan      Pedestrian Plan      Richmond Bay Specific Plan (RBSP)      Urban Greening Plan      Other Plans, Codes & Guidelines        Staff Directory (/2399/Staff-Directory)      Zoning Ordinance (/3379/Zoning-Ordinance)      Senate Bill 9 (SB 9) (/4188/Senate-Bill-9-SB-9)      Brickyard Cove Residential Project (/4349/Brickyard-Cove-Residential-Project)      Raven SR Bioenergy Project (/4365/Raven-SR-Bioenergy-Project)      Travel Safe Richmond (/4486/Travel-Safe-Richmond)           GBs                    (/151)  Agenda Docs   (/151)         (/965/Weekly-Announcements)  Weekly Report   (/965/Weekly-Announcements)         (/4340/KCRT-Media)  KCRT   (/4340/KCRT-Media)            inner column   inner row  outer column                 (/4518/Youth)  Youth   (/4518/Youth)         (/4540/55670/Visit-Richmond)  Visit Richmond   (/4540/55670/Visit-Richmond)         (https://www.transparentrichmond.org/)  City Data   (https://www.transparentrichmond.org/)            inner column   inner row  outer column   outer row    Calendar/Carousel <div data-cpRole=\"structuralContainer\" id=\"homeContainer1\"> <div class=\"siteWrap\"> <div data-cpRole=\"contentContainer\" id=\"homeContent1a\"></div> </div> </div> Footer                              inner column   inner row  outer column       inner column   inner row  outer column         Contact Us         RICHMOND CITY HALL 450 Civic Center Plaza Richmond, CA 94804 Phone Directory (http://www.ci.richmond.ca.us/Directory.aspx)  Directions (http://maps.google.com/maps?q=450+Civic+Center+Plaza,+Richmond+CA&oe=utf-8&rls=org.mozilla:en-US:official&client=firefox-a&um=1&ie=UTF-8&hq=&hnear=450+Civic+Center+Plaza,+Richmond,+CA+94804&gl=us&daddr=450%20Civic%20Center%20Plaza,%20Richmond,%20CA%2094804&ei=uxt0S8_-KoLUNYPuockK&sa=X&oi=geocode_result&ct=directions-to&resnum=1&ved=0CAoQwwUwAA)            inner column   inner row  outer column       inner column   inner row  outer column       Sign Up For E-News          inner column   inner row              (/facebook)     (https://twitter.com/cityofrichmond)     (/instagram)     (https://www.ci.richmond.ca.us/rss.aspx)          inner column   inner row  outer column       inner column   inner row  outer column         Site Links (/QuickLinks.aspx?CID=2,52,5)         Bay Area Legal Aid (http://www.baylegal.org/)     Contra Costa County Courts (http://www.cc-courts.org/)     California Courts (http://www.courts.ca.gov/)     Contra Costa County Bar Association (http://www.cccba.org/community/)     State Bar of California (http://www.calbar.ca.gov/state/calbar/calbar_home.jsp)     City Council Agenda Documents (http://www.ci.richmond.ca.us/index.aspx?NID=151)           /QuickLinks.aspx      inner column   inner row  outer column   outer row    Powered By                Government Websites by CivicPlus® (https://connect.civicplus.com/referral)       inner column   inner row  outer column   outer row           Loading          Content from the Froala Editor will go here. Loading    Do Not Show Again  Close      Powered by Translate (https://translate.google.com)     Arrow Left     Arrow Right        Slideshow Left Arrow       Slideshow Right Arrow                Original text Rate this translation Your feedback will be used to help improve Google Translate Loading  Skip to Main Content (#ccf5602c1c-2e20-4773-89f3-08f921ac655f)     [if lte IE 7]><link rel=\"stylesheet\" type=\"text/css\" href=\"/App_Themes/CP/ie7.css\"><![endif]  Allow Dashboard, Favorites Enabled      Header Container                      (/facebook)     (https://twitter.com/cityofrichmond)     (https://www.ci.richmond.ca.us/rss.aspx)          inner column   inner row  outer column       inner column   inner row  outer column       For the button right and inside     Search       inner column   inner row  outer column   outer row       City Government (/2013/City-Government)      Departments (/2014/Departments)      Business (/2016/Business)      Community (/2015/Community)       Banner            Content container       Home (/) Departments (/2014/Departments) Community Development (/101/Community-Development) Planning Division (/2098/Planning-Division) Wet Weather Storage     A (#)  A (#)             Richmond Wet Weather Storage Project         Project Contact Chad Davisson, Wastewater/Stormwater Manager, General Manager RMSD (510) 620-5486  chad_davisson@ci.richmond.ca.us (mailto:chad_davisson@ci.richmond.ca.us)   Project Description In compliance with the 2006 settlement agreement between the City of Richmond, Veolia, and San Francisco Baykeeper, the City of Richmond proposes to construct improvements to its sewer collection system to reduce wet weather overflows from two engineered overflow structures, known as Boat Ramp and Harbour & Wright. The proposed improvements include construction of a new diversion box, pump station, pipeline, and an above ground, circular, pre-stressed concrete tank with storage volume of approximately 5 million gallons. The tank will be approximately 150 feet in diameter and approximately 53 feet tall. Water Pollution Control Plant effluent will be used to supply water to the wash down system used to clean the tank. The tank will be covered to contain odors. The project site is located at 601 Canal Boulevard in the City of Richmond.   Project and Related Documents   Draft Mitigated Negative Declaration (/DocumentCenter/View/27719) (Draft MND)  Final Draft Mitigated Negative Declaration (/DocumentCenter/View/28131) (includes responses to comments on the Draft MND)  Notice of Determination (/DocumentCenter/View/28625)      inner column   inner row  outer column   outer row                   Accessory Dwelling Units (ADUs) (/4336/Accessory-Dwelling-Units-ADUs)      Architectural Heritage Guidelines (http://www.ci.richmond.ca.us/DocumentCenter/View/3525)      Boards & Commissions (/2861/Boards-Commissions)       Design Review Board      Historic Preservation Commission       Historic Preservation Awards        Planning Commission        Cannabis Business Information (/3603/Cannabis-Business-Information)      City Fact Sheet (/DocumentView.aspx?DID=8348)      Fees/Forms/Checklists (/2102/FeesFormsChecklists)      Form Based Code (http://www.ci.richmond.ca.us/2965/RLC-FBC)      General Plan 2030 (/2608/General-Plan-2030)      Hilltop Horizon Specific Plan (https://hilltophorizon.com/)      Historical Point Molate Project Information (http://www.ci.richmond.ca.us/270/Point-Molate)      Mapping Services (/3344/Mapping-Services)      Printable Maps (/290)      Project Information (/2860/Project-Information)       Additional Projects      Environmental Documents      General Plan Updates       About - Información acerca del Plan General      Frequently Asked Questions (FAQs) - Preguntas frecuentes      Participate - Participe      Library        Housing Element Update      Housing Policy      Major Projects      Notable Projects      Other Projects      Projects Information      Richmond Resilience Roadmap      Residential Activity Report        Regulatory Documents (/2867/Regulatory-Documents)       Bicycle Master Plan      Pedestrian Plan      Richmond Bay Specific Plan (RBSP)      Urban Greening Plan      Other Plans, Codes & Guidelines        Staff Directory (/2399/Staff-Directory)      Zoning Ordinance (/3379/Zoning-Ordinance)      Senate Bill 9 (SB 9) (/4188/Senate-Bill-9-SB-9)      Brickyard Cove Residential Project (/4349/Brickyard-Cove-Residential-Project)      Raven SR Bioenergy Project (/4365/Raven-SR-Bioenergy-Project)      Travel Safe Richmond (/4486/Travel-Safe-Richmond)           GBs                    (/151)  Agenda Docs   (/151)         (/965/Weekly-Announcements)  Weekly Report   (/965/Weekly-Announcements)         (/4340/KCRT-Media)  KCRT   (/4340/KCRT-Media)            inner column   inner row  outer column                 (/4518/Youth)  Youth   (/4518/Youth)         (/4540/55670/Visit-Richmond)  Visit Richmond   (/4540/55670/Visit-Richmond)         (https://www.transparentrichmond.org/)  City Data   (https://www.transparentrichmond.org/)            inner column   inner row  outer column   outer row    Calendar/Carousel <div data-cpRole=\"structuralContainer\" id=\"homeContainer1\"> <div class=\"siteWrap\"> <div data-cpRole=\"contentContainer\" id=\"homeContent1a\"></div> </div> </div> Footer                              inner column   inner row  outer column       inner column   inner row  outer column         Contact Us         RICHMOND CITY HALL 450 Civic Center Plaza Richmond, CA 94804 Phone Directory (http://www.ci.richmond.ca.us/Directory.aspx)  Directions (http://maps.google.com/maps?q=450+Civic+Center+Plaza,+Richmond+CA&oe=utf-8&rls=org.mozilla:en-US:official&client=firefox-a&um=1&ie=UTF-8&hq=&hnear=450+Civic+Center+Plaza,+Richmond,+CA+94804&gl=us&daddr=450%20Civic%20Center%20Plaza,%20Richmond,%20CA%2094804&ei=uxt0S8_-KoLUNYPuockK&sa=X&oi=geocode_result&ct=directions-to&resnum=1&ved=0CAoQwwUwAA)            inner column   inner row  outer column       inner column   inner row  outer column       Sign Up For E-News          inner column   inner row              (/facebook)     (https://twitter.com/cityofrichmond)     (/instagram)     (https://www.ci.richmond.ca.us/rss.aspx)          inner column   inner row  outer column       inner column   inner row  outer column         Site Links (/QuickLinks.aspx?CID=2,52,5)         Bay Area Legal Aid (http://www.baylegal.org/)     Contra Costa County Courts (http://www.cc-courts.org/)     California Courts (http://www.courts.ca.gov/)     Contra Costa County Bar Association (http://www.cccba.org/community/)     State Bar of California (http://www.calbar.ca.gov/state/calbar/calbar_home.jsp)     City Council Agenda Documents (http://www.ci.richmond.ca.us/index.aspx?NID=151)           /QuickLinks.aspx      inner column   inner row  outer column   outer row    Powered By                Government Websites by CivicPlus® (https://connect.civicplus.com/referral)       inner column   inner row  outer column   outer row           Loading          Content from the Froala Editor will go here. Loading    Do Not Show Again  Close      Powered by Translate (https://translate.google.com)     Arrow Left     Arrow Right        Slideshow Left Arrow       Slideshow Right Arrow                Original text Rate this translation Your feedback will be used to help improve Google Translate Loading  Skip to Main Content (#ccf5602c1c-2e20-4773-89f3-08f921ac655f)     [if lte IE 7]><link rel=\"stylesheet\" type=\"text/css\" href=\"/App_Themes/CP/ie7.css\"><![endif]  Allow Dashboard, Favorites Enabled      Header Container                      (/facebook)     (https://twitter.com/cityofrichmond)     (https://www.ci.richmond.ca.us/rss.aspx)          inner column   inner row  outer column       inner column   inner row  outer column       For the button right and inside     Search       inner column   inner row  outer column   outer row       City Government (/2013/City-Government)      Departments (/2014/Departments)      Business (/2016/Business)      Community (/2015/Community)       Banner            Content container       Home (/) Departments (/2014/Departments) Community Development (/101/Community-Development) Planning Division (/2098/Planning-Division) Shea Homes     A (#)  A (#)             Shea Homes         Project Contact:  Lina Velasco, Planning Manager (510) 620-6841   Project Description:  Shea Homes is seeking a General Plan Amendment Text Revision for a height exception, Rezone to PA - Planned Area District, Vesting Tentative Map and Design Review Permit to develop 60 units of market-rate condominiums and stacked flats on the Bottoms Property south of Seacliff Estates in the Point Richmond Neighborhood near Sandpiper Spit. The project will be developed within approximately 6.23 acres of the 25.27 acre site, resulting in a density of 9.72 units per net acre. A total of nine (9) buildings will be developed as part of the project and they will be oriented to take advantage of the site's location adjacent to the San Francisco Bay.   Project Concept:     Project Plans: Project Plans - March, 2014 (/DocumentCenter/View/28685) (PDF - 27 MB)   Shea Homes Project Website: Shea Homes has created a website with additional information such as the architectural context, height simulations, visual simulations, floor plans and FAQs about the project.  http://www.bottomsproperty.com/ (http://www.bottomsproperty.com/)   Environmental Review: The City of Richmond is the lead agency and has prepared a Recirculated Draft & Final Environmental Impact Report (FEIR) for the project.   California Environmental (http://www.ci.richmond.ca.us/DocumentCenter/View/27773) Equality Act (CEQA) Process Flowchart (http://www.ci.richmond.ca.us/DocumentCenter/View/27773)  Notice of Completion and Availability (NOC/NOA) (/DocumentCenter/View/29305)  Volume I: Recirculated Draft Environmental Impact Report (/DocumentCenter/View/29341) (PDF - 20MB)  Volume II: Recirculated Draft Environmental Impact Report Appendices (/DocumentCenter/View/29340) (PDF - 62MB)  Final Environmental Impact Report with Responses to Comments (FEIR) (PDF - 8MB) (/DocumentCenter/View/30011)  Mitigation Monitoring & Reporting Program (MMRP) (/DocumentCenter/View/30019)  Environmental Review: The City of Richmond is the lead agency and has prepared a Draft Environmental Impact Report (EIR) for the project that has been superceded by the RDEIR posted above.   Notice of Preparation and complete project description (http://www.ci.richmond.ca.us/DocumentCenter/View/27750) (NOP)  Notice of Availability (NOA) (/DocumentCenter/View/28628)  Volume I: Draft Environmental Impact Report (/DocumentCenter/View/28668) (PDF - 6MB)  Volume II: Draft Environmental Impact Report Appendices (/DocumentCenter/View/28630) (PDF - 30MB)   Previous Public Meetings: The City of Richmond held several public meetings for review of the project.  City Council Meeting for request of final approval of the PA Rezoning - (Result - PA Rezoning Second Reading Approved)  January 5, 2015  440 Civic Center Plaza, Community Services Building  Council Chambers  Richmond, CA 94804  Staff Report (http://sireweb.ci.richmond.ca.us/sirepub/meet.aspx)   City Council Meeting for request of final certification, adoption and approval - (Result - EIR Certified and Project Approved)  December 16, 2014  440 Civic Center Plaza, Community Services Building  Council Chambers  Richmond, CA 94804  Staff Report (http://sireweb.ci.richmond.ca.us/sirepub/meet.aspx)    City Council Meeting for request of final certification, adoption and approval - (Result - Item continued to December 16, 2014)  December 2, 2014  440 Civic Center Plaza, Community Services Building  Council Chambers  Richmond, CA 94804  Staff Report (http://sireweb.ci.richmond.ca.us/sirepub/meet.aspx)    Planning Commission meeting - (Result - 3 to 2 recommendation for Approval of the EIR and project entitlements to the City Council. *Note, refer to Gov't Code Section 65354 for clarification of General Plan Amendment voting procedures)  November 13, 2014 at 7:30 pm  440 Civic Center Plaza, Community Services Building  Council Chambers  Richmond, CA 94804  Staff Report (/DocumentCenter/View/30140)   Planning Commission meeting  - (Result - Public comments on the Draft EIR and study session for the project) Thursday, May 8, 2014 at 6:30 pm 440 Civic Center Plaza, Community Services Building Council Chambers Richmond, CA 94804  Design Review Board Meeting - (Result - Unanimous recommendation for Approval to the Planing  Commission)  Wednesday, April 30, 2014 at 6:00 pm  440 Civic Center Plaza, Community Services Building  Council Chambers  Richmond, CA 94804   Design Review Board Meeting - (Result - Item continued to April 30, 2014)  Wednesday, April 9, 2014 at 6:00 pm  440 Civic Center Plaza, Community Services Building  Multipurpose Room (Basement Level)  Richmond, CA 94804  Staff Report (/DocumentCenter/View/30141)  Design Review Board Study Session - (Result - Comments received) Wednesday, November 13, 2013 at 6:00 pm 440 Civic Center Plaza, Community Services Building Multipurpose Room (Basement Level) Richmond, CA 94804  EIR Public Scoping Meeting Tuesday, October 29, 2013 5:30 pm - 7:00 pm 1160 Brickyard Cove Road, Suite 202 Richmond, CA 94801                        inner column   inner row  outer column   outer row                   Accessory Dwelling Units (ADUs) (/4336/Accessory-Dwelling-Units-ADUs)      Architectural Heritage Guidelines (http://www.ci.richmond.ca.us/DocumentCenter/View/3525)      Boards & Commissions (/2861/Boards-Commissions)       Design Review Board      Historic Preservation Commission       Historic Preservation Awards        Planning Commission        Cannabis Business Information (/3603/Cannabis-Business-Information)      City Fact Sheet (/DocumentView.aspx?DID=8348)      Fees/Forms/Checklists (/2102/FeesFormsChecklists)      Form Based Code (http://www.ci.richmond.ca.us/2965/RLC-FBC)      General Plan 2030 (/2608/General-Plan-2030)      Hilltop Horizon Specific Plan (https://hilltophorizon.com/)      Historical Point Molate Project Information (http://www.ci.richmond.ca.us/270/Point-Molate)      Mapping Services (/3344/Mapping-Services)      Printable Maps (/290)      Project Information (/2860/Project-Information)       Additional Projects      Environmental Documents      General Plan Updates       About - Información acerca del Plan General      Frequently Asked Questions (FAQs) - Preguntas frecuentes      Participate - Participe      Library        Housing Element Update      Housing Policy      Major Projects      Notable Projects      Other Projects      Projects Information      Richmond Resilience Roadmap      Residential Activity Report        Regulatory Documents (/2867/Regulatory-Documents)       Bicycle Master Plan      Pedestrian Plan      Richmond Bay Specific Plan (RBSP)      Urban Greening Plan      Other Plans, Codes & Guidelines        Staff Directory (/2399/Staff-Directory)      Zoning Ordinance (/3379/Zoning-Ordinance)      Senate Bill 9 (SB 9) (/4188/Senate-Bill-9-SB-9)      Brickyard Cove Residential Project (/4349/Brickyard-Cove-Residential-Project)      Raven SR Bioenergy Project (/4365/Raven-SR-Bioenergy-Project)      Travel Safe Richmond (/4486/Travel-Safe-Richmond)           GBs                    (/151)  Agenda Docs   (/151)         (/965/Weekly-Announcements)  Weekly Report   (/965/Weekly-Announcements)         (/4340/KCRT-Media)  KCRT   (/4340/KCRT-Media)            inner column   inner row  outer column                 (/4518/Youth)  Youth   (/4518/Youth)         (/4540/55670/Visit-Richmond)  Visit Richmond   (/4540/55670/Visit-Richmond)         (https://www.transparentrichmond.org/)  City Data   (https://www.transparentrichmond.org/)            inner column   inner row  outer column   outer row    Calendar/Carousel <div data-cpRole=\"structuralContainer\" id=\"homeContainer1\"> <div class=\"siteWrap\"> <div data-cpRole=\"contentContainer\" id=\"homeContent1a\"></div> </div> </div> Footer                              inner column   inner row  outer column       inner column   inner row  outer column         Contact Us         RICHMOND CITY HALL 450 Civic Center Plaza Richmond, CA 94804 Phone Directory (http://www.ci.richmond.ca.us/Directory.aspx)  Directions (http://maps.google.com/maps?q=450+Civic+Center+Plaza,+Richmond+CA&oe=utf-8&rls=org.mozilla:en-US:official&client=firefox-a&um=1&ie=UTF-8&hq=&hnear=450+Civic+Center+Plaza,+Richmond,+CA+94804&gl=us&daddr=450%20Civic%20Center%20Plaza,%20Richmond,%20CA%2094804&ei=uxt0S8_-KoLUNYPuockK&sa=X&oi=geocode_result&ct=directions-to&resnum=1&ved=0CAoQwwUwAA)            inner column   inner row  outer column       inner column   inner row  outer column       Sign Up For E-News          inner column   inner row              (/facebook)     (https://twitter.com/cityofrichmond)     (/instagram)     (https://www.ci.richmond.ca.us/rss.aspx)          inner column   inner row  outer column       inner column   inner row  outer column         Site Links (/QuickLinks.aspx?CID=2,52,5)         Bay Area Legal Aid (http://www.baylegal.org/)     Contra Costa County Courts (http://www.cc-courts.org/)     California Courts (http://www.courts.ca.gov/)     Contra Costa County Bar Association (http://www.cccba.org/community/)     State Bar of California (http://www.calbar.ca.gov/state/calbar/calbar_home.jsp)     City Council Agenda Documents (http://www.ci.richmond.ca.us/index.aspx?NID=151)           /QuickLinks.aspx      inner column   inner row  outer column   outer row    Powered By                Government Websites by CivicPlus® (https://connect.civicplus.com/referral)       inner column   inner row  outer column   outer row           Loading          Content from the Froala Editor will go here. Loading    Do Not Show Again  Close      Powered by Translate (https://translate.google.com)     Arrow Left     Arrow Right        Slideshow Left Arrow       Slideshow Right Arrow                Original text Rate this translation Your feedback will be used to help improve Google Translate Loading  Skip to Main Content (#ccf5602c1c-2e20-4773-89f3-08f921ac655f)     [if lte IE 7]><link rel=\"stylesheet\" type=\"text/css\" href=\"/App_Themes/CP/ie7.css\"><![endif]  Allow Dashboard, Favorites Enabled      Header Container                      (/facebook)     (https://twitter.com/cityofrichmond)     (https://www.ci.richmond.ca.us/rss.aspx)          inner column   inner row  outer column       inner column   inner row  outer column       For the button right and inside     Search       inner column   inner row  outer column   outer row       City Government (/2013/City-Government)      Departments (/2014/Departments)      Business (/2016/Business)      Community (/2015/Community)       Banner            Content container       Home (/) Departments (/2014/Departments) Community Development (/101/Community-Development) Planning Division (/2098/Planning-Division) Nevin Homes     A (#)  A (#)             Nevin Homes Residential Project                 Project Contact Jonelyn Whales, Senior Planner (510) 620-6785  For security reasons, you must enable JavaScript to view this E-mail address.         Project Description    The project site consists of two adjacent parcels separated by 22nd Street (\"Site A\" and \"Site B\") on the south side of Nevin Avenue between 21st and 23rd streets in Central Richmond. AMG & Associates, LLC proposes to demolish the existing parking lot at Site A and vacant office building at Site B, and construct a six-story, 67-foot-high, 289-unit apartment complex, consisting of two buildings, each with on grade parking, an interior courtyard on the second floor, and a community room with exercise room. Both buildings would be 67 feet and six stories in height. The project would develop 112 studios, 84 one-bedroom, 53 two-bedroom, 30 three-bedroom, and 10 four-bedroom units. The building at Site A would have 84,510 square feet of residential area, and the building at Site B would have 88,010 square feet, for a project total of 172,520 square feet of residential space. The project (both buildings) would have a total floor area of approximately 350,000 square feet, including residential space, common spaces, and parking.         Project and Related Documents     Notice of Availability and Intent to Adopt a Final Mitigated Negative Declaration (/DocumentCenter/View/30690)  Final Initial Study and Mitigated Negative Declaration (/DocumentCenter/View/30689)  Notice of Availability and Intent to Adopt a Mitigated Negative Declaration (http://www.ci.richmond.ca.us/DocumentCenter/View/29634)  Initial Study and Mitigated Negative Declaration (http://www.ci.richmond.ca.us/DocumentCenter/View/29635)  Notice of Comment Period Extension for the Initial Study and Mitigated Negative Declaration (/DocumentCenter/View/29786) (New End of Comment Period: November 10, 2014)            inner column   inner row  outer column   outer row                   Accessory Dwelling Units (ADUs) (/4336/Accessory-Dwelling-Units-ADUs)      Architectural Heritage Guidelines (http://www.ci.richmond.ca.us/DocumentCenter/View/3525)      Boards & Commissions (/2861/Boards-Commissions)       Design Review Board      Historic Preservation Commission       Historic Preservation Awards        Planning Commission        Cannabis Business Information (/3603/Cannabis-Business-Information)      City Fact Sheet (/DocumentView.aspx?DID=8348)      Fees/Forms/Checklists (/2102/FeesFormsChecklists)      Form Based Code (http://www.ci.richmond.ca.us/2965/RLC-FBC)      General Plan 2030 (/2608/General-Plan-2030)      Hilltop Horizon Specific Plan (https://hilltophorizon.com/)      Historical Point Molate Project Information (http://www.ci.richmond.ca.us/270/Point-Molate)      Mapping Services (/3344/Mapping-Services)      Printable Maps (/290)      Project Information (/2860/Project-Information)       Additional Projects      Environmental Documents      General Plan Updates       About - Información acerca del Plan General      Frequently Asked Questions (FAQs) - Preguntas frecuentes      Participate - Participe      Library        Housing Element Update      Housing Policy      Major Projects      Notable Projects      Other Projects      Projects Information      Richmond Resilience Roadmap      Residential Activity Report        Regulatory Documents (/2867/Regulatory-Documents)       Bicycle Master Plan      Pedestrian Plan      Richmond Bay Specific Plan (RBSP)      Urban Greening Plan      Other Plans, Codes & Guidelines        Staff Directory (/2399/Staff-Directory)      Zoning Ordinance (/3379/Zoning-Ordinance)      Senate Bill 9 (SB 9) (/4188/Senate-Bill-9-SB-9)      Brickyard Cove Residential Project (/4349/Brickyard-Cove-Residential-Project)      Raven SR Bioenergy Project (/4365/Raven-SR-Bioenergy-Project)      Travel Safe Richmond (/4486/Travel-Safe-Richmond)           GBs                    (/151)  Agenda Docs   (/151)         (/965/Weekly-Announcements)  Weekly Report   (/965/Weekly-Announcements)         (/4340/KCRT-Media)  KCRT   (/4340/KCRT-Media)            inner column   inner row  outer column                 (/4518/Youth)  Youth   (/4518/Youth)         (/4540/55670/Visit-Richmond)  Visit Richmond   (/4540/55670/Visit-Richmond)         (https://www.transparentrichmond.org/)  City Data   (https://www.transparentrichmond.org/)            inner column   inner row  outer column   outer row    Calendar/Carousel <div data-cpRole=\"structuralContainer\" id=\"homeContainer1\"> <div class=\"siteWrap\"> <div data-cpRole=\"contentContainer\" id=\"homeContent1a\"></div> </div> </div> Footer                              inner column   inner row  outer column       inner column   inner row  outer column         Contact Us         RICHMOND CITY HALL 450 Civic Center Plaza Richmond, CA 94804 Phone Directory (http://www.ci.richmond.ca.us/Directory.aspx)  Directions (http://maps.google.com/maps?q=450+Civic+Center+Plaza,+Richmond+CA&oe=utf-8&rls=org.mozilla:en-US:official&client=firefox-a&um=1&ie=UTF-8&hq=&hnear=450+Civic+Center+Plaza,+Richmond,+CA+94804&gl=us&daddr=450%20Civic%20Center%20Plaza,%20Richmond,%20CA%2094804&ei=uxt0S8_-KoLUNYPuockK&sa=X&oi=geocode_result&ct=directions-to&resnum=1&ved=0CAoQwwUwAA)            inner column   inner row  outer column       inner column   inner row  outer column       Sign Up For E-News          inner column   inner row              (/facebook)     (https://twitter.com/cityofrichmond)     (/instagram)     (https://www.ci.richmond.ca.us/rss.aspx)          inner column   inner row  outer column       inner column   inner row  outer column         Site Links (/QuickLinks.aspx?CID=2,52,5)         Bay Area Legal Aid (http://www.baylegal.org/)     Contra Costa County Courts (http://www.cc-courts.org/)     California Courts (http://www.courts.ca.gov/)     Contra Costa County Bar Association (http://www.cccba.org/community/)     State Bar of California (http://www.calbar.ca.gov/state/calbar/calbar_home.jsp)     City Council Agenda Documents (http://www.ci.richmond.ca.us/index.aspx?NID=151)           /QuickLinks.aspx      inner column   inner row  outer column   outer row    Powered By                Government Websites by CivicPlus® (https://connect.civicplus.com/referral)       inner column   inner row  outer column   outer row           Loading          Content from the Froala Editor will go here. Loading    Do Not Show Again  Close      Powered by Translate (https://translate.google.com)     Arrow Left     Arrow Right        Slideshow Left Arrow       Slideshow Right Arrow                Original text Rate this translation Your feedback will be used to help improve Google Translate Loading  Skip to Main Content (#ccf5602c1c-2e20-4773-89f3-08f921ac655f)     [if lte IE 7]><link rel=\"stylesheet\" type=\"text/css\" href=\"/App_Themes/CP/ie7.css\"><![endif]  Allow Dashboard, Favorites Enabled      Header Container                      (/facebook)     (https://twitter.com/cityofrichmond)     (https://www.ci.richmond.ca.us/rss.aspx)          inner column   inner row  outer column       inner column   inner row  outer column       For the button right and inside     Search       inner column   inner row  outer column   outer row       City Government (/2013/City-Government)      Departments (/2014/Departments)      Business (/2016/Business)      Community (/2015/Community)       Banner            Content container       Home (/) Departments (/2014/Departments) Community Development (/101/Community-Development) Planning Division (/2098/Planning-Division) Bay Area Rescue Mission, Bridge of Hope Project     A (#)  A (#)             Bay Area Rescue Mission, Bridge of Hope Project             inner column   inner row  outer column   outer row        Project Contact   Roberta  Feliciano , Planner II  roberta _ (mailto:roberta_feliciano@ci.richmond.ca.us) feliciano @ci.richmond.ca.us (mailto:roberta_feliciano@ci.richmond.ca.us)  (510) 620-6662   Project Description   Bay Area Rescue Mission (BARM) proposes to develop a new two-story 9,553 square-foot (SF) residential building that would serve as a shelter to house homeless women and children. The project would be developed on a 9,000 SF rectangular-shaped site encompassing two parcels in the City of Richmond. The proposed new building would provide 26 bedrooms with a total of 114 beds for women and children. The project requires approval of a Design Review Permit and Conditional Use Permit. The project site is not listed as a hazardous waste site pursuant to Government Code Section 65962.5.   Project Location   The proposed shelter would be located at 257 3rd Street, Richmond, CA 94801.   Project and Related Documents   Draft Initial Study Mitigated Negative Declaration Available  A Draft Initial Study Mitigated Negative Declaration (IS MND ) has been completed, which assesses the potential environmental impacts associated with the Project. The IS MND is available for review for review and comment.   Review and Comment Period:  Comments on the MND must be send in writing and received by 5:00 p.m. on Thursday, July 18, 2019, at the following mailing or email address:   Roberta  Feliciano  City of Richmond Planning Division  450 Civic Center Plaza  P.O. Box 4046  Richmond, CA 94804  roberta _ (mailto:roberta_feliciano@ci.richmond.ca.us) feliciano @ci.richmond.ca.us (mailto:roberta_feliciano@ci.richmond.ca.us)   Report Availability:  A copy of the MND is available at this site. Copies are also available for review at the following locations: Richmond Public Library - Main Branch 325 Civic Center Plaza, Richmond, CA 94804 and City of Richmond, Planning and Building Services Department, City Hall, 450 Civic Center Plaza, Richmond, CA, 94804.  The City of Richmond intends to adopt a Mitigated Negative Declaration (MND) for the following described project in accordance with the California Environmental Quality Act (CEQA) of 1970, as amended, and the City of Richmond’s Guidelines and Procedures for Implementation of CEQA.   Notice of Intent (/DocumentCenter/View/50060/BARM-Notice-of-Intent)  Bay Area Rescue Mission Bridge of Hope Project Draft Initial Study MND (/DocumentCenter/View/50059/BARM-Bridge-of-Hope-Project-MND-DRAFT)             inner column   inner row  outer column   outer row                   Accessory Dwelling Units (ADUs) (/4336/Accessory-Dwelling-Units-ADUs)      Architectural Heritage Guidelines (http://www.ci.richmond.ca.us/DocumentCenter/View/3525)      Boards & Commissions (/2861/Boards-Commissions)       Design Review Board      Historic Preservation Commission       Historic Preservation Awards        Planning Commission        Cannabis Business Information (/3603/Cannabis-Business-Information)      City Fact Sheet (/DocumentView.aspx?DID=8348)      Fees/Forms/Checklists (/2102/FeesFormsChecklists)      Form Based Code (http://www.ci.richmond.ca.us/2965/RLC-FBC)      General Plan 2030 (/2608/General-Plan-2030)      Hilltop Horizon Specific Plan (https://hilltophorizon.com/)      Historical Point Molate Project Information (http://www.ci.richmond.ca.us/270/Point-Molate)      Mapping Services (/3344/Mapping-Services)      Printable Maps (/290)      Project Information (/2860/Project-Information)       Additional Projects      Environmental Documents      General Plan Updates       About - Información acerca del Plan General      Frequently Asked Questions (FAQs) - Preguntas frecuentes      Participate - Participe      Library        Housing Element Update      Housing Policy      Major Projects      Notable Projects      Other Projects      Projects Information      Richmond Resilience Roadmap      Residential Activity Report        Regulatory Documents (/2867/Regulatory-Documents)       Bicycle Master Plan      Pedestrian Plan      Richmond Bay Specific Plan (RBSP)      Urban Greening Plan      Other Plans, Codes & Guidelines        Staff Directory (/2399/Staff-Directory)      Zoning Ordinance (/3379/Zoning-Ordinance)      Senate Bill 9 (SB 9) (/4188/Senate-Bill-9-SB-9)      Brickyard Cove Residential Project (/4349/Brickyard-Cove-Residential-Project)      Raven SR Bioenergy Project (/4365/Raven-SR-Bioenergy-Project)      Travel Safe Richmond (/4486/Travel-Safe-Richmond)           GBs                    (/151)  Agenda Docs   (/151)         (/965/Weekly-Announcements)  Weekly Report   (/965/Weekly-Announcements)         (/4340/KCRT-Media)  KCRT   (/4340/KCRT-Media)            inner column   inner row  outer column                 (/4518/Youth)  Youth   (/4518/Youth)         (/4540/55670/Visit-Richmond)  Visit Richmond   (/4540/55670/Visit-Richmond)         (https://www.transparentrichmond.org/)  City Data   (https://www.transparentrichmond.org/)            inner column   inner row  outer column   outer row    Calendar/Carousel <div data-cpRole=\"structuralContainer\" id=\"homeContainer1\"> <div class=\"siteWrap\"> <div data-cpRole=\"contentContainer\" id=\"homeContent1a\"></div> </div> </div> Footer                              inner column   inner row  outer column       inner column   inner row  outer column         Contact Us         RICHMOND CITY HALL 450 Civic Center Plaza Richmond, CA 94804 Phone Directory (http://www.ci.richmond.ca.us/Directory.aspx)  Directions (http://maps.google.com/maps?q=450+Civic+Center+Plaza,+Richmond+CA&oe=utf-8&rls=org.mozilla:en-US:official&client=firefox-a&um=1&ie=UTF-8&hq=&hnear=450+Civic+Center+Plaza,+Richmond,+CA+94804&gl=us&daddr=450%20Civic%20Center%20Plaza,%20Richmond,%20CA%2094804&ei=uxt0S8_-KoLUNYPuockK&sa=X&oi=geocode_result&ct=directions-to&resnum=1&ved=0CAoQwwUwAA)            inner column   inner row  outer column       inner column   inner row  outer column       Sign Up For E-News          inner column   inner row              (/facebook)     (https://twitter.com/cityofrichmond)     (/instagram)     (https://www.ci.richmond.ca.us/rss.aspx)          inner column   inner row  outer column       inner column   inner row  outer column         Site Links (/QuickLinks.aspx?CID=2,52,5)         Bay Area Legal Aid (http://www.baylegal.org/)     Contra Costa County Courts (http://www.cc-courts.org/)     California Courts (http://www.courts.ca.gov/)     Contra Costa County Bar Association (http://www.cccba.org/community/)     State Bar of California (http://www.calbar.ca.gov/state/calbar/calbar_home.jsp)     City Council Agenda Documents (http://www.ci.richmond.ca.us/index.aspx?NID=151)           /QuickLinks.aspx      inner column   inner row  outer column   outer row    Powered By                Government Websites by CivicPlus® (https://connect.civicplus.com/referral)       inner column   inner row  outer column   outer row           Loading          Content from the Froala Editor will go here. Loading    Do Not Show Again  Close      Powered by Translate (https://translate.google.com)     Arrow Left     Arrow Right        Slideshow Left Arrow       Slideshow Right Arrow                Original text Rate this translation Your feedback will be used to help improve Google Translate Loading  Skip to Main Content (#ccf5602c1c-2e20-4773-89f3-08f921ac655f)     [if lte IE 7]><link rel=\"stylesheet\" type=\"text/css\" href=\"/App_Themes/CP/ie7.css\"><![endif]  Allow Dashboard, Favorites Enabled      Header Container                      (/facebook)     (https://twitter.com/cityofrichmond)     (https://www.ci.richmond.ca.us/rss.aspx)          inner column   inner row  outer column       inner column   inner row  outer column       For the button right and inside     Search       inner column   inner row  outer column   outer row       City Government (/2013/City-Government)      Departments (/2014/Departments)      Business (/2016/Business)      Community (/2015/Community)       Banner            Content container       Home (/) Departments (/2014/Departments) Community Development (/101/Community-Development) Planning Division (/2098/Planning-Division) Project Information (/2860/Project-Information) Major Projects (/1404/Major-Projects) Goodrick Avenue Bay Trail Gap Closure Project     A (#)  A (#)             Goodrick Avenue Bay Trail Gap Closure Project         Project Contact    Lina Velasco, Planning Manager  Lina_Velasco@ci.richmond.ca.us  (510) 620-6841    Project Description The City of Richmond proposes to construct a 0.3-mile Class I bicycle and pedestrian trail along the eastern side of Goodrick Avenue, north of the Richmond Parkway (proposed trail or project). The proposed trail would connect the existing Class I San Francisco Bay Trail (Bay Trail) segment along the Richmond Parkway to a new 1.5-mile segment of the Bay Trail north of the project site. The proposed project would be a segment of a continuous Bay Trail alignment that extends from Buchanan Street in Albany to Atlas Road and San Pablo Avenue in Richmond.      inner column   inner row  outer column           inner column   inner row  outer column   outer row       The project alignment and all proposed improvements would be located within the existing Goodrick Avenue public right-of-way. The proposed trail would consist of a 10-foot-wide paved trail with two 2-foot-wide gravel shoulders. Existing accessible curb ramps at the northwest corner of the intersection of Goodrick Avenue and Richmond Parkway would be replaced to comply with current accessibility and Bay Trail design guidelines. Wayfinding signage would be installed at the Goodrick Avenue and Richmond Parkway intersection. In addition, the crosswalks across Goodrick Avenue would be striped to provide a safer crossing for cyclists and pedestrians in the area. The project site is not listed as a hazardous waste site pursuant to Government Code Section 65962.5.   Project Location   The Project site is located at Goodrick Avenue north of Richmond Parkway, City of Richmond, County of Contra Costa    City Council Public Hearing - November 20, 2018, 6:30 PM, 440 Civic Center Plaza, Council Chambers  Public hearing to consider adoption of a mitigated negative declaration (MND) and adoption of a Mitigation Monitoring and Reporting Program (MMRP) for the North Shore (Goodrick Avenue) Bay Trail Gap Closure Project located along the eastern side of Goodrick Avenue, north of the Richmond Parkway. The project consists of the construction of a 0.3 mile Class I multi-use paved trail.   Notice of Public Hearing (/DocumentCenter/View/47876/Notice-of-Public-Hearing---PLN16-717NorthShoreGoodBayTrailProject)  Responses to Comments and MMRP (/DocumentCenter/View/47875/North-Shore---Goodrick-RTC-and-MMRP)   Review and Comment Period    Comments on the Draft IS/MND must be received by 5:00 p.m. on  Friday, February 10, 2017, in writing to Lina Velasco, City of Richmond, Planning Division, 450 Civic Center Plaza, Richmond, CA 94804, or email at lina_velasco@ci.richmond.ca.us    Notice of Intent (/DocumentCenter/View/41227)  Draft CEQA Initial Study/Mitigated Negative Declaration (/DocumentCenter/View/41226)       inner column   inner row  outer column   outer row                      GBs                    (/151)  Agenda Docs   (/151)         (/965/Weekly-Announcements)  Weekly Report   (/965/Weekly-Announcements)         (/4340/KCRT-Media)  KCRT   (/4340/KCRT-Media)            inner column   inner row  outer column                 (/4518/Youth)  Youth   (/4518/Youth)         (/4540/55670/Visit-Richmond)  Visit Richmond   (/4540/55670/Visit-Richmond)         (https://www.transparentrichmond.org/)  City Data   (https://www.transparentrichmond.org/)            inner column   inner row  outer column   outer row    Calendar/Carousel <div data-cpRole=\"structuralContainer\" id=\"homeContainer1\"> <div class=\"siteWrap\"> <div data-cpRole=\"contentContainer\" id=\"homeContent1a\"></div> </div> </div> Footer                              inner column   inner row  outer column       inner column   inner row  outer column         Contact Us         RICHMOND CITY HALL 450 Civic Center Plaza Richmond, CA 94804 Phone Directory (http://www.ci.richmond.ca.us/Directory.aspx)  Directions (http://maps.google.com/maps?q=450+Civic+Center+Plaza,+Richmond+CA&oe=utf-8&rls=org.mozilla:en-US:official&client=firefox-a&um=1&ie=UTF-8&hq=&hnear=450+Civic+Center+Plaza,+Richmond,+CA+94804&gl=us&daddr=450%20Civic%20Center%20Plaza,%20Richmond,%20CA%2094804&ei=uxt0S8_-KoLUNYPuockK&sa=X&oi=geocode_result&ct=directions-to&resnum=1&ved=0CAoQwwUwAA)            inner column   inner row  outer column       inner column   inner row  outer column       Sign Up For E-News          inner column   inner row              (/facebook)     (https://twitter.com/cityofrichmond)     (/instagram)     (https://www.ci.richmond.ca.us/rss.aspx)          inner column   inner row  outer column       inner column   inner row  outer column         Site Links (/QuickLinks.aspx?CID=2,52,5)         Bay Area Legal Aid (http://www.baylegal.org/)     Contra Costa County Courts (http://www.cc-courts.org/)     California Courts (http://www.courts.ca.gov/)     Contra Costa County Bar Association (http://www.cccba.org/community/)     State Bar of California (http://www.calbar.ca.gov/state/calbar/calbar_home.jsp)     City Council Agenda Documents (http://www.ci.richmond.ca.us/index.aspx?NID=151)           /QuickLinks.aspx      inner column   inner row  outer column   outer row    Powered By                Government Websites by CivicPlus® (https://connect.civicplus.com/referral)       inner column   inner row  outer column   outer row           Loading          Content from the Froala Editor will go here. Loading    Do Not Show Again  Close      Select Language Afrikaans Albanian Amharic Arabic Armenian Assamese Aymara Azerbaijani Bambara Basque Belarusian Bengali Bhojpuri Bosnian Bulgarian Catalan Cebuano Chichewa Chinese (Simplified) Chinese (Traditional) Corsican Croatian Czech Danish Dhivehi Dogri Dutch Esperanto Estonian Ewe Filipino Finnish French Frisian Galician Georgian German Greek Guarani Gujarati Haitian Creole Hausa Hawaiian Hebrew Hindi Hmong Hungarian Icelandic Igbo Ilocano Indonesian Irish Italian Japanese Javanese Kannada Kazakh Khmer Kinyarwanda Konkani Korean Krio Kurdish (Kurmanji) Kurdish (Sorani) Kyrgyz Lao Latin Latvian Lingala Lithuanian Luganda Luxembourgish Macedonian Maithili Malagasy Malay Malayalam Maltese Maori Marathi Meiteilon (Manipuri) Mizo Mongolian Myanmar (Burmese) Nepali Norwegian Odia (Oriya) Oromo Pashto Persian Polish Portuguese Punjabi Quechua Romanian Russian Samoan Sanskrit Scots Gaelic Sepedi Serbian Sesotho Shona Sindhi Sinhala Slovak Slovenian Somali Spanish Sundanese Swahili Swedish Tajik Tamil Tatar Telugu Thai Tigrinya Tsonga Turkish Turkmen Twi Ukrainian Urdu Uyghur Uzbek Vietnamese Welsh Xhosa Yiddish Yoruba Zulu Powered by Translate (https://translate.google.com)     Arrow Left     Arrow Right        Slideshow Left Arrow       Slideshow Right Arrow                Original text Rate this translation Your feedback will be used to help improve Google Translate Loading  Skip to Main Content (#ccf5602c1c-2e20-4773-89f3-08f921ac655f)     [if lte IE 7]><link rel=\"stylesheet\" type=\"text/css\" href=\"/App_Themes/CP/ie7.css\"><![endif]  Allow Dashboard, Favorites Enabled      Header Container                      (/facebook)     (https://twitter.com/cityofrichmond)     (https://www.ci.richmond.ca.us/rss.aspx)          inner column   inner row  outer column       inner column   inner row  outer column       For the button right and inside     Search       inner column   inner row  outer column   outer row       City Government (/2013/City-Government)      Departments (/2014/Departments)      Business (/2016/Business)      Community (/2015/Community)       Banner            Content container       Home (/) Departments (/2014/Departments) Community Development (/101/Community-Development) Planning Division (/2098/Planning-Division) Bay Walk     A (#)  A (#)             Bay Walk Mixed-Use Project                 Project Contact Jonelyn Whales, Senior Planner (510) 620-6785  For security reasons, you must enable JavaScript to view this E-mail address.          Project Description   The project site consists of approximately 10 acres and is located on the southeast corner of Marina Way South and Wright Avenue in Richmond's Marina Bay Neighborhood. The site is currently occupied by a vacant two-story industrial warehouse and associated parking areas. A railroad spur is located on the southeast portion of the site.  The applicant, Development Solutions Seascape, LLC, proposes to demolish the existing industrial building, railroad spur, and parking lots at the site, and construct a three-story, mixed-use development with 76 two-bedroom, three-story town homes; 80 three-bedroom, three-story town homes; 25 two-bedroom, three story live-work town homes; and 74 three-bedroom, three-story live-work town homes; a two-story building containing a 2,980-square-foot business incubator suite and a 2,630-square-foot fitness center; an internal network of driveways; and 590 parking spaces, consisting of 510 garage stalls and 80 guest stalls. The project would have a total of 255 town homes (156 town homes and 99 live-work town homes).         Project and Related Documents     Notice of Availability and Intent to Adopt a Mitigated Negative Declaration (/DocumentCenter/View/29773)  Initial Study and Mitigated Negative Declaration (/DocumentCenter/View/29774) (End of Public Review: November 24, 2014)  Final IS/Mitigated Negative Declaration (/DocumentCenter/View/34703)          inner column   inner row  outer column   outer row                   Accessory Dwelling Units (ADUs) (/4336/Accessory-Dwelling-Units-ADUs)      Architectural Heritage Guidelines (http://www.ci.richmond.ca.us/DocumentCenter/View/3525)      Boards & Commissions (/2861/Boards-Commissions)       Design Review Board      Historic Preservation Commission       Historic Preservation Awards        Planning Commission        Cannabis Business Information (/3603/Cannabis-Business-Information)      City Fact Sheet (/DocumentView.aspx?DID=8348)      Fees/Forms/Checklists (/2102/FeesFormsChecklists)      Form Based Code (http://www.ci.richmond.ca.us/2965/RLC-FBC)      General Plan 2030 (/2608/General-Plan-2030)      Hilltop Horizon Specific Plan (https://hilltophorizon.com/)      Historical Point Molate Project Information (http://www.ci.richmond.ca.us/270/Point-Molate)      Mapping Services (/3344/Mapping-Services)      Printable Maps (/290)      Project Information (/2860/Project-Information)       Additional Projects      Environmental Documents      General Plan Updates       About - Información acerca del Plan General      Frequently Asked Questions (FAQs) - Preguntas frecuentes      Participate - Participe      Library        Housing Element Update      Housing Policy      Major Projects      Notable Projects      Other Projects      Projects Information      Richmond Resilience Roadmap      Residential Activity Report        Regulatory Documents (/2867/Regulatory-Documents)       Bicycle Master Plan      Pedestrian Plan      Richmond Bay Specific Plan (RBSP)      Urban Greening Plan      Other Plans, Codes & Guidelines        Staff Directory (/2399/Staff-Directory)      Zoning Ordinance (/3379/Zoning-Ordinance)      Senate Bill 9 (SB 9) (/4188/Senate-Bill-9-SB-9)      Brickyard Cove Residential Project (/4349/Brickyard-Cove-Residential-Project)      Raven SR Bioenergy Project (/4365/Raven-SR-Bioenergy-Project)      Travel Safe Richmond (/4486/Travel-Safe-Richmond)           GBs                    (/151)  Agenda Docs   (/151)         (/965/Weekly-Announcements)  Weekly Report   (/965/Weekly-Announcements)         (/4340/KCRT-Media)  KCRT   (/4340/KCRT-Media)            inner column   inner row  outer column                 (/4518/Youth)  Youth   (/4518/Youth)         (/4540/55670/Visit-Richmond)  Visit Richmond   (/4540/55670/Visit-Richmond)         (https://www.transparentrichmond.org/)  City Data   (https://www.transparentrichmond.org/)            inner column   inner row  outer column   outer row    Calendar/Carousel <div data-cpRole=\"structuralContainer\" id=\"homeContainer1\"> <div class=\"siteWrap\"> <div data-cpRole=\"contentContainer\" id=\"homeContent1a\"></div> </div> </div> Footer                              inner column   inner row  outer column       inner column   inner row  outer column         Contact Us         RICHMOND CITY HALL 450 Civic Center Plaza Richmond, CA 94804 Phone Directory (http://www.ci.richmond.ca.us/Directory.aspx)  Directions (http://maps.google.com/maps?q=450+Civic+Center+Plaza,+Richmond+CA&oe=utf-8&rls=org.mozilla:en-US:official&client=firefox-a&um=1&ie=UTF-8&hq=&hnear=450+Civic+Center+Plaza,+Richmond,+CA+94804&gl=us&daddr=450%20Civic%20Center%20Plaza,%20Richmond,%20CA%2094804&ei=uxt0S8_-KoLUNYPuockK&sa=X&oi=geocode_result&ct=directions-to&resnum=1&ved=0CAoQwwUwAA)            inner column   inner row  outer column       inner column   inner row  outer column       Sign Up For E-News          inner column   inner row              (/facebook)     (https://twitter.com/cityofrichmond)     (/instagram)     (https://www.ci.richmond.ca.us/rss.aspx)          inner column   inner row  outer column       inner column   inner row  outer column         Site Links (/QuickLinks.aspx?CID=2,52,5)         Bay Area Legal Aid (http://www.baylegal.org/)     Contra Costa County Courts (http://www.cc-courts.org/)     California Courts (http://www.courts.ca.gov/)     Contra Costa County Bar Association (http://www.cccba.org/community/)     State Bar of California (http://www.calbar.ca.gov/state/calbar/calbar_home.jsp)     City Council Agenda Documents (http://www.ci.richmond.ca.us/index.aspx?NID=151)           /QuickLinks.aspx      inner column   inner row  outer column   outer row    Powered By                Government Websites by CivicPlus® (https://connect.civicplus.com/referral)       inner column   inner row  outer column   outer row           Loading          Content from the Froala Editor will go here. Loading    Do Not Show Again  Close      Powered by Translate (https://translate.google.com)     Arrow Left     Arrow Right        Slideshow Left Arrow       Slideshow Right Arrow                Original text Rate this translation Your feedback will be used to help improve Google Translate Loading  Skip to Main Content (#ccf5602c1c-2e20-4773-89f3-08f921ac655f)     [if lte IE 7]><link rel=\"stylesheet\" type=\"text/css\" href=\"/App_Themes/CP/ie7.css\"><![endif]  Allow Dashboard, Favorites Enabled      Header Container                      (/facebook)     (https://twitter.com/cityofrichmond)     (https://www.ci.richmond.ca.us/rss.aspx)          inner column   inner row  outer column       inner column   inner row  outer column       For the button right and inside     Search       inner column   inner row  outer column   outer row       City Government (/2013/City-Government)      Departments (/2014/Departments)      Business (/2016/Business)      Community (/2015/Community)       Banner            Content container       Home (/) Departments (/2014/Departments) Community Development (/101/Community-Development) Planning Division (/2098/Planning-Division) Chevron Richmond Refinery Modernization Project     A (#)  A (#)             Chevron Richmond Refinery Modernization Project             inner column   inner row  outer column   outer row        Project Description The Chevron Refinery Modernization Project (Modernization Project) would complete construction and begin operation of two of the Chevron Hydrogen and Energy Renewal Project major components: a replacement Hydrogen Plant, and a collection of new sulfur removal equipment improvements that remove naturally occurring sulfur contained in the feedstocks processed at the Facility. The Modernization Project also includes related infrastructure improvements to Facility piping, utility lines, and electrical systems. The Modernization Project includes several integral equipment components that would reduce air emissions from Facility operations (the Emission Reduction Project Components) and further Project Design Features proposed to avoid or minimize environmental impacts. The Project also includes a new Reliability Program, including new safety programs and several physical modifications including the replacement of 17 piping circuits in the Crude Unit. Reducing Project emissions would help meet Chevron's commitment of assuring that the Project would cause no net increase in emissions of criteria pollutants, greenhouse gases, and public health risks from air pollutants, when compared to the Facility emissions and operations that occurred during the baseline period of 2008 through 2010. Following issuance of all necessary approvals, Chevron proposes to complete Project construction within approximately 24 months. The City Council approved the Modernization Project on July 29, 2014. Annual Compliance Reports Annual Compliance Report 2023 (/DocumentCenter/View/68888/Compiled-RY-2023-Annual-Compliance-Report) Annual Compliance Report 2022 (/DocumentCenter/View/64319/Chevron-Modernization-Project-Annual-CUP-Compliance-Report_12-01-2022) Annual Compliance Report 2021 (/DocumentCenter/View/59283/Annual-Compliance-Report-2021) Annual Compliance Report 2020 (/DocumentCenter/View/58350/Attachment-1_Annual-Compliance-Report-2020) Annual Compliance Report 2019 (/DocumentCenter/View/52332/Annual-Compliance-Report-2019_Compiled) Annual Compliance Report 2018 (/DocumentCenter/View/52333/Annual-Compliance-Report-2018) Documents Associated with the Chevron Refinery Modernization Project Consolidated Version Volume I (/DocumentCenter/View/45983) Consolidated Version Volume II (/DocumentCenter/View/45980) Resolution 66-14 (/DocumentCenter/View/45982) Resolution 67-14 (/DocumentCenter/View/45981)     inner column   inner row  outer column   outer row                          Project Contact   Lina Velasco, Planning Manager  Lina_Velasco@ci.richmond.ca.us  (510) 620-6841     inner column   inner row  outer column   outer row            Accessory Dwelling Units (ADUs) (/4336/Accessory-Dwelling-Units-ADUs)      Architectural Heritage Guidelines (http://www.ci.richmond.ca.us/DocumentCenter/View/3525)      Boards & Commissions (/2861/Boards-Commissions)       Design Review Board      Historic Preservation Commission       Historic Preservation Awards        Planning Commission        Cannabis Business Information (/3603/Cannabis-Business-Information)      City Fact Sheet (/DocumentView.aspx?DID=8348)      Fees/Forms/Checklists (/2102/FeesFormsChecklists)      Form Based Code (http://www.ci.richmond.ca.us/2965/RLC-FBC)      General Plan 2030 (/2608/General-Plan-2030)      Hilltop Horizon Specific Plan (https://hilltophorizon.com/)      Historical Point Molate Project Information (http://www.ci.richmond.ca.us/270/Point-Molate)      Mapping Services (/3344/Mapping-Services)      Printable Maps (/290)      Project Information (/2860/Project-Information)       Additional Projects      Environmental Documents      General Plan Updates       About - Información acerca del Plan General      Frequently Asked Questions (FAQs) - Preguntas frecuentes      Participate - Participe      Library        Housing Element Update      Housing Policy      Major Projects      Notable Projects      Other Projects      Projects Information      Richmond Resilience Roadmap      Residential Activity Report        Regulatory Documents (/2867/Regulatory-Documents)       Bicycle Master Plan      Pedestrian Plan      Richmond Bay Specific Plan (RBSP)      Urban Greening Plan      Other Plans, Codes & Guidelines        Staff Directory (/2399/Staff-Directory)      Zoning Ordinance (/3379/Zoning-Ordinance)      Senate Bill 9 (SB 9) (/4188/Senate-Bill-9-SB-9)      Brickyard Cove Residential Project (/4349/Brickyard-Cove-Residential-Project)      Raven SR Bioenergy Project (/4365/Raven-SR-Bioenergy-Project)      Travel Safe Richmond (/4486/Travel-Safe-Richmond)           GBs                    (/151)  Agenda Docs   (/151)         (/965/Weekly-Announcements)  Weekly Report   (/965/Weekly-Announcements)         (/4340/KCRT-Media)  KCRT   (/4340/KCRT-Media)            inner column   inner row  outer column                 (/4518/Youth)  Youth   (/4518/Youth)         (/4540/55670/Visit-Richmond)  Visit Richmond   (/4540/55670/Visit-Richmond)         (https://www.transparentrichmond.org/)  City Data   (https://www.transparentrichmond.org/)            inner column   inner row  outer column   outer row    Calendar/Carousel <div data-cpRole=\"structuralContainer\" id=\"homeContainer1\"> <div class=\"siteWrap\"> <div data-cpRole=\"contentContainer\" id=\"homeContent1a\"></div> </div> </div> Footer                              inner column   inner row  outer column       inner column   inner row  outer column         Contact Us         RICHMOND CITY HALL 450 Civic Center Plaza Richmond, CA 94804 Phone Directory (http://www.ci.richmond.ca.us/Directory.aspx)  Directions (http://maps.google.com/maps?q=450+Civic+Center+Plaza,+Richmond+CA&oe=utf-8&rls=org.mozilla:en-US:official&client=firefox-a&um=1&ie=UTF-8&hq=&hnear=450+Civic+Center+Plaza,+Richmond,+CA+94804&gl=us&daddr=450%20Civic%20Center%20Plaza,%20Richmond,%20CA%2094804&ei=uxt0S8_-KoLUNYPuockK&sa=X&oi=geocode_result&ct=directions-to&resnum=1&ved=0CAoQwwUwAA)            inner column   inner row  outer column       inner column   inner row  outer column       Sign Up For E-News          inner column   inner row              (/facebook)     (https://twitter.com/cityofrichmond)     (/instagram)     (https://www.ci.richmond.ca.us/rss.aspx)          inner column   inner row  outer column       inner column   inner row  outer column         Site Links (/QuickLinks.aspx?CID=2,52,5)         Bay Area Legal Aid (http://www.baylegal.org/)     Contra Costa County Courts (http://www.cc-courts.org/)     California Courts (http://www.courts.ca.gov/)     Contra Costa County Bar Association (http://www.cccba.org/community/)     State Bar of California (http://www.calbar.ca.gov/state/calbar/calbar_home.jsp)     City Council Agenda Documents (http://www.ci.richmond.ca.us/index.aspx?NID=151)           /QuickLinks.aspx      inner column   inner row  outer column   outer row    Powered By                Government Websites by CivicPlus® (https://connect.civicplus.com/referral)       inner column   inner row  outer column   outer row           Loading          Content from the Froala Editor will go here. Loading    Do Not Show Again  Close      Powered by Translate (https://translate.google.com)     Arrow Left     Arrow Right        Slideshow Left Arrow       Slideshow Right Arrow                Original text Rate this translation Your feedback will be used to help improve Google Translate Loading  Skip to Main Content (#ccf5602c1c-2e20-4773-89f3-08f921ac655f)     [if lte IE 7]><link rel=\"stylesheet\" type=\"text/css\" href=\"/App_Themes/CP/ie7.css\"><![endif]  Allow Dashboard, Favorites Enabled      Header Container                      (/facebook)     (https://twitter.com/cityofrichmond)     (https://www.ci.richmond.ca.us/rss.aspx)          inner column   inner row  outer column       inner column   inner row  outer column       For the button right and inside     Search       inner column   inner row  outer column   outer row       City Government (/2013/City-Government)      Departments (/2014/Departments)      Business (/2016/Business)      Community (/2015/Community)       Banner            Content container       Home (/) Departments (/2014/Departments) Community Development (/101/Community-Development) Planning Division (/2098/Planning-Division) Making Waves Academy Expansion Project     A (#)  A (#)             Making Waves Academy Expansion Project         Project Contact:   Hector Lopez, Senior Planner  Hector_Lopez@ci.richmond.ca.us  (510) 620-6702   Project Description   The proposed Making Waves Academy Expansion project would include the expansion of an existing middle and high school campus on Lakeside Drive from 6.45 acres to 20.25 acres. The school would increase student enrollment in grades 5 through 12 from approximately 800 to a maximum enrollment of 2,050, and increase the number of staff from 70 to 300. In addition to renovations to the existing three classroom buildings, the project would demolish approximately 165,387 square feet of existing one- and two-story commercial buildings on six parcels and construct three new classroom buildings and two new gymnasiums. Overall proposed development includes 208,986 gross square feet of new buildings, outdoor physical recreation areas (i.e., playing and sports fields, play structures and ball courts, recess yards), new landscaping and trees throughout the site, and associated parking and infrastructure improvements. The project also involves consolidation of the eight existing parcels that make up the site into three parcels and the abandonment of Technology Court. The new school campus would be configured with two distinct campuses to house middle and high school programs.    Notice of Intent to Adopt a Mitigated Negative Declaration (/DocumentCenter/View/42023)  Making Waves Academy Expansion Project Initial Study (/DocumentCenter/View/42024)      inner column   inner row  outer column   outer row                   Accessory Dwelling Units (ADUs) (/4336/Accessory-Dwelling-Units-ADUs)      Architectural Heritage Guidelines (http://www.ci.richmond.ca.us/DocumentCenter/View/3525)      Boards & Commissions (/2861/Boards-Commissions)       Design Review Board      Historic Preservation Commission       Historic Preservation Awards        Planning Commission        Cannabis Business Information (/3603/Cannabis-Business-Information)      City Fact Sheet (/DocumentView.aspx?DID=8348)      Fees/Forms/Checklists (/2102/FeesFormsChecklists)      Form Based Code (http://www.ci.richmond.ca.us/2965/RLC-FBC)      General Plan 2030 (/2608/General-Plan-2030)      Hilltop Horizon Specific Plan (https://hilltophorizon.com/)      Historical Point Molate Project Information (http://www.ci.richmond.ca.us/270/Point-Molate)      Mapping Services (/3344/Mapping-Services)      Printable Maps (/290)      Project Information (/2860/Project-Information)       Additional Projects      Environmental Documents      General Plan Updates       About - Información acerca del Plan General      Frequently Asked Questions (FAQs) - Preguntas frecuentes      Participate - Participe      Library        Housing Element Update      Housing Policy      Major Projects      Notable Projects      Other Projects      Projects Information      Richmond Resilience Roadmap      Residential Activity Report        Regulatory Documents (/2867/Regulatory-Documents)       Bicycle Master Plan      Pedestrian Plan      Richmond Bay Specific Plan (RBSP)      Urban Greening Plan      Other Plans, Codes & Guidelines        Staff Directory (/2399/Staff-Directory)      Zoning Ordinance (/3379/Zoning-Ordinance)      Senate Bill 9 (SB 9) (/4188/Senate-Bill-9-SB-9)      Brickyard Cove Residential Project (/4349/Brickyard-Cove-Residential-Project)      Raven SR Bioenergy Project (/4365/Raven-SR-Bioenergy-Project)      Travel Safe Richmond (/4486/Travel-Safe-Richmond)           GBs                    (/151)  Agenda Docs   (/151)         (/965/Weekly-Announcements)  Weekly Report   (/965/Weekly-Announcements)         (/4340/KCRT-Media)  KCRT   (/4340/KCRT-Media)            inner column   inner row  outer column                 (/4518/Youth)  Youth   (/4518/Youth)         (/4540/55670/Visit-Richmond)  Visit Richmond   (/4540/55670/Visit-Richmond)         (https://www.transparentrichmond.org/)  City Data   (https://www.transparentrichmond.org/)            inner column   inner row  outer column   outer row    Calendar/Carousel <div data-cpRole=\"structuralContainer\" id=\"homeContainer1\"> <div class=\"siteWrap\"> <div data-cpRole=\"contentContainer\" id=\"homeContent1a\"></div> </div> </div> Footer                              inner column   inner row  outer column       inner column   inner row  outer column         Contact Us         RICHMOND CITY HALL 450 Civic Center Plaza Richmond, CA 94804 Phone Directory (http://www.ci.richmond.ca.us/Directory.aspx)  Directions (http://maps.google.com/maps?q=450+Civic+Center+Plaza,+Richmond+CA&oe=utf-8&rls=org.mozilla:en-US:official&client=firefox-a&um=1&ie=UTF-8&hq=&hnear=450+Civic+Center+Plaza,+Richmond,+CA+94804&gl=us&daddr=450%20Civic%20Center%20Plaza,%20Richmond,%20CA%2094804&ei=uxt0S8_-KoLUNYPuockK&sa=X&oi=geocode_result&ct=directions-to&resnum=1&ved=0CAoQwwUwAA)            inner column   inner row  outer column       inner column   inner row  outer column       Sign Up For E-News          inner column   inner row              (/facebook)     (https://twitter.com/cityofrichmond)     (/instagram)     (https://www.ci.richmond.ca.us/rss.aspx)          inner column   inner row  outer column       inner column   inner row  outer column         Site Links (/QuickLinks.aspx?CID=2,52,5)         Bay Area Legal Aid (http://www.baylegal.org/)     Contra Costa County Courts (http://www.cc-courts.org/)     California Courts (http://www.courts.ca.gov/)     Contra Costa County Bar Association (http://www.cccba.org/community/)     State Bar of California (http://www.calbar.ca.gov/state/calbar/calbar_home.jsp)     City Council Agenda Documents (http://www.ci.richmond.ca.us/index.aspx?NID=151)           /QuickLinks.aspx      inner column   inner row  outer column   outer row    Powered By                Government Websites by CivicPlus® (https://connect.civicplus.com/referral)       inner column   inner row  outer column   outer row           Loading          Content from the Froala Editor will go here. Loading    Do Not Show Again  Close      Powered by Translate (https://translate.google.com)     Arrow Left     Arrow Right        Slideshow Left Arrow       Slideshow Right Arrow                Original text Rate this translation Your feedback will be used to help improve Google Translate Loading  Skip to Main Content (#ccf5602c1c-2e20-4773-89f3-08f921ac655f)     [if lte IE 7]><link rel=\"stylesheet\" type=\"text/css\" href=\"/App_Themes/CP/ie7.css\"><![endif]  Allow Dashboard, Favorites Enabled      Header Container                      (/facebook)     (https://twitter.com/cityofrichmond)     (https://www.ci.richmond.ca.us/rss.aspx)          inner column   inner row  outer column       inner column   inner row  outer column       For the button right and inside     Search       inner column   inner row  outer column   outer row       City Government (/2013/City-Government)      Departments (/2014/Departments)      Business (/2016/Business)      Community (/2015/Community)       Banner            Content container       Home (/) Departments (/2014/Departments) Community Development (/101/Community-Development) Planning Division (/2098/Planning-Division) Richmond Country Club Residential Project     A (#)  A (#)             Richmond Country Club Residential Project             inner column   inner row  outer column   outer row        Project Description The project site is 25.5-acres, located in the northern portion of the City of Richmond on the western boundary of the existing Richmond Country Club. The project site is bound by and immediately adjacent to the Atchison Topeka and Santa Fe Railroad (AT&SF) to the west, the Richmond Country Club to the east and north, and Giant Road and single-family homes to the south. The project applicant is proposing a General Plan Amendment, Zone Change to the RL-2, Single Family Low Density Residential District and OS, Open Space District, and a Vesting Tentative Tract Map (TTM) to allow the development of 94 single-family homes. The development of the proposed project would require re-configuration of a portion of the golf course and the removal of existing mature eucalyptus trees within the project site boundaries and adjacent to the golf course. The proposed single-family homes would be a mixture of 1- and 2-stories with a maximum building height of 25 feet.   Project Plans   Project Plans (/DocumentCenter/View/55005/Richmond-Country-Club-Plans)   Project and Related Documents   Notice of Availability (/DocumentCenter/View/54798/Richmond-Country-Club-Notice-of-Availability)  Initial Study and Mitigated Negative Declaration (/DocumentCenter/View/54797/21210012-Richmond-Country-Club-Residential-Project-ISMND)  Response to Comments (/DocumentCenter/View/56320/Final-ISMND-Response-to-Comments)  Appendix (/DocumentCenter/View/54803/Appendix-A---Air-Quality-and-GHG-Supporting-Information-COMBINED) A - Air Quality and GHG  Appendix B - Biological Resources (/DocumentCenter/View/54804/Appendix-B---Biological-Resources-Supporting-Information-COMBINED)  Appendix C - Cultural and Tribal Resources (/DocumentCenter/View/54805/Appendix-C---Cultural-and-Tribal-Cultural-Resources-Supporting-Information-COMBINED)  Appendix D - Energy (/DocumentCenter/View/54806/Appendix-D---Energy-Supporting-Information-COMBINED)  Appendix E - Geology and Soils (/DocumentCenter/View/54807/Appendix-E---Geology-and-Soils-Supporting-Information-COMBINED)  Appendix F - Hazards and Hazardous Materials (/DocumentCenter/View/54799/Appendix-F---Hazards-and-Hazardous-Materials-Supporting-Information-COMBINED)  Appendix G - Hydrology and Water Quality (/DocumentCenter/View/54800/Appendix-G---Hydrology-and-Water-Quality-Supporting-Information-COMBINED)  Appendix H - Noise (/DocumentCenter/View/54801/Appendix-H---Noise-Supporting-Information-COMBINED)  Appendix I - Transportation (/DocumentCenter/View/54802/Appendix-I---Transportation-Supporting-Information-COMBINED)     Project Contact Roberta Feliciano, Senior Planner  roberta_feliciano@ci.richmond.ca.us (mailto:roberta_feliciano@ci.richmond.ca.us) (510) 620-6662     inner column   inner row  outer column   outer row                   Accessory Dwelling Units (ADUs) (/4336/Accessory-Dwelling-Units-ADUs)      Architectural Heritage Guidelines (http://www.ci.richmond.ca.us/DocumentCenter/View/3525)      Boards & Commissions (/2861/Boards-Commissions)       Design Review Board      Historic Preservation Commission       Historic Preservation Awards        Planning Commission        Cannabis Business Information (/3603/Cannabis-Business-Information)      City Fact Sheet (/DocumentView.aspx?DID=8348)      Fees/Forms/Checklists (/2102/FeesFormsChecklists)      Form Based Code (http://www.ci.richmond.ca.us/2965/RLC-FBC)      General Plan 2030 (/2608/General-Plan-2030)      Hilltop Horizon Specific Plan (https://hilltophorizon.com/)      Historical Point Molate Project Information (http://www.ci.richmond.ca.us/270/Point-Molate)      Mapping Services (/3344/Mapping-Services)      Printable Maps (/290)      Project Information (/2860/Project-Information)       Additional Projects      Environmental Documents      General Plan Updates       About - Información acerca del Plan General      Frequently Asked Questions (FAQs) - Preguntas frecuentes      Participate - Participe      Library        Housing Element Update      Housing Policy      Major Projects      Notable Projects      Other Projects      Projects Information      Richmond Resilience Roadmap      Residential Activity Report        Regulatory Documents (/2867/Regulatory-Documents)       Bicycle Master Plan      Pedestrian Plan      Richmond Bay Specific Plan (RBSP)      Urban Greening Plan      Other Plans, Codes & Guidelines        Staff Directory (/2399/Staff-Directory)      Zoning Ordinance (/3379/Zoning-Ordinance)      Senate Bill 9 (SB 9) (/4188/Senate-Bill-9-SB-9)      Brickyard Cove Residential Project (/4349/Brickyard-Cove-Residential-Project)      Raven SR Bioenergy Project (/4365/Raven-SR-Bioenergy-Project)      Travel Safe Richmond (/4486/Travel-Safe-Richmond)           GBs                    (/151)  Agenda Docs   (/151)         (/965/Weekly-Announcements)  Weekly Report   (/965/Weekly-Announcements)         (/4340/KCRT-Media)  KCRT   (/4340/KCRT-Media)            inner column   inner row  outer column                 (/4518/Youth)  Youth   (/4518/Youth)         (/4540/55670/Visit-Richmond)  Visit Richmond   (/4540/55670/Visit-Richmond)         (https://www.transparentrichmond.org/)  City Data   (https://www.transparentrichmond.org/)            inner column   inner row  outer column   outer row    Calendar/Carousel <div data-cpRole=\"structuralContainer\" id=\"homeContainer1\"> <div class=\"siteWrap\"> <div data-cpRole=\"contentContainer\" id=\"homeContent1a\"></div> </div> </div> Footer                              inner column   inner row  outer column       inner column   inner row  outer column         Contact Us         RICHMOND CITY HALL 450 Civic Center Plaza Richmond, CA 94804 Phone Directory (http://www.ci.richmond.ca.us/Directory.aspx)  Directions (http://maps.google.com/maps?q=450+Civic+Center+Plaza,+Richmond+CA&oe=utf-8&rls=org.mozilla:en-US:official&client=firefox-a&um=1&ie=UTF-8&hq=&hnear=450+Civic+Center+Plaza,+Richmond,+CA+94804&gl=us&daddr=450%20Civic%20Center%20Plaza,%20Richmond,%20CA%2094804&ei=uxt0S8_-KoLUNYPuockK&sa=X&oi=geocode_result&ct=directions-to&resnum=1&ved=0CAoQwwUwAA)            inner column   inner row  outer column       inner column   inner row  outer column       Sign Up For E-News          inner column   inner row              (/facebook)     (https://twitter.com/cityofrichmond)     (/instagram)     (https://www.ci.richmond.ca.us/rss.aspx)          inner column   inner row  outer column       inner column   inner row  outer column         Site Links (/QuickLinks.aspx?CID=2,52,5)         Bay Area Legal Aid (http://www.baylegal.org/)     Contra Costa County Courts (http://www.cc-courts.org/)     California Courts (http://www.courts.ca.gov/)     Contra Costa County Bar Association (http://www.cccba.org/community/)     State Bar of California (http://www.calbar.ca.gov/state/calbar/calbar_home.jsp)     City Council Agenda Documents (http://www.ci.richmond.ca.us/index.aspx?NID=151)           /QuickLinks.aspx      inner column   inner row  outer column   outer row    Powered By                Government Websites by CivicPlus® (https://connect.civicplus.com/referral)       inner column   inner row  outer column   outer row           Loading          Content from the Froala Editor will go here. Loading    Do Not Show Again  Close      Powered by Translate (https://translate.google.com)     Arrow Left     Arrow Right        Slideshow Left Arrow       Slideshow Right Arrow                Original text Rate this translation Your feedback will be used to help improve Google Translate Loading  Skip to Main Content (#ccf5602c1c-2e20-4773-89f3-08f921ac655f)     [if lte IE 7]><link rel=\"stylesheet\" type=\"text/css\" href=\"/App_Themes/CP/ie7.css\"><![endif]  Allow Dashboard, Favorites Enabled      Header Container                      (/facebook)     (https://twitter.com/cityofrichmond)     (https://www.ci.richmond.ca.us/rss.aspx)          inner column   inner row  outer column       inner column   inner row  outer column       For the button right and inside     Search       inner column   inner row  outer column   outer row       City Government (/2013/City-Government)      Departments (/2014/Departments)      Business (/2016/Business)      Community (/2015/Community)       Banner            Content container       Home (/) Departments (/2014/Departments) Community Development (/101/Community-Development) Planning Division (/2098/Planning-Division) Duke Realty Light Industrial Warehouse     A (#)  A (#)             Duke Realty Light Industrial Warehouse             inner column   inner row  outer column   outer row        Project Contact Hector Lopez, Senior Planner hector_lopez@ci.richmond.ca.us (mailto:hector_lopez@ci.richmond.ca.us) (510) 620-6702 Project Description The proposed project is a light industrial warehouse that would include associated office uses. All existing structures on the site would be demolished, although two of the three existing driveways would be preserved. The proposed use totals 144,808 square feet with first-floor office space of 4,750 square feet and an Office Mezzanine of 4,245 square feet, for a total building area of 153,803square feet. The warehouse would have 24 loading docks, located at the eastern end of the building. The floor area ratio (FAR) would be 0.44, and the building height would be 43 feet. Project Location The project site is located at 731 West Cutting Boulevard in the City of Richmond. The 7.94-acre project site consists of a developed industrial site with access from two driveways along West Cutting Boulevard and one driveway along Canal Boulevard. The site is bounded to the north by Interstate 580 (I-580), with Canal Boulevard on the west and West Cutting Boulevard on the south. The eastern portion of the site is bounded by industrial development. Project and Related Documents Duke Realty Light Industrial Warehouse ISMND (/DocumentCenter/View/59573/Duke-Realty-Warehouse-Project_731-W-Cutting_ISMND) Duke Realty Light Industrial Warehouse Appendices (/DocumentCenter/View/59572/Appendices---Duke-Realty-Light-Industrial-Warehouse_COMBINED) Duke Realty Light Industrial Warehouse Final ISMND (/DocumentCenter/View/60257/21210022-Richmond-731-West-Cutting-Boulevard-Warehouse-Project-Final-ISMND) Duke Realty Light Industrial MMRP (/DocumentCenter/View/60258/21210022-Richmond-731-West-Cutting-Boulevard-Warehouse-Project-MMRP1)     inner column   inner row  outer column   outer row                   Accessory Dwelling Units (ADUs) (/4336/Accessory-Dwelling-Units-ADUs)      Architectural Heritage Guidelines (http://www.ci.richmond.ca.us/DocumentCenter/View/3525)      Boards & Commissions (/2861/Boards-Commissions)       Design Review Board      Historic Preservation Commission       Historic Preservation Awards        Planning Commission        Cannabis Business Information (/3603/Cannabis-Business-Information)      City Fact Sheet (/DocumentView.aspx?DID=8348)      Fees/Forms/Checklists (/2102/FeesFormsChecklists)      Form Based Code (http://www.ci.richmond.ca.us/2965/RLC-FBC)      General Plan 2030 (/2608/General-Plan-2030)      Hilltop Horizon Specific Plan (https://hilltophorizon.com/)      Historical Point Molate Project Information (http://www.ci.richmond.ca.us/270/Point-Molate)      Mapping Services (/3344/Mapping-Services)      Printable Maps (/290)      Project Information (/2860/Project-Information)       Additional Projects      Environmental Documents      General Plan Updates       About - Información acerca del Plan General      Frequently Asked Questions (FAQs) - Preguntas frecuentes      Participate - Participe      Library        Housing Element Update      Housing Policy      Major Projects      Notable Projects      Other Projects      Projects Information      Richmond Resilience Roadmap      Residential Activity Report        Regulatory Documents (/2867/Regulatory-Documents)       Bicycle Master Plan      Pedestrian Plan      Richmond Bay Specific Plan (RBSP)      Urban Greening Plan      Other Plans, Codes & Guidelines        Staff Directory (/2399/Staff-Directory)      Zoning Ordinance (/3379/Zoning-Ordinance)      Senate Bill 9 (SB 9) (/4188/Senate-Bill-9-SB-9)      Brickyard Cove Residential Project (/4349/Brickyard-Cove-Residential-Project)      Raven SR Bioenergy Project (/4365/Raven-SR-Bioenergy-Project)      Travel Safe Richmond (/4486/Travel-Safe-Richmond)           GBs                    (/151)  Agenda Docs   (/151)         (/965/Weekly-Announcements)  Weekly Report   (/965/Weekly-Announcements)         (/4340/KCRT-Media)  KCRT   (/4340/KCRT-Media)            inner column   inner row  outer column                 (/4518/Youth)  Youth   (/4518/Youth)         (/4540/55670/Visit-Richmond)  Visit Richmond   (/4540/55670/Visit-Richmond)         (https://www.transparentrichmond.org/)  City Data   (https://www.transparentrichmond.org/)            inner column   inner row  outer column   outer row    Calendar/Carousel <div data-cpRole=\"structuralContainer\" id=\"homeContainer1\"> <div class=\"siteWrap\"> <div data-cpRole=\"contentContainer\" id=\"homeContent1a\"></div> </div> </div> Footer                              inner column   inner row  outer column       inner column   inner row  outer column         Contact Us         RICHMOND CITY HALL 450 Civic Center Plaza Richmond, CA 94804 Phone Directory (http://www.ci.richmond.ca.us/Directory.aspx)  Directions (http://maps.google.com/maps?q=450+Civic+Center+Plaza,+Richmond+CA&oe=utf-8&rls=org.mozilla:en-US:official&client=firefox-a&um=1&ie=UTF-8&hq=&hnear=450+Civic+Center+Plaza,+Richmond,+CA+94804&gl=us&daddr=450%20Civic%20Center%20Plaza,%20Richmond,%20CA%2094804&ei=uxt0S8_-KoLUNYPuockK&sa=X&oi=geocode_result&ct=directions-to&resnum=1&ved=0CAoQwwUwAA)            inner column   inner row  outer column       inner column   inner row  outer column       Sign Up For E-News          inner column   inner row              (/facebook)     (https://twitter.com/cityofrichmond)     (/instagram)     (https://www.ci.richmond.ca.us/rss.aspx)          inner column   inner row  outer column       inner column   inner row  outer column         Site Links (/QuickLinks.aspx?CID=2,52,5)         Bay Area Legal Aid (http://www.baylegal.org/)     Contra Costa County Courts (http://www.cc-courts.org/)     California Courts (http://www.courts.ca.gov/)     Contra Costa County Bar Association (http://www.cccba.org/community/)     State Bar of California (http://www.calbar.ca.gov/state/calbar/calbar_home.jsp)     City Council Agenda Documents (http://www.ci.richmond.ca.us/index.aspx?NID=151)           /QuickLinks.aspx      inner column   inner row  outer column   outer row    Powered By                Government Websites by CivicPlus® (https://connect.civicplus.com/referral)       inner column   inner row  outer column   outer row           Loading          Content from the Froala Editor will go here. Loading    Do Not Show Again  Close      Powered by Translate (https://translate.google.com)     Arrow Left     Arrow Right        Slideshow Left Arrow       Slideshow Right Arrow                Original text Rate this translation Your feedback will be used to help improve Google Translate Loading  Skip to Main Content (#ccf5602c1c-2e20-4773-89f3-08f921ac655f)     [if lte IE 7]><link rel=\"stylesheet\" type=\"text/css\" href=\"/App_Themes/CP/ie7.css\"><![endif]  Allow Dashboard, Favorites Enabled      Header Container                      (/facebook)     (https://twitter.com/cityofrichmond)     (https://www.ci.richmond.ca.us/rss.aspx)          inner column   inner row  outer column       inner column   inner row  outer column       For the button right and inside     Search       inner column   inner row  outer column   outer row       City Government (/2013/City-Government)      Departments (/2014/Departments)      Business (/2016/Business)      Community (/2015/Community)       Banner            Content container       Home (/) Departments (/2014/Departments) Community Development (/101/Community-Development) Planning Division (/2098/Planning-Division) Campus Bay Mixed Use Project     A (#)  A (#)             Campus Bay Mixed Use Project             inner column   inner row  outer column             Project Contact   Lina Velasco Community  Development Director  Lina_Velasco@ci.richmond.ca.us  (510) 620-6841     inner column   inner row  outer column   outer row        Project Description The Campus Bay Mixed Use Project (Campus Bay Project) proposes a mixed-use community consisting of residential, commercial, and open space uses in the Sub-Area 4 portion of the Richmond Bay Specific Plan.  The Campus Bay Project proposes a mixed-use community comprising a portion (Sub-Area 4) of, and consistent with, the Richmond Bay Specific Plan, that includes the following components:   Remediation of the Project site as approved by and in accordance with all requirements of the California Department of Toxic Substances Control (DTSC);  Development of not less than 2,000 and not more than 4,000 multifamily residential units, including both rental and for-sale unit, including affordable dwellings consistent with City programs;  Development of approximately 50,000 square feet of retail/business/service uses (including a neighborhood grocery store); and  Development of approximately 30.7 acres of parks and open space, consisting of new parks, existing habitat areas, and construction of a trailhead with parking and restroom facilities for the San Francisco Bay Trail.  The initial Project entitlements included a Vesting Tentative Map, Use Permit, and Development Agreement.  Executed Development Agreement (/DocumentCenter/View/56907/EXECUTED_Campus-Bay-Development-Agr-79054563v18-1-21-2021) .   City Council Meeting - Via Teleconference - Tuesday, July 20, 2021, 10:00 a.m. The City Council of the City of Richmond will conduct a hearing to consider the potential termination of the Campus Bay Mixed-Use Project Agreement.   Notice of Public Hearing (/DocumentCenter/View/58372/Notice-of-Public-Hearing---Re-Termination-of-Development-Agreement-003)   City Council Meeting - Via Teleconference - Tuesday, December 1, 2020, 6:30 p.m.  Pubic hearing to consider adoption of the Addendum to the Richmond Bay Specific Plan (SCH#2014092082) Environmental Impact Report, including adopting a Mitigation Monitoring and Reporting Program; approval of a Development Agreement; approval of a Vesting Tentative Map for Condominium Purposes; and approval of a Use Permit for Residential Uses in the SD:R&D and T5MS-O transect zones of the Richmond Bay Specific Plan, and for development and park use within the –S, Shoreline Overlay district for the proposed Campus Bay Mixed-Use Project.   Notice of Public Hearing (/DocumentCenter/View/56346/Notice-of-Public-Hearing---PLN20-310CampusBayMixedUseProject--Published-112120)  City Council Sire Link - Agenda Public Hearing Item No. I-1 (http://sireweb.ci.richmond.ca.us/sirepub/mtgviewer.aspx?meetid=857&doctype=AGENDA)   Planning Commission Public Hearing - November 19, 2020 6:30 PM, 440 Civic Center Plaza, Council Chambers, Telephone and web conference only Public Hearing to consider a recommendation to the City Council on the Campus Bay Mixed Use Project (Campus Bay Project).   Notice of Public Hearing (/DocumentCenter/View/56180/PNG_NOTICE_PH_PC_111920)  Staff Report (/DocumentCenter/View/56209/PC_3_PLN20-310_Campus-Bay-Mixed-Use-Project_11-19-2020)  Campus Bay Addendum (/DocumentCenter/View/56193/Campus-Bay-Addednum_COLOR)  Campus Bay Appendices (/DocumentCenter/View/56192/APPENDICES_Combined) (Combined)  Campus Bay Fiscal Analysis (/DocumentCenter/View/56306/LEG-Memo-I-Fiscal-Review_11182020)  Pubic Comments (/DocumentCenter/View/56315/Campus-Bay-PC-Public-Comments_combined)   Subscribe for Updates   Please sign up on \" Notify Me (/list.aspx?ListID=391) \" if you are interested in receiving email updates for this project.        inner column   inner row  outer column   outer row                   Accessory Dwelling Units (ADUs) (/4336/Accessory-Dwelling-Units-ADUs)      Architectural Heritage Guidelines (http://www.ci.richmond.ca.us/DocumentCenter/View/3525)      Boards & Commissions (/2861/Boards-Commissions)       Design Review Board      Historic Preservation Commission       Historic Preservation Awards        Planning Commission        Cannabis Business Information (/3603/Cannabis-Business-Information)      City Fact Sheet (/DocumentView.aspx?DID=8348)      Fees/Forms/Checklists (/2102/FeesFormsChecklists)      Form Based Code (http://www.ci.richmond.ca.us/2965/RLC-FBC)      General Plan 2030 (/2608/General-Plan-2030)      Hilltop Horizon Specific Plan (https://hilltophorizon.com/)      Historical Point Molate Project Information (http://www.ci.richmond.ca.us/270/Point-Molate)      Mapping Services (/3344/Mapping-Services)      Printable Maps (/290)      Project Information (/2860/Project-Information)       Additional Projects      Environmental Documents      General Plan Updates       About - Información acerca del Plan General      Frequently Asked Questions (FAQs) - Preguntas frecuentes      Participate - Participe      Library        Housing Element Update      Housing Policy      Major Projects      Notable Projects      Other Projects      Projects Information      Richmond Resilience Roadmap      Residential Activity Report        Regulatory Documents (/2867/Regulatory-Documents)       Bicycle Master Plan      Pedestrian Plan      Richmond Bay Specific Plan (RBSP)      Urban Greening Plan      Other Plans, Codes & Guidelines        Staff Directory (/2399/Staff-Directory)      Zoning Ordinance (/3379/Zoning-Ordinance)      Senate Bill 9 (SB 9) (/4188/Senate-Bill-9-SB-9)      Brickyard Cove Residential Project (/4349/Brickyard-Cove-Residential-Project)      Raven SR Bioenergy Project (/4365/Raven-SR-Bioenergy-Project)      Travel Safe Richmond (/4486/Travel-Safe-Richmond)           GBs                    (/151)  Agenda Docs   (/151)         (/965/Weekly-Announcements)  Weekly Report   (/965/Weekly-Announcements)         (/4340/KCRT-Media)  KCRT   (/4340/KCRT-Media)            inner column   inner row  outer column                 (/4518/Youth)  Youth   (/4518/Youth)         (/4540/55670/Visit-Richmond)  Visit Richmond   (/4540/55670/Visit-Richmond)         (https://www.transparentrichmond.org/)  City Data   (https://www.transparentrichmond.org/)            inner column   inner row  outer column   outer row    Calendar/Carousel <div data-cpRole=\"structuralContainer\" id=\"homeContainer1\"> <div class=\"siteWrap\"> <div data-cpRole=\"contentContainer\" id=\"homeContent1a\"></div> </div> </div> Footer                              inner column   inner row  outer column       inner column   inner row  outer column         Contact Us         RICHMOND CITY HALL 450 Civic Center Plaza Richmond, CA 94804 Phone Directory (http://www.ci.richmond.ca.us/Directory.aspx)  Directions (http://maps.google.com/maps?q=450+Civic+Center+Plaza,+Richmond+CA&oe=utf-8&rls=org.mozilla:en-US:official&client=firefox-a&um=1&ie=UTF-8&hq=&hnear=450+Civic+Center+Plaza,+Richmond,+CA+94804&gl=us&daddr=450%20Civic%20Center%20Plaza,%20Richmond,%20CA%2094804&ei=uxt0S8_-KoLUNYPuockK&sa=X&oi=geocode_result&ct=directions-to&resnum=1&ved=0CAoQwwUwAA)            inner column   inner row  outer column       inner column   inner row  outer column       Sign Up For E-News          inner column   inner row              (/facebook)     (https://twitter.com/cityofrichmond)     (/instagram)     (https://www.ci.richmond.ca.us/rss.aspx)          inner column   inner row  outer column       inner column   inner row  outer column         Site Links (/QuickLinks.aspx?CID=2,52,5)         Bay Area Legal Aid (http://www.baylegal.org/)     Contra Costa County Courts (http://www.cc-courts.org/)     California Courts (http://www.courts.ca.gov/)     Contra Costa County Bar Association (http://www.cccba.org/community/)     State Bar of California (http://www.calbar.ca.gov/state/calbar/calbar_home.jsp)     City Council Agenda Documents (http://www.ci.richmond.ca.us/index.aspx?NID=151)           /QuickLinks.aspx      inner column   inner row  outer column   outer row    Powered By                Government Websites by CivicPlus® (https://connect.civicplus.com/referral)       inner column   inner row  outer column   outer row           Loading          Content from the Froala Editor will go here. Loading    Do Not Show Again  Close      Powered by Translate (https://translate.google.com)     Arrow Left     Arrow Right        Slideshow Left Arrow       Slideshow Right Arrow                Original text Rate this translation Your feedback will be used to help improve Google Translate Loading  Skip to Main Content (#ccf5602c1c-2e20-4773-89f3-08f921ac655f)     [if lte IE 7]><link rel=\"stylesheet\" type=\"text/css\" href=\"/App_Themes/CP/ie7.css\"><![endif]  Allow Dashboard, Favorites Enabled      Header Container                      (/facebook)     (https://twitter.com/cityofrichmond)     (https://www.ci.richmond.ca.us/rss.aspx)          inner column   inner row  outer column       inner column   inner row  outer column       For the button right and inside     Search       inner column   inner row  outer column   outer row       City Government (/2013/City-Government)      Departments (/2014/Departments)      Business (/2016/Business)      Community (/2015/Community)       Banner            Content container       Home (/) Departments (/2014/Departments) Community Development (/101/Community-Development) Planning Division (/2098/Planning-Division) Cherry Blossom Row Project     A (#)  A (#)             Cherry Blossom Row Project             inner column   inner row  outer column   outer row        Project Description City Ventures, the applicant, is proposing to develop a 4.74-acre site located in the Southwest Annex neighborhood in the southern end of the City of Richmond with a landscaped residential community of 100 townhome-style condominiums. At least 10 percent of the proposed new housing units would be affordable to moderate-income households. The project site is comprised of three parcels: two contiguous parcels located west of Napa Street and a separate parcel located east of Napa Street. There is existing residential development on the west side of Napa Street. This development would remain and is not part of the proposed project. The three-story townhome-style condominiums with traditional architecture would be developed in 15 buildings ranging from triplexes to eight-plexes, separated by landscaped paseos and common open space. Five floor plans would be offered. The development will also contain amenities, including a community garden, landscaping, pathways, and small open space areas throughout the site to serve the Project residents. The project would require approval of a Vesting Tentative Map, Design Review, Conditional Use Permit and Concession and waiver under State Density Bonus Law. Project Plans Project Plans (/DocumentCenter/View/58238/Cherry-Blossom-Row-Digital-Submittal) Planning Commission Meeting - Via Teleconference - November 18, 2021, 6:30 PM Public hearing to consider the approval of a Vesting Tentative Map, Design Review, Conditional Use Permit for a community garden, and Concession and Waiver under State Density Bonus Law to construct a 100-unit townhome residential subdivision and related improvements on three vacant parcels totaling 4.7 acres. Staff Report (/DocumentCenter/View/59372/PC_1_PLN20-331_Cherry-Blossom-Row-Townhomes_11-18-2021) Design Review Board Meeting - Via Teleconference - July 28, 2021, 6:00 PM Public Hearing to consider a recommendation to the Planning Commission for a Design Review permit for Cherry Blossom Row Project. Staff Report (/DocumentCenter/View/58517/3_PLN20-331-2301-COLUMBIA-AVE_DRB_20200728---JUL28) Design Review Board Meeting - Via Teleconference - July 14, 2021, 6:00 PM Public Hearing to consider a recommendation to the Planning Commission for a Design Review permit. Staff Report (/DocumentCenter/View/58386/Item-2-PLN20-331-Report-Combined) For questions or comments please contact: Roberta Feliciano Senior Planner City of Richmond, Planning 450 Civic Center Plaza Richmond, CA 94804 (510) 620-6662 roberta_feliciano@ci.richmond.ca.us     inner column   inner row  outer column   outer row                   Accessory Dwelling Units (ADUs) (/4336/Accessory-Dwelling-Units-ADUs)      Architectural Heritage Guidelines (http://www.ci.richmond.ca.us/DocumentCenter/View/3525)      Boards & Commissions (/2861/Boards-Commissions)       Design Review Board      Historic Preservation Commission       Historic Preservation Awards        Planning Commission        Cannabis Business Information (/3603/Cannabis-Business-Information)      City Fact Sheet (/DocumentView.aspx?DID=8348)      Fees/Forms/Checklists (/2102/FeesFormsChecklists)      Form Based Code (http://www.ci.richmond.ca.us/2965/RLC-FBC)      General Plan 2030 (/2608/General-Plan-2030)      Hilltop Horizon Specific Plan (https://hilltophorizon.com/)      Historical Point Molate Project Information (http://www.ci.richmond.ca.us/270/Point-Molate)      Mapping Services (/3344/Mapping-Services)      Printable Maps (/290)      Project Information (/2860/Project-Information)       Additional Projects      Environmental Documents      General Plan Updates       About - Información acerca del Plan General      Frequently Asked Questions (FAQs) - Preguntas frecuentes      Participate - Participe      Library        Housing Element Update      Housing Policy      Major Projects      Notable Projects      Other Projects      Projects Information      Richmond Resilience Roadmap      Residential Activity Report        Regulatory Documents (/2867/Regulatory-Documents)       Bicycle Master Plan      Pedestrian Plan      Richmond Bay Specific Plan (RBSP)      Urban Greening Plan      Other Plans, Codes & Guidelines        Staff Directory (/2399/Staff-Directory)      Zoning Ordinance (/3379/Zoning-Ordinance)      Senate Bill 9 (SB 9) (/4188/Senate-Bill-9-SB-9)      Brickyard Cove Residential Project (/4349/Brickyard-Cove-Residential-Project)      Raven SR Bioenergy Project (/4365/Raven-SR-Bioenergy-Project)      Travel Safe Richmond (/4486/Travel-Safe-Richmond)           GBs                    (/151)  Agenda Docs   (/151)         (/965/Weekly-Announcements)  Weekly Report   (/965/Weekly-Announcements)         (/4340/KCRT-Media)  KCRT   (/4340/KCRT-Media)            inner column   inner row  outer column                 (/4518/Youth)  Youth   (/4518/Youth)         (/4540/55670/Visit-Richmond)  Visit Richmond   (/4540/55670/Visit-Richmond)         (https://www.transparentrichmond.org/)  City Data   (https://www.transparentrichmond.org/)            inner column   inner row  outer column   outer row    Calendar/Carousel <div data-cpRole=\"structuralContainer\" id=\"homeContainer1\"> <div class=\"siteWrap\"> <div data-cpRole=\"contentContainer\" id=\"homeContent1a\"></div> </div> </div> Footer                              inner column   inner row  outer column       inner column   inner row  outer column         Contact Us         RICHMOND CITY HALL 450 Civic Center Plaza Richmond, CA 94804 Phone Directory (http://www.ci.richmond.ca.us/Directory.aspx)  Directions (http://maps.google.com/maps?q=450+Civic+Center+Plaza,+Richmond+CA&oe=utf-8&rls=org.mozilla:en-US:official&client=firefox-a&um=1&ie=UTF-8&hq=&hnear=450+Civic+Center+Plaza,+Richmond,+CA+94804&gl=us&daddr=450%20Civic%20Center%20Plaza,%20Richmond,%20CA%2094804&ei=uxt0S8_-KoLUNYPuockK&sa=X&oi=geocode_result&ct=directions-to&resnum=1&ved=0CAoQwwUwAA)            inner column   inner row  outer column       inner column   inner row  outer column       Sign Up For E-News          inner column   inner row              (/facebook)     (https://twitter.com/cityofrichmond)     (/instagram)     (https://www.ci.richmond.ca.us/rss.aspx)          inner column   inner row  outer column       inner column   inner row  outer column         Site Links (/QuickLinks.aspx?CID=2,52,5)         Bay Area Legal Aid (http://www.baylegal.org/)     Contra Costa County Courts (http://www.cc-courts.org/)     California Courts (http://www.courts.ca.gov/)     Contra Costa County Bar Association (http://www.cccba.org/community/)     State Bar of California (http://www.calbar.ca.gov/state/calbar/calbar_home.jsp)     City Council Agenda Documents (http://www.ci.richmond.ca.us/index.aspx?NID=151)           /QuickLinks.aspx      inner column   inner row  outer column   outer row    Powered By                Government Websites by CivicPlus® (https://connect.civicplus.com/referral)       inner column   inner row  outer column   outer row           Loading          Content from the Froala Editor will go here. Loading    Do Not Show Again  Close      Select Language Afrikaans Albanian Amharic Arabic Armenian Assamese Aymara Azerbaijani Bambara Basque Belarusian Bengali Bhojpuri Bosnian Bulgarian Catalan Cebuano Chichewa Chinese (Simplified) Chinese (Traditional) Corsican Croatian Czech Danish Dhivehi Dogri Dutch Esperanto Estonian Ewe Filipino Finnish French Frisian Galician Georgian German Greek Guarani Gujarati Haitian Creole Hausa Hawaiian Hebrew Hindi Hmong Hungarian Icelandic Igbo Ilocano Indonesian Irish Italian Japanese Javanese Kannada Kazakh Khmer Kinyarwanda Konkani Korean Krio Kurdish (Kurmanji) Kurdish (Sorani) Kyrgyz Lao Latin Latvian Lingala Lithuanian Luganda Luxembourgish Macedonian Maithili Malagasy Malay Malayalam Maltese Maori Marathi Meiteilon (Manipuri) Mizo Mongolian Myanmar (Burmese) Nepali Norwegian Odia (Oriya) Oromo Pashto Persian Polish Portuguese Punjabi Quechua Romanian Russian Samoan Sanskrit Scots Gaelic Sepedi Serbian Sesotho Shona Sindhi Sinhala Slovak Slovenian Somali Spanish Sundanese Swahili Swedish Tajik Tamil Tatar Telugu Thai Tigrinya Tsonga Turkish Turkmen Twi Ukrainian Urdu Uyghur Uzbek Vietnamese Welsh Xhosa Yiddish Yoruba Zulu Powered by Translate (https://translate.google.com)     Arrow Left     Arrow Right        Slideshow Left Arrow       Slideshow Right Arrow                Original text Rate this translation Your feedback will be used to help improve Google Translate Loading  Skip to Main Content (#ccf5602c1c-2e20-4773-89f3-08f921ac655f)     [if lte IE 7]><link rel=\"stylesheet\" type=\"text/css\" href=\"/App_Themes/CP/ie7.css\"><![endif]  Allow Dashboard, Favorites Enabled      Header Container                      (/facebook)     (https://twitter.com/cityofrichmond)     (https://www.ci.richmond.ca.us/rss.aspx)          inner column   inner row  outer column       inner column   inner row  outer column       For the button right and inside     Search       inner column   inner row  outer column   outer row       City Government (/2013/City-Government)      Departments (/2014/Departments)      Business (/2016/Business)      Community (/2015/Community)       Banner            Content container       Home (/) Departments (/2014/Departments) Community Development (/101/Community-Development) Planning Division (/2098/Planning-Division) Nevin Plaza Project     A (#)  A (#)             Nevin Plaza Project         Project Location 2400 Nevin Avenue, Richmond, CA 94804   Project Description The subject property is currently occupied by the 7-story Nevin Plaza building that provides multifamily residential uses and offices for the Richmond Housing Authority. The proposed project would reconfigure the existing building and construct a new building to provide two distinct housing types to serve seniors and persons with disabilities including:  1. Comprehensive renovation of the existing 7-story structure to provide 138 residences on floors 2 to 7 with all systems including mechanical, electrical and plumbing upgraded as needed; and 2. Construction of a 5-story structure providing 70-units in 4 stories above a concrete podium with one-level of on-site parking.  Project Related Documents    Notice of Findings of No Significant Impact and Notice of Intent to Request Release of Funds (http://www.ci.richmond.ca.us/DocumentCenter/View/55471/P-904-Nevin-FONSI_9-14-2020)  Environmental Assessment Determinations and Compliance Findings for HUD-assisted Projects (/DocumentCenter/View/55470/20-283358-Nevin-Plaza-Part-58-EA-200914)  Environmental Assessment Exhibits (/DocumentCenter/View/55469/ERR-Exhibits)   Project Contact Lina Velasco, Community Development Director lina_velasco@ci.richmond.ca.us (510) 620-6706        inner column   inner row  outer column   outer row                   Accessory Dwelling Units (ADUs) (/4336/Accessory-Dwelling-Units-ADUs)      Architectural Heritage Guidelines (http://www.ci.richmond.ca.us/DocumentCenter/View/3525)      Boards & Commissions (/2861/Boards-Commissions)       Design Review Board      Historic Preservation Commission       Historic Preservation Awards        Planning Commission        Cannabis Business Information (/3603/Cannabis-Business-Information)      City Fact Sheet (/DocumentView.aspx?DID=8348)      Fees/Forms/Checklists (/2102/FeesFormsChecklists)      Form Based Code (http://www.ci.richmond.ca.us/2965/RLC-FBC)      General Plan 2030 (/2608/General-Plan-2030)      Hilltop Horizon Specific Plan (https://hilltophorizon.com/)      Historical Point Molate Project Information (http://www.ci.richmond.ca.us/270/Point-Molate)      Mapping Services (/3344/Mapping-Services)      Printable Maps (/290)      Project Information (/2860/Project-Information)       Additional Projects      Environmental Documents      General Plan Updates       About - Información acerca del Plan General      Frequently Asked Questions (FAQs) - Preguntas frecuentes      Participate - Participe      Library        Housing Element Update      Housing Policy      Major Projects      Notable Projects      Other Projects      Projects Information      Richmond Resilience Roadmap      Residential Activity Report        Regulatory Documents (/2867/Regulatory-Documents)       Bicycle Master Plan      Pedestrian Plan      Richmond Bay Specific Plan (RBSP)      Urban Greening Plan      Other Plans, Codes & Guidelines        Staff Directory (/2399/Staff-Directory)      Zoning Ordinance (/3379/Zoning-Ordinance)      Senate Bill 9 (SB 9) (/4188/Senate-Bill-9-SB-9)      Brickyard Cove Residential Project (/4349/Brickyard-Cove-Residential-Project)      Raven SR Bioenergy Project (/4365/Raven-SR-Bioenergy-Project)      Travel Safe Richmond (/4486/Travel-Safe-Richmond)           GBs                    (/151)  Agenda Docs   (/151)         (/965/Weekly-Announcements)  Weekly Report   (/965/Weekly-Announcements)         (/4340/KCRT-Media)  KCRT   (/4340/KCRT-Media)            inner column   inner row  outer column                 (/4518/Youth)  Youth   (/4518/Youth)         (/4540/55670/Visit-Richmond)  Visit Richmond   (/4540/55670/Visit-Richmond)         (https://www.transparentrichmond.org/)  City Data   (https://www.transparentrichmond.org/)            inner column   inner row  outer column   outer row    Calendar/Carousel <div data-cpRole=\"structuralContainer\" id=\"homeContainer1\"> <div class=\"siteWrap\"> <div data-cpRole=\"contentContainer\" id=\"homeContent1a\"></div> </div> </div> Footer                              inner column   inner row  outer column       inner column   inner row  outer column         Contact Us         RICHMOND CITY HALL 450 Civic Center Plaza Richmond, CA 94804 Phone Directory (http://www.ci.richmond.ca.us/Directory.aspx)  Directions (http://maps.google.com/maps?q=450+Civic+Center+Plaza,+Richmond+CA&oe=utf-8&rls=org.mozilla:en-US:official&client=firefox-a&um=1&ie=UTF-8&hq=&hnear=450+Civic+Center+Plaza,+Richmond,+CA+94804&gl=us&daddr=450%20Civic%20Center%20Plaza,%20Richmond,%20CA%2094804&ei=uxt0S8_-KoLUNYPuockK&sa=X&oi=geocode_result&ct=directions-to&resnum=1&ved=0CAoQwwUwAA)            inner column   inner row  outer column       inner column   inner row  outer column       Sign Up For E-News          inner column   inner row              (/facebook)     (https://twitter.com/cityofrichmond)     (/instagram)     (https://www.ci.richmond.ca.us/rss.aspx)          inner column   inner row  outer column       inner column   inner row  outer column         Site Links (/QuickLinks.aspx?CID=2,52,5)         Bay Area Legal Aid (http://www.baylegal.org/)     Contra Costa County Courts (http://www.cc-courts.org/)     California Courts (http://www.courts.ca.gov/)     Contra Costa County Bar Association (http://www.cccba.org/community/)     State Bar of California (http://www.calbar.ca.gov/state/calbar/calbar_home.jsp)     City Council Agenda Documents (http://www.ci.richmond.ca.us/index.aspx?NID=151)           /QuickLinks.aspx      inner column   inner row  outer column   outer row    Powered By                Government Websites by CivicPlus® (https://connect.civicplus.com/referral)       inner column   inner row  outer column   outer row           Loading          Content from the Froala Editor will go here. Loading    Do Not Show Again  Close      Select Language Afrikaans Albanian Amharic Arabic Armenian Assamese Aymara Azerbaijani Bambara Basque Belarusian Bengali Bhojpuri Bosnian Bulgarian Catalan Cebuano Chichewa Chinese (Simplified) Chinese (Traditional) Corsican Croatian Czech Danish Dhivehi Dogri Dutch Esperanto Estonian Ewe Filipino Finnish French Frisian Galician Georgian German Greek Guarani Gujarati Haitian Creole Hausa Hawaiian Hebrew Hindi Hmong Hungarian Icelandic Igbo Ilocano Indonesian Irish Italian Japanese Javanese Kannada Kazakh Khmer Kinyarwanda Konkani Korean Krio Kurdish (Kurmanji) Kurdish (Sorani) Kyrgyz Lao Latin Latvian Lingala Lithuanian Luganda Luxembourgish Macedonian Maithili Malagasy Malay Malayalam Maltese Maori Marathi Meiteilon (Manipuri) Mizo Mongolian Myanmar (Burmese) Nepali Norwegian Odia (Oriya) Oromo Pashto Persian Polish Portuguese Punjabi Quechua Romanian Russian Samoan Sanskrit Scots Gaelic Sepedi Serbian Sesotho Shona Sindhi Sinhala Slovak Slovenian Somali Spanish Sundanese Swahili Swedish Tajik Tamil Tatar Telugu Thai Tigrinya Tsonga Turkish Turkmen Twi Ukrainian Urdu Uyghur Uzbek Vietnamese Welsh Xhosa Yiddish Yoruba Zulu Powered by Translate (https://translate.google.com)     Arrow Left     Arrow Right        Slideshow Left Arrow       Slideshow Right Arrow                Original text Rate this translation Your feedback will be used to help improve Google Translate Loading  Skip to Main Content (#ccf5602c1c-2e20-4773-89f3-08f921ac655f)     [if lte IE 7]><link rel=\"stylesheet\" type=\"text/css\" href=\"/App_Themes/CP/ie7.css\"><![endif]  Allow Dashboard, Favorites Enabled      Header Container                      (/facebook)     (https://twitter.com/cityofrichmond)     (https://www.ci.richmond.ca.us/rss.aspx)          inner column   inner row  outer column       inner column   inner row  outer column       For the button right and inside     Search       inner column   inner row  outer column   outer row       City Government (/2013/City-Government)      Departments (/2014/Departments)      Business (/2016/Business)      Community (/2015/Community)       Banner            Content container       Home (/) Departments (/2014/Departments) Community Development (/101/Community-Development) Planning Division (/2098/Planning-Division) PowerPlant Park Project     A (#)  A (#)             PowerPlant Park Project             inner column   inner row  outer column          Project Contact Lina Velasco, Planning Manager Lina_Velasco@ci.richmond.ca.us  (510) 620-6841     inner column   inner row  outer column   outer row        Project Description PowerPlant Inc. proposes to develop a cannabis production facility that would include 45 greenhouses, a nursery, and a processing center. Support facilities would include an office/meeting center, a restaurant, a covered eating area, and guardhouse. The proposed project would improve an existing segment of the San Francisco Bay Trail along the project frontage. The project requires approval of a Use Permit. The project site is not listed as a hazardous waste site pursuant to Government Code Section 65962.5.   Planning Commission Public Hearing - April 18, 2019, 6:30 PM, 440 Civic Center Plaza, Council Chambers, 1st Floor Public Hearing to consider adoption of an Initial Study/Mitigated Negative Declaration (IS/MND), Mitigation Monitoring and Reporting Program (MMRP), and a conditional use permit for a proposed cannabis production facility.    Public Hearing (/DocumentCenter/View/49381/PowerPlant-Notice-of-Intent-4-18-2019)  PowerPlant Park Project Responses to Comments (/DocumentCenter/View/49377/PowerPlan-Final-Initial-Study-MND-3-29-2019)  PowerPlant Park Project Mitigation Monitoring & Reporting Program (/DocumentCenter/View/49378/PowerPlant-Park-Project-MMRP-3-29-2019)  PowerPlant Park Project Draft Initial Study/MND (/DocumentCenter/View/48101/Richmond---PowerPlant-Ag-Dev-Program-ISMND)   Review and Comment Period: Comments on the MND, sent in writing, must be received by 5 :00 p.m. on Friday, January 18, 2019 , at the following address or email:   Lina Velasco City of Richmond Planning Division 450 Civic Center Plaza P.O. Box 4046 Richmond, CA 94804 Lina_Velasco@ci.richmond.ca.us   Report Availability: A copy of the MND is available at this site. Copies are also available for review at the following locations: Richmond Public Library - Main Branch 325 Civic Center Plaza, Richmond, CA 94804 and City of Richmond, Planning and Building Services Department, City Hall, 450 Civic Center Plaza, Richmond, CA, 94804.  The City of Richmond intends to adopt a Mitigated Negative Declaration (MND) for the following described project in accordance with the California Environmental Quality Act (CEQA) of 1970, as amended, and the City of Richmond’s Guidelines and Procedures for Implementation of CEQA.    Notice of Intent (/DocumentCenter/View/48094/PowerPlant-Notice-of-Intent)   PowerPlant Park Project Draft Initial Study/MND (/DocumentCenter/View/48101/Richmond---PowerPlant-Ag-Dev-Program-ISMND)  Appendix A - Air Quality and GHG Supporting Information (/DocumentCenter/View/48102/App-A---AQ-GHG-Supporting-Info-ASMBLD)  Appendix B: Biological Resources Supporting Information (/DocumentCenter/View/48098/App-B---Bio-Resources-ASMBLD)  Appendix C: Cultural Resources Supporting Information (/DocumentCenter/View/48106/App-C---Cultural-Resources-Supporting-Info-ASMBLD)  Appendix D: Noise Supporting Information (/DocumentCenter/View/48099/App-D---Noise-Supporting-Info-ASMBLD)  Appendix E: Traffic Impact Study (/DocumentCenter/View/48100/App-E---TIS-ASMBLD)      inner column   inner row  outer column   outer row                   Accessory Dwelling Units (ADUs) (/4336/Accessory-Dwelling-Units-ADUs)      Architectural Heritage Guidelines (http://www.ci.richmond.ca.us/DocumentCenter/View/3525)      Boards & Commissions (/2861/Boards-Commissions)       Design Review Board      Historic Preservation Commission       Historic Preservation Awards        Planning Commission        Cannabis Business Information (/3603/Cannabis-Business-Information)      City Fact Sheet (/DocumentView.aspx?DID=8348)      Fees/Forms/Checklists (/2102/FeesFormsChecklists)      Form Based Code (http://www.ci.richmond.ca.us/2965/RLC-FBC)      General Plan 2030 (/2608/General-Plan-2030)      Hilltop Horizon Specific Plan (https://hilltophorizon.com/)      Historical Point Molate Project Information (http://www.ci.richmond.ca.us/270/Point-Molate)      Mapping Services (/3344/Mapping-Services)      Printable Maps (/290)      Project Information (/2860/Project-Information)       Additional Projects      Environmental Documents      General Plan Updates       About - Información acerca del Plan General      Frequently Asked Questions (FAQs) - Preguntas frecuentes      Participate - Participe      Library        Housing Element Update      Housing Policy      Major Projects      Notable Projects      Other Projects      Projects Information      Richmond Resilience Roadmap      Residential Activity Report        Regulatory Documents (/2867/Regulatory-Documents)       Bicycle Master Plan      Pedestrian Plan      Richmond Bay Specific Plan (RBSP)      Urban Greening Plan      Other Plans, Codes & Guidelines        Staff Directory (/2399/Staff-Directory)      Zoning Ordinance (/3379/Zoning-Ordinance)      Senate Bill 9 (SB 9) (/4188/Senate-Bill-9-SB-9)      Brickyard Cove Residential Project (/4349/Brickyard-Cove-Residential-Project)      Raven SR Bioenergy Project (/4365/Raven-SR-Bioenergy-Project)      Travel Safe Richmond (/4486/Travel-Safe-Richmond)           GBs                    (/151)  Agenda Docs   (/151)         (/965/Weekly-Announcements)  Weekly Report   (/965/Weekly-Announcements)         (/4340/KCRT-Media)  KCRT   (/4340/KCRT-Media)            inner column   inner row  outer column                 (/4518/Youth)  Youth   (/4518/Youth)         (/4540/55670/Visit-Richmond)  Visit Richmond   (/4540/55670/Visit-Richmond)         (https://www.transparentrichmond.org/)  City Data   (https://www.transparentrichmond.org/)            inner column   inner row  outer column   outer row    Calendar/Carousel <div data-cpRole=\"structuralContainer\" id=\"homeContainer1\"> <div class=\"siteWrap\"> <div data-cpRole=\"contentContainer\" id=\"homeContent1a\"></div> </div> </div> Footer                              inner column   inner row  outer column       inner column   inner row  outer column         Contact Us         RICHMOND CITY HALL 450 Civic Center Plaza Richmond, CA 94804 Phone Directory (http://www.ci.richmond.ca.us/Directory.aspx)  Directions (http://maps.google.com/maps?q=450+Civic+Center+Plaza,+Richmond+CA&oe=utf-8&rls=org.mozilla:en-US:official&client=firefox-a&um=1&ie=UTF-8&hq=&hnear=450+Civic+Center+Plaza,+Richmond,+CA+94804&gl=us&daddr=450%20Civic%20Center%20Plaza,%20Richmond,%20CA%2094804&ei=uxt0S8_-KoLUNYPuockK&sa=X&oi=geocode_result&ct=directions-to&resnum=1&ved=0CAoQwwUwAA)            inner column   inner row  outer column       inner column   inner row  outer column       Sign Up For E-News          inner column   inner row              (/facebook)     (https://twitter.com/cityofrichmond)     (/instagram)     (https://www.ci.richmond.ca.us/rss.aspx)          inner column   inner row  outer column       inner column   inner row  outer column         Site Links (/QuickLinks.aspx?CID=2,52,5)         Bay Area Legal Aid (http://www.baylegal.org/)     Contra Costa County Courts (http://www.cc-courts.org/)     California Courts (http://www.courts.ca.gov/)     Contra Costa County Bar Association (http://www.cccba.org/community/)     State Bar of California (http://www.calbar.ca.gov/state/calbar/calbar_home.jsp)     City Council Agenda Documents (http://www.ci.richmond.ca.us/index.aspx?NID=151)           /QuickLinks.aspx      inner column   inner row  outer column   outer row    Powered By                Government Websites by CivicPlus® (https://connect.civicplus.com/referral)       inner column   inner row  outer column   outer row           Loading          Content from the Froala Editor will go here. Loading    Do Not Show Again  Close      Powered by Translate (https://translate.google.com)     Arrow Left     Arrow Right        Slideshow Left Arrow       Slideshow Right Arrow                Original text Rate this translation Your feedback will be used to help improve Google Translate Loading  Skip to Main Content (#ccf5602c1c-2e20-4773-89f3-08f921ac655f)     [if lte IE 7]><link rel=\"stylesheet\" type=\"text/css\" href=\"/App_Themes/CP/ie7.css\"><![endif]  Allow Dashboard, Favorites Enabled      Header Container                      (/facebook)     (https://twitter.com/cityofrichmond)     (https://www.ci.richmond.ca.us/rss.aspx)          inner column   inner row  outer column       inner column   inner row  outer column       For the button right and inside     Search       inner column   inner row  outer column   outer row       City Government (/2013/City-Government)      Departments (/2014/Departments)      Business (/2016/Business)      Community (/2015/Community)       Banner            Content container       Home (/) Departments (/2014/Departments) Community Development (/101/Community-Development) Planning Division (/2098/Planning-Division) Quarry Residential Project     A (#)  A (#)             Quarry Residential Project             inner column   inner row  outer column         Project Contact Lina Velasco, Planning Manager Lina_Velasco@ci.richmond.ca.us (510) 620-6841    inner column   inner row  outer column   outer row        Project Description The proposed Project includes the development of a residential neighborhood that would consist of up to 200 condominiums (1-bedroom, 2-bedrooms and 3- bedrooms) in three-story buildings (some with four-story elements), approximately 300 parking spaces, and associated common areas and amenities. The Project would develop approximately 5.5 acres of the site and preserve the remaining 12.9 acres (approximately 70 percent of the site) of the 18.4 acres site as open space.  The buildings will have a height of 40-50 feet above the finished floor elevation of ground level units. Landscaping, pathways, and small open space areas would be installed throughout the site. Other planned neighborhood amenities include a recreation center, fitness center, and swimming pool. The Project also includes internal roads and infrastructure improvements. The Project may also include improvements to the existing right-of-way, including the addition of landscaping and lighting, and improvements to the San Francisco Bay Trail.  The Project includes a proposed General Plan amendment to change the land use designation of the site from Parks and Recreation to Medium Density Residential. The Project also includes a proposed change in the site’s zoning designation from Parks and Recreation (PR) to Planned Area District (PA), including exceeding the maximum building height limit of 35 feet for the Medium Density Residential General Plan designation.   Project Location The Project site is located at 1135 Canal Boulevard, south and east of the intersection of Canal Boulevard and Seacliff Drive in the neighborhood of Point Richmond, in the City of Richmond, Contra Costa County (see Figure 1 in this NOP). The Project site is bounded by Miller-Knox Regional Shoreline park (which is managed by the East Bay Regional Park District [EBRPD]) to the north, Seacliff Drive and the residential community of Seacliff to the east, vacant property and Seacliff Drive to the south, and Miller-Knox Regional Shoreline park and the community of Seacliff to the west.   Design Review Board Public Hearing - March 23, 2022, 6:00 PM  (This meeting will utilize telephone and web conference only) Public Hearing to consider a recommendation to the Planning Commission on The Quarry Residential Project Redesign.   Notice of Public Hearing (/DocumentCenter/View/60216/PNG_NOTICE_PH_DRB)  Staff Report (/DocumentCenter/View/60548/4_PLN21-327-1135-CANAL-BLVD_DRB20220309---MAR09)  Quarry Residential Project Site Plan (/DocumentCenter/View/60217/Quarry-Residential-Project-January-2022)   Planning Commission Public Hearing - February 1, 2018, 6:30 PM, 440 Civic Center Plaza, Council Chambers, 1st Floor Public Hearing to consider a recommendation to the City Council on The Quarry Residential Project.   Notice of Public Hearing (/DocumentCenter/View/45525)  Quarry Residential Project (/DocumentCenter/View/45576) (Response to Comments/Final Environmental Impact Report)   Design Review Board Public Hearing - December 13, 2017, 6:00 PM, 440 Civic Center Plaza, Council Chambers, 1st Floor Public Hearing to consider a Design Review permit and planned area plan which is part of the planned area rezoning for the proposed Quarry Residential Project.   Notice of Public Hearing (/DocumentCenter/View/45274)  Staff Report (/DocumentCenter/View/45293)  Site Plan Alternative (/DocumentCenter/View/45324)   Draft Environmental Impact Report Available A Draft Environmental Impact Report (DEIR) has been completed, which assesses the potential environmental impacts associated with the Project. The DEIR is available for review for review and comment.   Notice of Availability (https://ca-richmond3.civicplus.com/DocumentCenter/View/44255)  Draft Environmental Impact Report (DEIR) (https://ca-richmond3.civicplus.com/DocumentCenter/View/44257)  DEIR Appendices (https://ca-richmond3.civicplus.com/DocumentCenter/View/44256)  Copies will also be available for review at the following locations:   Richmond Public Libraries: Main Branch 325 Civic Center Plaza, Richmond, CA 94804, and West Side Branch 135 Washington Avenue, Richmond, CA 94801 (Point Richmond); and City of Richmond Planning and Building Services Department , City Hall, 450 Civic Center Plaza, Richmond, CA, 94804. The Planning public counter is open Monday through Thursday from 8:30 a.m. to 4:00 p.m. and Friday from 8:30 a.m. to 12:30 p.m.  Pursuant to CEQA Guidelines Section 15105(a), a minimum forty-five-day (45) public review period is required and shall commence on the date of this notice (October 6, 2017). All written comments on this document must be submitted to the City of Richmond Planning Department within this 45-day review period, or by November 20, 2017, by 5:00 p.m. All written comments must be submitted to the City of Richmond Planning Division, 450 Civic Center Plaza, 2nd Floor, Richmond, CA 94804.  A public meeting to hear comments on the Draft EIR will be held at 6:30 p.m. on November 16, 2017 at the Planning Commission meeting held in the Council Chambers at 440 Civic Center Plaza in Richmond, 94804.  Please mail or email your written comments on the Draft EIR, no later than 5:00 p.m. on November 20, 2017, to:   Lina Velasco, Project Manager II City of Richmond Planning Division 450 Civic Center Plaza-2nd Floor Richmond, CA 94804 Lina_Velasco@ci.richmond.ca.us Please include in your written response the name and phone number of a contact person in your agency.  (/DocumentCenter/View/43999)  Subscribe for Updates Please sign up on \"Notify Me\" (http://www.ci.richmond.ca.us/list.aspx?ListID=369 ) if you are interested in receiving email updates for this project.       inner column   inner row  outer column   outer row                   Accessory Dwelling Units (ADUs) (/4336/Accessory-Dwelling-Units-ADUs)      Architectural Heritage Guidelines (http://www.ci.richmond.ca.us/DocumentCenter/View/3525)      Boards & Commissions (/2861/Boards-Commissions)       Design Review Board      Historic Preservation Commission       Historic Preservation Awards        Planning Commission        Cannabis Business Information (/3603/Cannabis-Business-Information)      City Fact Sheet (/DocumentView.aspx?DID=8348)      Fees/Forms/Checklists (/2102/FeesFormsChecklists)      Form Based Code (http://www.ci.richmond.ca.us/2965/RLC-FBC)      General Plan 2030 (/2608/General-Plan-2030)      Hilltop Horizon Specific Plan (https://hilltophorizon.com/)      Historical Point Molate Project Information (http://www.ci.richmond.ca.us/270/Point-Molate)      Mapping Services (/3344/Mapping-Services)      Printable Maps (/290)      Project Information (/2860/Project-Information)       Additional Projects      Environmental Documents      General Plan Updates       About - Información acerca del Plan General      Frequently Asked Questions (FAQs) - Preguntas frecuentes      Participate - Participe      Library        Housing Element Update      Housing Policy      Major Projects      Notable Projects      Other Projects      Projects Information      Richmond Resilience Roadmap      Residential Activity Report        Regulatory Documents (/2867/Regulatory-Documents)       Bicycle Master Plan      Pedestrian Plan      Richmond Bay Specific Plan (RBSP)      Urban Greening Plan      Other Plans, Codes & Guidelines        Staff Directory (/2399/Staff-Directory)      Zoning Ordinance (/3379/Zoning-Ordinance)      Senate Bill 9 (SB 9) (/4188/Senate-Bill-9-SB-9)      Brickyard Cove Residential Project (/4349/Brickyard-Cove-Residential-Project)      Raven SR Bioenergy Project (/4365/Raven-SR-Bioenergy-Project)      Travel Safe Richmond (/4486/Travel-Safe-Richmond)           GBs                    (/151)  Agenda Docs   (/151)         (/965/Weekly-Announcements)  Weekly Report   (/965/Weekly-Announcements)         (/4340/KCRT-Media)  KCRT   (/4340/KCRT-Media)            inner column   inner row  outer column                 (/4518/Youth)  Youth   (/4518/Youth)         (/4540/55670/Visit-Richmond)  Visit Richmond   (/4540/55670/Visit-Richmond)         (https://www.transparentrichmond.org/)  City Data   (https://www.transparentrichmond.org/)            inner column   inner row  outer column   outer row    Calendar/Carousel <div data-cpRole=\"structuralContainer\" id=\"homeContainer1\"> <div class=\"siteWrap\"> <div data-cpRole=\"contentContainer\" id=\"homeContent1a\"></div> </div> </div> Footer                              inner column   inner row  outer column       inner column   inner row  outer column         Contact Us         RICHMOND CITY HALL 450 Civic Center Plaza Richmond, CA 94804 Phone Directory (http://www.ci.richmond.ca.us/Directory.aspx)  Directions (http://maps.google.com/maps?q=450+Civic+Center+Plaza,+Richmond+CA&oe=utf-8&rls=org.mozilla:en-US:official&client=firefox-a&um=1&ie=UTF-8&hq=&hnear=450+Civic+Center+Plaza,+Richmond,+CA+94804&gl=us&daddr=450%20Civic%20Center%20Plaza,%20Richmond,%20CA%2094804&ei=uxt0S8_-KoLUNYPuockK&sa=X&oi=geocode_result&ct=directions-to&resnum=1&ved=0CAoQwwUwAA)            inner column   inner row  outer column       inner column   inner row  outer column       Sign Up For E-News          inner column   inner row              (/facebook)     (https://twitter.com/cityofrichmond)     (/instagram)     (https://www.ci.richmond.ca.us/rss.aspx)          inner column   inner row  outer column       inner column   inner row  outer column         Site Links (/QuickLinks.aspx?CID=2,52,5)         Bay Area Legal Aid (http://www.baylegal.org/)     Contra Costa County Courts (http://www.cc-courts.org/)     California Courts (http://www.courts.ca.gov/)     Contra Costa County Bar Association (http://www.cccba.org/community/)     State Bar of California (http://www.calbar.ca.gov/state/calbar/calbar_home.jsp)     City Council Agenda Documents (http://www.ci.richmond.ca.us/index.aspx?NID=151)           /QuickLinks.aspx      inner column   inner row  outer column   outer row    Powered By                Government Websites by CivicPlus® (https://connect.civicplus.com/referral)       inner column   inner row  outer column   outer row           Loading          Content from the Froala Editor will go here. Loading    Do Not Show Again  Close      Powered by Translate (https://translate.google.com)     Arrow Left     Arrow Right        Slideshow Left Arrow       Slideshow Right Arrow                Original text Rate this translation Your feedback will be used to help improve Google Translate Loading  Skip to Main Content (#ccf5602c1c-2e20-4773-89f3-08f921ac655f)     [if lte IE 7]><link rel=\"stylesheet\" type=\"text/css\" href=\"/App_Themes/CP/ie7.css\"><![endif]  Allow Dashboard, Favorites Enabled      Header Container                      (/facebook)     (https://twitter.com/cityofrichmond)     (https://www.ci.richmond.ca.us/rss.aspx)          inner column   inner row  outer column       inner column   inner row  outer column       For the button right and inside     Search       inner column   inner row  outer column   outer row       City Government (/2013/City-Government)      Departments (/2014/Departments)      Business (/2016/Business)      Community (/2015/Community)       Banner            Content container       Home (/) Departments (/2014/Departments) Community Development (/101/Community-Development) Planning Division (/2098/Planning-Division) Point Molate Mixed Use Project     A (#)  A (#)             Point Molate Mixed Use Project         Project Contact  Lina Velasco Director of Community Development  Lina_Velasco@ci.richmond.ca.us (mailto:Lina_Velasco@ci.richmond.ca.us)  Project Location   The Point Molate Site is located on the San Pablo Peninsula within the City, in Contra Costa County.  The Project Site is bounded by the San Francisco Bay to the west, open space parcels to the north and south, and the Chevron Richmond refinery to the east, with Potrero Ridge’s 480-foot hillsides separating these two sites.  Approximately 142 acres of the approximately 413-acre Project Site are submerged in the San Francisco Bay, leaving approximately 271 acres above water.  The Project Site is approximately 1.5 miles north of Interstate 580 (I-580) and the Richmond-San Rafael Bridge, and has direct freeway access through Stenmark Drive, a City-owned roadway.   Project Description   The Point Molate Mixed Use Project (Project) proposes a mixed-use community that would include the following components:  open space, adaptive re-use of the historic cottages, adaptive re-use of the historic Winehaven buildings, and residential development.   The Modified Project proposes a mixed-use community that would include the following components:   Approximately 1,260 newly constructed residential units.  Approximately 374,572 square feet of rehabilitated existing structures and 250,000 square feet of new construction for mixed-use development that could include restaurant, retail, commercial, and/or residential uses.  Approximately 10,000 square feet for an onsite joint fire and police substation and/or other community service uses.  At least 70 percent of the total above-water Project Site area (approximately 193.06 acres) would remain as open space, including recreational areas, parks, trails (including an approximately 1.5-mile portion of the San Francisco Bay Trail along the shoreline), vista overlooks, and other similar spaces that are open to the public.  A terminal on the existing pier that may be accessible to water transit options, such as ferries, water shuttles, and/or water taxis.  New roads to serve the development within the Project Site; additionally, widening Stenmark Drive from the Project Site to I-580 Ramps.  Utilities and infrastructure improvements that would be required to serve the new development.   Executed Agreements   Development Agreement (/DocumentCenter/View/57797/Point-Molate-Development-Agreement)  Disposition and Development Agreement (/DocumentCenter/View/57796/Point-Molate-Disposition-and-Development-Agreement)    Point Molate Fiscal Impact Analysis   Point Molate Fiscal and Economic Impact Analysis (/DocumentCenter/View/54455/192173-Report-06-17-2020)  Peer Review of Winehaven Prepared Fiscal Impact Analysis (/DocumentCenter/View/54456/BAE-Pt-Molate-FIA-Peer-Review---FINAL-062920)   City Council Meeting - Via Teleconference - Tuesday , September 8, 2020, 5:30 p.m. The City Council of the City of Richmond will conduct a hearing to consider certification of the Final Subsequent Environmental Impact Report.   Notice of Public Hearing (/DocumentCenter/View/55188/Notice-of-Public-Hearing---PLN20-057PointMolateMixedUseProject--Published-08-29-20)  Staff Report (/DocumentCenter/View/55309/Agenda-Report-Point-Molate_CC_September_8_2020)  Attachment 1 - (/DocumentCenter/View/55302/Attachment-1-Draft_City_Council_Resolution) Resolution certifying the Final SEIR and adopting a Mitigation Monitoring and Reporting Program (MMRP), CEQA Findings of Facts and Statement of Overriding Considerations; Approving a General Plan map and text amendments; approving Design Guidelines with a Historic Conservation Plan and Planned Area District Plan; approving a Conditional Use Permit for a Shoreline Park in –S Overlay Zone; approving a Vesting Tentative Tract Map; approving a Major Design Review for Design Guidelines ; and approving a Disposition and Development Agreement with Winehaven Legacy LLC   Exhibit A - Final Subsequent Environmental Impart Report, consisting of the Draft Subsequent Environmental Impact Report (/DocumentCenter/View/55226/Final_SEIR_February-2020_CC_090820) , Response to Comments (/DocumentCenter/View/55227/Responses-to-Comments_CC_090820) , and Errata to Final SEIR and MMRP (/DocumentCenter/View/55250/Final-SEIR_PC_Errata_090120)  Exhibit B (/DocumentCenter/View/55255/Attachment-1-Exhibit-B---CEQA-Findings-and-Statement-of-Overriding-Considerations) - CEQA Findings and Statement of Overriding Considerations  Exhibit C (/DocumentCenter/View/55256/Attachment-1-Exhibit-C---MMRP) - Mitigation Monitoring and Reporting Program  Exhibit D (/DocumentCenter/View/55257/Attachment-1-Exhibit-D---General-Plan-Amendments) - General Plan Amendment  Exhibit E (/DocumentCenter/View/55251/Attachment-1-Exhibit-E---Design-Guidelines-with-Master-PA-Plan-and-Historic-Conservation-Plan) - Design Guidelines with Master PA Plan, Historic Conservation Plan, and Other Sections  Exhibit F (/DocumentCenter/View/55258/Attachment-1-Exhibit-F---Vesting-Tentative-Tract-Map) - Vesting Tentative Tract Map  Exhibit G (/DocumentCenter/View/55311/Attachment-1---Exhibit-G---Disposition-and-Development-Agreement) - Disposition and Development Agreement  Exhibit H (/DocumentCenter/View/55301/Attachment-1-Exhibit-H---Draft-Conditions-of-Approval-CC) - Conditions of Approval  Exhibit I (/DocumentCenter/View/55300/Attachment-1-Exhibit-I---Technical-Memorandum-Regarding-Late-Comments) - Technical Memorandum regarding Late Comments on SEIR    Attachment 2 - Ordinance Rezoning (/DocumentCenter/View/55264/Attachment-2-Draft_Ordinance-Rezoning) the project site to PA, Planned Area District with-H, Historic District Overlay for the Winehaven Historic District   Exhibit A (/DocumentCenter/View/55253/Attachment-2-Exhibit-A---Zoning-Amendment) - Zoning Amendment  Exhibit B (/DocumentCenter/View/55262/Attachment-2-Exhibit-B---Point-Molate-Design-Guidelines) - Point Molate Design Guidelines    Attachment 3 - Ordinance approving a Development Agreement (/DocumentCenter/View/55265/Attachment-3-Draft_Ordinance_for_Development_Agreement)   Exhibit A (/DocumentCenter/View/55254/Attachment-3-Exhibit-A---Development-Agreement) - Development Agreement      Continued Item - Planning Commission Special Meeting - Via Teleconference - Thursday, August 20, 2020, 6:30 p.m.   Planning Commission Agenda (/DocumentCenter/View/55098/PC-Meeting-Agenda_8-20-2020)    Planning Commission Special Meeting - Via Teleconference - Monday, August 17, 2020, 6:30 p.m. Public Hearing to consider a recommendation to the City Council on the: Certification of the Final Subsequent Environmental Impact Report including adopting a Mitigation Monitoring and Reporting Program, CEQA Findings of Fact and a Statement of Overriding Considerations; General Plan text and map amendments; Rezoning the project site to Planned Area (PA) district with an –H, Historic district overlay over the Winehaven Historic District and a –S, Shoreline Overlay for the shoreline band area; a Development Agreement, a Large Lot Vesting Tentative Map; Conditional Use Permit and a major Design Review of the PA Plan and the Point Molate Design Guidelines for the proposed Point Molate Mixed-Use Development Project, which proposes a mix of residential and non-residential uses, including office space and retail, along with open space including recreational areas, parks, trails (including a 1.5 mile portion of the San Francisco Bay Trail), vista overlooks, and other similar spaces open to the public at 2100 Stenmark Drive (APN: 561-100-008). Existing Zoning: RM-1, Medium Density Multi-Family Residential; RH, Single Family Hillside Residential; PR, Parks and Recreation; CG, Commercial General; IL, Industrial Light; and OS, Open Space District. The project also includes infrastructure and roadway improvements needed to support the proposed development.   Notice of Public Hearing (/DocumentCenter/View/54738/PNG_NOTICE_PC_PH_081720)  Staff Report (/DocumentCenter/View/54891/PC_AGENDA_REPORT_081720)  Attachment 1 - Final Subsequent Environmental Impact Report (SEIR)  Response to Comments (RTC) (http://www.ci.richmond.ca.us/DocumentCenter/View/54596/_Point-Molate-Mixed-Use-Development-Project-RTC-Doc_July-2020)  RTC - Attachments 1-10 (http://www.ci.richmond.ca.us/DocumentCenter/View/54600/Respose-to-Comments---Appendices-Part-I)  RTC - Attachments 11-21 (http://www.ci.richmond.ca.us/DocumentCenter/View/54601/Respose-to-Comments---Appendices-Part-2)  Draft SEIR (http://www.ci.richmond.ca.us/DocumentCenter/View/52295/_Point-Molate-Mixed-Use-Development-Project-Draft-SEIR_February-2020)  Draft SEIR Appendices A-K (http://www.ci.richmond.ca.us/DocumentCenter/View/52309/Appendices--A---K-Compiled)  Draft SEIR Appendices L-U (http://www.ci.richmond.ca.us/DocumentCenter/View/52308/Appendices--L---U-Compiled)     Attachment 2 - Draft Resolution (/DocumentCenter/View/54892/Attachment-2---PC_Resolution_081720_DRAFT)   Exhibit A: CEQA Findings and Statement of Overriding Considerations (/DocumentCenter/View/54893/Exhibit-A---CEQA_Findings)   Exhibit B: Mitigation Monitoring and Reporting Program (/DocumentCenter/View/54894/Exhibit-B---Mitigation-Monitoring-and-Reporting-Program)   Exhibit C: General Plan Amendment (/DocumentCenter/View/54895/Exhibit-C---General-Plan-Amendments)   Exhibit D: Zoning Amendments (/DocumentCenter/View/54896/Exhibit-D---Zoning-Amendment)   Exhibit E: Design Guidelines with Master PA Plan, Historic Conservation Plan, and other sections (/DocumentCenter/View/54897/Exhibit-E---Design-Guidelines-with-PA-Plan-and-Historic-Conservation-Plan)   Exhibit F: Vesting Tentative Map (/DocumentCenter/View/54901/Exhibit-F---VTM_full-set_city-submittal_2020_08-12)   Exhibit G: Development Agreement (/DocumentCenter/View/54898/Exhibit-G---Point_Molate_Development_Agreement_08_13_20)   Exhibit H: Conditions of Approval (/DocumentCenter/View/54899/Exhibit-H---Draft-Conditions-of-Approval_081720_REDLINE)   Attachment 3 - Public Comments Part 1 (/DocumentCenter/View/54900/Public-Comments)  Attachment 3 - Public Comments Part 2 (/DocumentCenter/View/55018/Public-Comments---Part-2)  Attachment 3 - Public Comments Part 3 (/DocumentCenter/View/55112/Public-Comments---Part-3)     Planning Commission Meeting - Via Teleconference - Thursday, August 6, 2020, 6:30 p.m.    The staff will present the Final Subsequent Environmental Impact Report (SEIR), consisting of the Draft SEIR and Responses to Comments, for the Point Molate Mixed Use Development Project to the Planning Commission. While this meeting was earlier noticed as a public hearing to consider the Planning Commission’s recommendation on the Project; since the publication of the notice, the City has decided to provide the Planning Commission and the public an additional opportunity to learn about the analysis contained in the Final SEIR before the public hearing to consider a recommendation regarding certification of the SEIR and recommendation on the Project entitlements by the Planning Commission, which hearing will be held on August 17, 2020. This presentation is not a public hearing on the Project, Project Entitlements, or certification of the Final SEIR. No action will be taken by the Planning Commission at this meeting.   Notice of Public Hearing (/DocumentCenter/View/54581/PNG_NOTICE_PC_PH_080620)  Staff Report (/DocumentCenter/View/54648/PC_2_PLN20-057_Point-Molate-Mixed-Used-Development-Project_8-6-2020)  August 6, 2020 - Comments (/DocumentCenter/View/54757/Public-Comments---8-6-2020)   Final Subsequent Environmental Impact Report (SEIR)   Response to Comments (RTC) (http://www.ci.richmond.ca.us/DocumentCenter/View/54596/_Point-Molate-Mixed-Use-Development-Project-RTC-Doc_July-2020)  RTC - Attachments 1-10 (http://www.ci.richmond.ca.us/DocumentCenter/View/54600/Respose-to-Comments---Appendices-Part-I)  RTC - Attachments 11-21 (http://www.ci.richmond.ca.us/DocumentCenter/View/54601/Respose-to-Comments---Appendices-Part-2)  Draft SEIR (http://www.ci.richmond.ca.us/DocumentCenter/View/52295/_Point-Molate-Mixed-Use-Development-Project-Draft-SEIR_February-2020)  Draft SEIR Appendices A-K (http://www.ci.richmond.ca.us/DocumentCenter/View/52309/Appendices--A---K-Compiled)  Draft SEIR Appendices L-U (http://www.ci.richmond.ca.us/DocumentCenter/View/52308/Appendices--L---U-Compiled)    Design Review Board Meeting - Via Teleconference - Wednesday, July 22, 2020, 6:00 p.m. The Design Review Board will conduct a public hearing to consider a recommendation of a major design review of the planned area plan for the proposed planned area rezoning for the Point Molate Mixed-Use Development Project.   Notice of Public Hearing (/DocumentCenter/View/54412/DRB_PH_072220-Notice)  Staff Report and Attachments (/DocumentCenter/View/54535/5_PLN20-057-2100-STENMARK-AVE_DRB20200722---JUL22)  Responses to DRB Comments (/DocumentCenter/View/54560/PMResponsestoComments_20200721)  Supplemental Information Revised Illustrative Plan (/DocumentCenter/View/54559/19-018_PointMolate_DG_Supplemental_Information_20200721)  July 22, 2020 - Comments (/DocumentCenter/View/54568/COMMENTS_ITEM-NO-5_POINT-MOLATE)    Historic Preservation Commission Meeting - Via Teleconference - Tuesday, July 14, 2020, 5:30 p.m. The Historic Preservation Commission will conduct a public hearing to provide a recommendation to the City Council for the historic conservation plan for the portions of the Point Molate Mixed-Use Development Project.   Notice of Public Hearing (/DocumentCenter/View/54419/PNG_NOTICE_HPC_PH_071420)  Staff Report and Attachments (/DocumentCenter/View/54426/1_PLN20-057-2100-STENMARK-DRIVE_HPC20200714---JUL14)  Comments (/DocumentCenter/View/54507/HPC-COMMENTS-7-14-315PM)    Design Review Board Meeting - Via Teleconference - Wednesday, July 8, 2020, 6:00 p.m. The Design Review Board will conduct a public hearing to consider a recommendation of a major design review of the planned area plan for the the proposed planned area rezoning for the Point Molate Mixed-Use Development Project.   Notice of Public Hearing (/DocumentCenter/View/53997/PNG_NOTICE_DRB_PH_070820)  Staff Report and Attachments (/DocumentCenter/View/54177/1_PLN20-057-2100-STENMARK-DR_DRB07082020)  Comments (/DocumentCenter/View/54506/DRB-COMMENTS-7-08-2020)    Historic Preservation Commission Meeting - Via Teleconference - Thursday, June 25, 2020, 5:30 p.m. PUBLIC HEARING to consider input on the draft General Plan map and text amendments, and provide a recommendation on Rezoning the Winehaven Historic District from a -L, Landmark, Overlay, to an -H, Historic, Overlay and Historic Conservation Plan for the portions of the Point Molate Mixed-Use Development Project proposed within the Winehaven Historic District.   Notice of Public Hearing (/DocumentCenter/View/53687/PNG_NOTICE_HPC_PH_062520)  Staff Report (/DocumentCenter/View/53948/1_PLN20-057-2100-STENMARK-DR_HPC20200625---JUN25)  Attachment 1 - General Plan Amendments (/DocumentCenter/View/53926/Attachment-1--General-Plan-Amendments-)  Attachment 2 - Proposed Zoning Map (/DocumentCenter/View/53927/Attachment-2---Proposed-Zoning-Map)  Attachment 3 - Historic Conservation Plan (/DocumentCenter/View/53946/Attachment-3---Historic-Conservation-Plan-Section-40-of-Design-Guidelines) (Section 4.0 of Design Guidelines)   Chapter 4 - Design Guidelines Updated Diagrams (/DocumentCenter/View/53992/CHAPTER-4_Design-Guidelines_Updated-Diagrams)  Attachment 4 - Draft Winehaven Nomination (/DocumentCenter/View/53902/Attachment-4----Draft-Winehaven-NominationV61720)  Attachment 5 - Response to HPC Comments (/DocumentCenter/View/53900/Attachment-5---Response-to-HPC-Comments_revised_20200604)  Attachment 6 - Memo to HPC (/DocumentCenter/View/53901/Attachment-6---Memo-to-HPC)    Design Review Board Study Session Via Teleconference - Wednesday, June 10, 2020, 6:00 p.m. Study Session to receive and provide input on the proposed Point Molate Mixed-Use Development Project.   Study Session Notice (/DocumentCenter/View/53571/PNG_NOTICE_DRB_SS_061020)  Staff Report (/DocumentCenter/View/53639/PLN20-057-Study-Session-Report-061020)  Attachment 1 - General Plan Amendments (/DocumentCenter/View/53630/Attachment--1--General-Plan-Amendments)  Attachment 2 - Zoning Map (/DocumentCenter/View/53627/Attachment-2---Zoning-Map)  Attachment 3 - PM Planned Area (/DocumentCenter/View/53635/Attachment-3---PM-Planned-Area)  Attachment 4 - Vesting Tentative Map (/DocumentCenter/View/53628/Attachment-4---Vesting-Tentative-Map)  Attachment 5 - Draft Design Guidelines (/DocumentCenter/View/53629/Attachment-5---Draft-Design-Guidelines-dated-May-4-2020) , dated May 4, 2020  Attachment 6 - Response to DRB Comments (/DocumentCenter/View/53636/Attachment-6---Response-to-DRB-Comments-20200605)  Attachment 7 - Response to HPC Comments (/DocumentCenter/View/53637/Attachment-7---Response-to-HPC-Comments_revised_20200604)  Comments DRB Meeting (/DocumentCenter/View/53697/1-Combined-6-10-2020) , June 10, 2020    Design Review Board Study Session Via Teleconference - Wednesday, May 27, 2020, 6:00 p.m. - MEETING CANCELED Study Session to receive and provide input on the proposed Point Molate Mixed-Use Development Project.   Study Session Notice (/DocumentCenter/View/53076/PNG_NOTICE_DRB_SS_052720)    Design Review Board Study Session Via Teleconference - Wednesday, April 22, 2020, 6:00 p.m.  Study Session to receive and provide input on the proposed Point Molate Mixed-Use Development Project.   Study Session Notice (/DocumentCenter/View/52691/PLN20-057_NOTICE_DRB_SS_042220)  Staff Report (/DocumentCenter/View/54202/2_PLN20-057-2100-STENMARK-DR-_DRB2020022---APR-22)   Historic Preservation Commission Study Session Via Teleconference - Tuesday, April 14, 2020, 5:30 p.m. Study Session to receive and provide input on the proposed Point Molate Mixed-Use Development Project.   Study Session Notice (/DocumentCenter/View/52649/NOTICE_HPC_SS_04142020)  Staff Report (/DocumentCenter/View/52707/1_PLN20-057-2100-STENMARK-DR_HPC20200414---APR14)    SEIR Documents   Updated Notice of Availability (/DocumentCenter/View/52734/Updated_DSEIR_NOA_No2)  Updated Notice of Availability (/DocumentCenter/View/52478/Updated_DSEIR_NOA_and_cancelling_hearing_on_Point_Molate_200317) (Old see updated)  Notice of Availability (/DocumentCenter/View/52307/Point-Molate-Subsequent-DSEIR_NOA_200220) (Old see updated)  Draft Subsequent Environmental Impact Report (SEIR) (/DocumentCenter/View/52295/_Point-Molate-Mixed-Use-Development-Project-Draft-SEIR_February-2020)  Point Molate Video (http://richmond.granicus.com/MediaPlayer.php?publish_id=d92014a9-7055-11ea-99b9-0050569183fa)  Appendices A - K Compiled (/DocumentCenter/View/52309/Appendices--A---K-Compiled)  Appendices L - U Compiled (/DocumentCenter/View/52308/Appendices--L---U-Compiled)   SEIR Appendices (Separated)   Appendix A - Notice of Preparation (/DocumentCenter/View/52296/Appendix-A---Notice-of-Preparation)  Appendix B - Scoping Comments (/DocumentCenter/View/52297/Appendix-B---Scoping-Comments)  Appendix C - Preliminary Drainage Study (/DocumentCenter/View/52298/Appendix-C---Preliminary-Drainage-Study)  Appendix D - Transportation Impact Analysis (/DocumentCenter/View/52299/Appendix-D---Transportation-Impact-Analysis)  Appendix E - Preliminary Water and Wastewater Master Plan (/DocumentCenter/View/52300/Appendix-E---Preliminary-Water-and-Wastewater-Master-Plan)  Appendix F - Water Supply Assessment (/DocumentCenter/View/52301/Appendix-F---Water-Supply-Assessment)  Appendix G - Phase 1 Environmental Site Assessment (/DocumentCenter/View/52302/Appendix-G---Phase-1-Environmental-Site-Assessment)  Appendix H - Dry Utilities Technical Memorandum and Will Serve (/DocumentCenter/View/52303/Appendix-H---Dry-Utilities-Technical-Memorandum-and-Will-Serve)  Appendix I - Preliminary Grading Analysis (/DocumentCenter/View/52304/Appendix-I---Preliminary-Grading-Analysis)  Appendix J - Rehabilitation Analysis (1) (/DocumentCenter/View/52305/Appendix-J---Rehabilitation-Analysis-1)  Appendix K - Explanation of Mitigation and Improvement Measures (/DocumentCenter/View/52284/Appendix-K---Explanation-of-Mitigation-and-Improvement-Measures)  Appendix L - General Plan Consistency Table (/DocumentCenter/View/52285/Appendix-L---General-Plan-Consistency-Table)  Appendix M - Air Quality Tables (/DocumentCenter/View/52286/Appendix-M---Air-Quality-Tables)  Appendix N - Climate Action Plan Consistency Table (/DocumentCenter/View/52287/Appendix-N---Climate-Action-Plan-Consistency-Table)  Appendix O - Bay Plan Consistency Table (/DocumentCenter/View/52288/Appendix-O---Bay-Plan-Consistency-Table)  Appendix P - Biology Technical Studies (/DocumentCenter/View/52289/Appendix-P---Biology-Technical-Studies)  Appendix Q -Historical Resource Documents (/DocumentCenter/View/52290/Appendix-Q---Historical-Resource-Documents)  Appendix R - Geotechnical Feasibility Memorandum (/DocumentCenter/View/52291/Appendix-R---Geotechnical-Feasibility-Memorandum)  Appendix S -  City of Richmond Fire Hazard Reduction Vegetation Management Standards (/DocumentCenter/View/52292/Appendix-S---City-of-Richmond-Fire-Hazard-Reduction-Vegetation-Management-Standards)  Appendix T - Environmental Noise and Vibration Assessment (/DocumentCenter/View/52293/Appendix-T---Environmental-Noise-and-Vibration-Assessment)  Appendix U - Richmond Municipal Sewer District Wastewater Infrastructure Analysis (/DocumentCenter/View/52294/Appendix-U---Richmond-Municipal-Sewer-District-Wastewater-Infrastructure-Analysis)   Preparation of Subsequent Environmental Impact Report (SEIR) The City is the Lead Agency and will be preparing a Subsequent Environmental Impact Report (SEIR) for the project.  The City invites comments on the scope and content of the SEIR in response to the Notice of Preparation (/DocumentCenter/View/50454/Point-Molate-Subsequent-DEIR_NOP_190712_to-SCH)  (NOP).  The NOP will be circulated for a 30-day review period.  Comments on the scope of the SEIR should focus on the potentially significant environmental effects that the Modified Project may have on the physical environment that should be addressed in the SEIR, ways in which those effects might be minimized and potential alternatives to the Modified Project that should be addressed in the SEIR. Comments on the NOP must be received in writing at the above City of Richmond mailing address to the attention of Lina Velasco, Director of Planning and Building Services, or via e-mail to lina_velasco@ci.richmond.ca.us (mailto:lina_velasco@ci.richmond.ca.us) , by 4:00 p.m.  on August 12, 2019 .  In addition, comments may be provided at the Public Scoping Meeting noticed below.    Public Scoping Meeting   Monday, July 29, 2019, 6:00 p.m.   Council Chambers   440 Civic Center Plaza   Richmond, CA 94804   Point Molate Scoping Meeting Presentation (/DocumentCenter/View/50638/Scoping-Presentation_Final)  Public Scoping Meeting Transcript (/DocumentCenter/View/50900/Public-Scoping-Meeting) , July 29, 2019   2011 Point Molate Final Environmental Impact Report (EIR)   Volume I (/DocumentCenter/View/50669/Volume-1-Compiled)  Volume I - Appendices (/DocumentCenter/View/50924/_Combined-Point-Molate-EISEIR-Appendices)  Volume II (/DocumentCenter/View/50667/Volume-2-Compiled)  Volume III (/DocumentCenter/View/50668/Volume-3-Compiled)   Point Molate Exclusive Right to Negotiate (ERN) Agreements   Executed Agreement (/DocumentCenter/View/52822/ERN-Agreement-re-Point-Molate-mixed-use-development_522019)  First Amendment (/DocumentCenter/View/52823/Fully-Executed-First-Amendment_12182019)  Second Amendment (/DocumentCenter/View/52824/Fully-Executed-Second-Amendment_2282020)  Third Amendment (/DocumentCenter/View/53696/5312020-Third-Amendment-to-ERN)  Letter from Tribe/Upstream Regarding extension of the Deadline Applicable to Discretionary City Approvals (/DocumentCenter/View/53085/42120-Letter-to-City-re-Extension)      Subscribe for Updates Please sign up on \" Notify Me (https://www.ci.richmond.ca.us/list.aspx?ListID=380) \" if you are interested in receiving email updates for this project. Follow these instructions to subscribe:  1. Enter your email address and then select \"Sign In\" 2. Follow the on-screen instructions       inner column   inner row  outer column   outer row                   Accessory Dwelling Units (ADUs) (/4336/Accessory-Dwelling-Units-ADUs)      Architectural Heritage Guidelines (http://www.ci.richmond.ca.us/DocumentCenter/View/3525)      Boards & Commissions (/2861/Boards-Commissions)       Design Review Board      Historic Preservation Commission       Historic Preservation Awards        Planning Commission        Cannabis Business Information (/3603/Cannabis-Business-Information)      City Fact Sheet (/DocumentView.aspx?DID=8348)      Fees/Forms/Checklists (/2102/FeesFormsChecklists)      Form Based Code (http://www.ci.richmond.ca.us/2965/RLC-FBC)      General Plan 2030 (/2608/General-Plan-2030)      Hilltop Horizon Specific Plan (https://hilltophorizon.com/)      Historical Point Molate Project Information (http://www.ci.richmond.ca.us/270/Point-Molate)      Mapping Services (/3344/Mapping-Services)      Printable Maps (/290)      Project Information (/2860/Project-Information)       Additional Projects      Environmental Documents      General Plan Updates       About - Información acerca del Plan General      Frequently Asked Questions (FAQs) - Preguntas frecuentes      Participate - Participe      Library        Housing Element Update      Housing Policy      Major Projects      Notable Projects      Other Projects      Projects Information      Richmond Resilience Roadmap      Residential Activity Report        Regulatory Documents (/2867/Regulatory-Documents)       Bicycle Master Plan      Pedestrian Plan      Richmond Bay Specific Plan (RBSP)      Urban Greening Plan      Other Plans, Codes & Guidelines        Staff Directory (/2399/Staff-Directory)      Zoning Ordinance (/3379/Zoning-Ordinance)      Senate Bill 9 (SB 9) (/4188/Senate-Bill-9-SB-9)      Brickyard Cove Residential Project (/4349/Brickyard-Cove-Residential-Project)      Raven SR Bioenergy Project (/4365/Raven-SR-Bioenergy-Project)      Travel Safe Richmond (/4486/Travel-Safe-Richmond)           GBs                    (/151)  Agenda Docs   (/151)         (/965/Weekly-Announcements)  Weekly Report   (/965/Weekly-Announcements)         (/4340/KCRT-Media)  KCRT   (/4340/KCRT-Media)            inner column   inner row  outer column                 (/4518/Youth)  Youth   (/4518/Youth)         (/4540/55670/Visit-Richmond)  Visit Richmond   (/4540/55670/Visit-Richmond)         (https://www.transparentrichmond.org/)  City Data   (https://www.transparentrichmond.org/)            inner column   inner row  outer column   outer row    Calendar/Carousel <div data-cpRole=\"structuralContainer\" id=\"homeContainer1\"> <div class=\"siteWrap\"> <div data-cpRole=\"contentContainer\" id=\"homeContent1a\"></div> </div> </div> Footer                              inner column   inner row  outer column       inner column   inner row  outer column         Contact Us         RICHMOND CITY HALL 450 Civic Center Plaza Richmond, CA 94804 Phone Directory (http://www.ci.richmond.ca.us/Directory.aspx)  Directions (http://maps.google.com/maps?q=450+Civic+Center+Plaza,+Richmond+CA&oe=utf-8&rls=org.mozilla:en-US:official&client=firefox-a&um=1&ie=UTF-8&hq=&hnear=450+Civic+Center+Plaza,+Richmond,+CA+94804&gl=us&daddr=450%20Civic%20Center%20Plaza,%20Richmond,%20CA%2094804&ei=uxt0S8_-KoLUNYPuockK&sa=X&oi=geocode_result&ct=directions-to&resnum=1&ved=0CAoQwwUwAA)            inner column   inner row  outer column       inner column   inner row  outer column       Sign Up For E-News          inner column   inner row              (/facebook)     (https://twitter.com/cityofrichmond)     (/instagram)     (https://www.ci.richmond.ca.us/rss.aspx)          inner column   inner row  outer column       inner column   inner row  outer column         Site Links (/QuickLinks.aspx?CID=2,52,5)         Bay Area Legal Aid (http://www.baylegal.org/)     Contra Costa County Courts (http://www.cc-courts.org/)     California Courts (http://www.courts.ca.gov/)     Contra Costa County Bar Association (http://www.cccba.org/community/)     State Bar of California (http://www.calbar.ca.gov/state/calbar/calbar_home.jsp)     City Council Agenda Documents (http://www.ci.richmond.ca.us/index.aspx?NID=151)           /QuickLinks.aspx      inner column   inner row  outer column   outer row    Powered By                Government Websites by CivicPlus® (https://connect.civicplus.com/referral)       inner column   inner row  outer column   outer row           Loading          Content from the Froala Editor will go here. Loading    Do Not Show Again  Close      Select Language Afrikaans Albanian Amharic Arabic Armenian Assamese Aymara Azerbaijani Bambara Basque Belarusian Bengali Bhojpuri Bosnian Bulgarian Catalan Cebuano Chichewa Chinese (Simplified) Chinese (Traditional) Corsican Croatian Czech Danish Dhivehi Dogri Dutch Esperanto Estonian Ewe Filipino Finnish French Frisian Galician Georgian German Greek Guarani Gujarati Haitian Creole Hausa Hawaiian Hebrew Hindi Hmong Hungarian Icelandic Igbo Ilocano Indonesian Irish Italian Japanese Javanese Kannada Kazakh Khmer Kinyarwanda Konkani Korean Krio Kurdish (Kurmanji) Kurdish (Sorani) Kyrgyz Lao Latin Latvian Lingala Lithuanian Luganda Luxembourgish Macedonian Maithili Malagasy Malay Malayalam Maltese Maori Marathi Meiteilon (Manipuri) Mizo Mongolian Myanmar (Burmese) Nepali Norwegian Odia (Oriya) Oromo Pashto Persian Polish Portuguese Punjabi Quechua Romanian Russian Samoan Sanskrit Scots Gaelic Sepedi Serbian Sesotho Shona Sindhi Sinhala Slovak Slovenian Somali Spanish Sundanese Swahili Swedish Tajik Tamil Tatar Telugu Thai Tigrinya Tsonga Turkish Turkmen Twi Ukrainian Urdu Uyghur Uzbek Vietnamese Welsh Xhosa Yiddish Yoruba Zulu Powered by Translate (https://translate.google.com)     Arrow Left     Arrow Right        Slideshow Left Arrow       Slideshow Right Arrow                Original text Rate this translation Your feedback will be used to help improve Google Translate Loading  Skip to Main Content (#ccf5602c1c-2e20-4773-89f3-08f921ac655f)     [if lte IE 7]><link rel=\"stylesheet\" type=\"text/css\" href=\"/App_Themes/CP/ie7.css\"><![endif]  Allow Dashboard, Favorites Enabled      Header Container                      (/facebook)     (https://twitter.com/cityofrichmond)     (https://www.ci.richmond.ca.us/rss.aspx)          inner column   inner row  outer column       inner column   inner row  outer column       For the button right and inside     Search       inner column   inner row  outer column   outer row       City Government (/2013/City-Government)      Departments (/2014/Departments)      Business (/2016/Business)      Community (/2015/Community)       Banner            Content container       Home (/) Departments (/2014/Departments) Community Development (/101/Community-Development) Planning Division (/2098/Planning-Division) Miraflores Residential Development     A (#)  A (#)             Miraflores Residential Development             inner column   inner row  outer column   outer row        Project Contact: Hector Lopez, Senior Planner hector_lopez@ci.richmond.ca.us (mailto:hector_lopez@ci.richmond.ca.us) (510) 620-6702 Project Description The proposed project consists of 22 detached multi-story buildings containing a total of 190 residential units, including 30 moderate-income units, on a 8.17-acre parcel. The proposed project includes modification of the Planned Area Plan to increase the total number of units from 150 to 190 and building increase building heights from 35 to 50 feet. This change is subject to approval by the City Council. The application also includes a request for approval of a Vesting Tentative Map for condominium and a Design Review permit. The For Sale Project also includes relocation of the following historic resources: A) The Sakai house; B) A Water tank; C) A Water tower and building; D) Greenhouse 20; E) The Oishi house; and F) A greenhouse or representative sample greenhouse adjacent to the Oishi house. Some of these historic buildings will be located on the project site and other, will be located within the Greenbelt Park. The Successor Agency will be responsible for the rehabilitation of the structures. The buildings will be constructed on 22 lots; the vast majority of the buildings are 9-plex consisting of 99 residential units. As proposed, Parcel A will be dedicated to the City for the placement of the Historic Sakai House. Parcels B to E will be used as water quality control and open space areas. Extension of right-of ways including Ohio Avenue, Florida Avenue, and South 47 Street will be dedicated to the City for public streets. A total of eight private roads are proposed off these public streets (Streets A to H). The applicant will construct all public right-of-way improvements, including, but not limited to, new or upgraded utilities, streets, sidewalks, as well as the relocation of specific historic structures both on and off the project site. The applicant will also construct a tot playlot that would include several of the rehabilitated historic structures and a play structure (tot lot). Project Location The project area is bounded by South 45th Street to the west, Wall Avenue to the south, Interstate 80 to the east, and the BART tracks to the north. Planning Commission Public Hearing - April 19, 2018, 6:30 PM, 440 Civic Center Plaza, Basement Level Staff Report (/DocumentCenter/View/47608/Staff-Report-Miraflores-Residential-Development) Attachment 1: Resolution No. 18-17 (/DocumentCenter/View/47609/Attachment-1----Resolution-Miraflores-Residential-Development) Exhibit A: Planned Area Plan (/DocumentCenter/View/47604/Exhibit-A---Plan-Area-Plan) Exhibit B: Zoning District Map (/DocumentCenter/View/47605/Exhibit-B---Zoning-District-Map) Exhibit C: General Plan Map (/DocumentCenter/View/47606/Exhibit-C---General-Plan-Map) Exhibit D: Project Plans and Vesting Tentative Map (/DocumentCenter/View/47607/Exhibit-D---Project-Plans-and-Vesting-Tentative-Map) Attachment 2: Mitigation Monitoring and Reporting Program (/DocumentCenter/View/47610/Attachment-2---Mitigation-Monitoring-and-Reporting-Program) Attachment 3: Support Letter from Neighborhood Council (/DocumentCenter/View/47603/Attachment-3---Support-Letter-from-Neighborhood-Council) First Amendment [PDF] (/DocumentCenter/View/67683/First_Amendment) DDA [PDF] (/DocumentCenter/View/67682/DDA_20160719)     inner column   inner row  outer column   outer row                   Accessory Dwelling Units (ADUs) (/4336/Accessory-Dwelling-Units-ADUs)      Architectural Heritage Guidelines (http://www.ci.richmond.ca.us/DocumentCenter/View/3525)      Boards & Commissions (/2861/Boards-Commissions)       Design Review Board      Historic Preservation Commission       Historic Preservation Awards        Planning Commission        Cannabis Business Information (/3603/Cannabis-Business-Information)      City Fact Sheet (/DocumentView.aspx?DID=8348)      Fees/Forms/Checklists (/2102/FeesFormsChecklists)      Form Based Code (http://www.ci.richmond.ca.us/2965/RLC-FBC)      General Plan 2030 (/2608/General-Plan-2030)      Hilltop Horizon Specific Plan (https://hilltophorizon.com/)      Historical Point Molate Project Information (http://www.ci.richmond.ca.us/270/Point-Molate)      Mapping Services (/3344/Mapping-Services)      Printable Maps (/290)      Project Information (/2860/Project-Information)       Additional Projects      Environmental Documents      General Plan Updates       About - Información acerca del Plan General      Frequently Asked Questions (FAQs) - Preguntas frecuentes      Participate - Participe      Library        Housing Element Update      Housing Policy      Major Projects      Notable Projects      Other Projects      Projects Information      Richmond Resilience Roadmap      Residential Activity Report        Regulatory Documents (/2867/Regulatory-Documents)       Bicycle Master Plan      Pedestrian Plan      Richmond Bay Specific Plan (RBSP)      Urban Greening Plan      Other Plans, Codes & Guidelines        Staff Directory (/2399/Staff-Directory)      Zoning Ordinance (/3379/Zoning-Ordinance)      Senate Bill 9 (SB 9) (/4188/Senate-Bill-9-SB-9)      Brickyard Cove Residential Project (/4349/Brickyard-Cove-Residential-Project)      Raven SR Bioenergy Project (/4365/Raven-SR-Bioenergy-Project)      Travel Safe Richmond (/4486/Travel-Safe-Richmond)           GBs                    (/151)  Agenda Docs   (/151)         (/965/Weekly-Announcements)  Weekly Report   (/965/Weekly-Announcements)         (/4340/KCRT-Media)  KCRT   (/4340/KCRT-Media)            inner column   inner row  outer column                 (/4518/Youth)  Youth   (/4518/Youth)         (/4540/55670/Visit-Richmond)  Visit Richmond   (/4540/55670/Visit-Richmond)         (https://www.transparentrichmond.org/)  City Data   (https://www.transparentrichmond.org/)            inner column   inner row  outer column   outer row    Calendar/Carousel <div data-cpRole=\"structuralContainer\" id=\"homeContainer1\"> <div class=\"siteWrap\"> <div data-cpRole=\"contentContainer\" id=\"homeContent1a\"></div> </div> </div> Footer                              inner column   inner row  outer column       inner column   inner row  outer column         Contact Us         RICHMOND CITY HALL 450 Civic Center Plaza Richmond, CA 94804 Phone Directory (http://www.ci.richmond.ca.us/Directory.aspx)  Directions (http://maps.google.com/maps?q=450+Civic+Center+Plaza,+Richmond+CA&oe=utf-8&rls=org.mozilla:en-US:official&client=firefox-a&um=1&ie=UTF-8&hq=&hnear=450+Civic+Center+Plaza,+Richmond,+CA+94804&gl=us&daddr=450%20Civic%20Center%20Plaza,%20Richmond,%20CA%2094804&ei=uxt0S8_-KoLUNYPuockK&sa=X&oi=geocode_result&ct=directions-to&resnum=1&ved=0CAoQwwUwAA)            inner column   inner row  outer column       inner column   inner row  outer column       Sign Up For E-News          inner column   inner row              (/facebook)     (https://twitter.com/cityofrichmond)     (/instagram)     (https://www.ci.richmond.ca.us/rss.aspx)          inner column   inner row  outer column       inner column   inner row  outer column         Site Links (/QuickLinks.aspx?CID=2,52,5)         Bay Area Legal Aid (http://www.baylegal.org/)     Contra Costa County Courts (http://www.cc-courts.org/)     California Courts (http://www.courts.ca.gov/)     Contra Costa County Bar Association (http://www.cccba.org/community/)     State Bar of California (http://www.calbar.ca.gov/state/calbar/calbar_home.jsp)     City Council Agenda Documents (http://www.ci.richmond.ca.us/index.aspx?NID=151)           /QuickLinks.aspx      inner column   inner row  outer column   outer row    Powered By                Government Websites by CivicPlus® (https://connect.civicplus.com/referral)       inner column   inner row  outer column   outer row           Loading          Content from the Froala Editor will go here. Loading    Do Not Show Again  Close      Powered by Translate (https://translate.google.com)     Arrow Left     Arrow Right        Slideshow Left Arrow       Slideshow Right Arrow                Original text Rate this translation Your feedback will be used to help improve Google Translate Loading  Skip to Main Content (#ccf5602c1c-2e20-4773-89f3-08f921ac655f)     [if lte IE 7]><link rel=\"stylesheet\" type=\"text/css\" href=\"/App_Themes/CP/ie7.css\"><![endif]  Allow Dashboard, Favorites Enabled      Header Container                      (/facebook)     (https://twitter.com/cityofrichmond)     (https://www.ci.richmond.ca.us/rss.aspx)          inner column   inner row  outer column       inner column   inner row  outer column       For the button right and inside     Search       inner column   inner row  outer column   outer row       City Government (/2013/City-Government)      Departments (/2014/Departments)      Business (/2016/Business)      Community (/2015/Community)       Banner            Content container       Home (/) Departments (/2014/Departments) Community Development (/101/Community-Development) Planning Division (/2098/Planning-Division) Terminal One Project     A (#)  A (#)             Latitude Residential Subdivision (formerly Terminal One Residential Project)         Project Contact: Roberta Feliciano, Senior Planner Roberta_Feliciano@ci.richmond.ca.us (mailto:Roberta_Feliciano@ci.richmond.ca.us) 510-620-6662 Project Description The Project proposes to modify the previously approved Planned Area plan by reducing the overall units from 316 to 184, and modifying the unit types. The Project is the development of approximately 13.8 acres of property located on the San Francisco Bay in the City of Richmond (the “Project Site”), proposed by Terminal One Development LLC (the “applicant”). Proposed development of the site includes residential and public open space uses, as well as road, trail, and other improvements on and off the Project site. Project Location The Project site is located at 1500 Dornan Drive, southeast of the intersection of Dornan Drive and Brickyard Cove Road in the neighborhood of Point Richmond, in the City of Richmond, Contra Costa County. The site’s general boundaries are the Richmond Yacht Club on the east, the San Francisco Bay on the south, Brickyard Cove Road to the north, and Dornan Drive to the west. Miller-Knox Shoreline Park is west and north of the Project site. Terminal One Development Financial and Fiscal Analysis (/DocumentCenter/View/64382/Terminal-One-Development-Financial-And-Fiscal-Analysis-Memo) City Council Meeting - December 6, 2022 PUBLIC HEARING to consider the adoption of a Resolution for the Latitude Residential Subdivision (formerly the Terminal One Residential Project) either: 1) Certifying the Addendum to the 2016 EIR and adopting the Mitigation Monitoring and Reporting Program (MMRP), and approving a Major Amendment to a Planned Area (PA) Plan with associated Major Design Review (DR), a Vesting Tentative Map (VTM), and a Conditional Use Permit (CUP) for park and residential uses within the Shoreline Overlay District, subject to conditions of approval; or 2) Certifying the Addendum to the 2016 EIR and adopting the MMRP and denying without prejudice the PA Plan Amendment with associated DR, and VTM based on the Planning Commission’s recommended findings; or 3) REMAND the project back to the Planning Commission to review the financial feasibility of the previous project and consider if conditions or refinements can be made to the Revised Project to make the project more superior. Staff Report and draft Resolution (/DocumentCenter/View/64212/CC-Staff-Report) Exhibit A:  EIR Addendum and MMRP (/DocumentCenter/View/64215/Ex-A-Terminal-One-Project-EIR-Addendum-and-MMRP) Exhibit B: Project Plans (/DocumentCenter/View/64214/Ex-B-Project-Plans) Exhibit C: Planned Area Plan (/DocumentCenter/View/64219/Ex-C) Exhibit D: Design Guidelines Module (/DocumentCenter/View/64213/Ex-D-Development-Guideline-Module) Exhibit E: Vesting Tentative Map (/DocumentCenter/View/64218/Ex-E-Vesting-Tentative-Map-OPT) Exhibit F: Conditions of Approval (/DocumentCenter/View/64217/Ex-F-Conditions-of-Approval) Exhibit G: Applicant Response to DRB Recommended Conditions (/DocumentCenter/View/64216/Ex-G-Applicant-Responses-to-DRB-Recommended-Conditions-of-Approval) Planning Commission Meeting - November 21, 2022 PUBLIC HEARING to consider a recommendation to the City Council of an addendum to an Environmental Impact Report (EIR), major amendment to an approved Planned Area Plan to modify the unit types and reduce the overall units from 316 to 184, Vesting Tentative Map to subdivide the site, and Conditional Use Permit for park and residential uses within the S, Shoreline Overlay District. Notice of Adjournment and Continuance Agenda (/DocumentCenter/View/63571/PLN22-171-PC-NOTICE-11-21-22) Staff Report with Attachment and Exhibits (/DocumentCenter/View/63488/PLN22-171_TERMINAL-1-PC-REPORT-compiled) Public Notice (/DocumentCenter/View/63433/PLN22-171-PC-NOTICE-11-17-22) Planning Commission Meeting - November 10, 2022 (Cancelled) PUBLIC HEARING to consider a recommendation to the City Council of an addendum to an Environmental Impact Report (EIR), major amendment to an approved Planned Area Plan to modify the unit types and reduce the overall units from 316 to 184, Vesting Tentative Map to subdivide the site, and Conditional Use Permit for park and residential uses within the S, Shoreline Overlay District. Public Notice (/DocumentCenter/View/63373/PLN22-171-PC-NOTICE) Design Review Board Meeting - October 26, 2022 PUBLIC HEARING to consider a recommendation to the Planning Commission of proposed amendments to a previously approved Planned Area Plan to modify the unit types and reduce the overall units from 316 to 184 and Design Review for the house plans and subdivision improvements. Staff Report (/DocumentCenter/View/63297/3_PLN22-171-1500-DORNAN-DR_DRB20221026---OCT-26) Public Notice (/DocumentCenter/View/63210/PLN22-171-DRB-Notice) Design Review Board Meeting - October 12, 2022 (Cancelled) PUBLIC HEARING to consider a recommendation to the Planning Commission of proposed amendments to a previously approved Planned Area Plan to modify the unit types and reduce the overall units from 316 to 184 and Design Review for the house plans and subdivision improvements. Staff Report (/DocumentCenter/View/63205/Staff-Report) Public Notice (/DocumentCenter/View/63200/PLN22-171-DRB-NOTICE) Design Review Board Meeting - September 14, 2022 PUBLIC HEARING to consider a recommendation to the Planning Commission of a proposed amendment to a previously approved Planned Area Plan to modify the unit types and reduce the overall units from 316 to 184 and Design Review for the house plans and subdivision improvements. Staff Report (/DocumentCenter/View/62761/DRB-Staff-Report---SEP142022) Public Notice (/DocumentCenter/View/62660/PLN22-171-DRB-NOTICE-1) City Council Meeting - April 5, 2022 RECEIVE a presentation regarding a potential revised project for the Terminal One site from Terminal One Development LLC – City Manager’s Office/ Community Development Department. This item was continued from the March 22, 2022, meeting. Staff Report (https://bit.ly/3wXlQvl) PowerPoint (/DocumentCenter/View/60995/Reduced-Latitude-City-Council-Presentation-040222_mod1-PDF) Design Review Board Public Hearing - February 14, 2018, 6:00 PM, 440 Civic Center Plaza, Multi-Purpose Room (Basement Level) Public hearing to Consider a Design Review Permit for the proposed Terminal One Project. Staff Report (/DocumentCenter/View/45781) Design Review Board Public Hearing - January 24, 2018 It is anticipated that the Terminal I item will be considered at the February 14, 2018 DRB Meeting. Design Review Board Public Hearing - December 13, 2017, 6:00 PM, 440 Civic Center Plaza, Council Chambers, 1st Floor Public Hearing to consider a Design Review permit for the proposed Terminal One Project. Notice of Public Hearing (/DocumentCenter/View/45273) Staff Report (/DocumentCenter/View/45294) Design Review Board Public Hearing - November 8, 2017, 6:00 PM, 440 Civic Center Plaza, Multi-Purpose Room (Basement Level) Public Hearing to consider a Design Review permit for the proposed Terminal One Project. Notice of Public Hearing (/DocumentCenter/View/44711) Staff Report (/DocumentCenter/View/44937) Exhibit A - Design Review Board (/DocumentCenter/View/44383) City Council Public Hearing - July 5, 2016, 6:30 PM, 440 Civic Center Plaza, Council Chambers Public Hearing to consider certification of the Final Environmental Impact Report (EIR), Rezoning, and Vesting Tentative Map for the Terminal One Project. Notice of Public Hearing (/DocumentCenter/View/38929) Staff Report and Attachments (http://sireweb.ci.richmond.ca.us/sirepub/mtgviewer.aspx?meetid=644&doctype=AGENDA) (Sire - see Public Hearings, Item I-2) Planning Commission Public Hearing - June 16, 2016, 6:30 PM, 440 Civic Center Plaza, Council Chambers Public Hearing to consider a recommendation to the City Council on the certification of the Final Environmental Impact Report (EIR), Rezoning, and Vesting Tentative Map for the Terminal One Project. Notice of Public Hearing (/DocumentCenter/View/38791) Staff Report (/DocumentCenter/View/38864) Response to Comments (/DocumentCenter/View/38808) Plannned Area Plan for the Terminal One Project (/DocumentCenter/View/38862) Master Plan and Design Framework (/DocumentCenter/View/38865) Planning Commission Public Hearing - April 7, 2016, 6:30 PM, 440 Civic Center Plaza, Council Chambers Public Hearing to receive comments on the Draft Environmental Impact Report (EIR) for the Terminal I Project. Notice of Public Hearing (/DocumentCenter/View/37962) Staff Report (/DocumentCenter/View/38126) Draft Environmental Impact Report (/DocumentCenter/View/37802) Draft EIR Appendices (/DocumentCenter/View/37801) Draft Environmental Impact Report Available The Draft Environmental Impact Report (DEIR) for the Terminal One Project is available for public review and comment. Notice of availability (/DocumentCenter/View/37776) Draft Environmental Impact Report (/DocumentCenter/View/37802) Draft EIR Appendices (/DocumentCenter/View/37801) Design Review Board Public Hearing Materials - January 27, 2016, 6:00 PM, 440 Civic Center Plaza, Basement Level Staff Report and Attachments (/DocumentCenter/View/36954) Master Plan and Design Framework (/DocumentCenter/View/36820) Design Review Board Study Session Materials - January 13, 2016, 6:00 PM, 440 Civic Center Plaza, Basement Level Staff Report (/DocumentCenter/View/36900) Project Plans (/DocumentCenter/View/36820) Summary of Changes (/DocumentCenter/View/36845) Design Review Board Study Session Materials - October 28, 2015, 6:00 PM, 440 Civic Center Plaza, Basement Level Staff Report and Exhibits (/DocumentCenter/View/36273) Design Review Board Study Session Materials - October 14, 2015, 6 PM, 440 Civic Center Plaza, Basement Level Staff Report (/DocumentCenter/View/36082) Exhibit A (/DocumentCenter/View/36083) - Location Map Exhibit B - Project Plans (see below) DRB Package - Part 1 (/DocumentCenter/View/36067) DRB Package - Part 2 (/DocumentCenter/View/36065) DRB Package - Part 3 (/DocumentCenter/View/36066) Exhibit C (/DocumentCenter/View/36084) - Responses to Comments Design Review Board Study Session Materials - September 16, 2015, 6 PM, 440 Civic Center Plaza, Basement Level Please note these files are large and may take a few minutes to download depending on your internet speed. Staff Report (/DocumentCenter/View/35668) DRB Package_Part 1A Site (/DocumentCenter/View/35655) DRB Package_Part 1B Site (/DocumentCenter/View/35656) DRB Package_Part 1C Site (/DocumentCenter/View/35657) DRB Package_Part 1D Site (/DocumentCenter/View/35658) DRB Package_Part 2 Landscape (/DocumentCenter/View/35659) DRB Package_Part 3 Architecture and Appendix (/DocumentCenter/View/35660) Additional Renderings Rendering 1 (/DocumentCenter/View/35669) Rendering 2 (/DocumentCenter/View/35669) Rendering 3 (/DocumentCenter/View/35671) Rendering 4 (/DocumentCenter/View/35672) Subscribe for Updates Please sign up on \"Notify Me\" (/list.aspx?ListID=304) if you are interested in receiving email updates for this project. Follow these instructions to subscribe:  1. Enter your email address and then select \"Sign In\"  2. Follow the on-screen instructions     inner column   inner row  outer column   outer row                   Accessory Dwelling Units (ADUs) (/4336/Accessory-Dwelling-Units-ADUs)      Architectural Heritage Guidelines (http://www.ci.richmond.ca.us/DocumentCenter/View/3525)      Boards & Commissions (/2861/Boards-Commissions)       Design Review Board      Historic Preservation Commission       Historic Preservation Awards        Planning Commission        Cannabis Business Information (/3603/Cannabis-Business-Information)      City Fact Sheet (/DocumentView.aspx?DID=8348)      Fees/Forms/Checklists (/2102/FeesFormsChecklists)      Form Based Code (http://www.ci.richmond.ca.us/2965/RLC-FBC)      General Plan 2030 (/2608/General-Plan-2030)      Hilltop Horizon Specific Plan (https://hilltophorizon.com/)      Historical Point Molate Project Information (http://www.ci.richmond.ca.us/270/Point-Molate)      Mapping Services (/3344/Mapping-Services)      Printable Maps (/290)      Project Information (/2860/Project-Information)       Additional Projects      Environmental Documents      General Plan Updates       About - Información acerca del Plan General      Frequently Asked Questions (FAQs) - Preguntas frecuentes      Participate - Participe      Library        Housing Element Update      Housing Policy      Major Projects      Notable Projects      Other Projects      Projects Information      Richmond Resilience Roadmap      Residential Activity Report        Regulatory Documents (/2867/Regulatory-Documents)       Bicycle Master Plan      Pedestrian Plan      Richmond Bay Specific Plan (RBSP)      Urban Greening Plan      Other Plans, Codes & Guidelines        Staff Directory (/2399/Staff-Directory)      Zoning Ordinance (/3379/Zoning-Ordinance)      Senate Bill 9 (SB 9) (/4188/Senate-Bill-9-SB-9)      Brickyard Cove Residential Project (/4349/Brickyard-Cove-Residential-Project)      Raven SR Bioenergy Project (/4365/Raven-SR-Bioenergy-Project)      Travel Safe Richmond (/4486/Travel-Safe-Richmond)           GBs                    (/151)  Agenda Docs   (/151)         (/965/Weekly-Announcements)  Weekly Report   (/965/Weekly-Announcements)         (/4340/KCRT-Media)  KCRT   (/4340/KCRT-Media)            inner column   inner row  outer column                 (/4518/Youth)  Youth   (/4518/Youth)         (/4540/55670/Visit-Richmond)  Visit Richmond   (/4540/55670/Visit-Richmond)         (https://www.transparentrichmond.org/)  City Data   (https://www.transparentrichmond.org/)            inner column   inner row  outer column   outer row    Calendar/Carousel <div data-cpRole=\"structuralContainer\" id=\"homeContainer1\"> <div class=\"siteWrap\"> <div data-cpRole=\"contentContainer\" id=\"homeContent1a\"></div> </div> </div> Footer                              inner column   inner row  outer column       inner column   inner row  outer column         Contact Us         RICHMOND CITY HALL 450 Civic Center Plaza Richmond, CA 94804 Phone Directory (http://www.ci.richmond.ca.us/Directory.aspx)  Directions (http://maps.google.com/maps?q=450+Civic+Center+Plaza,+Richmond+CA&oe=utf-8&rls=org.mozilla:en-US:official&client=firefox-a&um=1&ie=UTF-8&hq=&hnear=450+Civic+Center+Plaza,+Richmond,+CA+94804&gl=us&daddr=450%20Civic%20Center%20Plaza,%20Richmond,%20CA%2094804&ei=uxt0S8_-KoLUNYPuockK&sa=X&oi=geocode_result&ct=directions-to&resnum=1&ved=0CAoQwwUwAA)            inner column   inner row  outer column       inner column   inner row  outer column       Sign Up For E-News          inner column   inner row              (/facebook)     (https://twitter.com/cityofrichmond)     (/instagram)     (https://www.ci.richmond.ca.us/rss.aspx)          inner column   inner row  outer column       inner column   inner row  outer column         Site Links (/QuickLinks.aspx?CID=2,52,5)         Bay Area Legal Aid (http://www.baylegal.org/)     Contra Costa County Courts (http://www.cc-courts.org/)     California Courts (http://www.courts.ca.gov/)     Contra Costa County Bar Association (http://www.cccba.org/community/)     State Bar of California (http://www.calbar.ca.gov/state/calbar/calbar_home.jsp)     City Council Agenda Documents (http://www.ci.richmond.ca.us/index.aspx?NID=151)           /QuickLinks.aspx      inner column   inner row  outer column   outer row    Powered By                Government Websites by CivicPlus® (https://connect.civicplus.com/referral)       inner column   inner row  outer column   outer row           Loading          Content from the Froala Editor will go here. Loading    Do Not Show Again  Close      Powered by Translate (https://translate.google.com)     Arrow Left     Arrow Right        Slideshow Left Arrow       Slideshow Right Arrow                Original text Rate this translation Your feedback will be used to help improve Google Translate Loading  Skip to Main Content (#ccf5602c1c-2e20-4773-89f3-08f921ac655f)     [if lte IE 7]><link rel=\"stylesheet\" type=\"text/css\" href=\"/App_Themes/CP/ie7.css\"><![endif]  Allow Dashboard, Favorites Enabled      Header Container                      (/facebook)     (https://twitter.com/cityofrichmond)     (https://www.ci.richmond.ca.us/rss.aspx)          inner column   inner row  outer column       inner column   inner row  outer column       For the button right and inside     Search       inner column   inner row  outer column   outer row       City Government (/2013/City-Government)      Departments (/2014/Departments)      Business (/2016/Business)      Community (/2015/Community)       Banner            Content container       Home (/) Departments (/2014/Departments) Community Development (/101/Community-Development) Planning Division (/2098/Planning-Division) Project Information (/2860/Project-Information) Major Projects     A (#)  A (#)             Major Projects         Click links below for more information on major projects by the Planning Division: Capital Projects Via Verdi Slope Stabilization Project (http://www.ci.richmond.ca.us/viaverdiproject) Travel Safe Richmond (https://www.ci.richmond.ca.us/4486/Travel-Safe-Richmond) Constructed Atlas Road Industrial Building (http://www.ci.richmond.ca.us/3001/Atlas-Road-Industrial-Building-Project) Greenway Gap Closure (http://www.ci.richmond.ca.us/index.aspx?NID=2443) Mathieu Court  Alley Project (http://www.ci.richmond.ca.us/2595/Mathieu-Court-Alley-Greening-Project) The Point Richmond Residential Project (http://www.ci.richmond.ca.us/3157/The-Point-Richmond-Residential-Project) Wet Weather Storage (http://www.ci.richmond.ca.us/2775/Wet-Weather-Storage) Waterline Subdivision (http://www.ci.richmond.ca.us/index.aspx?NID=2779) Nevin Homes Residential Project (http://www.ci.richmond.ca.us/index.aspx?NID=2928) Bay Area Rescue Mission, Bridge of Hope Project (http://www.ci.richmond.ca.us/3729/Bay-Area-Rescue-Mission-Bridge-of-Hope-P) Goodrick Avenue Bay Trail Gap Closure Project (http://www.ci.richmond.ca.us/3381/Goodrick-Avenue-Bay-Trail-Gap-Closure-Pr) Places & Rows at NOMA Project (http://www.ci.richmond.ca.us/2927/Bay-Walk) Under Construction Chevron Richmond Refinery Modernization Project (https://ca-richmond3.civicplus.com/3552/Chevron-Richmond-Refinery-Modernization-) Making Waves Academy Expansion Project (http://www.ci.richmond.ca.us/3449/Making-Waves-Academy-Expansion-Project) Richmond Country Club Residential Project (http://www.ci.richmond.ca.us/3977/Richmond-Country-Club-Residential-Projec) Duke Realty Light Industrial Warehouse Project (https://www.ci.richmond.ca.us/4175/47400/Duke-Realty-Light-Industrial-Warehouse?activeLiveTab=widgets) Entitlements Approved Campus Bay Mixed-Use Project (http://www.ci.richmond.ca.us/4028/43644/Campus-Bay-Mixed-Use-Project?activeLiveTab=widgets) Cherry Blossom Row Project (http://www.ci.richmond.ca.us/4113/Cherry-Blossom-Row-Project) Nevin Plaza Project (http://www.ci.richmond.ca.us/3999/Nevin-Plaza-Project) PowerPlant Park Project (https://www.ci.richmond.ca.us/3670/PowerPlant-Park-Project) Quarry Residential Project (https://ca-richmond3.civicplus.com/3481/Quarry-Residential-Project) Point Molate Mixed Use Project (http://www.ci.richmond.ca.us/3757/Point-Molate-Mixed-Use-Project) Miraflores Residential Development (https://www.ci.richmond.ca.us/3660/37185/Miraflores-Residential-Development?activeLiveTab=widgets) Under Review Terminal One Project (http://www.ci.richmond.ca.us/index.aspx?NID=2939) 100 38th Street Project (https://www.ci.richmond.ca.us/4337/50282/100-38th-Street-Project?activeLiveTab=widgets) Central Avenue Housing (/2835/Central-Avenue-Housing) (Modified) Brickyard Cove Residential Project (https://www.ci.richmond.ca.us/4349/Brickyard-Cove-Residential-Project) Homewood Suites Hotels (https://www.ci.richmond.ca.us/4646/57210/Homewood-Suites-Hotel?activeLiveTab=widgets) Point Molate Beach Shoreline Restoration Project (https://www.ci.richmond.ca.us/4013/Point-Molate-Beach-Shoreline-Restoration) Portside Commerce Center (https://www.ci.richmond.ca.us/4415/Portside-Commerce-Center) Raven SR Bioenergy Project (https://www.ci.richmond.ca.us/4365/Raven-SR-Bioenergy-Project) Long-Range Planning Projects 23rd Street Streetscape Improvement Plan (https://ca-richmond3.civicplus.com/3550/23rd-Street-Streetscape-Improvement-Plan) Hilltop Specific Plan (https://hilltophorizon.com/) I-80/Central Avenue Interchange Modification (http://www.ccta.net/_resources/detail/36/2) - CCTA Livable Corridors Form-Based Code (FBC) (/2965/RLC-FBC)     inner column   inner row  outer column   outer row                   Additional Projects (/4171/Additional-Projects)      Environmental Documents (/DocumentCenter/Index/1357)      General Plan Updates (/4257/General-Plan-Updates)       About - Información acerca del Plan General      Frequently Asked Questions (FAQs) - Preguntas frecuentes      Participate - Participe      Library        Housing Element Update (/4231/Housing-Element-Update)      Housing Policy (/3364/Richmond-Rent-Program)      Major Projects (/1404/Major-Projects)      Notable Projects (/4172/Notable-Projects)      Other Projects (/2859/Other-Projects)      Projects Information (https://www.ci.richmond.ca.us/3924/Project-Information)      Richmond Resilience Roadmap (https://www.ci.richmond.ca.us/3907/Richmond-Resilience-Roadmap)      Residential Activity Report (/4236/Residential-Activity-Report)           GBs                    (/151)  Agenda Docs   (/151)         (/965/Weekly-Announcements)  Weekly Report   (/965/Weekly-Announcements)         (/4340/KCRT-Media)  KCRT   (/4340/KCRT-Media)            inner column   inner row  outer column                 (/4518/Youth)  Youth   (/4518/Youth)         (/4540/55670/Visit-Richmond)  Visit Richmond   (/4540/55670/Visit-Richmond)         (https://www.transparentrichmond.org/)  City Data   (https://www.transparentrichmond.org/)            inner column   inner row  outer column   outer row    Calendar/Carousel <div data-cpRole=\"structuralContainer\" id=\"homeContainer1\"> <div class=\"siteWrap\"> <div data-cpRole=\"contentContainer\" id=\"homeContent1a\"></div> </div> </div> Footer                              inner column   inner row  outer column       inner column   inner row  outer column         Contact Us         RICHMOND CITY HALL 450 Civic Center Plaza Richmond, CA 94804 Phone Directory (http://www.ci.richmond.ca.us/Directory.aspx)  Directions (http://maps.google.com/maps?q=450+Civic+Center+Plaza,+Richmond+CA&oe=utf-8&rls=org.mozilla:en-US:official&client=firefox-a&um=1&ie=UTF-8&hq=&hnear=450+Civic+Center+Plaza,+Richmond,+CA+94804&gl=us&daddr=450%20Civic%20Center%20Plaza,%20Richmond,%20CA%2094804&ei=uxt0S8_-KoLUNYPuockK&sa=X&oi=geocode_result&ct=directions-to&resnum=1&ved=0CAoQwwUwAA)            inner column   inner row  outer column       inner column   inner row  outer column       Sign Up For E-News          inner column   inner row              (/facebook)     (https://twitter.com/cityofrichmond)     (/instagram)     (https://www.ci.richmond.ca.us/rss.aspx)          inner column   inner row  outer column       inner column   inner row  outer column         Site Links (/QuickLinks.aspx?CID=2,52,5)         Bay Area Legal Aid (http://www.baylegal.org/)     Contra Costa County Courts (http://www.cc-courts.org/)     California Courts (http://www.courts.ca.gov/)     Contra Costa County Bar Association (http://www.cccba.org/community/)     State Bar of California (http://www.calbar.ca.gov/state/calbar/calbar_home.jsp)     City Council Agenda Documents (http://www.ci.richmond.ca.us/index.aspx?NID=151)           /QuickLinks.aspx      inner column   inner row  outer column   outer row    Powered By                Government Websites by CivicPlus® (https://connect.civicplus.com/referral)       inner column   inner row  outer column   outer row           Loading          Content from the Froala Editor will go here. Loading    Do Not Show Again  Close      Select Language Afrikaans Albanian Amharic Arabic Armenian Assamese Aymara Azerbaijani Bambara Basque Belarusian Bengali Bhojpuri Bosnian Bulgarian Catalan Cebuano Chichewa Chinese (Simplified) Chinese (Traditional) Corsican Croatian Czech Danish Dhivehi Dogri Dutch Esperanto Estonian Ewe Filipino Finnish French Frisian Galician Georgian German Greek Guarani Gujarati Haitian Creole Hausa Hawaiian Hebrew Hindi Hmong Hungarian Icelandic Igbo Ilocano Indonesian Irish Italian Japanese Javanese Kannada Kazakh Khmer Kinyarwanda Konkani Korean Krio Kurdish (Kurmanji) Kurdish (Sorani) Kyrgyz Lao Latin Latvian Lingala Lithuanian Luganda Luxembourgish Macedonian Maithili Malagasy Malay Malayalam Maltese Maori Marathi Meiteilon (Manipuri) Mizo Mongolian Myanmar (Burmese) Nepali Norwegian Odia (Oriya) Oromo Pashto Persian Polish Portuguese Punjabi Quechua Romanian Russian Samoan Sanskrit Scots Gaelic Sepedi Serbian Sesotho Shona Sindhi Sinhala Slovak Slovenian Somali Spanish Sundanese Swahili Swedish Tajik Tamil Tatar Telugu Thai Tigrinya Tsonga Turkish Turkmen Twi Ukrainian Urdu Uyghur Uzbek Vietnamese Welsh Xhosa Yiddish Yoruba Zulu Powered by Translate (https://translate.google.com)     Arrow Left     Arrow Right        Slideshow Left Arrow       Slideshow Right Arrow                Original text Rate this translation Your feedback will be used to help improve Google Translate,metadata= \")]\n"
     ]
    }
   ],
   "source": [
    "concatenated_content = ' '.join(output_content)\n",
    "\n",
    "# Create a Document object with the concatenated content\n",
    "merged_document = Document(page_content=concatenated_content,metadata=\"\")\n",
    "\n",
    "# Wrap the Document object in a list\n",
    "resulted_content = [merged_document]\n",
    "\n",
    "# Print the resulting list\n",
    "print(resulted_content)"
   ]
  },
  {
   "cell_type": "code",
   "execution_count": null,
   "metadata": {
    "id": "ZBm51pU63PWG"
   },
   "outputs": [],
   "source": [
    "|ChatGoogleGenerativeAI(model=\"gemini-pro\",temperature=0)"
   ]
  },
  {
   "cell_type": "code",
   "execution_count": null,
   "metadata": {
    "id": "x7zMwr0_yLiO"
   },
   "outputs": [],
   "source": [
    "def generate_output(resulted_content):\n",
    "  llm = ChatOpenAI(openai_api_key=MY_OPENAI_KEY)\n",
    "  splitter = RecursiveCharacterTextSplitter.from_tiktoken_encoder(chunk_size=15000, chunk_overlap=0)\n",
    "  splits = splitter.split_documents(resulted_content)\n",
    "  schema = {\n",
    "    \"properties\": {\n",
    "        \"original_id\": {\n",
    "            \"type\": \"string\",\n",
    "            \"description\": \"Unique identifier for each record\",\n",
    "            \"expectations\": [\"expect_column_to_exist\", \"expect_column_values_to_be_of_type\", \"expect_column_values_to_be_unique\"]\n",
    "        },\n",
    "        \"aug_id\": {\n",
    "            \"type\": \"string\",\n",
    "            \"description\": \"Augmented identifier for each record\",\n",
    "            \"expectations\": [\"expect_column_to_exist\", \"expect_column_values_to_be_of_type\", \"expect_column_values_to_be_unique\"]\n",
    "        },\n",
    "        \"country_name\": {\n",
    "            \"type\": \"string\",\n",
    "            \"description\": \"Name of the Country\",\n",
    "            \"expectations\": [\"expect_column_to_exist\", \"expect_column_values_to_be_in_set\"]\n",
    "        },\n",
    "        \"country_code\": {\n",
    "            \"type\": \"string\",\n",
    "            \"description\": \"ISO 3-letter Country Code\",\n",
    "            \"expectations\": [\"expect_column_to_exist\", \"expect_column_values_to_be_in_set\", \"expect_column_values_to_be_valid_iso_country\"]\n",
    "        },\n",
    "        \"map_coordinates\": {\n",
    "            \"type\": \"object\",\n",
    "            \"description\": \"Geo Point of the region formatted as {'type': 'Point', 'coordinates': [longitude, latitude]}\",\n",
    "            \"properties\": {\n",
    "                \"type\": {\"type\": \"string\"},\n",
    "                \"coordinates\": {\n",
    "                    \"type\": \"array\",\n",
    "                    \"items\": {\"type\": \"number\"}\n",
    "                }\n",
    "            },\n",
    "            \"expectations\": [\"expect_column_to_exist\", \"expect_column_values_to_be_of_type\", \"expect_column_values_to_be_valid_geojson\"]\n",
    "        },\n",
    "        \"url\": {\n",
    "            \"type\": \"string\",\n",
    "            \"description\": \"Url of the website of the source\",\n",
    "            \"format\": \"uri\",\n",
    "            \"expectations\": [\"expect_column_to_exist\", \"expect_column_values_to_be_valid_urls\", \"expect_column_values_to_be_unique\"]\n",
    "        },\n",
    "        \"region_name\": {\n",
    "            \"type\": \"string\",\n",
    "            \"description\": \"Region Name for a Country according to World Bank Standards\",\n",
    "            \"expectations\": [\"expect_column_to_exist\", \"expect_column_values_to_be_in_set\"]\n",
    "        },\n",
    "        \"region_code\": {\n",
    "            \"type\": \"string\",\n",
    "            \"description\": \"Region code for a Region according to World Bank Standards\",\n",
    "            \"expectations\": [\"expect_column_to_exist\", \"expect_column_values_to_be_in_set\"]\n",
    "        },\n",
    "        \"title\": {\n",
    "            \"type\": \"string\",\n",
    "            \"description\": \"A title for this tender/project used as a headline\",\n",
    "            \"expectations\": [\"expect_column_to_exist\", \"expect_column_values_to_be_unique\"]\n",
    "        },\n",
    "        \"description\": {\n",
    "            \"type\": \"string\",\n",
    "            \"description\": \"A summary description of the tender/project\",\n",
    "            \"expectations\": [\"expect_column_to_exist\"]\n",
    "        },\n",
    "        \"status\": {\n",
    "            \"type\": \"string\",\n",
    "            \"description\": \"The current status of the tender/project from the closed tenderStatus codelist\",\n",
    "            \"expectations\": [\"expect_column_to_exist\", \"expect_column_values_to_be_in_set\"]\n",
    "        },\n",
    "        \"stages\": {\n",
    "            \"type\": \"string\",\n",
    "            \"description\": \"Stages of the tender/project\",\n",
    "            \"expectations\": [\"expect_column_to_exist\"]\n",
    "        },\n",
    "        \"date\": {\n",
    "            \"type\": \"string\",\n",
    "            \"description\": \"The date on which the information was first recorded or published\",\n",
    "            \"format\": \"date\",\n",
    "            \"expectations\": [\"expect_column_to_exist\", \"expect_column_values_to_match_strftime_format\"]\n",
    "        },\n",
    "        \"procurementMethod\": {\n",
    "            \"type\": \"string\",\n",
    "            \"description\": \"The procedure used to purchase the relevant works, goods or services\",\n",
    "            \"expectations\": [\"expect_column_to_exist\", \"expect_column_values_to_be_in_set\"]\n",
    "        },\n",
    "        \"budget\": {\n",
    "            \"type\": \"number\",\n",
    "            \"description\": \"The total upper estimated value of the procurement\",\n",
    "            \"expectations\": [\"expect_column_to_exist\", \"expect_column_values_to_be_of_type\"]\n",
    "        },\n",
    "        \"currency\": {\n",
    "            \"type\": \"string\",\n",
    "            \"description\": \"The currency for each amount specified using the uppercase 3-letter code from ISO4217\",\n",
    "            \"expectations\": [\"expect_column_to_exist\", \"expect_column_values_to_be_valid_currency_code\"]\n",
    "        },\n",
    "        \"buyer\": {\n",
    "            \"type\": \"string\",\n",
    "            \"description\": \"Entity whose budget will be used to pay for related goods, works or services\",\n",
    "            \"expectations\": [\"expect_column_to_exist\"]\n",
    "        },\n",
    "        \"sector\": {\n",
    "            \"type\": \"string\",\n",
    "            \"description\": \"A high-level categorization of the main sector this procurement process relates to\",\n",
    "            \"expectations\": [\"expect_column_to_exist\", \"expect_column_values_to_be_in_set\"]\n",
    "        },\n",
    "        \"subsector\": {\n",
    "            \"type\": \"string\",\n",
    "            \"description\": \"A further subdivision of the sector the procurement process belongs to\",\n",
    "            \"expectations\": [\"expect_column_to_exist\", \"expect_column_values_to_be_in_set\"]\n",
    "        }\n",
    "    },\n",
    "    \"required\": [\n",
    "        \"original_id\", \"aug_id\", \"country_name\", \"country_code\", \"map_coordinates\", \"url\",\n",
    "        \"region_name\", \"region_code\", \"title\", \"description\", \"status\", \"stages\", \"date\",\n",
    "        \"procurementMethod\", \"budget\", \"currency\", \"buyer\", \"sector\", \"subsector\"\n",
    "    ]\n",
    "}\n",
    "\n",
    "  start_time = time.time()\n",
    "  extracted_content = create_extraction_chain(schema=schema, llm=llm).run(resulted_content[0].page_content[:16380])\n",
    "  end_time = time.time()\n",
    "\n",
    "\n",
    "  comet_llm.log_prompt(\n",
    "  prompt=str(resulted_content[0].page_content[:16380]),\n",
    "  metadata= {\n",
    "            \"schema\": schema\n",
    "        },\n",
    "  output= extracted_content,\n",
    "  duration= end_time - start_time,\n",
    "    )\n",
    "\n",
    "\n",
    "\n",
    "  return extracted_content"
   ]
  },
  {
   "cell_type": "code",
   "execution_count": null,
   "metadata": {
    "id": "QtavXijF0scQ"
   },
   "outputs": [],
   "source": [
    "final_output=generate_output(resulted_content)"
   ]
  },
  {
   "cell_type": "code",
   "execution_count": null,
   "metadata": {
    "id": "qlByvi2p1Twz"
   },
   "outputs": [],
   "source": [
    "import pandas as pd\n",
    "df = pd.DataFrame(final_output)"
   ]
  },
  {
   "cell_type": "code",
   "execution_count": null,
   "metadata": {
    "colab": {
     "base_uri": "https://localhost:8080/",
     "height": 271
    },
    "id": "-7rGpN4p5Znm",
    "outputId": "b92baeb1-c0dc-45bf-8fed-6caef59b229b"
   },
   "outputs": [
    {
     "data": {
      "application/vnd.google.colaboratory.intrinsic+json": {
       "repr_error": "Out of range float values are not JSON compliant: nan",
       "type": "dataframe",
       "variable_name": "df"
      },
      "text/html": [
       "\n",
       "  <div id=\"df-06fa8039-c22f-4fb9-82ed-619994dd8d57\" class=\"colab-df-container\">\n",
       "    <div>\n",
       "<style scoped>\n",
       "    .dataframe tbody tr th:only-of-type {\n",
       "        vertical-align: middle;\n",
       "    }\n",
       "\n",
       "    .dataframe tbody tr th {\n",
       "        vertical-align: top;\n",
       "    }\n",
       "\n",
       "    .dataframe thead th {\n",
       "        text-align: right;\n",
       "    }\n",
       "</style>\n",
       "<table border=\"1\" class=\"dataframe\">\n",
       "  <thead>\n",
       "    <tr style=\"text-align: right;\">\n",
       "      <th></th>\n",
       "      <th>original_id</th>\n",
       "      <th>aug_id</th>\n",
       "      <th>country_name</th>\n",
       "      <th>country_code</th>\n",
       "      <th>map_coordinates</th>\n",
       "      <th>url</th>\n",
       "      <th>region_name</th>\n",
       "      <th>region_code</th>\n",
       "      <th>title</th>\n",
       "      <th>description</th>\n",
       "      <th>status</th>\n",
       "      <th>stages</th>\n",
       "      <th>date</th>\n",
       "      <th>procurementMethod</th>\n",
       "      <th>budget</th>\n",
       "      <th>currency</th>\n",
       "      <th>buyer</th>\n",
       "      <th>sector</th>\n",
       "      <th>subsector</th>\n",
       "    </tr>\n",
       "  </thead>\n",
       "  <tbody>\n",
       "    <tr>\n",
       "      <th>0</th>\n",
       "      <td>ccf5602c1c-2e20-4773-89f3-08f921ac655f</td>\n",
       "      <td>2e20-4773-89f3-08f921ac655f</td>\n",
       "      <td>City of Richmond</td>\n",
       "      <td>N/A</td>\n",
       "      <td>{'type': 'Point', 'coordinates': [37.9358, -12...</td>\n",
       "      <td>https://www.ci.richmond.ca.us/</td>\n",
       "      <td>N/A</td>\n",
       "      <td>N/A</td>\n",
       "      <td>Travel Safe Richmond</td>\n",
       "      <td>Travel Safe Richmond is the City’s two-pronged...</td>\n",
       "      <td>Ongoing</td>\n",
       "      <td>In Progress</td>\n",
       "      <td>2023-07-19</td>\n",
       "      <td>N/A</td>\n",
       "      <td>None</td>\n",
       "      <td>N/A</td>\n",
       "      <td>City of Richmond</td>\n",
       "      <td>Transportation</td>\n",
       "      <td>Road Safety</td>\n",
       "    </tr>\n",
       "    <tr>\n",
       "      <th>1</th>\n",
       "      <td>4486</td>\n",
       "      <td>4486</td>\n",
       "      <td>City of Richmond</td>\n",
       "      <td>N/A</td>\n",
       "      <td>{'type': 'Point', 'coordinates': [37.9358, -12...</td>\n",
       "      <td>https://www.ci.richmond.ca.us/</td>\n",
       "      <td>N/A</td>\n",
       "      <td>N/A</td>\n",
       "      <td>Travel Safe Richmond</td>\n",
       "      <td>The proposed Via Verdi Slope Stabilization Pro...</td>\n",
       "      <td>Completed</td>\n",
       "      <td>Completed</td>\n",
       "      <td>2017-2019</td>\n",
       "      <td>Construction</td>\n",
       "      <td>None</td>\n",
       "      <td>N/A</td>\n",
       "      <td>City of Richmond</td>\n",
       "      <td>Infrastructure</td>\n",
       "      <td>Road Construction</td>\n",
       "    </tr>\n",
       "  </tbody>\n",
       "</table>\n",
       "</div>\n",
       "    <div class=\"colab-df-buttons\">\n",
       "\n",
       "  <div class=\"colab-df-container\">\n",
       "    <button class=\"colab-df-convert\" onclick=\"convertToInteractive('df-06fa8039-c22f-4fb9-82ed-619994dd8d57')\"\n",
       "            title=\"Convert this dataframe to an interactive table.\"\n",
       "            style=\"display:none;\">\n",
       "\n",
       "  <svg xmlns=\"http://www.w3.org/2000/svg\" height=\"24px\" viewBox=\"0 -960 960 960\">\n",
       "    <path d=\"M120-120v-720h720v720H120Zm60-500h600v-160H180v160Zm220 220h160v-160H400v160Zm0 220h160v-160H400v160ZM180-400h160v-160H180v160Zm440 0h160v-160H620v160ZM180-180h160v-160H180v160Zm440 0h160v-160H620v160Z\"/>\n",
       "  </svg>\n",
       "    </button>\n",
       "\n",
       "  <style>\n",
       "    .colab-df-container {\n",
       "      display:flex;\n",
       "      gap: 12px;\n",
       "    }\n",
       "\n",
       "    .colab-df-convert {\n",
       "      background-color: #E8F0FE;\n",
       "      border: none;\n",
       "      border-radius: 50%;\n",
       "      cursor: pointer;\n",
       "      display: none;\n",
       "      fill: #1967D2;\n",
       "      height: 32px;\n",
       "      padding: 0 0 0 0;\n",
       "      width: 32px;\n",
       "    }\n",
       "\n",
       "    .colab-df-convert:hover {\n",
       "      background-color: #E2EBFA;\n",
       "      box-shadow: 0px 1px 2px rgba(60, 64, 67, 0.3), 0px 1px 3px 1px rgba(60, 64, 67, 0.15);\n",
       "      fill: #174EA6;\n",
       "    }\n",
       "\n",
       "    .colab-df-buttons div {\n",
       "      margin-bottom: 4px;\n",
       "    }\n",
       "\n",
       "    [theme=dark] .colab-df-convert {\n",
       "      background-color: #3B4455;\n",
       "      fill: #D2E3FC;\n",
       "    }\n",
       "\n",
       "    [theme=dark] .colab-df-convert:hover {\n",
       "      background-color: #434B5C;\n",
       "      box-shadow: 0px 1px 3px 1px rgba(0, 0, 0, 0.15);\n",
       "      filter: drop-shadow(0px 1px 2px rgba(0, 0, 0, 0.3));\n",
       "      fill: #FFFFFF;\n",
       "    }\n",
       "  </style>\n",
       "\n",
       "    <script>\n",
       "      const buttonEl =\n",
       "        document.querySelector('#df-06fa8039-c22f-4fb9-82ed-619994dd8d57 button.colab-df-convert');\n",
       "      buttonEl.style.display =\n",
       "        google.colab.kernel.accessAllowed ? 'block' : 'none';\n",
       "\n",
       "      async function convertToInteractive(key) {\n",
       "        const element = document.querySelector('#df-06fa8039-c22f-4fb9-82ed-619994dd8d57');\n",
       "        const dataTable =\n",
       "          await google.colab.kernel.invokeFunction('convertToInteractive',\n",
       "                                                    [key], {});\n",
       "        if (!dataTable) return;\n",
       "\n",
       "        const docLinkHtml = 'Like what you see? Visit the ' +\n",
       "          '<a target=\"_blank\" href=https://colab.research.google.com/notebooks/data_table.ipynb>data table notebook</a>'\n",
       "          + ' to learn more about interactive tables.';\n",
       "        element.innerHTML = '';\n",
       "        dataTable['output_type'] = 'display_data';\n",
       "        await google.colab.output.renderOutput(dataTable, element);\n",
       "        const docLink = document.createElement('div');\n",
       "        docLink.innerHTML = docLinkHtml;\n",
       "        element.appendChild(docLink);\n",
       "      }\n",
       "    </script>\n",
       "  </div>\n",
       "\n",
       "\n",
       "<div id=\"df-553466c4-8ee8-4c22-9b7c-aa830dece368\">\n",
       "  <button class=\"colab-df-quickchart\" onclick=\"quickchart('df-553466c4-8ee8-4c22-9b7c-aa830dece368')\"\n",
       "            title=\"Suggest charts\"\n",
       "            style=\"display:none;\">\n",
       "\n",
       "<svg xmlns=\"http://www.w3.org/2000/svg\" height=\"24px\"viewBox=\"0 0 24 24\"\n",
       "     width=\"24px\">\n",
       "    <g>\n",
       "        <path d=\"M19 3H5c-1.1 0-2 .9-2 2v14c0 1.1.9 2 2 2h14c1.1 0 2-.9 2-2V5c0-1.1-.9-2-2-2zM9 17H7v-7h2v7zm4 0h-2V7h2v10zm4 0h-2v-4h2v4z\"/>\n",
       "    </g>\n",
       "</svg>\n",
       "  </button>\n",
       "\n",
       "<style>\n",
       "  .colab-df-quickchart {\n",
       "      --bg-color: #E8F0FE;\n",
       "      --fill-color: #1967D2;\n",
       "      --hover-bg-color: #E2EBFA;\n",
       "      --hover-fill-color: #174EA6;\n",
       "      --disabled-fill-color: #AAA;\n",
       "      --disabled-bg-color: #DDD;\n",
       "  }\n",
       "\n",
       "  [theme=dark] .colab-df-quickchart {\n",
       "      --bg-color: #3B4455;\n",
       "      --fill-color: #D2E3FC;\n",
       "      --hover-bg-color: #434B5C;\n",
       "      --hover-fill-color: #FFFFFF;\n",
       "      --disabled-bg-color: #3B4455;\n",
       "      --disabled-fill-color: #666;\n",
       "  }\n",
       "\n",
       "  .colab-df-quickchart {\n",
       "    background-color: var(--bg-color);\n",
       "    border: none;\n",
       "    border-radius: 50%;\n",
       "    cursor: pointer;\n",
       "    display: none;\n",
       "    fill: var(--fill-color);\n",
       "    height: 32px;\n",
       "    padding: 0;\n",
       "    width: 32px;\n",
       "  }\n",
       "\n",
       "  .colab-df-quickchart:hover {\n",
       "    background-color: var(--hover-bg-color);\n",
       "    box-shadow: 0 1px 2px rgba(60, 64, 67, 0.3), 0 1px 3px 1px rgba(60, 64, 67, 0.15);\n",
       "    fill: var(--button-hover-fill-color);\n",
       "  }\n",
       "\n",
       "  .colab-df-quickchart-complete:disabled,\n",
       "  .colab-df-quickchart-complete:disabled:hover {\n",
       "    background-color: var(--disabled-bg-color);\n",
       "    fill: var(--disabled-fill-color);\n",
       "    box-shadow: none;\n",
       "  }\n",
       "\n",
       "  .colab-df-spinner {\n",
       "    border: 2px solid var(--fill-color);\n",
       "    border-color: transparent;\n",
       "    border-bottom-color: var(--fill-color);\n",
       "    animation:\n",
       "      spin 1s steps(1) infinite;\n",
       "  }\n",
       "\n",
       "  @keyframes spin {\n",
       "    0% {\n",
       "      border-color: transparent;\n",
       "      border-bottom-color: var(--fill-color);\n",
       "      border-left-color: var(--fill-color);\n",
       "    }\n",
       "    20% {\n",
       "      border-color: transparent;\n",
       "      border-left-color: var(--fill-color);\n",
       "      border-top-color: var(--fill-color);\n",
       "    }\n",
       "    30% {\n",
       "      border-color: transparent;\n",
       "      border-left-color: var(--fill-color);\n",
       "      border-top-color: var(--fill-color);\n",
       "      border-right-color: var(--fill-color);\n",
       "    }\n",
       "    40% {\n",
       "      border-color: transparent;\n",
       "      border-right-color: var(--fill-color);\n",
       "      border-top-color: var(--fill-color);\n",
       "    }\n",
       "    60% {\n",
       "      border-color: transparent;\n",
       "      border-right-color: var(--fill-color);\n",
       "    }\n",
       "    80% {\n",
       "      border-color: transparent;\n",
       "      border-right-color: var(--fill-color);\n",
       "      border-bottom-color: var(--fill-color);\n",
       "    }\n",
       "    90% {\n",
       "      border-color: transparent;\n",
       "      border-bottom-color: var(--fill-color);\n",
       "    }\n",
       "  }\n",
       "</style>\n",
       "\n",
       "  <script>\n",
       "    async function quickchart(key) {\n",
       "      const quickchartButtonEl =\n",
       "        document.querySelector('#' + key + ' button');\n",
       "      quickchartButtonEl.disabled = true;  // To prevent multiple clicks.\n",
       "      quickchartButtonEl.classList.add('colab-df-spinner');\n",
       "      try {\n",
       "        const charts = await google.colab.kernel.invokeFunction(\n",
       "            'suggestCharts', [key], {});\n",
       "      } catch (error) {\n",
       "        console.error('Error during call to suggestCharts:', error);\n",
       "      }\n",
       "      quickchartButtonEl.classList.remove('colab-df-spinner');\n",
       "      quickchartButtonEl.classList.add('colab-df-quickchart-complete');\n",
       "    }\n",
       "    (() => {\n",
       "      let quickchartButtonEl =\n",
       "        document.querySelector('#df-553466c4-8ee8-4c22-9b7c-aa830dece368 button');\n",
       "      quickchartButtonEl.style.display =\n",
       "        google.colab.kernel.accessAllowed ? 'block' : 'none';\n",
       "    })();\n",
       "  </script>\n",
       "</div>\n",
       "\n",
       "  <div id=\"id_951b6c38-571a-46a5-a1bf-c68c5d49e308\">\n",
       "    <style>\n",
       "      .colab-df-generate {\n",
       "        background-color: #E8F0FE;\n",
       "        border: none;\n",
       "        border-radius: 50%;\n",
       "        cursor: pointer;\n",
       "        display: none;\n",
       "        fill: #1967D2;\n",
       "        height: 32px;\n",
       "        padding: 0 0 0 0;\n",
       "        width: 32px;\n",
       "      }\n",
       "\n",
       "      .colab-df-generate:hover {\n",
       "        background-color: #E2EBFA;\n",
       "        box-shadow: 0px 1px 2px rgba(60, 64, 67, 0.3), 0px 1px 3px 1px rgba(60, 64, 67, 0.15);\n",
       "        fill: #174EA6;\n",
       "      }\n",
       "\n",
       "      [theme=dark] .colab-df-generate {\n",
       "        background-color: #3B4455;\n",
       "        fill: #D2E3FC;\n",
       "      }\n",
       "\n",
       "      [theme=dark] .colab-df-generate:hover {\n",
       "        background-color: #434B5C;\n",
       "        box-shadow: 0px 1px 3px 1px rgba(0, 0, 0, 0.15);\n",
       "        filter: drop-shadow(0px 1px 2px rgba(0, 0, 0, 0.3));\n",
       "        fill: #FFFFFF;\n",
       "      }\n",
       "    </style>\n",
       "    <button class=\"colab-df-generate\" onclick=\"generateWithVariable('df')\"\n",
       "            title=\"Generate code using this dataframe.\"\n",
       "            style=\"display:none;\">\n",
       "\n",
       "  <svg xmlns=\"http://www.w3.org/2000/svg\" height=\"24px\"viewBox=\"0 0 24 24\"\n",
       "       width=\"24px\">\n",
       "    <path d=\"M7,19H8.4L18.45,9,17,7.55,7,17.6ZM5,21V16.75L18.45,3.32a2,2,0,0,1,2.83,0l1.4,1.43a1.91,1.91,0,0,1,.58,1.4,1.91,1.91,0,0,1-.58,1.4L9.25,21ZM18.45,9,17,7.55Zm-12,3A5.31,5.31,0,0,0,4.9,8.1,5.31,5.31,0,0,0,1,6.5,5.31,5.31,0,0,0,4.9,4.9,5.31,5.31,0,0,0,6.5,1,5.31,5.31,0,0,0,8.1,4.9,5.31,5.31,0,0,0,12,6.5,5.46,5.46,0,0,0,6.5,12Z\"/>\n",
       "  </svg>\n",
       "    </button>\n",
       "    <script>\n",
       "      (() => {\n",
       "      const buttonEl =\n",
       "        document.querySelector('#id_951b6c38-571a-46a5-a1bf-c68c5d49e308 button.colab-df-generate');\n",
       "      buttonEl.style.display =\n",
       "        google.colab.kernel.accessAllowed ? 'block' : 'none';\n",
       "\n",
       "      buttonEl.onclick = () => {\n",
       "        google.colab.notebook.generateWithVariable('df');\n",
       "      }\n",
       "      })();\n",
       "    </script>\n",
       "  </div>\n",
       "\n",
       "    </div>\n",
       "  </div>\n"
      ],
      "text/plain": [
       "                              original_id                       aug_id  \\\n",
       "0  ccf5602c1c-2e20-4773-89f3-08f921ac655f  2e20-4773-89f3-08f921ac655f   \n",
       "1                                    4486                         4486   \n",
       "\n",
       "       country_name country_code  \\\n",
       "0  City of Richmond          N/A   \n",
       "1  City of Richmond          N/A   \n",
       "\n",
       "                                     map_coordinates  \\\n",
       "0  {'type': 'Point', 'coordinates': [37.9358, -12...   \n",
       "1  {'type': 'Point', 'coordinates': [37.9358, -12...   \n",
       "\n",
       "                              url region_name region_code  \\\n",
       "0  https://www.ci.richmond.ca.us/         N/A         N/A   \n",
       "1  https://www.ci.richmond.ca.us/         N/A         N/A   \n",
       "\n",
       "                  title                                        description  \\\n",
       "0  Travel Safe Richmond  Travel Safe Richmond is the City’s two-pronged...   \n",
       "1  Travel Safe Richmond  The proposed Via Verdi Slope Stabilization Pro...   \n",
       "\n",
       "      status       stages        date procurementMethod budget currency  \\\n",
       "0    Ongoing  In Progress  2023-07-19               N/A   None      N/A   \n",
       "1  Completed    Completed   2017-2019      Construction   None      N/A   \n",
       "\n",
       "              buyer          sector          subsector  \n",
       "0  City of Richmond  Transportation        Road Safety  \n",
       "1  City of Richmond  Infrastructure  Road Construction  "
      ]
     },
     "execution_count": 29,
     "metadata": {},
     "output_type": "execute_result"
    }
   ],
   "source": [
    "df"
   ]
  },
  {
   "cell_type": "code",
   "execution_count": null,
   "metadata": {
    "id": "RHxNasQUtz3X"
   },
   "outputs": [],
   "source": []
  },
  {
   "cell_type": "code",
   "execution_count": null,
   "metadata": {
    "id": "h33bnWgyzcz3"
   },
   "outputs": [],
   "source": []
  },
  {
   "cell_type": "code",
   "execution_count": null,
   "metadata": {
    "id": "jHJx1T502IUM"
   },
   "outputs": [],
   "source": []
  },
  {
   "cell_type": "code",
   "execution_count": null,
   "metadata": {
    "colab": {
     "base_uri": "https://localhost:8080/"
    },
    "id": "ZLuBmil94b5n",
    "outputId": "7cd920f8-d938-4263-8013-328084cb4208"
   },
   "outputs": [
    {
     "data": {
      "text/plain": [
       "[{'url': 'http://www.ci.richmond.ca.us/viaverdiproject'},\n",
       " {'url': 'https://www.ci.richmond.ca.us/4486/Travel-Safe-Richmond'},\n",
       " {'url': 'http://www.ci.richmond.ca.us/3001/Atlas-Road-Industrial-Building-Project'},\n",
       " {'url': 'http://www.ci.richmond.ca.us/index.aspx?NID=2443'},\n",
       " {'url': 'http://www.ci.richmond.ca.us/2595/Mathieu-Court-Alley-Greening-Project'},\n",
       " {'url': 'http://www.ci.richmond.ca.us/3157/The-Point-Richmond-Residential-Project'},\n",
       " {'url': 'http://www.ci.richmond.ca.us/2775/Wet-Weather-Storage'},\n",
       " {'url': 'http://www.ci.richmond.ca.us/index.aspx?NID=2779'},\n",
       " {'url': 'http://www.ci.richmond.ca.us/index.aspx?NID=2928'},\n",
       " {'url': 'http://www.ci.richmond.ca.us/3729/Bay-Area-Rescue-Mission-Bridge-of-Hope-P'},\n",
       " {'url': 'http://www.ci.richmond.ca.us/3381/Goodrick-Avenue-Bay-Trail-Gap-Closure-Pr'},\n",
       " {'url': 'http://www.ci.richmond.ca.us/2927/Bay-Walk'},\n",
       " {'url': 'https://ca-richmond3.civicplus.com/3552/Chevron-Richmond-Refinery-Modernization-'},\n",
       " {'url': 'http://www.ci.richmond.ca.us/3449/Making-Waves-Academy-Expansion-Project'},\n",
       " {'url': 'http://www.ci.richmond.ca.us/3977/Richmond-Country-Club-Residential-Projec'},\n",
       " {'url': 'https://www.ci.richmond.ca.us/4175/47400/Duke-Realty-Light-Industrial-Warehouse?activeLiveTab=widgets'},\n",
       " {'url': 'http://www.ci.richmond.ca.us/4028/43644/Campus-Bay-Mixed-Use-Project?activeLiveTab=widgets'},\n",
       " {'url': 'http://www.ci.richmond.ca.us/4113/Cherry-Blossom-Row-Project'},\n",
       " {'url': 'http://www.ci.richmond.ca.us/3999/Nevin-Plaza-Project'},\n",
       " {'url': 'https://www.ci.richmond.ca.us/3670/PowerPlant-Park-Project'},\n",
       " {'url': 'https://ca-richmond3.civicplus.com/3481/Quarry-Residential-Project'},\n",
       " {'url': 'http://www.ci.richmond.ca.us/3757/Point-Molate-Mixed-Use-Project'},\n",
       " {'url': 'https://www.ci.richmond.ca.us/3660/37185/Miraflores-Residential-Development?activeLiveTab=widgets'},\n",
       " {'url': 'http://www.ci.richmond.ca.us/index.aspx?NID=2939'}]"
      ]
     },
     "execution_count": 72,
     "metadata": {},
     "output_type": "execute_result"
    }
   ],
   "source": []
  },
  {
   "cell_type": "code",
   "execution_count": null,
   "metadata": {
    "colab": {
     "base_uri": "https://localhost:8080/"
    },
    "id": "7AopnlAH4dmO",
    "outputId": "92ed1568-28a3-4cf5-d167-7eedde9ba9c3"
   },
   "outputs": [
    {
     "data": {
      "text/plain": [
       "[{'url': 'http://www.ci.richmond.ca.us/viaverdiproject'},\n",
       " {'url': 'https://www.ci.richmond.ca.us/4486/Travel-Safe-Richmond'},\n",
       " {'url': 'http://www.ci.richmond.ca.us/3001/Atlas-Road-Industrial-Building-Project'},\n",
       " {'url': 'http://www.ci.richmond.ca.us/index.aspx?NID=2443'},\n",
       " {'url': 'http://www.ci.richmond.ca.us/2595/Mathieu-Court-Alley-Greening-Project'},\n",
       " {'url': 'http://www.ci.richmond.ca.us/3157/The-Point-Richmond-Residential-Project'},\n",
       " {'url': 'http://www.ci.richmond.ca.us/2775/Wet-Weather-Storage'},\n",
       " {'url': 'http://www.ci.richmond.ca.us/index.aspx?NID=2779'},\n",
       " {'url': 'http://www.ci.richmond.ca.us/index.aspx?NID=2928'},\n",
       " {'url': 'http://www.ci.richmond.ca.us/3729/Bay-Area-Rescue-Mission-Bridge-of-Hope-P'},\n",
       " {'url': 'http://www.ci.richmond.ca.us/3381/Goodrick-Avenue-Bay-Trail-Gap-Closure-Pr'},\n",
       " {'url': 'http://www.ci.richmond.ca.us/2927/Bay-Walk'},\n",
       " {'url': 'https://ca-richmond3.civicplus.com/3552/Chevron-Richmond-Refinery-Modernization-'},\n",
       " {'url': 'http://www.ci.richmond.ca.us/3449/Making-Waves-Academy-Expansion-Project'},\n",
       " {'url': 'http://www.ci.richmond.ca.us/3977/Richmond-Country-Club-Residential-Projec'},\n",
       " {'url': 'https://www.ci.richmond.ca.us/4175/47400/Duke-Realty-Light-Industrial-Warehouse?activeLiveTab=widgets'},\n",
       " {'url': 'http://www.ci.richmond.ca.us/4028/43644/Campus-Bay-Mixed-Use-Project?activeLiveTab=widgets'},\n",
       " {'url': 'http://www.ci.richmond.ca.us/4113/Cherry-Blossom-Row-Project'},\n",
       " {'url': 'http://www.ci.richmond.ca.us/3999/Nevin-Plaza-Project'},\n",
       " {'url': 'https://www.ci.richmond.ca.us/3670/PowerPlant-Park-Project'},\n",
       " {'url': 'https://ca-richmond3.civicplus.com/3481/Quarry-Residential-Project'},\n",
       " {'url': 'http://www.ci.richmond.ca.us/3757/Point-Molate-Mixed-Use-Project'},\n",
       " {'url': 'https://www.ci.richmond.ca.us/3660/37185/Miraflores-Residential-Development?activeLiveTab=widgets'},\n",
       " {'url': 'http://www.ci.richmond.ca.us/index.aspx?NID=2939'}]"
      ]
     },
     "execution_count": 69,
     "metadata": {},
     "output_type": "execute_result"
    }
   ],
   "source": [
    "extracted_content"
   ]
  },
  {
   "cell_type": "code",
   "execution_count": null,
   "metadata": {
    "id": "NKqMRKHF4tyX"
   },
   "outputs": [],
   "source": []
  },
  {
   "cell_type": "code",
   "execution_count": null,
   "metadata": {
    "id": "ICLYzOrpEsIA"
   },
   "outputs": [],
   "source": []
  },
  {
   "cell_type": "code",
   "execution_count": null,
   "metadata": {
    "colab": {
     "base_uri": "https://localhost:8080/",
     "height": 802
    },
    "id": "peSHag-CE8cI",
    "outputId": "04a41dc5-dc4c-4703-bff7-d9aae686b066"
   },
   "outputs": [
    {
     "data": {
      "application/vnd.google.colaboratory.intrinsic+json": {
       "summary": "{\n  \"name\": \"df\",\n  \"rows\": 24,\n  \"fields\": [\n    {\n      \"column\": \"url\",\n      \"properties\": {\n        \"dtype\": \"string\",\n        \"num_unique_values\": 24,\n        \"samples\": [\n          \"http://www.ci.richmond.ca.us/index.aspx?NID=2928\",\n          \"http://www.ci.richmond.ca.us/4028/43644/Campus-Bay-Mixed-Use-Project?activeLiveTab=widgets\",\n          \"http://www.ci.richmond.ca.us/viaverdiproject\"\n        ],\n        \"semantic_type\": \"\",\n        \"description\": \"\"\n      }\n    }\n  ]\n}",
       "type": "dataframe",
       "variable_name": "df"
      },
      "text/html": [
       "\n",
       "  <div id=\"df-f5a5cab5-b175-4246-bdac-43e274c1aeab\" class=\"colab-df-container\">\n",
       "    <div>\n",
       "<style scoped>\n",
       "    .dataframe tbody tr th:only-of-type {\n",
       "        vertical-align: middle;\n",
       "    }\n",
       "\n",
       "    .dataframe tbody tr th {\n",
       "        vertical-align: top;\n",
       "    }\n",
       "\n",
       "    .dataframe thead th {\n",
       "        text-align: right;\n",
       "    }\n",
       "</style>\n",
       "<table border=\"1\" class=\"dataframe\">\n",
       "  <thead>\n",
       "    <tr style=\"text-align: right;\">\n",
       "      <th></th>\n",
       "      <th>url</th>\n",
       "    </tr>\n",
       "  </thead>\n",
       "  <tbody>\n",
       "    <tr>\n",
       "      <th>0</th>\n",
       "      <td>http://www.ci.richmond.ca.us/viaverdiproject</td>\n",
       "    </tr>\n",
       "    <tr>\n",
       "      <th>1</th>\n",
       "      <td>https://www.ci.richmond.ca.us/4486/Travel-Safe...</td>\n",
       "    </tr>\n",
       "    <tr>\n",
       "      <th>2</th>\n",
       "      <td>http://www.ci.richmond.ca.us/3001/Atlas-Road-I...</td>\n",
       "    </tr>\n",
       "    <tr>\n",
       "      <th>3</th>\n",
       "      <td>http://www.ci.richmond.ca.us/index.aspx?NID=2443</td>\n",
       "    </tr>\n",
       "    <tr>\n",
       "      <th>4</th>\n",
       "      <td>http://www.ci.richmond.ca.us/2595/Mathieu-Cour...</td>\n",
       "    </tr>\n",
       "    <tr>\n",
       "      <th>5</th>\n",
       "      <td>http://www.ci.richmond.ca.us/3157/The-Point-Ri...</td>\n",
       "    </tr>\n",
       "    <tr>\n",
       "      <th>6</th>\n",
       "      <td>http://www.ci.richmond.ca.us/2775/Wet-Weather-...</td>\n",
       "    </tr>\n",
       "    <tr>\n",
       "      <th>7</th>\n",
       "      <td>http://www.ci.richmond.ca.us/index.aspx?NID=2779</td>\n",
       "    </tr>\n",
       "    <tr>\n",
       "      <th>8</th>\n",
       "      <td>http://www.ci.richmond.ca.us/index.aspx?NID=2928</td>\n",
       "    </tr>\n",
       "    <tr>\n",
       "      <th>9</th>\n",
       "      <td>http://www.ci.richmond.ca.us/3729/Bay-Area-Res...</td>\n",
       "    </tr>\n",
       "    <tr>\n",
       "      <th>10</th>\n",
       "      <td>http://www.ci.richmond.ca.us/3381/Goodrick-Ave...</td>\n",
       "    </tr>\n",
       "    <tr>\n",
       "      <th>11</th>\n",
       "      <td>http://www.ci.richmond.ca.us/2927/Bay-Walk</td>\n",
       "    </tr>\n",
       "    <tr>\n",
       "      <th>12</th>\n",
       "      <td>https://ca-richmond3.civicplus.com/3552/Chevro...</td>\n",
       "    </tr>\n",
       "    <tr>\n",
       "      <th>13</th>\n",
       "      <td>http://www.ci.richmond.ca.us/3449/Making-Waves...</td>\n",
       "    </tr>\n",
       "    <tr>\n",
       "      <th>14</th>\n",
       "      <td>http://www.ci.richmond.ca.us/3977/Richmond-Cou...</td>\n",
       "    </tr>\n",
       "    <tr>\n",
       "      <th>15</th>\n",
       "      <td>https://www.ci.richmond.ca.us/4175/47400/Duke-...</td>\n",
       "    </tr>\n",
       "    <tr>\n",
       "      <th>16</th>\n",
       "      <td>http://www.ci.richmond.ca.us/4028/43644/Campus...</td>\n",
       "    </tr>\n",
       "    <tr>\n",
       "      <th>17</th>\n",
       "      <td>http://www.ci.richmond.ca.us/4113/Cherry-Bloss...</td>\n",
       "    </tr>\n",
       "    <tr>\n",
       "      <th>18</th>\n",
       "      <td>http://www.ci.richmond.ca.us/3999/Nevin-Plaza-...</td>\n",
       "    </tr>\n",
       "    <tr>\n",
       "      <th>19</th>\n",
       "      <td>https://www.ci.richmond.ca.us/3670/PowerPlant-...</td>\n",
       "    </tr>\n",
       "    <tr>\n",
       "      <th>20</th>\n",
       "      <td>https://ca-richmond3.civicplus.com/3481/Quarry...</td>\n",
       "    </tr>\n",
       "    <tr>\n",
       "      <th>21</th>\n",
       "      <td>http://www.ci.richmond.ca.us/3757/Point-Molate...</td>\n",
       "    </tr>\n",
       "    <tr>\n",
       "      <th>22</th>\n",
       "      <td>https://www.ci.richmond.ca.us/3660/37185/Miraf...</td>\n",
       "    </tr>\n",
       "    <tr>\n",
       "      <th>23</th>\n",
       "      <td>http://www.ci.richmond.ca.us/index.aspx?NID=2939</td>\n",
       "    </tr>\n",
       "  </tbody>\n",
       "</table>\n",
       "</div>\n",
       "    <div class=\"colab-df-buttons\">\n",
       "\n",
       "  <div class=\"colab-df-container\">\n",
       "    <button class=\"colab-df-convert\" onclick=\"convertToInteractive('df-f5a5cab5-b175-4246-bdac-43e274c1aeab')\"\n",
       "            title=\"Convert this dataframe to an interactive table.\"\n",
       "            style=\"display:none;\">\n",
       "\n",
       "  <svg xmlns=\"http://www.w3.org/2000/svg\" height=\"24px\" viewBox=\"0 -960 960 960\">\n",
       "    <path d=\"M120-120v-720h720v720H120Zm60-500h600v-160H180v160Zm220 220h160v-160H400v160Zm0 220h160v-160H400v160ZM180-400h160v-160H180v160Zm440 0h160v-160H620v160ZM180-180h160v-160H180v160Zm440 0h160v-160H620v160Z\"/>\n",
       "  </svg>\n",
       "    </button>\n",
       "\n",
       "  <style>\n",
       "    .colab-df-container {\n",
       "      display:flex;\n",
       "      gap: 12px;\n",
       "    }\n",
       "\n",
       "    .colab-df-convert {\n",
       "      background-color: #E8F0FE;\n",
       "      border: none;\n",
       "      border-radius: 50%;\n",
       "      cursor: pointer;\n",
       "      display: none;\n",
       "      fill: #1967D2;\n",
       "      height: 32px;\n",
       "      padding: 0 0 0 0;\n",
       "      width: 32px;\n",
       "    }\n",
       "\n",
       "    .colab-df-convert:hover {\n",
       "      background-color: #E2EBFA;\n",
       "      box-shadow: 0px 1px 2px rgba(60, 64, 67, 0.3), 0px 1px 3px 1px rgba(60, 64, 67, 0.15);\n",
       "      fill: #174EA6;\n",
       "    }\n",
       "\n",
       "    .colab-df-buttons div {\n",
       "      margin-bottom: 4px;\n",
       "    }\n",
       "\n",
       "    [theme=dark] .colab-df-convert {\n",
       "      background-color: #3B4455;\n",
       "      fill: #D2E3FC;\n",
       "    }\n",
       "\n",
       "    [theme=dark] .colab-df-convert:hover {\n",
       "      background-color: #434B5C;\n",
       "      box-shadow: 0px 1px 3px 1px rgba(0, 0, 0, 0.15);\n",
       "      filter: drop-shadow(0px 1px 2px rgba(0, 0, 0, 0.3));\n",
       "      fill: #FFFFFF;\n",
       "    }\n",
       "  </style>\n",
       "\n",
       "    <script>\n",
       "      const buttonEl =\n",
       "        document.querySelector('#df-f5a5cab5-b175-4246-bdac-43e274c1aeab button.colab-df-convert');\n",
       "      buttonEl.style.display =\n",
       "        google.colab.kernel.accessAllowed ? 'block' : 'none';\n",
       "\n",
       "      async function convertToInteractive(key) {\n",
       "        const element = document.querySelector('#df-f5a5cab5-b175-4246-bdac-43e274c1aeab');\n",
       "        const dataTable =\n",
       "          await google.colab.kernel.invokeFunction('convertToInteractive',\n",
       "                                                    [key], {});\n",
       "        if (!dataTable) return;\n",
       "\n",
       "        const docLinkHtml = 'Like what you see? Visit the ' +\n",
       "          '<a target=\"_blank\" href=https://colab.research.google.com/notebooks/data_table.ipynb>data table notebook</a>'\n",
       "          + ' to learn more about interactive tables.';\n",
       "        element.innerHTML = '';\n",
       "        dataTable['output_type'] = 'display_data';\n",
       "        await google.colab.output.renderOutput(dataTable, element);\n",
       "        const docLink = document.createElement('div');\n",
       "        docLink.innerHTML = docLinkHtml;\n",
       "        element.appendChild(docLink);\n",
       "      }\n",
       "    </script>\n",
       "  </div>\n",
       "\n",
       "\n",
       "<div id=\"df-4b673e81-598f-4c1b-b2fc-98cb06d4ac27\">\n",
       "  <button class=\"colab-df-quickchart\" onclick=\"quickchart('df-4b673e81-598f-4c1b-b2fc-98cb06d4ac27')\"\n",
       "            title=\"Suggest charts\"\n",
       "            style=\"display:none;\">\n",
       "\n",
       "<svg xmlns=\"http://www.w3.org/2000/svg\" height=\"24px\"viewBox=\"0 0 24 24\"\n",
       "     width=\"24px\">\n",
       "    <g>\n",
       "        <path d=\"M19 3H5c-1.1 0-2 .9-2 2v14c0 1.1.9 2 2 2h14c1.1 0 2-.9 2-2V5c0-1.1-.9-2-2-2zM9 17H7v-7h2v7zm4 0h-2V7h2v10zm4 0h-2v-4h2v4z\"/>\n",
       "    </g>\n",
       "</svg>\n",
       "  </button>\n",
       "\n",
       "<style>\n",
       "  .colab-df-quickchart {\n",
       "      --bg-color: #E8F0FE;\n",
       "      --fill-color: #1967D2;\n",
       "      --hover-bg-color: #E2EBFA;\n",
       "      --hover-fill-color: #174EA6;\n",
       "      --disabled-fill-color: #AAA;\n",
       "      --disabled-bg-color: #DDD;\n",
       "  }\n",
       "\n",
       "  [theme=dark] .colab-df-quickchart {\n",
       "      --bg-color: #3B4455;\n",
       "      --fill-color: #D2E3FC;\n",
       "      --hover-bg-color: #434B5C;\n",
       "      --hover-fill-color: #FFFFFF;\n",
       "      --disabled-bg-color: #3B4455;\n",
       "      --disabled-fill-color: #666;\n",
       "  }\n",
       "\n",
       "  .colab-df-quickchart {\n",
       "    background-color: var(--bg-color);\n",
       "    border: none;\n",
       "    border-radius: 50%;\n",
       "    cursor: pointer;\n",
       "    display: none;\n",
       "    fill: var(--fill-color);\n",
       "    height: 32px;\n",
       "    padding: 0;\n",
       "    width: 32px;\n",
       "  }\n",
       "\n",
       "  .colab-df-quickchart:hover {\n",
       "    background-color: var(--hover-bg-color);\n",
       "    box-shadow: 0 1px 2px rgba(60, 64, 67, 0.3), 0 1px 3px 1px rgba(60, 64, 67, 0.15);\n",
       "    fill: var(--button-hover-fill-color);\n",
       "  }\n",
       "\n",
       "  .colab-df-quickchart-complete:disabled,\n",
       "  .colab-df-quickchart-complete:disabled:hover {\n",
       "    background-color: var(--disabled-bg-color);\n",
       "    fill: var(--disabled-fill-color);\n",
       "    box-shadow: none;\n",
       "  }\n",
       "\n",
       "  .colab-df-spinner {\n",
       "    border: 2px solid var(--fill-color);\n",
       "    border-color: transparent;\n",
       "    border-bottom-color: var(--fill-color);\n",
       "    animation:\n",
       "      spin 1s steps(1) infinite;\n",
       "  }\n",
       "\n",
       "  @keyframes spin {\n",
       "    0% {\n",
       "      border-color: transparent;\n",
       "      border-bottom-color: var(--fill-color);\n",
       "      border-left-color: var(--fill-color);\n",
       "    }\n",
       "    20% {\n",
       "      border-color: transparent;\n",
       "      border-left-color: var(--fill-color);\n",
       "      border-top-color: var(--fill-color);\n",
       "    }\n",
       "    30% {\n",
       "      border-color: transparent;\n",
       "      border-left-color: var(--fill-color);\n",
       "      border-top-color: var(--fill-color);\n",
       "      border-right-color: var(--fill-color);\n",
       "    }\n",
       "    40% {\n",
       "      border-color: transparent;\n",
       "      border-right-color: var(--fill-color);\n",
       "      border-top-color: var(--fill-color);\n",
       "    }\n",
       "    60% {\n",
       "      border-color: transparent;\n",
       "      border-right-color: var(--fill-color);\n",
       "    }\n",
       "    80% {\n",
       "      border-color: transparent;\n",
       "      border-right-color: var(--fill-color);\n",
       "      border-bottom-color: var(--fill-color);\n",
       "    }\n",
       "    90% {\n",
       "      border-color: transparent;\n",
       "      border-bottom-color: var(--fill-color);\n",
       "    }\n",
       "  }\n",
       "</style>\n",
       "\n",
       "  <script>\n",
       "    async function quickchart(key) {\n",
       "      const quickchartButtonEl =\n",
       "        document.querySelector('#' + key + ' button');\n",
       "      quickchartButtonEl.disabled = true;  // To prevent multiple clicks.\n",
       "      quickchartButtonEl.classList.add('colab-df-spinner');\n",
       "      try {\n",
       "        const charts = await google.colab.kernel.invokeFunction(\n",
       "            'suggestCharts', [key], {});\n",
       "      } catch (error) {\n",
       "        console.error('Error during call to suggestCharts:', error);\n",
       "      }\n",
       "      quickchartButtonEl.classList.remove('colab-df-spinner');\n",
       "      quickchartButtonEl.classList.add('colab-df-quickchart-complete');\n",
       "    }\n",
       "    (() => {\n",
       "      let quickchartButtonEl =\n",
       "        document.querySelector('#df-4b673e81-598f-4c1b-b2fc-98cb06d4ac27 button');\n",
       "      quickchartButtonEl.style.display =\n",
       "        google.colab.kernel.accessAllowed ? 'block' : 'none';\n",
       "    })();\n",
       "  </script>\n",
       "</div>\n",
       "\n",
       "  <div id=\"id_05d0eb52-0ba0-42e6-9db9-70af3440f390\">\n",
       "    <style>\n",
       "      .colab-df-generate {\n",
       "        background-color: #E8F0FE;\n",
       "        border: none;\n",
       "        border-radius: 50%;\n",
       "        cursor: pointer;\n",
       "        display: none;\n",
       "        fill: #1967D2;\n",
       "        height: 32px;\n",
       "        padding: 0 0 0 0;\n",
       "        width: 32px;\n",
       "      }\n",
       "\n",
       "      .colab-df-generate:hover {\n",
       "        background-color: #E2EBFA;\n",
       "        box-shadow: 0px 1px 2px rgba(60, 64, 67, 0.3), 0px 1px 3px 1px rgba(60, 64, 67, 0.15);\n",
       "        fill: #174EA6;\n",
       "      }\n",
       "\n",
       "      [theme=dark] .colab-df-generate {\n",
       "        background-color: #3B4455;\n",
       "        fill: #D2E3FC;\n",
       "      }\n",
       "\n",
       "      [theme=dark] .colab-df-generate:hover {\n",
       "        background-color: #434B5C;\n",
       "        box-shadow: 0px 1px 3px 1px rgba(0, 0, 0, 0.15);\n",
       "        filter: drop-shadow(0px 1px 2px rgba(0, 0, 0, 0.3));\n",
       "        fill: #FFFFFF;\n",
       "      }\n",
       "    </style>\n",
       "    <button class=\"colab-df-generate\" onclick=\"generateWithVariable('df')\"\n",
       "            title=\"Generate code using this dataframe.\"\n",
       "            style=\"display:none;\">\n",
       "\n",
       "  <svg xmlns=\"http://www.w3.org/2000/svg\" height=\"24px\"viewBox=\"0 0 24 24\"\n",
       "       width=\"24px\">\n",
       "    <path d=\"M7,19H8.4L18.45,9,17,7.55,7,17.6ZM5,21V16.75L18.45,3.32a2,2,0,0,1,2.83,0l1.4,1.43a1.91,1.91,0,0,1,.58,1.4,1.91,1.91,0,0,1-.58,1.4L9.25,21ZM18.45,9,17,7.55Zm-12,3A5.31,5.31,0,0,0,4.9,8.1,5.31,5.31,0,0,0,1,6.5,5.31,5.31,0,0,0,4.9,4.9,5.31,5.31,0,0,0,6.5,1,5.31,5.31,0,0,0,8.1,4.9,5.31,5.31,0,0,0,12,6.5,5.46,5.46,0,0,0,6.5,12Z\"/>\n",
       "  </svg>\n",
       "    </button>\n",
       "    <script>\n",
       "      (() => {\n",
       "      const buttonEl =\n",
       "        document.querySelector('#id_05d0eb52-0ba0-42e6-9db9-70af3440f390 button.colab-df-generate');\n",
       "      buttonEl.style.display =\n",
       "        google.colab.kernel.accessAllowed ? 'block' : 'none';\n",
       "\n",
       "      buttonEl.onclick = () => {\n",
       "        google.colab.notebook.generateWithVariable('df');\n",
       "      }\n",
       "      })();\n",
       "    </script>\n",
       "  </div>\n",
       "\n",
       "    </div>\n",
       "  </div>\n"
      ],
      "text/plain": [
       "                                                  url\n",
       "0        http://www.ci.richmond.ca.us/viaverdiproject\n",
       "1   https://www.ci.richmond.ca.us/4486/Travel-Safe...\n",
       "2   http://www.ci.richmond.ca.us/3001/Atlas-Road-I...\n",
       "3    http://www.ci.richmond.ca.us/index.aspx?NID=2443\n",
       "4   http://www.ci.richmond.ca.us/2595/Mathieu-Cour...\n",
       "5   http://www.ci.richmond.ca.us/3157/The-Point-Ri...\n",
       "6   http://www.ci.richmond.ca.us/2775/Wet-Weather-...\n",
       "7    http://www.ci.richmond.ca.us/index.aspx?NID=2779\n",
       "8    http://www.ci.richmond.ca.us/index.aspx?NID=2928\n",
       "9   http://www.ci.richmond.ca.us/3729/Bay-Area-Res...\n",
       "10  http://www.ci.richmond.ca.us/3381/Goodrick-Ave...\n",
       "11         http://www.ci.richmond.ca.us/2927/Bay-Walk\n",
       "12  https://ca-richmond3.civicplus.com/3552/Chevro...\n",
       "13  http://www.ci.richmond.ca.us/3449/Making-Waves...\n",
       "14  http://www.ci.richmond.ca.us/3977/Richmond-Cou...\n",
       "15  https://www.ci.richmond.ca.us/4175/47400/Duke-...\n",
       "16  http://www.ci.richmond.ca.us/4028/43644/Campus...\n",
       "17  http://www.ci.richmond.ca.us/4113/Cherry-Bloss...\n",
       "18  http://www.ci.richmond.ca.us/3999/Nevin-Plaza-...\n",
       "19  https://www.ci.richmond.ca.us/3670/PowerPlant-...\n",
       "20  https://ca-richmond3.civicplus.com/3481/Quarry...\n",
       "21  http://www.ci.richmond.ca.us/3757/Point-Molate...\n",
       "22  https://www.ci.richmond.ca.us/3660/37185/Miraf...\n",
       "23   http://www.ci.richmond.ca.us/index.aspx?NID=2939"
      ]
     },
     "execution_count": 55,
     "metadata": {},
     "output_type": "execute_result"
    }
   ],
   "source": [
    "df"
   ]
  },
  {
   "cell_type": "code",
   "execution_count": null,
   "metadata": {
    "colab": {
     "base_uri": "https://localhost:8080/",
     "height": 193
    },
    "id": "01CXDeTcdTW0",
    "outputId": "4edee97a-d131-43dd-e58e-3c935565d410"
   },
   "outputs": [
    {
     "ename": "AttributeError",
     "evalue": "'list' object has no attribute 'values'",
     "output_type": "error",
     "traceback": [
      "\u001b[0;31m---------------------------------------------------------------------------\u001b[0m",
      "\u001b[0;31mAttributeError\u001b[0m                            Traceback (most recent call last)",
      "\u001b[0;32m<ipython-input-60-650c4783ee90>\u001b[0m in \u001b[0;36m<cell line: 1>\u001b[0;34m()\u001b[0m\n\u001b[0;32m----> 1\u001b[0;31m \u001b[0mur_list\u001b[0m \u001b[0;34m=\u001b[0m \u001b[0mlist\u001b[0m\u001b[0;34m(\u001b[0m\u001b[0mextracted_content\u001b[0m\u001b[0;34m.\u001b[0m\u001b[0mvalues\u001b[0m\u001b[0;34m(\u001b[0m\u001b[0;34m)\u001b[0m\u001b[0;34m)\u001b[0m\u001b[0;34m\u001b[0m\u001b[0;34m\u001b[0m\u001b[0m\n\u001b[0m\u001b[1;32m      2\u001b[0m \u001b[0;34m\u001b[0m\u001b[0m\n\u001b[1;32m      3\u001b[0m \u001b[0;31m# Print the list of values\u001b[0m\u001b[0;34m\u001b[0m\u001b[0;34m\u001b[0m\u001b[0m\n\u001b[1;32m      4\u001b[0m \u001b[0mprint\u001b[0m\u001b[0;34m(\u001b[0m\u001b[0mur_list\u001b[0m\u001b[0;34m)\u001b[0m\u001b[0;34m\u001b[0m\u001b[0;34m\u001b[0m\u001b[0m\n",
      "\u001b[0;31mAttributeError\u001b[0m: 'list' object has no attribute 'values'"
     ]
    }
   ],
   "source": []
  },
  {
   "cell_type": "code",
   "execution_count": null,
   "metadata": {
    "colab": {
     "base_uri": "https://localhost:8080/"
    },
    "id": "hIMRrA61imD9",
    "outputId": "c64dba5b-d10b-4e60-af48-5aae02d39605"
   },
   "outputs": [
    {
     "name": "stdout",
     "output_type": "stream",
     "text": [
      "['http://www.ci.richmond.ca.us/viaverdiproject', 'https://www.ci.richmond.ca.us/4486/Travel-Safe-Richmond', 'http://www.ci.richmond.ca.us/3001/Atlas-Road-Industrial-Building-Project', 'http://www.ci.richmond.ca.us/index.aspx?NID=2443', 'http://www.ci.richmond.ca.us/2595/Mathieu-Court-Alley-Greening-Project', 'http://www.ci.richmond.ca.us/3157/The-Point-Richmond-Residential-Project', 'http://www.ci.richmond.ca.us/2775/Wet-Weather-Storage', 'http://www.ci.richmond.ca.us/index.aspx?NID=2779', 'http://www.ci.richmond.ca.us/index.aspx?NID=2928', 'http://www.ci.richmond.ca.us/3729/Bay-Area-Rescue-Mission-Bridge-of-Hope-P', 'http://www.ci.richmond.ca.us/3381/Goodrick-Avenue-Bay-Trail-Gap-Closure-Pr', 'http://www.ci.richmond.ca.us/2927/Bay-Walk', 'https://ca-richmond3.civicplus.com/3552/Chevron-Richmond-Refinery-Modernization-', 'http://www.ci.richmond.ca.us/3449/Making-Waves-Academy-Expansion-Project', 'http://www.ci.richmond.ca.us/3977/Richmond-Country-Club-Residential-Projec', 'https://www.ci.richmond.ca.us/4175/47400/Duke-Realty-Light-Industrial-Warehouse?activeLiveTab=widgets', 'http://www.ci.richmond.ca.us/4028/43644/Campus-Bay-Mixed-Use-Project?activeLiveTab=widgets', 'http://www.ci.richmond.ca.us/4113/Cherry-Blossom-Row-Project', 'http://www.ci.richmond.ca.us/3999/Nevin-Plaza-Project', 'https://www.ci.richmond.ca.us/3670/PowerPlant-Park-Project', 'https://ca-richmond3.civicplus.com/3481/Quarry-Residential-Project', 'http://www.ci.richmond.ca.us/3757/Point-Molate-Mixed-Use-Project', 'https://www.ci.richmond.ca.us/3660/37185/Miraflores-Residential-Development?activeLiveTab=widgets', 'http://www.ci.richmond.ca.us/index.aspx?NID=2939']\n"
     ]
    }
   ],
   "source": []
  },
  {
   "cell_type": "code",
   "execution_count": null,
   "metadata": {
    "id": "izpu6PBak6xj"
   },
   "outputs": [],
   "source": [
    "!pip install streamlit"
   ]
  },
  {
   "cell_type": "code",
   "execution_count": null,
   "metadata": {
    "colab": {
     "background_save": true
    },
    "id": "yOPlyMom-6Ud",
    "outputId": "6f635e9b-5224-4039-9a08-f118ecbb9eb8"
   },
   "outputs": [
    {
     "name": "stdout",
     "output_type": "stream",
     "text": [
      "Requirement already satisfied: pytube in /usr/local/lib/python3.10/dist-packages (15.0.0)\n"
     ]
    }
   ],
   "source": [
    "!pip install pytube"
   ]
  },
  {
   "cell_type": "code",
   "execution_count": null,
   "metadata": {
    "colab": {
     "background_save": true
    },
    "id": "Ed8Q3nrE-9PS",
    "outputId": "7284086e-3784-495f-87b0-30749804e559"
   },
   "outputs": [
    {
     "name": "stdout",
     "output_type": "stream",
     "text": [
      "\u001b[K\u001b[?25h\u001b[37;40mnpm\u001b[0m \u001b[0m\u001b[30;43mWARN\u001b[0m \u001b[0m\u001b[35msaveError\u001b[0m ENOENT: no such file or directory, open '/content/package.json'\n",
      "\u001b[0m\u001b[37;40mnpm\u001b[0m \u001b[0m\u001b[30;43mWARN\u001b[0m \u001b[0m\u001b[35menoent\u001b[0m ENOENT: no such file or directory, open '/content/package.json'\n",
      "\u001b[0m\u001b[37;40mnpm\u001b[0m \u001b[0m\u001b[30;43mWARN\u001b[0m\u001b[35m\u001b[0m content No description\n",
      "\u001b[0m\u001b[37;40mnpm\u001b[0m \u001b[0m\u001b[30;43mWARN\u001b[0m\u001b[35m\u001b[0m content No repository field.\n",
      "\u001b[0m\u001b[37;40mnpm\u001b[0m \u001b[0m\u001b[30;43mWARN\u001b[0m\u001b[35m\u001b[0m content No README data\n",
      "\u001b[0m\u001b[37;40mnpm\u001b[0m \u001b[0m\u001b[30;43mWARN\u001b[0m\u001b[35m\u001b[0m content No license field.\n",
      "\u001b[0m\n",
      "\u001b[K\u001b[?25h+ localtunnel@2.0.2\n",
      "updated 1 package and audited 36 packages in 0.486s\n",
      "\n",
      "3 packages are looking for funding\n",
      "  run `npm fund` for details\n",
      "\n",
      "found 2 \u001b[93mmoderate\u001b[0m severity vulnerabilities\n",
      "  run `npm audit fix` to fix them, or `npm audit` for details\n",
      "\u001b[K\u001b[?25h"
     ]
    }
   ],
   "source": [
    "!npm install localtunnel"
   ]
  },
  {
   "cell_type": "code",
   "execution_count": null,
   "metadata": {
    "id": "LTSdN9Oe-_fV"
   },
   "outputs": [],
   "source": [
    "!streamlit run /content/drive/MyDrive/app.py &>/content/logs.txt &"
   ]
  },
  {
   "cell_type": "code",
   "execution_count": null,
   "metadata": {
    "id": "CsPcjszr_FD0"
   },
   "outputs": [],
   "source": [
    "!wget -q -O - https://loca.lt/mytunnelpassword"
   ]
  },
  {
   "cell_type": "code",
   "execution_count": null,
   "metadata": {
    "colab": {
     "base_uri": "https://localhost:8080/"
    },
    "id": "livjjnqt_HME",
    "outputId": "858d2274-5ff7-45a7-9e49-36171dcdcf2f"
   },
   "outputs": [
    {
     "name": "stdout",
     "output_type": "stream",
     "text": [
      "\u001b[K\u001b[?25hnpx: installed 22 in 1.286s\n",
      "your url is: https://rare-rockets-judge.loca.lt\n",
      "/root/.npm/_npx/12347/lib/node_modules/localtunnel/bin/lt.js:81\n",
      "    throw err;\n",
      "    ^\n",
      "\n",
      "Error: connection refused: localtunnel.me:42017 (check your firewall settings)\n",
      "    at Socket.<anonymous> (/root/.npm/_npx/12347/lib/node_modules/\u001b[4mlocaltunnel\u001b[24m/lib/TunnelCluster.js:52:11)\n",
      "\u001b[90m    at Socket.emit (events.js:315:20)\u001b[39m\n",
      "\u001b[90m    at emitErrorNT (internal/streams/destroy.js:106:8)\u001b[39m\n",
      "\u001b[90m    at emitErrorCloseNT (internal/streams/destroy.js:74:3)\u001b[39m\n",
      "\u001b[90m    at processTicksAndRejections (internal/process/task_queues.js:80:21)\u001b[39m\n"
     ]
    }
   ],
   "source": [
    "!npx localtunnel --port 8501"
   ]
  },
  {
   "cell_type": "code",
   "execution_count": null,
   "metadata": {
    "colab": {
     "base_uri": "https://localhost:8080/"
    },
    "id": "lfeCiuF9_N2B",
    "outputId": "a61f0204-2938-4b00-8361-e5bd2a9de61a"
   },
   "outputs": [
    {
     "name": "stderr",
     "output_type": "stream",
     "text": [
      "\u001b[1;38;5;39mCOMET INFO:\u001b[0m Valid Comet API Key saved in /content/drive/MyDrive/.comet.config (set COMET_CONFIG to change where it is saved).\n"
     ]
    }
   ],
   "source": [
    "import nest_asyncio\n",
    "import time\n",
    "nest_asyncio.apply()\n",
    "\n",
    "# Import required modules from langchain\n",
    "from langchain_openai import ChatOpenAI\n",
    "from langchain_community.document_loaders import AsyncChromiumLoader\n",
    "from langchain_community.document_transformers import BeautifulSoupTransformer\n",
    "from langchain.text_splitter import RecursiveCharacterTextSplitter\n",
    "from langchain.chains import create_extraction_chain\n",
    "from google.colab import userdata\n",
    "MY_OPENAI_KEY=\"\"\n",
    "MY_COMET_KEY=\"\"\n",
    "import comet_llm\n",
    "import pandas as pd\n",
    "# Initialize a Comet project\n",
    "comet_llm.init(project=\"langchain-web-scraping\",\n",
    "               api_key=MY_COMET_KEY,\n",
    "               )\n",
    "\n",
    "\n",
    "html_tags = [\n",
    "    \"h1\", \"h2\", \"h3\", \"h4\", \"h5\", \"h6\",\n",
    "    \"p\",\n",
    "    \"span\",\n",
    "    \"div\",\n",
    "    \"ul\", \"ol\", \"li\",\n",
    "    \"table\", \"tr\", \"th\", \"td\",\n",
    "    \"a\",\n",
    "    \"b\", \"strong\",\n",
    "    \"i\", \"em\",\n",
    "    \"blockquote\", \"q\", \"cite\",\n",
    "    \"code\", \"pre\",\n",
    "    \"form\", \"input\", \"textarea\", \"label\",\n",
    "    \"dl\", \"dt\", \"dd\",\n",
    "    \"article\",\n",
    "    \"section\",\n",
    "    \"nav\",\n",
    "    \"aside\",\n",
    "    \"header\",\n",
    "    \"footer\",\n",
    "    \"main\",\n",
    "    \"figure\", \"figcaption\",\n",
    "    \"details\", \"summary\",\n",
    "    \"mark\",\n",
    "    \"time\"\n",
    "]\n",
    "\n",
    "def extract_url(url):\n",
    "  print(url)\n",
    "  url_loader = AsyncChromiumLoader([url])\n",
    "  url_docs = url_loader.load()\n",
    "  bs_transformer = BeautifulSoupTransformer()\n",
    "  url_transfornm = bs_transformer.transform_documents(\n",
    "  url_docs, tags_to_extract=[\"a\"]\n",
    ")\n",
    "  llm = ChatOpenAI(openai_api_key=MY_OPENAI_KEY)\n",
    "  url_splitter = RecursiveCharacterTextSplitter.from_tiktoken_encoder(chunk_size=15000, chunk_overlap=0)\n",
    "  url_splits = url_splitter.split_documents(url_transfornm)\n",
    "\n",
    "  url_schema = {\n",
    "    \"properties\": {\n",
    "\n",
    "        \"url\": {\"type\": \"string\"},\n",
    "    },\n",
    "    \"required\": [\"url\"],\n",
    "}\n",
    "  if len(url_splits)>0:\n",
    "    start_time = time.time()\n",
    "    extracted_content = create_extraction_chain(schema=url_schema, llm=llm).run(url_splits[0].page_content)\n",
    "    end_time = time.time()\n",
    "    comet_llm.log_prompt(\n",
    "  prompt=str(url_splits[0].page_content),\n",
    "  metadata= {\n",
    "            \"schema\": url_schema\n",
    "        },\n",
    "  output= extracted_content,\n",
    "  duration= end_time - start_time,\n",
    "    )\n",
    "    url_list = [d['url'] for d in extracted_content]\n",
    "\n",
    "\n",
    "  return url_list\n",
    "\n",
    "def extract_content(urls):\n",
    "  contents=[]\n",
    "  for url in urls:\n",
    "    url_loader = AsyncChromiumLoader([url])\n",
    "    content_docs = url_loader.load()\n",
    "    bs_transformer = BeautifulSoupTransformer()\n",
    "    content_transfornm = bs_transformer.transform_documents(content_docs, tags_to_extract=html_tags)\n",
    "    content=content_transfornm[0].page_content\n",
    "    contents.append(content)\n",
    "  return contents\n",
    "\n",
    "class Document:\n",
    "    def __init__(self, page_content,metadata):\n",
    "        self.page_content = page_content\n",
    "        self.metadata = metadata\n",
    "\n",
    "    def __repr__(self):\n",
    "        return f'Document(page_content=\"{self.page_content},metadata={self.metadata} \")'\n",
    "\n",
    "def generate_output(resulted_content):\n",
    "  llm = ChatOpenAI(openai_api_key=MY_OPENAI_KEY)\n",
    "  splitter = RecursiveCharacterTextSplitter.from_tiktoken_encoder(chunk_size=15000, chunk_overlap=0)\n",
    "  splits = splitter.split_documents(resulted_content)\n",
    "  schema = {\n",
    "    \"properties\": {\n",
    "        \"original_id\": {\n",
    "            \"type\": \"string\",\n",
    "            \"description\": \"Unique from source\",\n",
    "            \"expectations\": [\"expect_column_to_exist\", \"expect_column_values_to_be_of_type\", \"expect_column_values_to_be_unique\"]\n",
    "        },\n",
    "        \"aug_id\": {\n",
    "            \"type\": \"string\",\n",
    "            \"description\": \"Augmented identifier from the context\",\n",
    "            \"expectations\": [\"expect_column_to_exist\", \"expect_column_values_to_be_of_type\", \"expect_column_values_to_be_unique\"]\n",
    "        },\n",
    "        \"country_name\": {\n",
    "            \"type\": \"string\",\n",
    "            \"description\": \"Name of the Country\",\n",
    "            \"expectations\": [\"expect_column_to_exist\", \"expect_column_values_to_be_in_set\"]\n",
    "        },\n",
    "        \"country_code\": {\n",
    "            \"type\": \"string\",\n",
    "            \"description\": \"ISO 3-letter Country Code\",\n",
    "            \"expectations\": [\"expect_column_to_exist\", \"expect_column_values_to_be_in_set\", \"expect_column_values_to_be_valid_iso_country\"]\n",
    "        },\n",
    "        \"map_coordinates\": {\n",
    "            \"type\": \"object\",\n",
    "            \"description\": \"Geo Point of the region formatted as {'type': 'Point', 'coordinates': [longitude, latitude]}\",\n",
    "            \"properties\": {\n",
    "                \"type\": {\"type\": \"string\"},\n",
    "                \"coordinates\": {\n",
    "                    \"type\": \"array\",\n",
    "                    \"items\": {\"type\": \"number\"}\n",
    "                }\n",
    "            },\n",
    "            \"expectations\": [\"expect_column_to_exist\", \"expect_column_values_to_be_of_type\", \"expect_column_values_to_be_valid_geojson\"]\n",
    "        },\n",
    "        \"url\": {\n",
    "            \"type\": \"string\",\n",
    "            \"description\": \"Url of the website of the source\",\n",
    "            \"format\": \"uri\",\n",
    "            \"expectations\": [\"expect_column_to_exist\", \"expect_column_values_to_be_valid_urls\", \"expect_column_values_to_be_unique\"]\n",
    "        },\n",
    "        \"region_name\": {\n",
    "            \"type\": \"string\",\n",
    "            \"description\": \"Region Name for a Country according to World Bank Standards\",\n",
    "            \"expectations\": [\"expect_column_to_exist\", \"expect_column_values_to_be_in_set\"]\n",
    "        },\n",
    "        \"region_code\": {\n",
    "            \"type\": \"string\",\n",
    "            \"description\": \"Region code for a Region according to World Bank Standards\",\n",
    "            \"expectations\": [\"expect_column_to_exist\", \"expect_column_values_to_be_in_set\"]\n",
    "        },\n",
    "        \"Project_title\": {\n",
    "            \"type\": \"string\",\n",
    "            \"description\": \"A title for this tender/project used as a headline\",\n",
    "            \"expectations\": [\"expect_column_to_exist\", \"expect_column_values_to_be_unique\"]\n",
    "        },\n",
    "        \"Project_description\": {\n",
    "            \"type\": \"string\",\n",
    "            \"description\": \"A summary description of the tender/project\",\n",
    "            \"expectations\": [\"expect_column_to_exist\"]\n",
    "        },\n",
    "        \"status\": {\n",
    "            \"type\": \"string\",\n",
    "            \"description\": \"The current status of the tender/project from the closed tenderStatus codelist\",\n",
    "            \"expectations\": [\"expect_column_to_exist\", \"expect_column_values_to_be_in_set\"]\n",
    "        },\n",
    "        \"stages\": {\n",
    "            \"type\": \"string\",\n",
    "            \"description\": \"Stages of the tender/project\",\n",
    "            \"expectations\": [\"expect_column_to_exist\"]\n",
    "        },\n",
    "        \"date\": {\n",
    "            \"type\": \"string\",\n",
    "            \"description\": \"The date on which the information was first recorded or published\",\n",
    "            \"format\": \"date\",\n",
    "            \"expectations\": [\"expect_column_to_exist\", \"expect_column_values_to_match_strftime_format\"]\n",
    "        },\n",
    "        \"procurementMethod\": {\n",
    "            \"type\": \"string\",\n",
    "            \"description\": \"The procedure used to purchase the relevant works, goods or services\",\n",
    "            \"expectations\": [\"expect_column_to_exist\", \"expect_column_values_to_be_in_set\"]\n",
    "        },\n",
    "        \"budget\": {\n",
    "            \"type\": \"number\",\n",
    "            \"description\": \"The total upper estimated value of the procurement. A negative value indicates that the contracting process may involve payments from the supplier to the buyer (commonly used in concession contracts)\",\n",
    "            \"expectations\": [\"expect_column_to_exist\", \"expect_column_values_to_be_of_type\"]\n",
    "        },\n",
    "        \"currency\": {\n",
    "            \"type\": \"string\",\n",
    "            \"description\": \"The currency for each amount specified using the uppercase 3-letter code from ISO4217\",\n",
    "            \"expectations\": [\"expect_column_to_exist\", \"expect_column_values_to_be_valid_currency_code\"]\n",
    "        },\n",
    "        \"buyer\": {\n",
    "            \"type\": \"string\",\n",
    "            \"description\": \"Entity whose budget will be used to pay for related goods, works or services\",\n",
    "            \"expectations\": [\"expect_column_to_exist\"]\n",
    "        },\n",
    "        \"sector\": {\n",
    "            \"type\": \"string\",\n",
    "            \"description\": \"A high-level categorization of the main sector this procurement process relates to\",\n",
    "            \"expectations\": [\"expect_column_to_exist\", \"expect_column_values_to_be_in_set\"]\n",
    "        },\n",
    "        \"subsector\": {\n",
    "            \"type\": \"string\",\n",
    "            \"description\": \"A further subdivision of the sector the procurement process belongs to\",\n",
    "            \"expectations\": [\"expect_column_to_exist\", \"expect_column_values_to_be_in_set\"]\n",
    "        }\n",
    "    },\n",
    "    \"required\": [\n",
    "        \"original_id\", \"aug_id\", \"country_name\", \"country_code\", \"map_coordinates\", \"url\",\n",
    "        \"region_name\", \"region_code\", \"title\", \"description\", \"status\", \"stages\", \"date\",\n",
    "        \"procurementMethod\", \"budget\", \"currency\", \"buyer\", \"sector\", \"subsector\"\n",
    "    ]\n",
    "}\n",
    "\n",
    "  if len(splits)>0:\n",
    "    start_time = time.time()\n",
    "    extracted_content = create_extraction_chain(schema=schema, llm=llm).run(splits[0].page_content)\n",
    "    end_time = time.time()\n",
    "\n",
    "\n",
    "    comet_llm.log_prompt(\n",
    "    prompt=str(splits[0].page_content),\n",
    "    metadata= {\n",
    "            \"schema\": schema\n",
    "        },\n",
    "    output= extracted_content,\n",
    "    duration= end_time - start_time,\n",
    "    )\n",
    "\n",
    "\n",
    "\n",
    "  return extracted_content"
   ]
  },
  {
   "cell_type": "code",
   "execution_count": null,
   "metadata": {
    "colab": {
     "base_uri": "https://localhost:8080/"
    },
    "id": "S0oxJVWko_O7",
    "outputId": "ac303310-1bf5-4469-8914-36596b15cdf5"
   },
   "outputs": [
    {
     "name": "stderr",
     "output_type": "stream",
     "text": [
      "\u001b[1;38;5;39mCOMET INFO:\u001b[0m Valid Comet API Key saved in /content/drive/MyDrive/.comet.config (set COMET_CONFIG to change where it is saved).\n"
     ]
    }
   ],
   "source": [
    "import nest_asyncio\n",
    "import time\n",
    "import pandas as pd\n",
    "from langchain_openai import ChatOpenAI\n",
    "from langchain_community.document_loaders import AsyncChromiumLoader\n",
    "from langchain_community.document_transformers import BeautifulSoupTransformer\n",
    "from langchain.text_splitter import RecursiveCharacterTextSplitter\n",
    "from langchain.chains import create_extraction_chain\n",
    "from google.colab import userdata\n",
    "import comet_llm\n",
    "\n",
    "nest_asyncio.apply()\n",
    "\n",
    "MY_OPENAI_KEY = \"\"\n",
    "MY_COMET_KEY = \"\"\n",
    "\n",
    "comet_llm.init(project=\"langchain-web-scraping\", api_key=MY_COMET_KEY)\n",
    "\n",
    "html_tags = [\n",
    "    \"h1\", \"h2\", \"h3\", \"h4\", \"h5\", \"h6\",\n",
    "    \"p\",\n",
    "    \"span\",\n",
    "    \"div\",\n",
    "    \"ul\", \"ol\", \"li\",\n",
    "    \"table\", \"tr\", \"th\", \"td\",\n",
    "    \"a\",\n",
    "    \"b\", \"strong\",\n",
    "    \"i\", \"em\",\n",
    "    \"blockquote\", \"q\", \"cite\",\n",
    "    \"code\", \"pre\",\n",
    "    \"form\", \"input\", \"textarea\", \"label\",\n",
    "    \"dl\", \"dt\", \"dd\",\n",
    "    \"article\",\n",
    "    \"section\",\n",
    "    \"nav\",\n",
    "    \"aside\",\n",
    "    \"header\",\n",
    "    \"footer\",\n",
    "    \"main\",\n",
    "    \"figure\", \"figcaption\",\n",
    "    \"details\", \"summary\",\n",
    "    \"mark\",\n",
    "    \"time\"\n",
    "]\n",
    "\n",
    "def extract_url(url):\n",
    "    print(url)\n",
    "    url_loader = AsyncChromiumLoader([url])\n",
    "    url_docs = url_loader.load()\n",
    "    bs_transformer = BeautifulSoupTransformer()\n",
    "    url_transfornm = bs_transformer.transform_documents(\n",
    "        url_docs, tags_to_extract=[\"a\"]\n",
    "    )\n",
    "    llm = ChatOpenAI(openai_api_key=MY_OPENAI_KEY)\n",
    "    url_splitter = RecursiveCharacterTextSplitter.from_tiktoken_encoder(chunk_size=15000, chunk_overlap=0)\n",
    "    url_splits = url_splitter.split_documents(url_transfornm)\n",
    "\n",
    "    url_schema = {\n",
    "        \"properties\": {\n",
    "            \"url\": {\"type\": \"string\"},\n",
    "        },\n",
    "        \"required\": [\"url\"],\n",
    "    }\n",
    "    url_list = []\n",
    "\n",
    "    if len(url_splits) > 0:\n",
    "        start_time = time.time()\n",
    "        extracted_content = create_extraction_chain(schema=url_schema, llm=llm).run(url_splits[0].page_content)\n",
    "        end_time = time.time()\n",
    "        comet_llm.log_prompt(\n",
    "            prompt=str(url_splits[0].page_content),\n",
    "            metadata={\"schema\": url_schema},\n",
    "            output=extracted_content,\n",
    "            duration=end_time - start_time,\n",
    "        )\n",
    "        url_list = [d['url'] for d in extracted_content]\n",
    "\n",
    "    return url_list\n",
    "\n",
    "def extract_content(urls):\n",
    "    contents = []\n",
    "    for url in urls:\n",
    "        url_loader = AsyncChromiumLoader([url])\n",
    "        content_docs = url_loader.load()\n",
    "        bs_transformer = BeautifulSoupTransformer()\n",
    "        content_transfornm = bs_transformer.transform_documents(content_docs, tags_to_extract=html_tags)\n",
    "        content = content_transfornm[0].page_content\n",
    "        contents.append(content)\n",
    "    return contents\n",
    "\n",
    "class Document:\n",
    "    def __init__(self, page_content, metadata):\n",
    "        self.page_content = page_content\n",
    "        self.metadata = metadata\n",
    "\n",
    "    def __repr__(self):\n",
    "        return f'Document(page_content=\"{self.page_content},metadata={self.metadata} \")'\n",
    "\n",
    "def generate_output(resulted_content):\n",
    "    llm = ChatOpenAI(openai_api_key=MY_OPENAI_KEY)\n",
    "    splitter = RecursiveCharacterTextSplitter.from_tiktoken_encoder(chunk_size=15000, chunk_overlap=0)\n",
    "    splits = splitter.split_documents(resulted_content)\n",
    "    schema = {\n",
    "        \"properties\": {\n",
    "            \"original_id\": {\"type\": \"string\", \"description\": \"Unique from source\"},\n",
    "            \"aug_id\": {\"type\": \"string\", \"description\": \"Augmented identifier from the context\"},\n",
    "            \"country_name\": {\"type\": \"string\", \"description\": \"Name of the Country\"},\n",
    "            \"country_code\": {\"type\": \"string\", \"description\": \"ISO 3-letter Country Code\"},\n",
    "            \"map_coordinates\": {\n",
    "                \"type\": \"object\",\n",
    "                \"description\": \"Geo Point of the region formatted as {'type': 'Point', 'coordinates': [longitude, latitude]}\",\n",
    "                \"properties\": {\"type\": {\"type\": \"string\"}, \"coordinates\": {\"type\": \"array\", \"items\": {\"type\": \"number\"}}},\n",
    "            },\n",
    "            \"url\": {\"type\": \"string\", \"description\": \"Url of the website of the source\", \"format\": \"uri\"},\n",
    "            \"region_name\": {\"type\": \"string\", \"description\": \"Region Name for a Country according to World Bank Standards\"},\n",
    "            \"region_code\": {\"type\": \"string\", \"description\": \"Region code for a Region according to World Bank Standards\"},\n",
    "            \"Project_title\": {\"type\": \"string\", \"description\": \"A title for this tender/project used as a headline\"},\n",
    "            \"Project_description\": {\"type\": \"string\", \"description\": \"A summary description of the tender/project\"},\n",
    "            \"status\": {\"type\": \"string\", \"description\": \"The current status of the tender/project from the closed tenderStatus codelist\"},\n",
    "            \"stages\": {\"type\": \"string\", \"description\": \"Stages of the tender/project\"},\n",
    "            \"date\": {\"type\": \"string\", \"description\": \"The date on which the information was first recorded or published\", \"format\": \"date\"},\n",
    "            \"procurementMethod\": {\"type\": \"string\", \"description\": \"The procedure used to purchase the relevant works, goods or services\"},\n",
    "            \"budget\": {\"type\": \"number\", \"description\": \"The total upper estimated value of the procurement\"},\n",
    "            \"currency\": {\"type\": \"string\", \"description\": \"The currency for each amount specified using the uppercase 3-letter code from ISO4217\"},\n",
    "            \"buyer\": {\"type\": \"string\", \"description\": \"Entity whose budget will be used to pay for related goods, works or services\"},\n",
    "            \"sector\": {\"type\": \"string\", \"description\": \"A high-level categorization of the main sector this procurement process relates to\"},\n",
    "            \"subsector\": {\"type\": \"string\", \"description\": \"A further subdivision of the sector the procurement process belongs to\"},\n",
    "        },\n",
    "        \"required\": [\n",
    "            \"original_id\", \"aug_id\", \"country_name\", \"country_code\", \"map_coordinates\", \"url\",\n",
    "            \"region_name\", \"region_code\", \"title\", \"description\", \"status\", \"stages\", \"date\",\n",
    "            \"procurementMethod\", \"budget\", \"currency\", \"buyer\", \"sector\", \"subsector\"\n",
    "        ]\n",
    "    }\n",
    "\n",
    "    if len(splits) > 0:\n",
    "        start_time = time.time()\n",
    "        extracted_content = create_extraction_chain(schema=schema, llm=llm).run(splits[0].page_content)\n",
    "        end_time = time.time()\n",
    "\n",
    "        comet_llm.log_prompt(\n",
    "            prompt=str(splits[0].page_content),\n",
    "            metadata={\"schema\": schema},\n",
    "            output=extracted_content,\n",
    "            duration=end_time - start_time,\n",
    "        )\n",
    "\n",
    "    return extracted_content\n",
    "\n",
    "\n",
    "\n",
    "\n"
   ]
  },
  {
   "cell_type": "code",
   "execution_count": null,
   "metadata": {
    "id": "nzBNvEyWFZHS"
   },
   "outputs": [],
   "source": [
    "urls = \"https://www.ci.richmond.ca.us/1404/Major-Projects, https://www.bakersfieldcity.us/518/Projects-Programs, https://www.cityofwasco.org/311/Current-Projects, https://www.eurekaca.gov/744/Upcoming-Projects, https://www.cityofarcata.org/413/Current-City-Construction-Projects, https://www.mckinleyvillecsd.com/news-and-project-updates, https://www.cityofsanrafael.org/major-planning-projects-2/, https://www.novato.org/government/community-development/planning-division/planning-projects?locale=en, https://www.cityofmillvalley.org/258/Projects, https://riversideca.gov/utilities/projects, https://www.moval.org/cdd/documents/about-projects.html, https://www.coronaca.gov/government/departments-divisions/department-of-water-and-power/construction, http://www.cityofsacramento.org/public-works/engineering-services/projects, https://www.citrusheights.net/292/Current-Projects, https://www.elkgrovecity.org/southeast-policy-area/development-projects, https://www.sbcity.org/city_hall/community_economic_development/development_projects, https://www.fontanaca.gov/765/Current-Projects, https://www.ontarioca.gov/Planning/CurrentPlanning, https://www.chulavistaca.gov/departments/development-services/city-projects, https://www.ci.oceanside.ca.us/government/development-services/engineering/capital-improvement-program/current-projects, https://www.slocity.org/government/department-directory/parks-and-recreation/current-projects, https://www.prcity.com/363/City-Projects, https://www.atascadero.org/index.php?option=com_content&view=article&id=652&Itemid=1723, https://www.cityofsanmateo.org/1176/Whats-Happening-in-Development, https://www.dalycity.org/362/Current-Project-List, https://www.cityoflompoc.com/government/departments/economic-community-development/planning-division/major-project-updates, https://www.santamariagroup.com/projects, https://www.santaclaraca.gov/business-development/development-projects/projects-listing, https://www.ci.vacaville.ca.us/government/community-development/major-development-projects?locale=en, https://www.cityofvallejo.net/our_city/departments_divisions/planning_development_services/economic_development_department/development_projects, https://www.fairfield.ca.gov/government/city-departments/community-development/planning-division/development-activity?locale=en, https://www.fairfield.ca.gov/government/city-departments/public-works/capital-improvement-projects, https://www.rpcity.org/city_hall/departments/development_services/engineering/projects_in_progress, https://www.srcity.org/3212/Current-Projects, https://cityofpetaluma.org/planning-projects/, https://www.toaks.org/departments/public-works/construction, https://www.simivalley.org/departments/public-works/public-works-engineering/capital-projects/current-capital-projects, https://www.shorelinewa.gov/government/projects-initiatives,https://data.ca.gov/dataset/?q=construction+and+infrastructure+projects&sort=score+desc%2C+metadata_modified+desc,https://dot.ca.gov/programs/procurement-and-contracts/bid-opportunities,https://www.cityofarcata.org/413/Current-City-Construction-Projects,https://www.cityofsanrafael.org/major-planning-projects-2/,https://www.elkgrovecity.org/southeast-policy-area/development-projects,https://www.fluor.com/market-reach/industries/infrastructure,https://www.fluor.com/projects,https://www.toaks.org/departments/public-works/construction\"\n",
    "urls = [item.strip() for item in urls.split(\",\")]"
   ]
  },
  {
   "cell_type": "code",
   "execution_count": 32,
   "metadata": {
    "colab": {
     "base_uri": "https://localhost:8080/"
    },
    "id": "B2MdJqlYCLN6",
    "outputId": "b48e5885-01fc-4242-e665-6a3d7069dde2"
   },
   "outputs": [
    {
     "name": "stdout",
     "output_type": "stream",
     "text": [
      "['https://data.ca.gov/dataset/?q=construction+and+infrastructure+projects&sort=score+desc%2C+metadata_modified+desc', 'https://dot.ca.gov/programs/procurement-and-contracts/bid-opportunities', 'https://www.cityofarcata.org/413/Current-City-Construction-Projects', 'https://www.cityofsanrafael.org/major-planning-projects-2/', 'https://www.elkgrovecity.org/southeast-policy-area/development-projects', 'https://www.fluor.com/market-reach/industries/infrastructure', 'https://www.fluor.com/projects', 'https://www.toaks.org/departments/public-works/construction']\n"
     ]
    }
   ],
   "source": [
    "print(urls[38:])"
   ]
  },
  {
   "cell_type": "code",
   "execution_count": 33,
   "metadata": {
    "id": "kyUGuqWLCYAe"
   },
   "outputs": [],
   "source": [
    "m=['https://data.ca.gov/dataset/?q=construction+and+infrastructure+projects&sort=score+desc%2C+metadata_modified+desc', 'https://dot.ca.gov/programs/procurement-and-contracts/bid-opportunities', 'https://www.cityofarcata.org/413/Current-City-Construction-Projects', 'https://www.cityofsanrafael.org/major-planning-projects-2/', 'https://www.elkgrovecity.org/southeast-policy-area/development-projects', 'https://www.fluor.com/market-reach/industries/infrastructure', 'https://www.fluor.com/projects', 'https://www.toaks.org/departments/public-works/construction']\n"
   ]
  },
  {
   "cell_type": "code",
   "execution_count": 34,
   "metadata": {
    "colab": {
     "base_uri": "https://localhost:8080/"
    },
    "id": "iUfANu5f45aM",
    "outputId": "0bc45fd0-2357-4364-e7bc-ac1c49cbff1a"
   },
   "outputs": [
    {
     "data": {
      "text/plain": [
       "8"
      ]
     },
     "execution_count": 34,
     "metadata": {},
     "output_type": "execute_result"
    }
   ],
   "source": [
    "len(m)"
   ]
  },
  {
   "cell_type": "code",
   "execution_count": null,
   "metadata": {
    "colab": {
     "background_save": true,
     "base_uri": "https://localhost:8080/"
    },
    "id": "2c5goF7lFq20",
    "outputId": "ffd3a3e6-8a9b-4c51-eaad-d513a2f5d7a5"
   },
   "outputs": [
    {
     "name": "stdout",
     "output_type": "stream",
     "text": [
      "https://www.ci.richmond.ca.us/1404/Major-Projects\n"
     ]
    },
    {
     "name": "stderr",
     "output_type": "stream",
     "text": [
      "/usr/local/lib/python3.10/dist-packages/langchain_core/_api/deprecation.py:119: LangChainDeprecationWarning: LangChain has introduced a method called `with_structured_output` thatis available on ChatModels capable of tool calling.You can read more about the method here: https://python.langchain.com/docs/modules/model_io/chat/structured_output/Please follow our extraction use case documentation for more guidelineson how to do information extraction with LLMs.https://python.langchain.com/docs/use_cases/extraction/.If you notice other issues, please provide feedback here:https://github.com/langchain-ai/langchain/discussions/18154\n",
      "  warn_deprecated(\n",
      "/usr/local/lib/python3.10/dist-packages/langchain_core/_api/deprecation.py:119: LangChainDeprecationWarning: The method `Chain.run` was deprecated in langchain 0.1.0 and will be removed in 0.3.0. Use invoke instead.\n",
      "  warn_deprecated(\n"
     ]
    },
    {
     "name": "stdout",
     "output_type": "stream",
     "text": [
      "Chain logged to https://www.comet.com/pradyunya-84/langchain-web-scraping\n"
     ]
    },
    {
     "name": "stderr",
     "output_type": "stream",
     "text": [
      "INFO:comet_llm.summary:Chain logged to https://www.comet.com/pradyunya-84/langchain-web-scraping\n",
      "/usr/local/lib/python3.10/dist-packages/langchain_community/document_transformers/beautiful_soup_transformer.py:94: MarkupResemblesLocatorWarning: The input looks more like a filename than markup. You may want to open this file and pass the filehandle into Beautiful Soup.\n",
      "  soup = BeautifulSoup(html_content, \"html.parser\")\n",
      "/usr/local/lib/python3.10/dist-packages/langchain_community/document_transformers/beautiful_soup_transformer.py:116: MarkupResemblesLocatorWarning: The input looks more like a filename than markup. You may want to open this file and pass the filehandle into Beautiful Soup.\n",
      "  soup = BeautifulSoup(html_content, \"html.parser\")\n",
      "/usr/local/lib/python3.10/dist-packages/langchain_community/document_transformers/beautiful_soup_transformer.py:141: MarkupResemblesLocatorWarning: The input looks more like a filename than markup. You may want to open this file and pass the filehandle into Beautiful Soup.\n",
      "  soup = BeautifulSoup(html_content, \"html.parser\")\n"
     ]
    },
    {
     "name": "stdout",
     "output_type": "stream",
     "text": [
      "https://www.bakersfieldcity.us/518/Projects-Programs\n"
     ]
    },
    {
     "name": "stderr",
     "output_type": "stream",
     "text": [
      "/usr/local/lib/python3.10/dist-packages/langchain_community/document_transformers/beautiful_soup_transformer.py:94: MarkupResemblesLocatorWarning: The input looks more like a filename than markup. You may want to open this file and pass the filehandle into Beautiful Soup.\n",
      "  soup = BeautifulSoup(html_content, \"html.parser\")\n",
      "/usr/local/lib/python3.10/dist-packages/langchain_community/document_transformers/beautiful_soup_transformer.py:116: MarkupResemblesLocatorWarning: The input looks more like a filename than markup. You may want to open this file and pass the filehandle into Beautiful Soup.\n",
      "  soup = BeautifulSoup(html_content, \"html.parser\")\n",
      "/usr/local/lib/python3.10/dist-packages/langchain_community/document_transformers/beautiful_soup_transformer.py:141: MarkupResemblesLocatorWarning: The input looks more like a filename than markup. You may want to open this file and pass the filehandle into Beautiful Soup.\n",
      "  soup = BeautifulSoup(html_content, \"html.parser\")\n"
     ]
    },
    {
     "name": "stdout",
     "output_type": "stream",
     "text": [
      "https://www.cityofwasco.org/311/Current-Projects\n",
      "https://www.eurekaca.gov/744/Upcoming-Projects\n"
     ]
    },
    {
     "name": "stderr",
     "output_type": "stream",
     "text": [
      "/usr/local/lib/python3.10/dist-packages/langchain_community/document_transformers/beautiful_soup_transformer.py:94: MarkupResemblesLocatorWarning: The input looks more like a filename than markup. You may want to open this file and pass the filehandle into Beautiful Soup.\n",
      "  soup = BeautifulSoup(html_content, \"html.parser\")\n",
      "/usr/local/lib/python3.10/dist-packages/langchain_community/document_transformers/beautiful_soup_transformer.py:116: MarkupResemblesLocatorWarning: The input looks more like a filename than markup. You may want to open this file and pass the filehandle into Beautiful Soup.\n",
      "  soup = BeautifulSoup(html_content, \"html.parser\")\n",
      "/usr/local/lib/python3.10/dist-packages/langchain_community/document_transformers/beautiful_soup_transformer.py:141: MarkupResemblesLocatorWarning: The input looks more like a filename than markup. You may want to open this file and pass the filehandle into Beautiful Soup.\n",
      "  soup = BeautifulSoup(html_content, \"html.parser\")\n"
     ]
    },
    {
     "name": "stdout",
     "output_type": "stream",
     "text": [
      "https://www.cityofarcata.org/413/Current-City-Construction-Projects\n",
      "https://www.mckinleyvillecsd.com/news-and-project-updates\n",
      "https://www.cityofsanrafael.org/major-planning-projects-2/\n",
      "https://www.novato.org/government/community-development/planning-division/planning-projects?locale=en\n",
      "https://www.cityofmillvalley.org/258/Projects\n"
     ]
    },
    {
     "name": "stderr",
     "output_type": "stream",
     "text": [
      "/usr/local/lib/python3.10/dist-packages/langchain_community/document_transformers/beautiful_soup_transformer.py:94: MarkupResemblesLocatorWarning: The input looks more like a filename than markup. You may want to open this file and pass the filehandle into Beautiful Soup.\n",
      "  soup = BeautifulSoup(html_content, \"html.parser\")\n",
      "/usr/local/lib/python3.10/dist-packages/langchain_community/document_transformers/beautiful_soup_transformer.py:116: MarkupResemblesLocatorWarning: The input looks more like a filename than markup. You may want to open this file and pass the filehandle into Beautiful Soup.\n",
      "  soup = BeautifulSoup(html_content, \"html.parser\")\n",
      "/usr/local/lib/python3.10/dist-packages/langchain_community/document_transformers/beautiful_soup_transformer.py:141: MarkupResemblesLocatorWarning: The input looks more like a filename than markup. You may want to open this file and pass the filehandle into Beautiful Soup.\n",
      "  soup = BeautifulSoup(html_content, \"html.parser\")\n"
     ]
    },
    {
     "name": "stdout",
     "output_type": "stream",
     "text": [
      "https://riversideca.gov/utilities/projects\n"
     ]
    },
    {
     "name": "stderr",
     "output_type": "stream",
     "text": [
      "/usr/local/lib/python3.10/dist-packages/langchain_community/document_transformers/beautiful_soup_transformer.py:94: MarkupResemblesLocatorWarning: The input looks more like a filename than markup. You may want to open this file and pass the filehandle into Beautiful Soup.\n",
      "  soup = BeautifulSoup(html_content, \"html.parser\")\n",
      "/usr/local/lib/python3.10/dist-packages/langchain_community/document_transformers/beautiful_soup_transformer.py:116: MarkupResemblesLocatorWarning: The input looks more like a filename than markup. You may want to open this file and pass the filehandle into Beautiful Soup.\n",
      "  soup = BeautifulSoup(html_content, \"html.parser\")\n",
      "/usr/local/lib/python3.10/dist-packages/langchain_community/document_transformers/beautiful_soup_transformer.py:141: MarkupResemblesLocatorWarning: The input looks more like a filename than markup. You may want to open this file and pass the filehandle into Beautiful Soup.\n",
      "  soup = BeautifulSoup(html_content, \"html.parser\")\n"
     ]
    },
    {
     "name": "stdout",
     "output_type": "stream",
     "text": [
      "https://www.moval.org/cdd/documents/about-projects.html\n"
     ]
    },
    {
     "name": "stderr",
     "output_type": "stream",
     "text": [
      "/usr/local/lib/python3.10/dist-packages/langchain_community/document_transformers/beautiful_soup_transformer.py:94: MarkupResemblesLocatorWarning: The input looks more like a filename than markup. You may want to open this file and pass the filehandle into Beautiful Soup.\n",
      "  soup = BeautifulSoup(html_content, \"html.parser\")\n",
      "/usr/local/lib/python3.10/dist-packages/langchain_community/document_transformers/beautiful_soup_transformer.py:116: MarkupResemblesLocatorWarning: The input looks more like a filename than markup. You may want to open this file and pass the filehandle into Beautiful Soup.\n",
      "  soup = BeautifulSoup(html_content, \"html.parser\")\n",
      "/usr/local/lib/python3.10/dist-packages/langchain_community/document_transformers/beautiful_soup_transformer.py:141: MarkupResemblesLocatorWarning: The input looks more like a filename than markup. You may want to open this file and pass the filehandle into Beautiful Soup.\n",
      "  soup = BeautifulSoup(html_content, \"html.parser\")\n"
     ]
    },
    {
     "name": "stdout",
     "output_type": "stream",
     "text": [
      "https://www.coronaca.gov/government/departments-divisions/department-of-water-and-power/construction\n",
      "http://www.cityofsacramento.org/public-works/engineering-services/projects\n",
      "https://www.citrusheights.net/292/Current-Projects\n",
      "https://www.elkgrovecity.org/southeast-policy-area/development-projects\n"
     ]
    },
    {
     "name": "stderr",
     "output_type": "stream",
     "text": [
      "/usr/local/lib/python3.10/dist-packages/langchain_community/document_transformers/beautiful_soup_transformer.py:94: MarkupResemblesLocatorWarning: The input looks more like a filename than markup. You may want to open this file and pass the filehandle into Beautiful Soup.\n",
      "  soup = BeautifulSoup(html_content, \"html.parser\")\n",
      "/usr/local/lib/python3.10/dist-packages/langchain_community/document_transformers/beautiful_soup_transformer.py:116: MarkupResemblesLocatorWarning: The input looks more like a filename than markup. You may want to open this file and pass the filehandle into Beautiful Soup.\n",
      "  soup = BeautifulSoup(html_content, \"html.parser\")\n",
      "/usr/local/lib/python3.10/dist-packages/langchain_community/document_transformers/beautiful_soup_transformer.py:141: MarkupResemblesLocatorWarning: The input looks more like a filename than markup. You may want to open this file and pass the filehandle into Beautiful Soup.\n",
      "  soup = BeautifulSoup(html_content, \"html.parser\")\n"
     ]
    },
    {
     "name": "stdout",
     "output_type": "stream",
     "text": [
      "https://www.sbcity.org/city_hall/community_economic_development/development_projects\n",
      "https://www.fontanaca.gov/765/Current-Projects\n"
     ]
    },
    {
     "name": "stderr",
     "output_type": "stream",
     "text": [
      "/usr/local/lib/python3.10/dist-packages/langchain_community/document_transformers/beautiful_soup_transformer.py:94: MarkupResemblesLocatorWarning: The input looks more like a filename than markup. You may want to open this file and pass the filehandle into Beautiful Soup.\n",
      "  soup = BeautifulSoup(html_content, \"html.parser\")\n",
      "/usr/local/lib/python3.10/dist-packages/langchain_community/document_transformers/beautiful_soup_transformer.py:116: MarkupResemblesLocatorWarning: The input looks more like a filename than markup. You may want to open this file and pass the filehandle into Beautiful Soup.\n",
      "  soup = BeautifulSoup(html_content, \"html.parser\")\n",
      "/usr/local/lib/python3.10/dist-packages/langchain_community/document_transformers/beautiful_soup_transformer.py:141: MarkupResemblesLocatorWarning: The input looks more like a filename than markup. You may want to open this file and pass the filehandle into Beautiful Soup.\n",
      "  soup = BeautifulSoup(html_content, \"html.parser\")\n"
     ]
    },
    {
     "name": "stdout",
     "output_type": "stream",
     "text": [
      "https://www.ontarioca.gov/Planning/CurrentPlanning\n",
      "https://www.chulavistaca.gov/departments/development-services/city-projects\n",
      "https://www.ci.oceanside.ca.us/government/development-services/engineering/capital-improvement-program/current-projects\n",
      "https://www.slocity.org/government/department-directory/parks-and-recreation/current-projects\n",
      "https://www.prcity.com/363/City-Projects\n"
     ]
    },
    {
     "name": "stderr",
     "output_type": "stream",
     "text": [
      "/usr/local/lib/python3.10/dist-packages/langchain_community/document_transformers/beautiful_soup_transformer.py:94: MarkupResemblesLocatorWarning: The input looks more like a filename than markup. You may want to open this file and pass the filehandle into Beautiful Soup.\n",
      "  soup = BeautifulSoup(html_content, \"html.parser\")\n",
      "/usr/local/lib/python3.10/dist-packages/langchain_community/document_transformers/beautiful_soup_transformer.py:116: MarkupResemblesLocatorWarning: The input looks more like a filename than markup. You may want to open this file and pass the filehandle into Beautiful Soup.\n",
      "  soup = BeautifulSoup(html_content, \"html.parser\")\n",
      "/usr/local/lib/python3.10/dist-packages/langchain_community/document_transformers/beautiful_soup_transformer.py:141: MarkupResemblesLocatorWarning: The input looks more like a filename than markup. You may want to open this file and pass the filehandle into Beautiful Soup.\n",
      "  soup = BeautifulSoup(html_content, \"html.parser\")\n"
     ]
    },
    {
     "name": "stdout",
     "output_type": "stream",
     "text": [
      "https://www.atascadero.org/index.php?option=com_content&view=article&id=652&Itemid=1723\n",
      "https://www.cityofsanmateo.org/1176/Whats-Happening-in-Development\n",
      "https://www.dalycity.org/362/Current-Project-List\n",
      "https://www.cityoflompoc.com/government/departments/economic-community-development/planning-division/major-project-updates\n",
      "https://www.santamariagroup.com/projects\n"
     ]
    },
    {
     "name": "stderr",
     "output_type": "stream",
     "text": [
      "/usr/local/lib/python3.10/dist-packages/langchain_community/document_transformers/beautiful_soup_transformer.py:94: MarkupResemblesLocatorWarning: The input looks more like a filename than markup. You may want to open this file and pass the filehandle into Beautiful Soup.\n",
      "  soup = BeautifulSoup(html_content, \"html.parser\")\n",
      "/usr/local/lib/python3.10/dist-packages/langchain_community/document_transformers/beautiful_soup_transformer.py:116: MarkupResemblesLocatorWarning: The input looks more like a filename than markup. You may want to open this file and pass the filehandle into Beautiful Soup.\n",
      "  soup = BeautifulSoup(html_content, \"html.parser\")\n",
      "/usr/local/lib/python3.10/dist-packages/langchain_community/document_transformers/beautiful_soup_transformer.py:141: MarkupResemblesLocatorWarning: The input looks more like a filename than markup. You may want to open this file and pass the filehandle into Beautiful Soup.\n",
      "  soup = BeautifulSoup(html_content, \"html.parser\")\n"
     ]
    },
    {
     "name": "stdout",
     "output_type": "stream",
     "text": [
      "https://www.santaclaraca.gov/business-development/development-projects/projects-listing\n",
      "https://www.ci.vacaville.ca.us/government/community-development/major-development-projects?locale=en\n",
      "https://www.cityofvallejo.net/our_city/departments_divisions/planning_development_services/economic_development_department/development_projects\n"
     ]
    },
    {
     "name": "stderr",
     "output_type": "stream",
     "text": [
      "/usr/local/lib/python3.10/dist-packages/langchain_community/document_transformers/beautiful_soup_transformer.py:94: MarkupResemblesLocatorWarning: The input looks more like a filename than markup. You may want to open this file and pass the filehandle into Beautiful Soup.\n",
      "  soup = BeautifulSoup(html_content, \"html.parser\")\n",
      "/usr/local/lib/python3.10/dist-packages/langchain_community/document_transformers/beautiful_soup_transformer.py:116: MarkupResemblesLocatorWarning: The input looks more like a filename than markup. You may want to open this file and pass the filehandle into Beautiful Soup.\n",
      "  soup = BeautifulSoup(html_content, \"html.parser\")\n",
      "/usr/local/lib/python3.10/dist-packages/langchain_community/document_transformers/beautiful_soup_transformer.py:141: MarkupResemblesLocatorWarning: The input looks more like a filename than markup. You may want to open this file and pass the filehandle into Beautiful Soup.\n",
      "  soup = BeautifulSoup(html_content, \"html.parser\")\n"
     ]
    },
    {
     "name": "stdout",
     "output_type": "stream",
     "text": [
      "https://www.fairfield.ca.gov/government/city-departments/community-development/planning-division/development-activity?locale=en\n",
      "https://www.fairfield.ca.gov/government/city-departments/public-works/capital-improvement-projects\n",
      "https://www.rpcity.org/city_hall/departments/development_services/engineering/projects_in_progress\n"
     ]
    },
    {
     "name": "stderr",
     "output_type": "stream",
     "text": [
      "/usr/local/lib/python3.10/dist-packages/langchain_community/document_transformers/beautiful_soup_transformer.py:94: MarkupResemblesLocatorWarning: The input looks more like a filename than markup. You may want to open this file and pass the filehandle into Beautiful Soup.\n",
      "  soup = BeautifulSoup(html_content, \"html.parser\")\n",
      "/usr/local/lib/python3.10/dist-packages/langchain_community/document_transformers/beautiful_soup_transformer.py:116: MarkupResemblesLocatorWarning: The input looks more like a filename than markup. You may want to open this file and pass the filehandle into Beautiful Soup.\n",
      "  soup = BeautifulSoup(html_content, \"html.parser\")\n",
      "/usr/local/lib/python3.10/dist-packages/langchain_community/document_transformers/beautiful_soup_transformer.py:141: MarkupResemblesLocatorWarning: The input looks more like a filename than markup. You may want to open this file and pass the filehandle into Beautiful Soup.\n",
      "  soup = BeautifulSoup(html_content, \"html.parser\")\n"
     ]
    },
    {
     "name": "stdout",
     "output_type": "stream",
     "text": [
      "https://www.srcity.org/3212/Current-Projects\n",
      "https://cityofpetaluma.org/planning-projects/\n",
      "https://www.toaks.org/departments/public-works/construction\n"
     ]
    },
    {
     "name": "stderr",
     "output_type": "stream",
     "text": [
      "/usr/local/lib/python3.10/dist-packages/langchain_community/document_transformers/beautiful_soup_transformer.py:94: MarkupResemblesLocatorWarning: The input looks more like a filename than markup. You may want to open this file and pass the filehandle into Beautiful Soup.\n",
      "  soup = BeautifulSoup(html_content, \"html.parser\")\n",
      "/usr/local/lib/python3.10/dist-packages/langchain_community/document_transformers/beautiful_soup_transformer.py:116: MarkupResemblesLocatorWarning: The input looks more like a filename than markup. You may want to open this file and pass the filehandle into Beautiful Soup.\n",
      "  soup = BeautifulSoup(html_content, \"html.parser\")\n",
      "/usr/local/lib/python3.10/dist-packages/langchain_community/document_transformers/beautiful_soup_transformer.py:141: MarkupResemblesLocatorWarning: The input looks more like a filename than markup. You may want to open this file and pass the filehandle into Beautiful Soup.\n",
      "  soup = BeautifulSoup(html_content, \"html.parser\")\n",
      "/usr/local/lib/python3.10/dist-packages/langchain_community/document_transformers/beautiful_soup_transformer.py:94: MarkupResemblesLocatorWarning: The input looks more like a filename than markup. You may want to open this file and pass the filehandle into Beautiful Soup.\n",
      "  soup = BeautifulSoup(html_content, \"html.parser\")\n",
      "/usr/local/lib/python3.10/dist-packages/langchain_community/document_transformers/beautiful_soup_transformer.py:116: MarkupResemblesLocatorWarning: The input looks more like a filename than markup. You may want to open this file and pass the filehandle into Beautiful Soup.\n",
      "  soup = BeautifulSoup(html_content, \"html.parser\")\n",
      "/usr/local/lib/python3.10/dist-packages/langchain_community/document_transformers/beautiful_soup_transformer.py:141: MarkupResemblesLocatorWarning: The input looks more like a filename than markup. You may want to open this file and pass the filehandle into Beautiful Soup.\n",
      "  soup = BeautifulSoup(html_content, \"html.parser\")\n"
     ]
    },
    {
     "ename": "UnboundLocalError",
     "evalue": "local variable 'extracted_content' referenced before assignment",
     "output_type": "error",
     "traceback": [
      "\u001b[0;31m---------------------------------------------------------------------------\u001b[0m",
      "\u001b[0;31mUnboundLocalError\u001b[0m                         Traceback (most recent call last)",
      "\u001b[0;32m<ipython-input-18-3badc47fc1e9>\u001b[0m in \u001b[0;36m<cell line: 2>\u001b[0;34m()\u001b[0m\n\u001b[1;32m     11\u001b[0m \u001b[0;34m\u001b[0m\u001b[0m\n\u001b[1;32m     12\u001b[0m \u001b[0;34m\u001b[0m\u001b[0m\n\u001b[0;32m---> 13\u001b[0;31m   \u001b[0mfinal_output\u001b[0m\u001b[0;34m=\u001b[0m\u001b[0mgenerate_output\u001b[0m\u001b[0;34m(\u001b[0m\u001b[0mresulted_content\u001b[0m\u001b[0;34m)\u001b[0m\u001b[0;34m\u001b[0m\u001b[0;34m\u001b[0m\u001b[0m\n\u001b[0m\u001b[1;32m     14\u001b[0m   \u001b[0;32mif\u001b[0m\u001b[0;34m(\u001b[0m\u001b[0mlen\u001b[0m\u001b[0;34m(\u001b[0m\u001b[0mfinal_output\u001b[0m\u001b[0;34m)\u001b[0m\u001b[0;34m>\u001b[0m\u001b[0;36m0\u001b[0m\u001b[0;34m)\u001b[0m\u001b[0;34m:\u001b[0m\u001b[0;34m\u001b[0m\u001b[0;34m\u001b[0m\u001b[0m\n\u001b[1;32m     15\u001b[0m     \u001b[0mfinalDict\u001b[0m\u001b[0;34m.\u001b[0m\u001b[0mappend\u001b[0m\u001b[0;34m(\u001b[0m\u001b[0mfinal_output\u001b[0m\u001b[0;34m[\u001b[0m\u001b[0;36m0\u001b[0m\u001b[0;34m]\u001b[0m\u001b[0;34m)\u001b[0m\u001b[0;34m\u001b[0m\u001b[0;34m\u001b[0m\u001b[0m\n",
      "\u001b[0;32m<ipython-input-13-ee41ae865e79>\u001b[0m in \u001b[0;36mgenerate_output\u001b[0;34m(resulted_content)\u001b[0m\n\u001b[1;32m    146\u001b[0m         )\n\u001b[1;32m    147\u001b[0m \u001b[0;34m\u001b[0m\u001b[0m\n\u001b[0;32m--> 148\u001b[0;31m     \u001b[0;32mreturn\u001b[0m \u001b[0mextracted_content\u001b[0m\u001b[0;34m\u001b[0m\u001b[0;34m\u001b[0m\u001b[0m\n\u001b[0m\u001b[1;32m    149\u001b[0m \u001b[0;34m\u001b[0m\u001b[0m\n\u001b[1;32m    150\u001b[0m \u001b[0;31m# Now, let's integrate this modified code snippet into your original code.\u001b[0m\u001b[0;34m\u001b[0m\u001b[0;34m\u001b[0m\u001b[0m\n",
      "\u001b[0;31mUnboundLocalError\u001b[0m: local variable 'extracted_content' referenced before assignment"
     ]
    }
   ],
   "source": [
    "finalDict=[]\n",
    "for url in urls:\n",
    "  url_list=[]\n",
    "  url_list=extract_url(url)\n",
    "  url_list.append(url)\n",
    "\n",
    "  output_content=extract_content(url_list)\n",
    "  concatenated_content = ' '.join(output_content)\n",
    "  merged_document = Document(page_content=concatenated_content,metadata=\"\")\n",
    "  resulted_content = [merged_document]\n",
    "\n",
    "\n",
    "  final_output=generate_output(resulted_content)\n",
    "  if(len(final_output)>0):\n",
    "    finalDict.append(final_output[0])\n",
    "\n"
   ]
  },
  {
   "cell_type": "code",
   "execution_count": null,
   "metadata": {
    "id": "vIieESi7lrew"
   },
   "outputs": [],
   "source": []
  },
  {
   "cell_type": "code",
   "execution_count": null,
   "metadata": {
    "id": "jdzptXR6T3On"
   },
   "outputs": [],
   "source": [
    "df=pd.DataFrame(finalDict)"
   ]
  },
  {
   "cell_type": "code",
   "execution_count": null,
   "metadata": {
    "id": "36dQVvZChoco"
   },
   "outputs": [],
   "source": [
    "df"
   ]
  },
  {
   "cell_type": "code",
   "execution_count": null,
   "metadata": {
    "id": "pn1MG7QBNebp"
   },
   "outputs": [],
   "source": [
    "df_json = df.to_json(orient='records', indent=4)"
   ]
  },
  {
   "cell_type": "code",
   "execution_count": null,
   "metadata": {
    "id": "nqFGJuucTtd8"
   },
   "outputs": [],
   "source": [
    "with open('/content/drive/MyDrive/Colab Notebooks/Scraped.json', 'w') as file:\n",
    "    file.write(df_json)"
   ]
  },
  {
   "cell_type": "code",
   "execution_count": null,
   "metadata": {
    "colab": {
     "base_uri": "https://localhost:8080/"
    },
    "id": "sFO69SFJNt4r",
    "outputId": "e54b0ece-0b33-4fc0-8382-6b87131a92fb"
   },
   "outputs": [
    {
     "data": {
      "text/plain": [
       "[{'original_id': 'ccf5602c1c-2e20-4773-89f3-08f921ac655f',\n",
       "  'aug_id': '#city_of_richmond_project',\n",
       "  'country_name': 'United States',\n",
       "  'country_code': 'USA',\n",
       "  'map_coordinates': {'type': 'Point', 'coordinates': [-122.3583, 37.9358]},\n",
       "  'url': 'https://www.ci.richmond.ca.us/',\n",
       "  'region_name': 'North America',\n",
       "  'region_code': 'NA',\n",
       "  'Project_title': 'Via Verdi Slope Stabilization Project',\n",
       "  'Project_description': 'Reconstruction of a segment of the Via Verdi roadway damaged by a landslide in 2017',\n",
       "  'status': 'Ongoing',\n",
       "  'stages': 'Reconstruction, Mitigation',\n",
       "  'date': '2019-11-27',\n",
       "  'procurementMethod': 'Open Tender',\n",
       "  'budget': 1500000,\n",
       "  'currency': 'USD',\n",
       "  'buyer': 'City of Richmond',\n",
       "  'sector': 'Infrastructure',\n",
       "  'subsector': 'Road Construction'},\n",
       " {'original_id': 'cca2a32f03-8be8-438d-9848-cd685667c6d2',\n",
       "  'aug_id': '27',\n",
       "  'country_name': 'Bakersfield',\n",
       "  'country_code': 'BKF',\n",
       "  'map_coordinates': {},\n",
       "  'url': 'http://apps.bakersfieldcity.us/',\n",
       "  'region_name': 'California',\n",
       "  'region_code': 'CA',\n",
       "  'Project_title': '24th Street Historic Properties',\n",
       "  'Project_description': 'Improvement of historic properties on 24th Street',\n",
       "  'status': 'ongoing',\n",
       "  'stages': 'construction',\n",
       "  'date': '2022-05-15',\n",
       "  'procurementMethod': 'open',\n",
       "  'budget': 5000000,\n",
       "  'currency': 'USD',\n",
       "  'buyer': 'City of Bakersfield',\n",
       "  'sector': 'Public Works',\n",
       "  'subsector': 'Infrastructure'}]"
      ]
     },
     "execution_count": 16,
     "metadata": {},
     "output_type": "execute_result"
    }
   ],
   "source": [
    "df"
   ]
  },
  {
   "cell_type": "code",
   "execution_count": null,
   "metadata": {
    "colab": {
     "base_uri": "https://localhost:8080/",
     "height": 236
    },
    "id": "jRyqCPLkGYxT",
    "outputId": "1efa86b9-9b96-4485-894b-19f0b02c62b6"
   },
   "outputs": [
    {
     "data": {
      "application/vnd.google.colaboratory.intrinsic+json": {
       "summary": "{\n  \"name\": \"df\",\n  \"rows\": 2,\n  \"fields\": [\n    {\n      \"column\": \"original_id\",\n      \"properties\": {\n        \"dtype\": \"string\",\n        \"num_unique_values\": 2,\n        \"samples\": [\n          \"cca2a32f03-8be8-438d-9848-cd685667c6d2\",\n          \"ccf5602c1c-2e20-4773-89f3-08f921ac655f\"\n        ],\n        \"semantic_type\": \"\",\n        \"description\": \"\"\n      }\n    },\n    {\n      \"column\": \"aug_id\",\n      \"properties\": {\n        \"dtype\": \"string\",\n        \"num_unique_values\": 2,\n        \"samples\": [\n          \"27\",\n          \"#city_of_richmond_project\"\n        ],\n        \"semantic_type\": \"\",\n        \"description\": \"\"\n      }\n    },\n    {\n      \"column\": \"country_name\",\n      \"properties\": {\n        \"dtype\": \"string\",\n        \"num_unique_values\": 2,\n        \"samples\": [\n          \"Bakersfield\",\n          \"United States\"\n        ],\n        \"semantic_type\": \"\",\n        \"description\": \"\"\n      }\n    },\n    {\n      \"column\": \"country_code\",\n      \"properties\": {\n        \"dtype\": \"string\",\n        \"num_unique_values\": 2,\n        \"samples\": [\n          \"BKF\",\n          \"USA\"\n        ],\n        \"semantic_type\": \"\",\n        \"description\": \"\"\n      }\n    },\n    {\n      \"column\": \"map_coordinates\",\n      \"properties\": {\n        \"dtype\": \"object\",\n        \"semantic_type\": \"\",\n        \"description\": \"\"\n      }\n    },\n    {\n      \"column\": \"url\",\n      \"properties\": {\n        \"dtype\": \"string\",\n        \"num_unique_values\": 2,\n        \"samples\": [\n          \"http://apps.bakersfieldcity.us/\",\n          \"https://www.ci.richmond.ca.us/\"\n        ],\n        \"semantic_type\": \"\",\n        \"description\": \"\"\n      }\n    },\n    {\n      \"column\": \"region_name\",\n      \"properties\": {\n        \"dtype\": \"string\",\n        \"num_unique_values\": 2,\n        \"samples\": [\n          \"California\",\n          \"North America\"\n        ],\n        \"semantic_type\": \"\",\n        \"description\": \"\"\n      }\n    },\n    {\n      \"column\": \"region_code\",\n      \"properties\": {\n        \"dtype\": \"string\",\n        \"num_unique_values\": 2,\n        \"samples\": [\n          \"CA\",\n          \"NA\"\n        ],\n        \"semantic_type\": \"\",\n        \"description\": \"\"\n      }\n    },\n    {\n      \"column\": \"Project_title\",\n      \"properties\": {\n        \"dtype\": \"string\",\n        \"num_unique_values\": 2,\n        \"samples\": [\n          \"24th Street Historic Properties\",\n          \"Via Verdi Slope Stabilization Project\"\n        ],\n        \"semantic_type\": \"\",\n        \"description\": \"\"\n      }\n    },\n    {\n      \"column\": \"Project_description\",\n      \"properties\": {\n        \"dtype\": \"string\",\n        \"num_unique_values\": 2,\n        \"samples\": [\n          \"Improvement of historic properties on 24th Street\",\n          \"Reconstruction of a segment of the Via Verdi roadway damaged by a landslide in 2017\"\n        ],\n        \"semantic_type\": \"\",\n        \"description\": \"\"\n      }\n    },\n    {\n      \"column\": \"status\",\n      \"properties\": {\n        \"dtype\": \"string\",\n        \"num_unique_values\": 2,\n        \"samples\": [\n          \"ongoing\",\n          \"Ongoing\"\n        ],\n        \"semantic_type\": \"\",\n        \"description\": \"\"\n      }\n    },\n    {\n      \"column\": \"stages\",\n      \"properties\": {\n        \"dtype\": \"string\",\n        \"num_unique_values\": 2,\n        \"samples\": [\n          \"construction\",\n          \"Reconstruction, Mitigation\"\n        ],\n        \"semantic_type\": \"\",\n        \"description\": \"\"\n      }\n    },\n    {\n      \"column\": \"date\",\n      \"properties\": {\n        \"dtype\": \"object\",\n        \"num_unique_values\": 2,\n        \"samples\": [\n          \"2022-05-15\",\n          \"2019-11-27\"\n        ],\n        \"semantic_type\": \"\",\n        \"description\": \"\"\n      }\n    },\n    {\n      \"column\": \"procurementMethod\",\n      \"properties\": {\n        \"dtype\": \"string\",\n        \"num_unique_values\": 2,\n        \"samples\": [\n          \"open\",\n          \"Open Tender\"\n        ],\n        \"semantic_type\": \"\",\n        \"description\": \"\"\n      }\n    },\n    {\n      \"column\": \"budget\",\n      \"properties\": {\n        \"dtype\": \"number\",\n        \"std\": 2474873,\n        \"min\": 1500000,\n        \"max\": 5000000,\n        \"num_unique_values\": 2,\n        \"samples\": [\n          5000000,\n          1500000\n        ],\n        \"semantic_type\": \"\",\n        \"description\": \"\"\n      }\n    },\n    {\n      \"column\": \"currency\",\n      \"properties\": {\n        \"dtype\": \"string\",\n        \"num_unique_values\": 1,\n        \"samples\": [\n          \"USD\"\n        ],\n        \"semantic_type\": \"\",\n        \"description\": \"\"\n      }\n    },\n    {\n      \"column\": \"buyer\",\n      \"properties\": {\n        \"dtype\": \"string\",\n        \"num_unique_values\": 2,\n        \"samples\": [\n          \"City of Bakersfield\"\n        ],\n        \"semantic_type\": \"\",\n        \"description\": \"\"\n      }\n    },\n    {\n      \"column\": \"sector\",\n      \"properties\": {\n        \"dtype\": \"string\",\n        \"num_unique_values\": 2,\n        \"samples\": [\n          \"Public Works\"\n        ],\n        \"semantic_type\": \"\",\n        \"description\": \"\"\n      }\n    },\n    {\n      \"column\": \"subsector\",\n      \"properties\": {\n        \"dtype\": \"string\",\n        \"num_unique_values\": 2,\n        \"samples\": [\n          \"Infrastructure\"\n        ],\n        \"semantic_type\": \"\",\n        \"description\": \"\"\n      }\n    }\n  ]\n}",
       "type": "dataframe",
       "variable_name": "df"
      },
      "text/html": [
       "\n",
       "  <div id=\"df-40f681c1-2325-408b-8ef8-855d5e985468\" class=\"colab-df-container\">\n",
       "    <div>\n",
       "<style scoped>\n",
       "    .dataframe tbody tr th:only-of-type {\n",
       "        vertical-align: middle;\n",
       "    }\n",
       "\n",
       "    .dataframe tbody tr th {\n",
       "        vertical-align: top;\n",
       "    }\n",
       "\n",
       "    .dataframe thead th {\n",
       "        text-align: right;\n",
       "    }\n",
       "</style>\n",
       "<table border=\"1\" class=\"dataframe\">\n",
       "  <thead>\n",
       "    <tr style=\"text-align: right;\">\n",
       "      <th></th>\n",
       "      <th>original_id</th>\n",
       "      <th>aug_id</th>\n",
       "      <th>country_name</th>\n",
       "      <th>country_code</th>\n",
       "      <th>map_coordinates</th>\n",
       "      <th>url</th>\n",
       "      <th>region_name</th>\n",
       "      <th>region_code</th>\n",
       "      <th>Project_title</th>\n",
       "      <th>Project_description</th>\n",
       "      <th>status</th>\n",
       "      <th>stages</th>\n",
       "      <th>date</th>\n",
       "      <th>procurementMethod</th>\n",
       "      <th>budget</th>\n",
       "      <th>currency</th>\n",
       "      <th>buyer</th>\n",
       "      <th>sector</th>\n",
       "      <th>subsector</th>\n",
       "    </tr>\n",
       "  </thead>\n",
       "  <tbody>\n",
       "    <tr>\n",
       "      <th>0</th>\n",
       "      <td>ccf5602c1c-2e20-4773-89f3-08f921ac655f</td>\n",
       "      <td>#city_of_richmond_project</td>\n",
       "      <td>United States</td>\n",
       "      <td>USA</td>\n",
       "      <td>{'type': 'Point', 'coordinates': [-122.3583, 3...</td>\n",
       "      <td>https://www.ci.richmond.ca.us/</td>\n",
       "      <td>North America</td>\n",
       "      <td>NA</td>\n",
       "      <td>Via Verdi Slope Stabilization Project</td>\n",
       "      <td>Reconstruction of a segment of the Via Verdi r...</td>\n",
       "      <td>Ongoing</td>\n",
       "      <td>Reconstruction, Mitigation</td>\n",
       "      <td>2019-11-27</td>\n",
       "      <td>Open Tender</td>\n",
       "      <td>1500000</td>\n",
       "      <td>USD</td>\n",
       "      <td>City of Richmond</td>\n",
       "      <td>Infrastructure</td>\n",
       "      <td>Road Construction</td>\n",
       "    </tr>\n",
       "    <tr>\n",
       "      <th>1</th>\n",
       "      <td>cca2a32f03-8be8-438d-9848-cd685667c6d2</td>\n",
       "      <td>27</td>\n",
       "      <td>Bakersfield</td>\n",
       "      <td>BKF</td>\n",
       "      <td>{}</td>\n",
       "      <td>http://apps.bakersfieldcity.us/</td>\n",
       "      <td>California</td>\n",
       "      <td>CA</td>\n",
       "      <td>24th Street Historic Properties</td>\n",
       "      <td>Improvement of historic properties on 24th Street</td>\n",
       "      <td>ongoing</td>\n",
       "      <td>construction</td>\n",
       "      <td>2022-05-15</td>\n",
       "      <td>open</td>\n",
       "      <td>5000000</td>\n",
       "      <td>USD</td>\n",
       "      <td>City of Bakersfield</td>\n",
       "      <td>Public Works</td>\n",
       "      <td>Infrastructure</td>\n",
       "    </tr>\n",
       "  </tbody>\n",
       "</table>\n",
       "</div>\n",
       "    <div class=\"colab-df-buttons\">\n",
       "\n",
       "  <div class=\"colab-df-container\">\n",
       "    <button class=\"colab-df-convert\" onclick=\"convertToInteractive('df-40f681c1-2325-408b-8ef8-855d5e985468')\"\n",
       "            title=\"Convert this dataframe to an interactive table.\"\n",
       "            style=\"display:none;\">\n",
       "\n",
       "  <svg xmlns=\"http://www.w3.org/2000/svg\" height=\"24px\" viewBox=\"0 -960 960 960\">\n",
       "    <path d=\"M120-120v-720h720v720H120Zm60-500h600v-160H180v160Zm220 220h160v-160H400v160Zm0 220h160v-160H400v160ZM180-400h160v-160H180v160Zm440 0h160v-160H620v160ZM180-180h160v-160H180v160Zm440 0h160v-160H620v160Z\"/>\n",
       "  </svg>\n",
       "    </button>\n",
       "\n",
       "  <style>\n",
       "    .colab-df-container {\n",
       "      display:flex;\n",
       "      gap: 12px;\n",
       "    }\n",
       "\n",
       "    .colab-df-convert {\n",
       "      background-color: #E8F0FE;\n",
       "      border: none;\n",
       "      border-radius: 50%;\n",
       "      cursor: pointer;\n",
       "      display: none;\n",
       "      fill: #1967D2;\n",
       "      height: 32px;\n",
       "      padding: 0 0 0 0;\n",
       "      width: 32px;\n",
       "    }\n",
       "\n",
       "    .colab-df-convert:hover {\n",
       "      background-color: #E2EBFA;\n",
       "      box-shadow: 0px 1px 2px rgba(60, 64, 67, 0.3), 0px 1px 3px 1px rgba(60, 64, 67, 0.15);\n",
       "      fill: #174EA6;\n",
       "    }\n",
       "\n",
       "    .colab-df-buttons div {\n",
       "      margin-bottom: 4px;\n",
       "    }\n",
       "\n",
       "    [theme=dark] .colab-df-convert {\n",
       "      background-color: #3B4455;\n",
       "      fill: #D2E3FC;\n",
       "    }\n",
       "\n",
       "    [theme=dark] .colab-df-convert:hover {\n",
       "      background-color: #434B5C;\n",
       "      box-shadow: 0px 1px 3px 1px rgba(0, 0, 0, 0.15);\n",
       "      filter: drop-shadow(0px 1px 2px rgba(0, 0, 0, 0.3));\n",
       "      fill: #FFFFFF;\n",
       "    }\n",
       "  </style>\n",
       "\n",
       "    <script>\n",
       "      const buttonEl =\n",
       "        document.querySelector('#df-40f681c1-2325-408b-8ef8-855d5e985468 button.colab-df-convert');\n",
       "      buttonEl.style.display =\n",
       "        google.colab.kernel.accessAllowed ? 'block' : 'none';\n",
       "\n",
       "      async function convertToInteractive(key) {\n",
       "        const element = document.querySelector('#df-40f681c1-2325-408b-8ef8-855d5e985468');\n",
       "        const dataTable =\n",
       "          await google.colab.kernel.invokeFunction('convertToInteractive',\n",
       "                                                    [key], {});\n",
       "        if (!dataTable) return;\n",
       "\n",
       "        const docLinkHtml = 'Like what you see? Visit the ' +\n",
       "          '<a target=\"_blank\" href=https://colab.research.google.com/notebooks/data_table.ipynb>data table notebook</a>'\n",
       "          + ' to learn more about interactive tables.';\n",
       "        element.innerHTML = '';\n",
       "        dataTable['output_type'] = 'display_data';\n",
       "        await google.colab.output.renderOutput(dataTable, element);\n",
       "        const docLink = document.createElement('div');\n",
       "        docLink.innerHTML = docLinkHtml;\n",
       "        element.appendChild(docLink);\n",
       "      }\n",
       "    </script>\n",
       "  </div>\n",
       "\n",
       "\n",
       "<div id=\"df-faf889a7-6f9c-4674-a453-921abcf2ce54\">\n",
       "  <button class=\"colab-df-quickchart\" onclick=\"quickchart('df-faf889a7-6f9c-4674-a453-921abcf2ce54')\"\n",
       "            title=\"Suggest charts\"\n",
       "            style=\"display:none;\">\n",
       "\n",
       "<svg xmlns=\"http://www.w3.org/2000/svg\" height=\"24px\"viewBox=\"0 0 24 24\"\n",
       "     width=\"24px\">\n",
       "    <g>\n",
       "        <path d=\"M19 3H5c-1.1 0-2 .9-2 2v14c0 1.1.9 2 2 2h14c1.1 0 2-.9 2-2V5c0-1.1-.9-2-2-2zM9 17H7v-7h2v7zm4 0h-2V7h2v10zm4 0h-2v-4h2v4z\"/>\n",
       "    </g>\n",
       "</svg>\n",
       "  </button>\n",
       "\n",
       "<style>\n",
       "  .colab-df-quickchart {\n",
       "      --bg-color: #E8F0FE;\n",
       "      --fill-color: #1967D2;\n",
       "      --hover-bg-color: #E2EBFA;\n",
       "      --hover-fill-color: #174EA6;\n",
       "      --disabled-fill-color: #AAA;\n",
       "      --disabled-bg-color: #DDD;\n",
       "  }\n",
       "\n",
       "  [theme=dark] .colab-df-quickchart {\n",
       "      --bg-color: #3B4455;\n",
       "      --fill-color: #D2E3FC;\n",
       "      --hover-bg-color: #434B5C;\n",
       "      --hover-fill-color: #FFFFFF;\n",
       "      --disabled-bg-color: #3B4455;\n",
       "      --disabled-fill-color: #666;\n",
       "  }\n",
       "\n",
       "  .colab-df-quickchart {\n",
       "    background-color: var(--bg-color);\n",
       "    border: none;\n",
       "    border-radius: 50%;\n",
       "    cursor: pointer;\n",
       "    display: none;\n",
       "    fill: var(--fill-color);\n",
       "    height: 32px;\n",
       "    padding: 0;\n",
       "    width: 32px;\n",
       "  }\n",
       "\n",
       "  .colab-df-quickchart:hover {\n",
       "    background-color: var(--hover-bg-color);\n",
       "    box-shadow: 0 1px 2px rgba(60, 64, 67, 0.3), 0 1px 3px 1px rgba(60, 64, 67, 0.15);\n",
       "    fill: var(--button-hover-fill-color);\n",
       "  }\n",
       "\n",
       "  .colab-df-quickchart-complete:disabled,\n",
       "  .colab-df-quickchart-complete:disabled:hover {\n",
       "    background-color: var(--disabled-bg-color);\n",
       "    fill: var(--disabled-fill-color);\n",
       "    box-shadow: none;\n",
       "  }\n",
       "\n",
       "  .colab-df-spinner {\n",
       "    border: 2px solid var(--fill-color);\n",
       "    border-color: transparent;\n",
       "    border-bottom-color: var(--fill-color);\n",
       "    animation:\n",
       "      spin 1s steps(1) infinite;\n",
       "  }\n",
       "\n",
       "  @keyframes spin {\n",
       "    0% {\n",
       "      border-color: transparent;\n",
       "      border-bottom-color: var(--fill-color);\n",
       "      border-left-color: var(--fill-color);\n",
       "    }\n",
       "    20% {\n",
       "      border-color: transparent;\n",
       "      border-left-color: var(--fill-color);\n",
       "      border-top-color: var(--fill-color);\n",
       "    }\n",
       "    30% {\n",
       "      border-color: transparent;\n",
       "      border-left-color: var(--fill-color);\n",
       "      border-top-color: var(--fill-color);\n",
       "      border-right-color: var(--fill-color);\n",
       "    }\n",
       "    40% {\n",
       "      border-color: transparent;\n",
       "      border-right-color: var(--fill-color);\n",
       "      border-top-color: var(--fill-color);\n",
       "    }\n",
       "    60% {\n",
       "      border-color: transparent;\n",
       "      border-right-color: var(--fill-color);\n",
       "    }\n",
       "    80% {\n",
       "      border-color: transparent;\n",
       "      border-right-color: var(--fill-color);\n",
       "      border-bottom-color: var(--fill-color);\n",
       "    }\n",
       "    90% {\n",
       "      border-color: transparent;\n",
       "      border-bottom-color: var(--fill-color);\n",
       "    }\n",
       "  }\n",
       "</style>\n",
       "\n",
       "  <script>\n",
       "    async function quickchart(key) {\n",
       "      const quickchartButtonEl =\n",
       "        document.querySelector('#' + key + ' button');\n",
       "      quickchartButtonEl.disabled = true;  // To prevent multiple clicks.\n",
       "      quickchartButtonEl.classList.add('colab-df-spinner');\n",
       "      try {\n",
       "        const charts = await google.colab.kernel.invokeFunction(\n",
       "            'suggestCharts', [key], {});\n",
       "      } catch (error) {\n",
       "        console.error('Error during call to suggestCharts:', error);\n",
       "      }\n",
       "      quickchartButtonEl.classList.remove('colab-df-spinner');\n",
       "      quickchartButtonEl.classList.add('colab-df-quickchart-complete');\n",
       "    }\n",
       "    (() => {\n",
       "      let quickchartButtonEl =\n",
       "        document.querySelector('#df-faf889a7-6f9c-4674-a453-921abcf2ce54 button');\n",
       "      quickchartButtonEl.style.display =\n",
       "        google.colab.kernel.accessAllowed ? 'block' : 'none';\n",
       "    })();\n",
       "  </script>\n",
       "</div>\n",
       "\n",
       "  <div id=\"id_f9bf2007-766b-446f-8d74-aac504661104\">\n",
       "    <style>\n",
       "      .colab-df-generate {\n",
       "        background-color: #E8F0FE;\n",
       "        border: none;\n",
       "        border-radius: 50%;\n",
       "        cursor: pointer;\n",
       "        display: none;\n",
       "        fill: #1967D2;\n",
       "        height: 32px;\n",
       "        padding: 0 0 0 0;\n",
       "        width: 32px;\n",
       "      }\n",
       "\n",
       "      .colab-df-generate:hover {\n",
       "        background-color: #E2EBFA;\n",
       "        box-shadow: 0px 1px 2px rgba(60, 64, 67, 0.3), 0px 1px 3px 1px rgba(60, 64, 67, 0.15);\n",
       "        fill: #174EA6;\n",
       "      }\n",
       "\n",
       "      [theme=dark] .colab-df-generate {\n",
       "        background-color: #3B4455;\n",
       "        fill: #D2E3FC;\n",
       "      }\n",
       "\n",
       "      [theme=dark] .colab-df-generate:hover {\n",
       "        background-color: #434B5C;\n",
       "        box-shadow: 0px 1px 3px 1px rgba(0, 0, 0, 0.15);\n",
       "        filter: drop-shadow(0px 1px 2px rgba(0, 0, 0, 0.3));\n",
       "        fill: #FFFFFF;\n",
       "      }\n",
       "    </style>\n",
       "    <button class=\"colab-df-generate\" onclick=\"generateWithVariable('df')\"\n",
       "            title=\"Generate code using this dataframe.\"\n",
       "            style=\"display:none;\">\n",
       "\n",
       "  <svg xmlns=\"http://www.w3.org/2000/svg\" height=\"24px\"viewBox=\"0 0 24 24\"\n",
       "       width=\"24px\">\n",
       "    <path d=\"M7,19H8.4L18.45,9,17,7.55,7,17.6ZM5,21V16.75L18.45,3.32a2,2,0,0,1,2.83,0l1.4,1.43a1.91,1.91,0,0,1,.58,1.4,1.91,1.91,0,0,1-.58,1.4L9.25,21ZM18.45,9,17,7.55Zm-12,3A5.31,5.31,0,0,0,4.9,8.1,5.31,5.31,0,0,0,1,6.5,5.31,5.31,0,0,0,4.9,4.9,5.31,5.31,0,0,0,6.5,1,5.31,5.31,0,0,0,8.1,4.9,5.31,5.31,0,0,0,12,6.5,5.46,5.46,0,0,0,6.5,12Z\"/>\n",
       "  </svg>\n",
       "    </button>\n",
       "    <script>\n",
       "      (() => {\n",
       "      const buttonEl =\n",
       "        document.querySelector('#id_f9bf2007-766b-446f-8d74-aac504661104 button.colab-df-generate');\n",
       "      buttonEl.style.display =\n",
       "        google.colab.kernel.accessAllowed ? 'block' : 'none';\n",
       "\n",
       "      buttonEl.onclick = () => {\n",
       "        google.colab.notebook.generateWithVariable('df');\n",
       "      }\n",
       "      })();\n",
       "    </script>\n",
       "  </div>\n",
       "\n",
       "    </div>\n",
       "  </div>\n"
      ],
      "text/plain": [
       "                              original_id                     aug_id  \\\n",
       "0  ccf5602c1c-2e20-4773-89f3-08f921ac655f  #city_of_richmond_project   \n",
       "1  cca2a32f03-8be8-438d-9848-cd685667c6d2                         27   \n",
       "\n",
       "    country_name country_code  \\\n",
       "0  United States          USA   \n",
       "1    Bakersfield          BKF   \n",
       "\n",
       "                                     map_coordinates  \\\n",
       "0  {'type': 'Point', 'coordinates': [-122.3583, 3...   \n",
       "1                                                 {}   \n",
       "\n",
       "                               url    region_name region_code  \\\n",
       "0   https://www.ci.richmond.ca.us/  North America          NA   \n",
       "1  http://apps.bakersfieldcity.us/     California          CA   \n",
       "\n",
       "                           Project_title  \\\n",
       "0  Via Verdi Slope Stabilization Project   \n",
       "1        24th Street Historic Properties   \n",
       "\n",
       "                                 Project_description   status  \\\n",
       "0  Reconstruction of a segment of the Via Verdi r...  Ongoing   \n",
       "1  Improvement of historic properties on 24th Street  ongoing   \n",
       "\n",
       "                       stages        date procurementMethod   budget currency  \\\n",
       "0  Reconstruction, Mitigation  2019-11-27       Open Tender  1500000      USD   \n",
       "1                construction  2022-05-15              open  5000000      USD   \n",
       "\n",
       "                 buyer          sector          subsector  \n",
       "0     City of Richmond  Infrastructure  Road Construction  \n",
       "1  City of Bakersfield    Public Works     Infrastructure  "
      ]
     },
     "execution_count": 15,
     "metadata": {},
     "output_type": "execute_result"
    }
   ],
   "source": [
    "df = pd.DataFrame(finalDict)\n",
    "df"
   ]
  },
  {
   "cell_type": "code",
   "execution_count": null,
   "metadata": {
    "id": "0rhi2_fLOvGt"
   },
   "outputs": [],
   "source": [
    "df_json = df.to_json(orient='records', indent=4)"
   ]
  },
  {
   "cell_type": "code",
   "execution_count": null,
   "metadata": {
    "id": "u1hsiWz0O7lF"
   },
   "outputs": [],
   "source": [
    "with open('/content/drive/MyDrive/Colab Notebooks/Scraped.json', 'w') as file:\n",
    "    file.write(df_json)"
   ]
  },
  {
   "cell_type": "code",
   "execution_count": null,
   "metadata": {
    "colab": {
     "base_uri": "https://localhost:8080/",
     "height": 140
    },
    "id": "1WOXQYdBOzv3",
    "outputId": "daa42a11-0fa9-455d-feca-0046bfb2740b"
   },
   "outputs": [
    {
     "data": {
      "application/vnd.google.colaboratory.intrinsic+json": {
       "type": "string"
      },
      "text/plain": [
       "'[\\n    {\\n        \"original_id\":\"ccf5602c1c-2e20-4773-89f3-08f921ac655f\",\\n        \"aug_id\":\"#city_of_richmond_project\",\\n        \"country_name\":\"United States\",\\n        \"country_code\":\"USA\",\\n        \"map_coordinates\":{\\n            \"type\":\"Point\",\\n            \"coordinates\":[\\n                -122.3583,\\n                37.9358\\n            ]\\n        },\\n        \"url\":\"https:\\\\/\\\\/www.ci.richmond.ca.us\\\\/\",\\n        \"region_name\":\"North America\",\\n        \"region_code\":\"NA\",\\n        \"Project_title\":\"Via Verdi Slope Stabilization Project\",\\n        \"Project_description\":\"Reconstruction of a segment of the Via Verdi roadway damaged by a landslide in 2017\",\\n        \"status\":\"Ongoing\",\\n        \"stages\":\"Reconstruction, Mitigation\",\\n        \"date\":\"2019-11-27\",\\n        \"procurementMethod\":\"Open Tender\",\\n        \"budget\":1500000,\\n        \"currency\":\"USD\",\\n        \"buyer\":\"City of Richmond\",\\n        \"sector\":\"Infrastructure\",\\n        \"subsector\":\"Road Construction\"\\n    },\\n    {\\n        \"original_id\":\"cca2a32f03-8be8-438d-9848-cd685667c6d2\",\\n        \"aug_id\":\"27\",\\n        \"country_name\":\"Bakersfield\",\\n        \"country_code\":\"BKF\",\\n        \"map_coordinates\":{\\n\\n        },\\n        \"url\":\"http:\\\\/\\\\/apps.bakersfieldcity.us\\\\/\",\\n        \"region_name\":\"California\",\\n        \"region_code\":\"CA\",\\n        \"Project_title\":\"24th Street Historic Properties\",\\n        \"Project_description\":\"Improvement of historic properties on 24th Street\",\\n        \"status\":\"ongoing\",\\n        \"stages\":\"construction\",\\n        \"date\":\"2022-05-15\",\\n        \"procurementMethod\":\"open\",\\n        \"budget\":5000000,\\n        \"currency\":\"USD\",\\n        \"buyer\":\"City of Bakersfield\",\\n        \"sector\":\"Public Works\",\\n        \"subsector\":\"Infrastructure\"\\n    }\\n]'"
      ]
     },
     "execution_count": 18,
     "metadata": {},
     "output_type": "execute_result"
    }
   ],
   "source": []
  },
  {
   "cell_type": "code",
   "execution_count": null,
   "metadata": {
    "colab": {
     "base_uri": "https://localhost:8080/"
    },
    "id": "j6wLykSrHgTv",
    "outputId": "e58c22fc-42c9-45f8-9c84-b22f6b5514ff"
   },
   "outputs": [
    {
     "data": {
      "text/plain": [
       "[{'original_id': '1',\n",
       "  'aug_id': '1',\n",
       "  'country_name': 'Google',\n",
       "  'country_code': 'GOO',\n",
       "  'url': 'https://translate.google.com/about/?hl=en-US',\n",
       "  'region_name': 'Technology',\n",
       "  'region_code': 'TEC',\n",
       "  'Project_title': 'Google Translate',\n",
       "  'Project_description': 'Translate text, images, documents, and websites',\n",
       "  'status': 'Active',\n",
       "  'stages': 'Ongoing',\n",
       "  'date': '2022-10-05',\n",
       "  'procurementMethod': 'Online',\n",
       "  'budget': 0,\n",
       "  'currency': 'USD',\n",
       "  'buyer': 'Google LLC',\n",
       "  'sector': 'Digital Services',\n",
       "  'subsector': 'Translation Services'}]"
      ]
     },
     "execution_count": 47,
     "metadata": {},
     "output_type": "execute_result"
    }
   ],
   "source": [
    "final_output"
   ]
  },
  {
   "cell_type": "code",
   "execution_count": null,
   "metadata": {
    "id": "yiDyFW4FHhFV"
   },
   "outputs": [],
   "source": []
  },
  {
   "cell_type": "code",
   "execution_count": null,
   "metadata": {
    "id": "7TGavRz4NXdr"
   },
   "outputs": [],
   "source": []
  },
  {
   "cell_type": "markdown",
   "metadata": {
    "id": "z7gwvVh4NUmI"
   },
   "source": [
    "# ***working on streamlit app code ***"
   ]
  },
  {
   "cell_type": "code",
   "execution_count": null,
   "metadata": {
    "id": "pk6blacnNgQY"
   },
   "outputs": [],
   "source": [
    "import nest_asyncio\n",
    "import time\n",
    "import pandas as pd\n",
    "from langchain_openai import ChatOpenAI\n",
    "from langchain_community.document_loaders import AsyncChromiumLoader\n",
    "from langchain_community.document_transformers import BeautifulSoupTransformer\n",
    "from langchain.text_splitter import RecursiveCharacterTextSplitter\n",
    "from langchain.chains import create_extraction_chain\n",
    "from google.colab import userdata\n",
    "import comet_llm\n",
    "import streamlit as st\n",
    "\n",
    "nest_asyncio.apply()\n",
    "\n",
    "MY_OPENAI_KEY = \"\"\n",
    "MY_COMET_KEY = \"\"\n",
    "\n",
    "comet_llm.init(project=\"langchain-web-scraping\", api_key=MY_COMET_KEY)\n",
    "\n",
    "html_tags = [\n",
    "    \"h1\", \"h2\", \"h3\", \"h4\", \"h5\", \"h6\",\n",
    "    \"p\",\n",
    "    \"span\",\n",
    "    \"div\",\n",
    "    \"ul\", \"ol\", \"li\",\n",
    "    \"table\", \"tr\", \"th\", \"td\",\n",
    "    \"a\",\n",
    "    \"b\", \"strong\",\n",
    "    \"i\", \"em\",\n",
    "    \"blockquote\", \"q\", \"cite\",\n",
    "    \"code\", \"pre\",\n",
    "    \"form\", \"input\", \"textarea\", \"label\",\n",
    "    \"dl\", \"dt\", \"dd\",\n",
    "    \"article\",\n",
    "    \"section\",\n",
    "    \"nav\",\n",
    "    \"aside\",\n",
    "    \"header\",\n",
    "    \"footer\",\n",
    "    \"main\",\n",
    "    \"figure\", \"figcaption\",\n",
    "    \"details\", \"summary\",\n",
    "    \"mark\",\n",
    "    \"time\"\n",
    "]\n",
    "\n",
    "def extract_url(url):\n",
    "    print(url)\n",
    "    url_loader = AsyncChromiumLoader([url])\n",
    "    url_docs = url_loader.load()\n",
    "    bs_transformer = BeautifulSoupTransformer()\n",
    "    url_transfornm = bs_transformer.transform_documents(\n",
    "        url_docs, tags_to_extract=[\"a\"]\n",
    "    )\n",
    "    llm = ChatOpenAI(openai_api_key=MY_OPENAI_KEY)\n",
    "    url_splitter = RecursiveCharacterTextSplitter.from_tiktoken_encoder(chunk_size=15000, chunk_overlap=0)\n",
    "    url_splits = url_splitter.split_documents(url_transfornm)\n",
    "\n",
    "    url_schema = {\n",
    "        \"properties\": {\n",
    "            \"url\": {\"type\": \"string\"},\n",
    "        },\n",
    "        \"required\": [\"url\"],\n",
    "    }\n",
    "    url_list = []\n",
    "\n",
    "    if len(url_splits) > 0:\n",
    "        start_time = time.time()\n",
    "        extracted_content = create_extraction_chain(schema=url_schema, llm=llm).run(url_splits[0].page_content)\n",
    "        end_time = time.time()\n",
    "        comet_llm.log_prompt(\n",
    "            prompt=str(url_splits[0].page_content),\n",
    "            metadata={\"schema\": url_schema},\n",
    "            output=extracted_content,\n",
    "            duration=end_time - start_time,\n",
    "        )\n",
    "        url_list = [d['url'] for d in extracted_content]\n",
    "\n",
    "    return url_list\n",
    "\n",
    "def extract_content(urls):\n",
    "    contents = []\n",
    "    for url in urls:\n",
    "        url_loader = AsyncChromiumLoader([url])\n",
    "        content_docs = url_loader.load()\n",
    "        bs_transformer = BeautifulSoupTransformer()\n",
    "        content_transfornm = bs_transformer.transform_documents(content_docs, tags_to_extract=html_tags)\n",
    "        content = content_transfornm[0].page_content\n",
    "        contents.append(content)\n",
    "    return contents\n",
    "\n",
    "class Document:\n",
    "    def __init__(self, page_content, metadata):\n",
    "        self.page_content = page_content\n",
    "        self.metadata = metadata\n",
    "\n",
    "    def __repr__(self):\n",
    "        return f'Document(page_content=\"{self.page_content},metadata={self.metadata} \")'\n",
    "\n",
    "def generate_output(resulted_content):\n",
    "    llm = ChatOpenAI(openai_api_key=MY_OPENAI_KEY)\n",
    "    splitter = RecursiveCharacterTextSplitter.from_tiktoken_encoder(chunk_size=15000, chunk_overlap=0)\n",
    "    splits = splitter.split_documents(resulted_content)\n",
    "    schema = {\n",
    "        \"properties\": {\n",
    "            \"original_id\": {\"type\": \"string\", \"description\": \"Unique from source\"},\n",
    "            \"aug_id\": {\"type\": \"string\", \"description\": \"Augmented identifier from the context\"},\n",
    "            \"country_name\": {\"type\": \"string\", \"description\": \"Name of the Country\"},\n",
    "            \"country_code\": {\"type\": \"string\", \"description\": \"ISO 3-letter Country Code\"},\n",
    "            \"map_coordinates\": {\n",
    "                \"type\": \"object\",\n",
    "                \"description\": \"Geo Point of the region formatted as {'type': 'Point', 'coordinates': [longitude, latitude]}\",\n",
    "                \"properties\": {\"type\": {\"type\": \"string\"}, \"coordinates\": {\"type\": \"array\", \"items\": {\"type\": \"number\"}}},\n",
    "            },\n",
    "            \"url\": {\"type\": \"string\", \"description\": \"Url of the website of the source\", \"format\": \"uri\"},\n",
    "            \"region_name\": {\"type\": \"string\", \"description\": \"Region Name for a Country according to World Bank Standards\"},\n",
    "            \"region_code\": {\"type\": \"string\", \"description\": \"Region code for a Region according to World Bank Standards\"},\n",
    "            \"Project_title\": {\"type\": \"string\", \"description\": \"A title for this tender/project used as a headline\"},\n",
    "            \"Project_description\": {\"type\": \"string\", \"description\": \"A summary description of the tender/project\"},\n",
    "            \"status\": {\"type\": \"string\", \"description\": \"The current status of the tender/project from the closed tenderStatus codelist\"},\n",
    "            \"stages\": {\"type\": \"string\", \"description\": \"Stages of the tender/project\"},\n",
    "            \"date\": {\"type\": \"string\", \"description\": \"The date on which the information was first recorded or published\", \"format\": \"date\"},\n",
    "            \"procurementMethod\": {\"type\": \"string\", \"description\": \"The procedure used to purchase the relevant works, goods or services\"},\n",
    "            \"budget\": {\"type\": \"number\", \"description\": \"The total upper estimated value of the procurement\"},\n",
    "            \"currency\": {\"type\": \"string\", \"description\": \"The currency for each amount specified using the uppercase 3-letter code from ISO4217\"},\n",
    "            \"buyer\": {\"type\": \"string\", \"description\": \"Entity whose budget will be used to pay for related goods, works or services\"},\n",
    "            \"sector\": {\"type\": \"string\", \"description\": \"A high-level categorization of the main sector this procurement process relates to\"},\n",
    "            \"subsector\": {\"type\": \"string\", \"description\": \"A further subdivision of the sector the procurement process belongs to\"},\n",
    "        },\n",
    "        \"required\": [\n",
    "            \"original_id\", \"aug_id\", \"country_name\", \"country_code\", \"map_coordinates\", \"url\",\n",
    "            \"region_name\", \"region_code\", \"title\", \"description\", \"status\", \"stages\", \"date\",\n",
    "            \"procurementMethod\", \"budget\", \"currency\", \"buyer\", \"sector\", \"subsector\"\n",
    "        ]\n",
    "    }\n",
    "\n",
    "    if len(splits) > 0:\n",
    "        start_time = time.time()\n",
    "        extracted_content = create_extraction_chain(schema=schema, llm=llm).run(splits[0].page_content)\n",
    "        end_time = time.time()\n",
    "\n",
    "        comet_llm.log_prompt(\n",
    "            prompt=str(splits[0].page_content),\n",
    "            metadata={\"schema\": schema},\n",
    "            output=extracted_content,\n",
    "            duration=end_time - start_time,\n",
    "        )\n",
    "\n",
    "    return extracted_content\n",
    "\n",
    "def main():\n",
    "    st.title(\"web scrapper\")\n",
    "    st.write(\"Enter a URL\")\n",
    "    urls = st.text_area(\"List Of urls\", height=200)\n",
    "    st.write(\"Enter your URL List  separated by commas (Ex: url1, url3, url3)\")\n",
    "    urls = [item.strip() for item in urls.split(\",\")]\n",
    "\n",
    "    # Submit button\n",
    "    if st.button(\"Submit\"):\n",
    "      for url in urls:\n",
    "        url_list=extract_url(url)\n",
    "        url_list.append(url)\n",
    "        output_content=extract_content(url_list)\n",
    "        concatenated_content = ' '.join(output_content)\n",
    "        merged_document = Document(page_content=concatenated_content,metadata=\"\")\n",
    "        resulted_content = [merged_document]\n",
    "        final_output=generate_output(resulted_content)\n",
    "\n",
    "        if(len(final_output)>0):\n",
    "          finalDict.append(final_output[0])\n",
    "\n",
    "      df=pd.DataFrame(finalDict)\n",
    "      st.dataframe(df)\n",
    "\n",
    "\n",
    "if __name__ == \"__main__\":\n",
    "    main()\n"
   ]
  }
 ],
 "metadata": {
  "colab": {
   "provenance": []
  },
  "kernelspec": {
   "display_name": "Python 3 (ipykernel)",
   "language": "python",
   "name": "python3"
  },
  "language_info": {
   "codemirror_mode": {
    "name": "ipython",
    "version": 3
   },
   "file_extension": ".py",
   "mimetype": "text/x-python",
   "name": "python",
   "nbconvert_exporter": "python",
   "pygments_lexer": "ipython3",
   "version": "3.11.7"
  }
 },
 "nbformat": 4,
 "nbformat_minor": 4
}
